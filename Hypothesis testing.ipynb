{
 "cells": [
  {
   "cell_type": "code",
   "execution_count": 37,
   "id": "76b1f32f",
   "metadata": {},
   "outputs": [],
   "source": [
    "import numpy as np\n",
    "import scipy.stats as stats\n",
    "import math\n",
    "import pandas as pd\n",
    "from statsmodels.stats.weightstats import ztest as ztest"
   ]
  },
  {
   "cell_type": "markdown",
   "id": "f5380c3b",
   "metadata": {},
   "source": [
    "# VERSION 1"
   ]
  },
  {
   "cell_type": "code",
   "execution_count": 54,
   "id": "c2167367",
   "metadata": {},
   "outputs": [
    {
     "name": "stdout",
     "output_type": "stream",
     "text": [
      "1-Y OR 0-N0\n",
      "Kindly select an option:\n",
      "1.Point estimate\n",
      "2.Confidence estimate\n",
      "3.Hypothesis testing\n",
      "4.All\n",
      "4\n",
      "Point estimate = 66.2\n",
      "Interval estimate = (65.17101890811648, 67.22898109188353)\n",
      "Hypothesis result = Null hypothesis is rejected\n"
     ]
    }
   ],
   "source": [
    "df_estimate=pd.read_csv('estimate.csv')\n",
    "flag=int(input('1-Y OR 0-N'))\n",
    "if (flag==1):\n",
    "    print(df_estimate.describe())\n",
    "else:\n",
    "    print(\"Kindly select an option:\")\n",
    "    print(\"1.Point estimate\")\n",
    "    print(\"2.Confidence estimate\")\n",
    "    print(\"3.Hypothesis testing\")\n",
    "    print(\"4.All\")\n",
    "    option=int(input())\n",
    "    def inferstats(ss,mu,sm,sd):\n",
    "        global pe,ci,res\n",
    "        if option==1:\n",
    "            pe= sm\n",
    "            print(\"Point estimate:\",pe)\n",
    "        elif option==2:\n",
    "            print(\"z=\",{0.05:1.96,0.025:2.32,0.01:2.57,0.10:1.64})\n",
    "            print('t=',{0.05:1.81,0.025:2.28,0.01:1.37})\n",
    "            val = input(\"Enter your value: \")\n",
    "            alpha= float(val)\n",
    "            if ss<40:\n",
    "                tc=stats.t.ppf(q=1-alpha/2,df=(ss-1))\n",
    "                me=tc*(sd/math.sqrt(ss))\n",
    "                ci=(pe-me,pe+me)\n",
    "                print(\" This is T distribution\")\n",
    "                print(\"Interval estimate\",ci)\n",
    "            else:\n",
    "                zc=stats.norm.ppf(q=1-alpha/2)\n",
    "                me=zc*(sd/math.sqrt(ss))\n",
    "                ci=(pe-me,pe+me)\n",
    "                print(\"This is Z distribution\")\n",
    "                print(\"Interval estimate\",ci)\n",
    "        elif option==3:\n",
    "            print(\"z=\",{0.05:1.96,0.025:2.32,0.01:2.57,0.10:1.64})\n",
    "            print('t=',{0.05:1.81,0.025:2.28,0.01:1.37})\n",
    "            val = input(\"Enter your value: \")\n",
    "            alpha= float(val)\n",
    "            if ss<40:\n",
    "                tstats=(sm-mu)/(sd/math.sqrt(ss))\n",
    "                res='Null hypothesis is accepted' if tstats<alpha else \"Null hypothesis is rejected\"\n",
    "                print(res)\n",
    "            else:\n",
    "                zstats=(sm-mu)/(sd/math.sqrt(ss))\n",
    "                res='Null hypothesis is accepted' if zstats<alpha else \"Null hypothesis is rejected\"\n",
    "                print(res)\n",
    "        elif option==4:\n",
    "            print(\"Point estimate =\",pe)\n",
    "            print(\"Interval estimate =\",ci)\n",
    "            print(\"Hypothesis result =\",res)\n",
    "        else: \n",
    "            print(\"invalid entry\")\n",
    "    \n",
    "\n",
    "    inferstats(64,65,66.2,4.2)\n",
    "    #please click one by one option so it will get defined "
   ]
  },
  {
   "cell_type": "markdown",
   "id": "1aa4d17f",
   "metadata": {},
   "source": [
    "# VERSION 2\n"
   ]
  },
  {
   "cell_type": "code",
   "execution_count": 51,
   "id": "1fa237f8",
   "metadata": {},
   "outputs": [
    {
     "name": "stdout",
     "output_type": "stream",
     "text": [
      "1-Y OR 0-N0\n",
      "Kindly select an option:\n",
      "1.Point estimate\n",
      "2.Confidence estimate\n",
      "3.Hypothesis testing\n",
      "4.All\n",
      "4\n",
      "Point estimate = 10.5\n",
      "Interval estimate = (7.801297281377348, 13.198702718622652)\n",
      "Hypothesis result = Null hypothesis is rejected\n"
     ]
    }
   ],
   "source": [
    "df_estimate=pd.read_csv('estimate.csv')\n",
    "flag=int(input('1-Y OR 0-N'))\n",
    "if (flag==1):\n",
    "    print(df_estimate.describe())\n",
    "else:\n",
    "    print(\"Kindly select an option:\")\n",
    "    print(\"1.Point estimate\")\n",
    "    print(\"2.Confidence estimate\")\n",
    "    print(\"3.Hypothesis testing\")\n",
    "    print(\"4.All\")\n",
    "    option=int(input())\n",
    "    data=np.array([1,2,3,4,5,6,7,8,9,10,11,12,13,14,15,16,17,18,19,20])\n",
    "    ss=len(data)\n",
    "    def inferstats(data):\n",
    "        global pe,ci,res\n",
    "        if option==1:\n",
    "            pe= data.mean()\n",
    "            print(\"Point estimate:\",pe)\n",
    "        elif option==2:\n",
    "            print(\"z=\",{0.05:1.96,0.025:2.32,0.01:2.57,0.10:1.64})\n",
    "            print('t=',{0.05:1.81,0.025:2.28,0.01:1.37})\n",
    "            val = input(\"Enter your value: \")\n",
    "            alpha= float(val)\n",
    "            if ss<40:\n",
    "                tc=stats.t.ppf(q=1-alpha/2,df=(ss-1))  \n",
    "                me=tc*(data.std()/math.sqrt(ss)) \n",
    "                ci=(pe-me,pe+me)                  \n",
    "                print(\" This is T distribution\")\n",
    "                print(\"Interval estimate\",ci)\n",
    "            else:\n",
    "                zc=stats.norm.ppf(q=1-alpha/2)\n",
    "                me=zc*(data.std()/math.sqrt(ss))\n",
    "                ci=(pe-me,pe+me)\n",
    "                print(\"This is Z distribution\")\n",
    "                print(\"Interval estimate\",ci)\n",
    "        elif option==3:\n",
    "            print(\"z=\",{0.05:1.96,0.025:2.32,0.01:2.57,0.10:1.64})\n",
    "            print('t=',{0.05:1.81,0.025:2.28,0.01:1.37})\n",
    "            val = input(\"Enter your value: \")\n",
    "            alpha= float(val)\n",
    "            if ss<40:\n",
    "                tstats,pv=stats.ttest_1samp(a=data,popmean=20)\n",
    "                res='Null hypothesis is rejected' if pv<alpha else \"Null hypothesis is accepted\"\n",
    "                print(res)\n",
    "            else:\n",
    "                zstest(data,value=10)\n",
    "                res='Null hypothesis is accepted' if zstats<alpha else \"Null hypothesis is rejected\"\n",
    "                print(res)\n",
    "        elif option==4:\n",
    "            print(\"Point estimate =\",pe)\n",
    "            print(\"Interval estimate =\",ci)\n",
    "            print(\"Hypothesis result =\",res)\n",
    "        else: \n",
    "            print(\"invalid entry\")\n",
    "    \n",
    "\n",
    "    inferstats(data)\n",
    "#please click one by one option so it will get defined "
   ]
  },
  {
   "cell_type": "code",
   "execution_count": null,
   "id": "d7abc9cd",
   "metadata": {},
   "outputs": [],
   "source": []
  }
 ],
 "metadata": {
  "kernelspec": {
   "display_name": "Python 3 (ipykernel)",
   "language": "python",
   "name": "python3"
  },
  "language_info": {
   "codemirror_mode": {
    "name": "ipython",
    "version": 3
   },
   "file_extension": ".py",
   "mimetype": "text/x-python",
   "name": "python",
   "nbconvert_exporter": "python",
   "pygments_lexer": "ipython3",
   "version": "3.9.12"
  }
 },
 "nbformat": 4,
 "nbformat_minor": 5
}
