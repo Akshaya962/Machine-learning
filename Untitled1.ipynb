{
 "cells": [
  {
   "cell_type": "code",
   "execution_count": null,
   "id": "a9fd49d8",
   "metadata": {},
   "outputs": [],
   "source": [
    "def boxplots(col):\n",
    "    sns.boxplot(df[col])\n",
    "    plt.show()\n",
    "    \n",
    "for i in list(df.select_dtypes(exclude=['object','datetime64']).columns)[1:]:\n",
    "    boxplots(i)"
   ]
  },
  {
   "cell_type": "code",
   "execution_count": null,
   "id": "dd0866ae",
   "metadata": {},
   "outputs": [],
   "source": [
    "df.columns"
   ]
  },
  {
   "cell_type": "code",
   "execution_count": null,
   "id": "9371b9fe",
   "metadata": {},
   "outputs": [],
   "source": [
    "def remove_outlier(col):\n",
    "    sorted(col)\n",
    "    Q1, Q3 = col.quantile([0.25, 0.75])\n",
    "    IQR = Q3 - Q1\n",
    "    lower_range = Q1 - (1.5 * IQR)\n",
    "    upper_range = Q3 + (1.5 * IQR)\n",
    "    return lower_range, upper_range"
   ]
  },
  {
   "cell_type": "code",
   "execution_count": null,
   "id": "8d384e66",
   "metadata": {},
   "outputs": [],
   "source": [
    "lrcons_gas_12m, upcons_gas_12m = remove_outlier(df['cons_gas_12m'])\n",
    "df['cons_gas_12m'] = np.where(df['cons_gas_12m']>upcons_gas_12m, upcons_gas_12m, df['cons_gas_12m'])\n",
    "df['cons_gas_12m'] = np.where(df['cons_gas_12m']< lrcons_gas_12m, lrcons_gas_12m, df['cons_gas_12m'])\n",
    "\n",
    "lrcons_last_month, upcons_last_month = remove_outlier(df['cons_last_month'])\n",
    "df['cons_last_month'] = np.where(df['cons_last_month']>upcons_last_month, upcons_last_month, df['cons_last_month'])\n",
    "df['cons_last_month'] = np.where(df['cons_last_month']< lrcons_last_month, lrcons_last_month, df['cons_last_month'])\n",
    "\n",
    "lrforecast_cons_12m, upforecast_cons_12m = remove_outlier(df['forecast_cons_12m'])\n",
    "df['forecast_cons_12m'] = np.where(df['forecast_cons_12m']>upforecast_cons_12m, upforecast_cons_12m, df['forecast_cons_12m'])\n",
    "df['forecast_cons_12m'] = np.where(df['forecast_cons_12m']< lrforecast_cons_12m, lrforecast_cons_12m, df['forecast_cons_12m'])\n",
    "\n",
    "lrforecast_cons_year, upforecast_cons_year = remove_outlier(df['forecast_cons_year'])\n",
    "df['forecast_cons_year'] = np.where(df['forecast_cons_year']>upforecast_cons_year, upforecast_cons_year, df['forecast_cons_year'])\n",
    "df['forecast_cons_year'] = np.where(df['forecast_cons_year']< lrforecast_cons_year, lrforecast_cons_year, df['forecast_cons_year'])\n",
    "\n",
    "lrforecast_discount_energy, upforecast_discount_energy = remove_outlier(df['forecast_discount_energy'])\n",
    "df['forecast_discount_energy'] = np.where(df['forecast_discount_energy']>upforecast_discount_energy, upforecast_discount_energy, df['forecast_discount_energy'])\n",
    "df['forecast_discount_energy'] = np.where(df['forecast_discount_energy']< lrforecast_discount_energy, lrforecast_discount_energy, df['forecast_discount_energy'])\n",
    "\n",
    "lrforecast_meter_rent_12m, upforecast_meter_rent_12m = remove_outlier(df['forecast_meter_rent_12m'])\n",
    "df['forecast_meter_rent_12m'] = np.where(df['forecast_meter_rent_12m']>upforecast_meter_rent_12m, upforecast_meter_rent_12m, df['forecast_meter_rent_12m'])\n",
    "df['forecast_meter_rent_12m'] = np.where(df['forecast_meter_rent_12m']< lrforecast_meter_rent_12m, lrforecast_meter_rent_12m, df['forecast_meter_rent_12m'])\n",
    "\n",
    "lrforecast_price_energy_off_peak, upforecast_price_energy_off_peak = remove_outlier(df['forecast_price_energy_off_peak'])\n",
    "df['forecast_price_energy_off_peak'] = np.where(df['forecast_price_energy_off_peak']>upforecast_price_energy_off_peak, upforecast_price_energy_off_peak, df['forecast_price_energy_off_peak'])\n",
    "df['forecast_price_energy_off_peak'] = np.where(df['forecast_price_energy_off_peak']< lrforecast_price_energy_off_peak, lrforecast_price_energy_off_peak, df['forecast_price_energy_off_peak'])\n",
    "\n",
    "lrforecast_price_pow_off_peak, upforecast_price_pow_off_peak = remove_outlier(df['forecast_price_pow_off_peak'])\n",
    "df['forecast_price_pow_off_peak'] = np.where(df['forecast_price_pow_off_peak']>upforecast_price_pow_off_peak, upforecast_price_pow_off_peak, df['forecast_price_pow_off_peak'])\n",
    "df['forecast_price_pow_off_peak'] = np.where(df['forecast_price_pow_off_peak']< lrforecast_price_pow_off_peak, lrforecast_price_pow_off_peak, df['forecast_price_pow_off_peak'])\n",
    "\n",
    "lrimp_cons, upimp_cons = remove_outlier(df['imp_cons'])\n",
    "df['imp_cons'] = np.where(df['imp_cons']>upimp_cons, upimp_cons, df['imp_cons'])\n",
    "df['imp_cons'] = np.where(df['imp_cons']< lrimp_cons, lrimp_cons, df['imp_cons'])\n",
    "\n",
    "lrmargin_gross_pow_ele, upmargin_gross_pow_ele = remove_outlier(df['margin_gross_pow_ele'])\n",
    "df['margin_gross_pow_ele'] = np.where(df['margin_gross_pow_ele']>upmargin_gross_pow_ele, upmargin_gross_pow_ele, df['margin_gross_pow_ele'])\n",
    "df['margin_gross_pow_ele'] = np.where(df['margin_gross_pow_ele']< lrmargin_gross_pow_ele, lrmargin_gross_pow_ele, df['margin_gross_pow_ele'])\n",
    "\n",
    "lrmargin_net_pow_ele, upmargin_net_pow_ele= remove_outlier(df['margin_net_pow_ele'])\n",
    "df['margin_net_pow_ele'] = np.where(df['margin_net_pow_ele']>upmargin_net_pow_ele, upmargin_net_pow_ele, df['margin_net_pow_ele'])\n",
    "df['margin_net_pow_ele'] = np.where(df['margin_net_pow_ele']< lrmargin_net_pow_ele, lrmargin_net_pow_ele, df['margin_net_pow_ele'])\n",
    "\n",
    "lrnb_prod_act, upnb_prod_act = remove_outlier(df['nb_prod_act'])\n",
    "df['nb_prod_act'] = np.where(df['nb_prod_act']>upnb_prod_act, upnb_prod_act, df['nb_prod_act'])\n",
    "df['nb_prod_act'] = np.where(df['nb_prod_act']< lrnb_prod_act, lrnb_prod_act, df['nb_prod_act'])\n",
    "\n",
    "lrnet_margin, upnet_margin = remove_outlier(df['net_margin'])\n",
    "df['net_margin'] = np.where(df['net_margin']>upnet_margin, upnet_margin, df['net_margin'])\n",
    "df['net_margin'] = np.where(df['net_margin']< lrnet_margin, lrnet_margin, df['net_margin'])\n",
    "\n",
    "lrpow_max, uppow_max = remove_outlier(df['pow_max'])\n",
    "df['pow_max'] = np.where(df['pow_max']>uppow_max, uppow_max, df['pow_max'])\n",
    "df['pow_max'] = np.where(df['pow_max']< lrpow_max, lrpow_max, df['pow_max'])\n",
    "\n",
    "lrnum_years_antig, upnum_years_antig = remove_outlier(df['num_years_antig'])\n",
    "df['num_years_antig'] = np.where(df['num_years_antig']>upnet_margin, upnet_margin, df['num_years_antig'])\n",
    "df['num_years_antig'] = np.where(df['num_years_antig']< lrnet_margin, lrnet_margin, df['num_years_antig'])"
   ]
  },
  {
   "cell_type": "code",
   "execution_count": null,
   "id": "6c3c4ddc",
   "metadata": {},
   "outputs": [],
   "source": [
    "df.boxplot(column=['pow_max'])\n",
    "plt.show()"
   ]
  },
  {
   "cell_type": "code",
   "execution_count": null,
   "id": "23e3a363",
   "metadata": {},
   "outputs": [],
   "source": []
  },
  {
   "cell_type": "code",
   "execution_count": null,
   "id": "b0501f5d",
   "metadata": {},
   "outputs": [],
   "source": [
    "df=df.drop(['margin_gross_pow_ele','forecast_cons_12m'], axis=1)"
   ]
  },
  {
   "cell_type": "code",
   "execution_count": null,
   "id": "9c8bd9af",
   "metadata": {},
   "outputs": [],
   "source": [
    "df.skew().sort_values(ascending=False)"
   ]
  },
  {
   "cell_type": "code",
   "execution_count": null,
   "id": "cd335c85",
   "metadata": {},
   "outputs": [],
   "source": [
    "sq_cons_12m=np.sqrt(df['cons_12m'])\n",
    "sq_cons_12m.skew()\n",
    "df['cons_12m']=sq_cons_12m\n"
   ]
  },
  {
   "cell_type": "code",
   "execution_count": null,
   "id": "ea682b03",
   "metadata": {},
   "outputs": [],
   "source": [
    "cb_forecast_price_pow_off_peak=np.power(df['forecast_price_pow_off_peak'],6)\n",
    "cb_forecast_price_pow_off_peak.skew()\n",
    "df['forecast_price_pow_off_peak']=cb_forecast_price_pow_off_peak"
   ]
  },
  {
   "cell_type": "code",
   "execution_count": null,
   "id": "c71f05bf",
   "metadata": {},
   "outputs": [],
   "source": [
    "df.skew().sort_values(ascending=False)"
   ]
  },
  {
   "cell_type": "code",
   "execution_count": null,
   "id": "b4c13b72",
   "metadata": {},
   "outputs": [],
   "source": [
    "df[\"churn\"].value_counts()\n",
    "#changing the data types to data and time\n",
    "for i in ['date_activ','date_end','date_modif_prod','date_renewal']:\n",
    "    df[i] = pd.to_datetime(df[i])"
   ]
  }
 ],
 "metadata": {
  "kernelspec": {
   "display_name": "Python 3 (ipykernel)",
   "language": "python",
   "name": "python3"
  },
  "language_info": {
   "codemirror_mode": {
    "name": "ipython",
    "version": 3
   },
   "file_extension": ".py",
   "mimetype": "text/x-python",
   "name": "python",
   "nbconvert_exporter": "python",
   "pygments_lexer": "ipython3",
   "version": "3.9.12"
  }
 },
 "nbformat": 4,
 "nbformat_minor": 5
}
