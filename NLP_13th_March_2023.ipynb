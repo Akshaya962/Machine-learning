{
 "cells": [
  {
   "cell_type": "markdown",
   "id": "6dbb5fbd",
   "metadata": {},
   "source": [
    "# Stemming"
   ]
  },
  {
   "cell_type": "code",
   "execution_count": 1,
   "id": "04a50f17",
   "metadata": {},
   "outputs": [],
   "source": [
    "import nltk\n",
    "from nltk.stem.porter import *"
   ]
  },
  {
   "cell_type": "code",
   "execution_count": 2,
   "id": "419ca75a",
   "metadata": {},
   "outputs": [],
   "source": [
    "stemming = PorterStemmer()"
   ]
  },
  {
   "cell_type": "code",
   "execution_count": 3,
   "id": "bb27442c",
   "metadata": {},
   "outputs": [],
   "source": [
    "words = ['run','runs','running','ran','easily','fairly','easy', 'fair','history','historical']"
   ]
  },
  {
   "cell_type": "code",
   "execution_count": 4,
   "id": "828baac2",
   "metadata": {},
   "outputs": [
    {
     "name": "stdout",
     "output_type": "stream",
     "text": [
      "run--->run\n",
      "runs--->run\n",
      "running--->run\n",
      "ran--->ran\n",
      "easily--->easili\n",
      "fairly--->fairli\n",
      "easy--->easi\n",
      "fair--->fair\n",
      "history--->histori\n",
      "historical--->histor\n"
     ]
    }
   ],
   "source": [
    "for word in words:\n",
    "    print(word + '--->'+stemming.stem(word))"
   ]
  },
  {
   "cell_type": "code",
   "execution_count": 26,
   "id": "5acab490",
   "metadata": {},
   "outputs": [],
   "source": [
    "sentence = \"In formally outlining the crux of the proposed Digital India Act, 2023, the Minister of State, IT, Rajeev Chandrasekhar, made a case for a robust replacement of the IT Act, 2000, which is somewhat obsolete now. He ominously added a question that the government sought to revisit: “should there be a ‘safe harbour’ at all for all intermediaries?” This acquires significance as the government has been working towards increasing the compliance burden on Internet intermediaries, in particular in the IT Rules 2021 and its later amendments. These Rules themselves had put the onus on social media intermediaries to arbitrate on content on their platforms with regulations that were weighted in favour of the government of the day, and had invited legal appeals as digital news media platforms among others questioned the constitutionality of the Rules. Meanwhile, an amendment in October 2022 provided for government-appointed committees that will adjudicate on an individual user’s appeals against moderation decisions of these intermediaries. In January 2023, the IT Ministry proposed an amendment on the take down of social media/news content that has been marked as “fake” or “false” by the Press Information Bureau or any other government agency. These, in sum, had already put the safe harbour protections for intermediaries at much risk.\""
   ]
  },
  {
   "cell_type": "code",
   "execution_count": 6,
   "id": "7ad885af",
   "metadata": {},
   "outputs": [],
   "source": [
    "from nltk.corpus import stopwords"
   ]
  },
  {
   "cell_type": "code",
   "execution_count": 27,
   "id": "9b2eb573",
   "metadata": {},
   "outputs": [],
   "source": [
    "my_review = nltk.sent_tokenize(sentence)"
   ]
  },
  {
   "cell_type": "code",
   "execution_count": 28,
   "id": "87b394bf",
   "metadata": {},
   "outputs": [
    {
     "data": {
      "text/plain": [
       "['In formally outlining the crux of the proposed Digital India Act, 2023, the Minister of State, IT, Rajeev Chandrasekhar, made a case for a robust replacement of the IT Act, 2000, which is somewhat obsolete now.',\n",
       " 'He ominously added a question that the government sought to revisit: “should there be a ‘safe harbour’ at all for all intermediaries?” This acquires significance as the government has been working towards increasing the compliance burden on Internet intermediaries, in particular in the IT Rules 2021 and its later amendments.',\n",
       " 'These Rules themselves had put the onus on social media intermediaries to arbitrate on content on their platforms with regulations that were weighted in favour of the government of the day, and had invited legal appeals as digital news media platforms among others questioned the constitutionality of the Rules.',\n",
       " 'Meanwhile, an amendment in October 2022 provided for government-appointed committees that will adjudicate on an individual user’s appeals against moderation decisions of these intermediaries.',\n",
       " 'In January 2023, the IT Ministry proposed an amendment on the take down of social media/news content that has been marked as “fake” or “false” by the Press Information Bureau or any other government agency.',\n",
       " 'These, in sum, had already put the safe harbour protections for intermediaries at much risk.']"
      ]
     },
     "execution_count": 28,
     "metadata": {},
     "output_type": "execute_result"
    }
   ],
   "source": [
    "my_review"
   ]
  },
  {
   "cell_type": "code",
   "execution_count": 13,
   "id": "95046f37",
   "metadata": {},
   "outputs": [],
   "source": [
    "stemming = PorterStemmer()"
   ]
  },
  {
   "cell_type": "code",
   "execution_count": 18,
   "id": "8c4740b9",
   "metadata": {},
   "outputs": [],
   "source": [
    "for i in range(len(my_review)):\n",
    "    words = nltk.word_tokenize(my_review[i])\n",
    "    words = [stemming.stem(word) for word in words if word not in set(stopwords.words('english'))]\n",
    "    my_review[i] = ' '.join(words)"
   ]
  },
  {
   "cell_type": "code",
   "execution_count": 19,
   "id": "90874095",
   "metadata": {},
   "outputs": [
    {
     "data": {
      "text/plain": [
       "['formal outlin crux propo digit india act , 2023 , minist state , , rajeev chandrasekhar , made case robust replac act , 2000 , somewhat obsolet .',\n",
       " 'omin ad question govern sought revisit : “ ‘ safe harbour ’ intermediari ? ” thi acquir signif govern ha work toward increa complianc burden internet intermediari , particular rule 2021 later amend .',\n",
       " 'rule themselv put onu social media intermediari arbitr content platform regul weight favour govern day , invit legal appeal digit news media platform among question constitut rule .',\n",
       " 'meanwhil , amend octob 2022 provid government-appoint committ adjud individu user ’ appeal moder deci intermediari .',\n",
       " 'januari 2023 , ministri propo amend take social media/new content ha mark “ fake ” “ fal ” press inform bureau ani govern agenc .',\n",
       " ', sum , alreadi put safe harbour protect intermediari much risk .']"
      ]
     },
     "execution_count": 19,
     "metadata": {},
     "output_type": "execute_result"
    }
   ],
   "source": [
    "my_review"
   ]
  },
  {
   "cell_type": "code",
   "execution_count": null,
   "id": "f8c7a0f3",
   "metadata": {},
   "outputs": [],
   "source": []
  },
  {
   "cell_type": "markdown",
   "id": "29299531",
   "metadata": {},
   "source": [
    "# Lemmatization"
   ]
  },
  {
   "cell_type": "code",
   "execution_count": 23,
   "id": "b3870a66",
   "metadata": {},
   "outputs": [],
   "source": [
    "words = ['run','runs','running','ran','easily','fairly','easy', 'fair','history','historical']"
   ]
  },
  {
   "cell_type": "code",
   "execution_count": 20,
   "id": "3539c424",
   "metadata": {},
   "outputs": [],
   "source": [
    "from nltk.stem import WordNetLemmatizer"
   ]
  },
  {
   "cell_type": "code",
   "execution_count": 21,
   "id": "85935f71",
   "metadata": {},
   "outputs": [],
   "source": [
    "lemm = WordNetLemmatizer()"
   ]
  },
  {
   "cell_type": "code",
   "execution_count": 25,
   "id": "e26956c0",
   "metadata": {},
   "outputs": [
    {
     "name": "stdout",
     "output_type": "stream",
     "text": [
      "run--->run\n",
      "runs--->run\n",
      "running--->running\n",
      "ran--->ran\n",
      "easily--->easily\n",
      "fairly--->fairly\n",
      "easy--->easy\n",
      "fair--->fair\n",
      "history--->history\n",
      "historical--->historical\n"
     ]
    }
   ],
   "source": [
    "for word in words:\n",
    "    print(word + '--->'+lemm.lemmatize(word))"
   ]
  },
  {
   "cell_type": "code",
   "execution_count": 29,
   "id": "1fe68759",
   "metadata": {},
   "outputs": [],
   "source": [
    "for i in range(len(my_review)):\n",
    "    words = nltk.word_tokenize(my_review[i])\n",
    "    words = [lemm.lemmatize(word) for word in words if word not in set(stopwords.words('english'))]\n",
    "    my_review[i] = ' '.join(words)"
   ]
  },
  {
   "cell_type": "code",
   "execution_count": 30,
   "id": "25944f4a",
   "metadata": {},
   "outputs": [
    {
     "data": {
      "text/plain": [
       "['In formally outlining crux proposed Digital India Act , 2023 , Minister State , IT , Rajeev Chandrasekhar , made case robust replacement IT Act , 2000 , somewhat obsolete .',\n",
       " 'He ominously added question government sought revisit : “ ‘ safe harbour ’ intermediary ? ” This acquires significance government working towards increasing compliance burden Internet intermediary , particular IT Rules 2021 later amendment .',\n",
       " 'These Rules put onus social medium intermediary arbitrate content platform regulation weighted favour government day , invited legal appeal digital news medium platform among others questioned constitutionality Rules .',\n",
       " 'Meanwhile , amendment October 2022 provided government-appointed committee adjudicate individual user ’ appeal moderation decision intermediary .',\n",
       " 'In January 2023 , IT Ministry proposed amendment take social media/news content marked “ fake ” “ false ” Press Information Bureau government agency .',\n",
       " 'These , sum , already put safe harbour protection intermediary much risk .']"
      ]
     },
     "execution_count": 30,
     "metadata": {},
     "output_type": "execute_result"
    }
   ],
   "source": [
    "my_review"
   ]
  },
  {
   "cell_type": "markdown",
   "id": "e899079b",
   "metadata": {},
   "source": [
    "# Bag of Words"
   ]
  },
  {
   "cell_type": "code",
   "execution_count": 56,
   "id": "1b10ef43",
   "metadata": {},
   "outputs": [],
   "source": [
    "sentence = \"In formally outlining the crux of the proposed Digital India Act, 2023, the Minister of State, IT, Rajeev Chandrasekhar, made a case for a robust replacement of the IT Act, 2000, which is somewhat obsolete now. He ominously added a question that the government sought to revisit: “should there be a ‘safe harbour’ at all for all intermediaries?” This acquires significance as the government has been working towards increasing the compliance burden on Internet intermediaries, in particular in the IT Rules 2021 and its later amendments. These Rules themselves had put the onus on social media intermediaries to arbitrate on content on their platforms with regulations that were weighted in favour of the government of the day, and had invited legal appeals as digital news media platforms among others questioned the constitutionality of the Rules. Meanwhile, an amendment in October 2022 provided for government-appointed committees that will adjudicate on an individual user’s appeals against moderation decisions of these intermediaries. In January 2023, the IT Ministry proposed an amendment on the take down of social media/news content that has been marked as “fake” or “false” by the Press Information Bureau or any other government agency. These, in sum, had already put the safe harbour protections for intermediaries at much risk.Regulation of hate speech and disinformation on the Internet is a must and intermediaries, including digital news media and social media platforms, have an accountable role to play. The IT Rules’ specifications on giving users prior notice before removing content or disabling access, and for intermediaries to come up with periodic compliance reports are well taken. Social media intermediaries should not shut down users’ posts or communications except in the interests of public order and to avoid legal consequences. But care should be taken to ensure that requirements on intermediaries should not become needlessly onerous and punitive, which also vitiate the principle of safe harbour. There is a legitimate concern that the government is keener on regulating or taking down critical opinion or dissent in social media/news platforms than hate speech or disinformation, which in many cases has originated from representatives of the state. Safe harbour provisions, in particular Section 230 of the U.S. Communications Decency Act, 1996, that explicitly provided immunity to online services with respect to user-generated content had gone a long way in catalysing the Net’s development. While modern regulations to tackle issues related to misinformation, problematic content and the side effects of the new form of the Internet are a must, they should still retain first principles of safe harbour without whittling down their core.\""
   ]
  },
  {
   "cell_type": "markdown",
   "id": "abf98a6f",
   "metadata": {},
   "source": [
    "### Pre-processing steps"
   ]
  },
  {
   "cell_type": "code",
   "execution_count": 59,
   "id": "f3a3e5fc",
   "metadata": {},
   "outputs": [],
   "source": [
    "import re\n",
    "from nltk.corpus import stopwords\n",
    "from nltk.stem import WordNetLemmatizer\n",
    "my_review = nltk.sent_tokenize(sentence)\n",
    "\n",
    "lemma = WordNetLemmatizer()\n",
    "ps = PorterStemmer()\n",
    "\n",
    "corpus = []\n",
    "\n",
    "for i in range(len(my_review)):\n",
    "    review = re.sub('[^a-zA-Z]',' ', my_review[i])\n",
    "    review = review.lower()\n",
    "    review = review.split()\n",
    "    review = [lemma.lemmatize(word) for word in review if not word in set(stopwords.words('english'))]\n",
    "    review = ' '.join(review)\n",
    "    corpus.append(review)"
   ]
  },
  {
   "cell_type": "code",
   "execution_count": 60,
   "id": "4046b5a8",
   "metadata": {},
   "outputs": [
    {
     "data": {
      "text/plain": [
       "['formally outlining crux proposed digital india act minister state rajeev chandrasekhar made case robust replacement act somewhat obsolete',\n",
       " 'ominously added question government sought revisit safe harbour intermediary acquires significance government working towards increasing compliance burden internet intermediary particular rule later amendment',\n",
       " 'rule put onus social medium intermediary arbitrate content platform regulation weighted favour government day invited legal appeal digital news medium platform among others questioned constitutionality rule',\n",
       " 'meanwhile amendment october provided government appointed committee adjudicate individual user appeal moderation decision intermediary',\n",
       " 'january ministry proposed amendment take social medium news content marked fake false press information bureau government agency',\n",
       " 'sum already put safe harbour protection intermediary much risk regulation hate speech disinformation internet must intermediary including digital news medium social medium platform accountable role play',\n",
       " 'rule specification giving user prior notice removing content disabling access intermediary come periodic compliance report well taken',\n",
       " 'social medium intermediary shut user post communication except interest public order avoid legal consequence',\n",
       " 'care taken ensure requirement intermediary become needlessly onerous punitive also vitiate principle safe harbour',\n",
       " 'legitimate concern government keener regulating taking critical opinion dissent social medium news platform hate speech disinformation many case originated representative state',\n",
       " 'safe harbour provision particular section u communication decency act explicitly provided immunity online service respect user generated content gone long way catalysing net development',\n",
       " 'modern regulation tackle issue related misinformation problematic content side effect new form internet must still retain first principle safe harbour without whittling core']"
      ]
     },
     "execution_count": 60,
     "metadata": {},
     "output_type": "execute_result"
    }
   ],
   "source": [
    "corpus"
   ]
  },
  {
   "cell_type": "markdown",
   "id": "2238e8cc",
   "metadata": {},
   "source": [
    "# Building Bag of Words model"
   ]
  },
  {
   "cell_type": "code",
   "execution_count": 62,
   "id": "6792b917",
   "metadata": {},
   "outputs": [],
   "source": [
    "from sklearn.feature_extraction.text import CountVectorizer\n",
    "cv = CountVectorizer(max_features=500)\n",
    "x = cv.fit_transform(corpus).toarray()"
   ]
  },
  {
   "cell_type": "code",
   "execution_count": 63,
   "id": "4e9f6204",
   "metadata": {},
   "outputs": [
    {
     "data": {
      "text/plain": [
       "array([[0, 0, 0, ..., 0, 0, 0],\n",
       "       [0, 0, 1, ..., 0, 0, 1],\n",
       "       [0, 0, 0, ..., 0, 0, 0],\n",
       "       ...,\n",
       "       [0, 0, 0, ..., 0, 0, 0],\n",
       "       [0, 0, 0, ..., 0, 0, 0],\n",
       "       [0, 0, 0, ..., 1, 1, 0]], dtype=int64)"
      ]
     },
     "execution_count": 63,
     "metadata": {},
     "output_type": "execute_result"
    }
   ],
   "source": [
    "x"
   ]
  },
  {
   "cell_type": "code",
   "execution_count": 65,
   "id": "758c0a31",
   "metadata": {},
   "outputs": [],
   "source": [
    "import pandas as pd\n",
    "df = pd.DataFrame(x)"
   ]
  },
  {
   "cell_type": "code",
   "execution_count": 67,
   "id": "755d50aa",
   "metadata": {},
   "outputs": [
    {
     "data": {
      "text/html": [
       "<div>\n",
       "<style scoped>\n",
       "    .dataframe tbody tr th:only-of-type {\n",
       "        vertical-align: middle;\n",
       "    }\n",
       "\n",
       "    .dataframe tbody tr th {\n",
       "        vertical-align: top;\n",
       "    }\n",
       "\n",
       "    .dataframe thead th {\n",
       "        text-align: right;\n",
       "    }\n",
       "</style>\n",
       "<table border=\"1\" class=\"dataframe\">\n",
       "  <thead>\n",
       "    <tr style=\"text-align: right;\">\n",
       "      <th></th>\n",
       "      <th>0</th>\n",
       "      <th>1</th>\n",
       "      <th>2</th>\n",
       "      <th>3</th>\n",
       "      <th>4</th>\n",
       "      <th>5</th>\n",
       "      <th>6</th>\n",
       "      <th>7</th>\n",
       "      <th>8</th>\n",
       "      <th>9</th>\n",
       "      <th>...</th>\n",
       "      <th>153</th>\n",
       "      <th>154</th>\n",
       "      <th>155</th>\n",
       "      <th>156</th>\n",
       "      <th>157</th>\n",
       "      <th>158</th>\n",
       "      <th>159</th>\n",
       "      <th>160</th>\n",
       "      <th>161</th>\n",
       "      <th>162</th>\n",
       "    </tr>\n",
       "  </thead>\n",
       "  <tbody>\n",
       "    <tr>\n",
       "      <th>0</th>\n",
       "      <td>0</td>\n",
       "      <td>0</td>\n",
       "      <td>0</td>\n",
       "      <td>2</td>\n",
       "      <td>0</td>\n",
       "      <td>0</td>\n",
       "      <td>0</td>\n",
       "      <td>0</td>\n",
       "      <td>0</td>\n",
       "      <td>0</td>\n",
       "      <td>...</td>\n",
       "      <td>0</td>\n",
       "      <td>0</td>\n",
       "      <td>0</td>\n",
       "      <td>0</td>\n",
       "      <td>0</td>\n",
       "      <td>0</td>\n",
       "      <td>0</td>\n",
       "      <td>0</td>\n",
       "      <td>0</td>\n",
       "      <td>0</td>\n",
       "    </tr>\n",
       "    <tr>\n",
       "      <th>1</th>\n",
       "      <td>0</td>\n",
       "      <td>0</td>\n",
       "      <td>1</td>\n",
       "      <td>0</td>\n",
       "      <td>1</td>\n",
       "      <td>0</td>\n",
       "      <td>0</td>\n",
       "      <td>0</td>\n",
       "      <td>0</td>\n",
       "      <td>1</td>\n",
       "      <td>...</td>\n",
       "      <td>0</td>\n",
       "      <td>1</td>\n",
       "      <td>0</td>\n",
       "      <td>0</td>\n",
       "      <td>0</td>\n",
       "      <td>0</td>\n",
       "      <td>0</td>\n",
       "      <td>0</td>\n",
       "      <td>0</td>\n",
       "      <td>1</td>\n",
       "    </tr>\n",
       "    <tr>\n",
       "      <th>2</th>\n",
       "      <td>0</td>\n",
       "      <td>0</td>\n",
       "      <td>0</td>\n",
       "      <td>0</td>\n",
       "      <td>0</td>\n",
       "      <td>0</td>\n",
       "      <td>0</td>\n",
       "      <td>0</td>\n",
       "      <td>0</td>\n",
       "      <td>0</td>\n",
       "      <td>...</td>\n",
       "      <td>0</td>\n",
       "      <td>0</td>\n",
       "      <td>0</td>\n",
       "      <td>0</td>\n",
       "      <td>0</td>\n",
       "      <td>1</td>\n",
       "      <td>0</td>\n",
       "      <td>0</td>\n",
       "      <td>0</td>\n",
       "      <td>0</td>\n",
       "    </tr>\n",
       "    <tr>\n",
       "      <th>3</th>\n",
       "      <td>0</td>\n",
       "      <td>0</td>\n",
       "      <td>0</td>\n",
       "      <td>0</td>\n",
       "      <td>0</td>\n",
       "      <td>1</td>\n",
       "      <td>0</td>\n",
       "      <td>0</td>\n",
       "      <td>0</td>\n",
       "      <td>1</td>\n",
       "      <td>...</td>\n",
       "      <td>0</td>\n",
       "      <td>0</td>\n",
       "      <td>1</td>\n",
       "      <td>0</td>\n",
       "      <td>0</td>\n",
       "      <td>0</td>\n",
       "      <td>0</td>\n",
       "      <td>0</td>\n",
       "      <td>0</td>\n",
       "      <td>0</td>\n",
       "    </tr>\n",
       "    <tr>\n",
       "      <th>4</th>\n",
       "      <td>0</td>\n",
       "      <td>0</td>\n",
       "      <td>0</td>\n",
       "      <td>0</td>\n",
       "      <td>0</td>\n",
       "      <td>0</td>\n",
       "      <td>1</td>\n",
       "      <td>0</td>\n",
       "      <td>0</td>\n",
       "      <td>1</td>\n",
       "      <td>...</td>\n",
       "      <td>0</td>\n",
       "      <td>0</td>\n",
       "      <td>0</td>\n",
       "      <td>0</td>\n",
       "      <td>0</td>\n",
       "      <td>0</td>\n",
       "      <td>0</td>\n",
       "      <td>0</td>\n",
       "      <td>0</td>\n",
       "      <td>0</td>\n",
       "    </tr>\n",
       "  </tbody>\n",
       "</table>\n",
       "<p>5 rows × 163 columns</p>\n",
       "</div>"
      ],
      "text/plain": [
       "   0    1    2    3    4    5    6    7    8    9    ...  153  154  155  156  \\\n",
       "0    0    0    0    2    0    0    0    0    0    0  ...    0    0    0    0   \n",
       "1    0    0    1    0    1    0    0    0    0    1  ...    0    1    0    0   \n",
       "2    0    0    0    0    0    0    0    0    0    0  ...    0    0    0    0   \n",
       "3    0    0    0    0    0    1    0    0    0    1  ...    0    0    1    0   \n",
       "4    0    0    0    0    0    0    1    0    0    1  ...    0    0    0    0   \n",
       "\n",
       "   157  158  159  160  161  162  \n",
       "0    0    0    0    0    0    0  \n",
       "1    0    0    0    0    0    1  \n",
       "2    0    1    0    0    0    0  \n",
       "3    0    0    0    0    0    0  \n",
       "4    0    0    0    0    0    0  \n",
       "\n",
       "[5 rows x 163 columns]"
      ]
     },
     "execution_count": 67,
     "metadata": {},
     "output_type": "execute_result"
    }
   ],
   "source": [
    "df.head()"
   ]
  },
  {
   "cell_type": "code",
   "execution_count": 68,
   "id": "119f7d71",
   "metadata": {},
   "outputs": [
    {
     "data": {
      "text/plain": [
       "(12, 163)"
      ]
     },
     "execution_count": 68,
     "metadata": {},
     "output_type": "execute_result"
    }
   ],
   "source": [
    "df.shape"
   ]
  },
  {
   "cell_type": "code",
   "execution_count": null,
   "id": "4b24f37b",
   "metadata": {},
   "outputs": [],
   "source": [
    "# Bag of word \n",
    "# converting text to vector - \n",
    "    # binary bow\n",
    "    # boolean bow\n",
    "# creating more sparse matrix - zero value - dis-advantage\n",
    "# we can not figure out which word is more significant - dis-advantage"
   ]
  },
  {
   "cell_type": "code",
   "execution_count": null,
   "id": "04437227",
   "metadata": {},
   "outputs": [],
   "source": []
  },
  {
   "cell_type": "markdown",
   "id": "41bb0060",
   "metadata": {},
   "source": [
    "# Text to Speech"
   ]
  },
  {
   "cell_type": "code",
   "execution_count": 84,
   "id": "ec133033",
   "metadata": {},
   "outputs": [],
   "source": [
    "# https://en.wikipedia.org/wiki/List_of_ISO_639-1_codes"
   ]
  },
  {
   "cell_type": "code",
   "execution_count": 69,
   "id": "8733967e",
   "metadata": {},
   "outputs": [
    {
     "data": {
      "text/plain": [
       "'C:\\\\Users\\\\Lenovo\\\\Desktop\\\\AI&NLP_morning_8-10\\\\NLP'"
      ]
     },
     "execution_count": 69,
     "metadata": {},
     "output_type": "execute_result"
    }
   ],
   "source": [
    "import os\n",
    "os.getcwd()"
   ]
  },
  {
   "cell_type": "code",
   "execution_count": 1,
   "id": "58694f2b",
   "metadata": {},
   "outputs": [
    {
     "name": "stdout",
     "output_type": "stream",
     "text": [
      "Collecting gTTS\n",
      "  Downloading gTTS-2.3.1-py3-none-any.whl (28 kB)\n",
      "Requirement already satisfied: requests<3,>=2.27 in c:\\users\\akshaya\\anaconda3\\lib\\site-packages (from gTTS) (2.27.1)\n",
      "Requirement already satisfied: click<8.2,>=7.1 in c:\\users\\akshaya\\anaconda3\\lib\\site-packages (from gTTS) (8.0.4)\n",
      "Requirement already satisfied: colorama in c:\\users\\akshaya\\anaconda3\\lib\\site-packages (from click<8.2,>=7.1->gTTS) (0.4.4)\n",
      "Requirement already satisfied: certifi>=2017.4.17 in c:\\users\\akshaya\\anaconda3\\lib\\site-packages (from requests<3,>=2.27->gTTS) (2021.10.8)\n",
      "Requirement already satisfied: urllib3<1.27,>=1.21.1 in c:\\users\\akshaya\\anaconda3\\lib\\site-packages (from requests<3,>=2.27->gTTS) (1.26.9)\n",
      "Requirement already satisfied: idna<4,>=2.5 in c:\\users\\akshaya\\anaconda3\\lib\\site-packages (from requests<3,>=2.27->gTTS) (3.3)\n",
      "Requirement already satisfied: charset-normalizer~=2.0.0 in c:\\users\\akshaya\\anaconda3\\lib\\site-packages (from requests<3,>=2.27->gTTS) (2.0.4)\n",
      "Installing collected packages: gTTS\n",
      "Successfully installed gTTS-2.3.1\n"
     ]
    }
   ],
   "source": [
    "#!pip install gTTS\n",
    "# gTTS - google text to speech"
   ]
  },
  {
   "cell_type": "code",
   "execution_count": 70,
   "id": "e058f8fa",
   "metadata": {},
   "outputs": [],
   "source": [
    "from gtts import gTTS"
   ]
  },
  {
   "cell_type": "code",
   "execution_count": 77,
   "id": "6f1aeab8",
   "metadata": {},
   "outputs": [
    {
     "name": "stdout",
     "output_type": "stream",
     "text": [
      "please enter your sentence here to convert into audio : \n",
      ">एक बार फिर से सजने वाला है इंडिया टुडे कॉन्क्लेव का वो मंच जिसका पूरा देश पूरी बेसब्री से इंतजार करता है. दिल्ली में 17 और 18 मार्च को इंडिया टुडे कॉन... https://www.aajtak.in/india/news/story/pm-narendra-modi-to-address-india-today-conclave-2023-in-delhi-ntc-1653190-2023-03-13\n"
     ]
    }
   ],
   "source": [
    "my_sentence = input('please enter your sentence here to convert into audio : \\n>')"
   ]
  },
  {
   "cell_type": "code",
   "execution_count": 82,
   "id": "21aeaad5",
   "metadata": {},
   "outputs": [],
   "source": [
    "sentence = gTTS(text=my_sentence, lang='kn')"
   ]
  },
  {
   "cell_type": "code",
   "execution_count": 83,
   "id": "ddb03255",
   "metadata": {},
   "outputs": [],
   "source": [
    "sentence.save('hindi_kannada_ascent.mp3')"
   ]
  },
  {
   "cell_type": "code",
   "execution_count": null,
   "id": "e00e7f14",
   "metadata": {},
   "outputs": [],
   "source": []
  },
  {
   "cell_type": "code",
   "execution_count": null,
   "id": "ea230bcd",
   "metadata": {},
   "outputs": [],
   "source": []
  },
  {
   "cell_type": "code",
   "execution_count": null,
   "id": "01d08598",
   "metadata": {},
   "outputs": [],
   "source": []
  },
  {
   "cell_type": "code",
   "execution_count": null,
   "id": "3e9d2581",
   "metadata": {},
   "outputs": [],
   "source": []
  },
  {
   "cell_type": "code",
   "execution_count": null,
   "id": "d52242e4",
   "metadata": {},
   "outputs": [],
   "source": []
  }
 ],
 "metadata": {
  "kernelspec": {
   "display_name": "Python 3 (ipykernel)",
   "language": "python",
   "name": "python3"
  },
  "language_info": {
   "codemirror_mode": {
    "name": "ipython",
    "version": 3
   },
   "file_extension": ".py",
   "mimetype": "text/x-python",
   "name": "python",
   "nbconvert_exporter": "python",
   "pygments_lexer": "ipython3",
   "version": "3.9.12"
  }
 },
 "nbformat": 4,
 "nbformat_minor": 5
}
