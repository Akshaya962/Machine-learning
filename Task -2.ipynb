{
 "cells": [
  {
   "cell_type": "code",
   "execution_count": 1,
   "id": "a2a7f015",
   "metadata": {},
   "outputs": [],
   "source": [
    "#importing all the necessary libraries\n",
    "import pandas as pd\n",
    "import numpy as np\n",
    "import seaborn as sns\n",
    "from scipy import stats\n",
    "from sklearn import preprocessing\n",
    "from sklearn.model_selection import train_test_split\n",
    "from sklearn.metrics import confusion_matrix\n",
    "from sklearn.metrics import accuracy_score\n",
    "from sklearn.metrics import roc_curve, auc\n",
    "import matplotlib.pyplot as plt\n",
    "from IPython.display import Image  \n",
    "from sklearn.tree import export_graphviz\n",
    "from sklearn import metrics\n",
    "%matplotlib inline\n",
    "from sklearn.model_selection import GridSearchCV\n",
    "import warnings \n",
    "warnings.filterwarnings('ignore')\n",
    "import pylab"
   ]
  },
  {
   "cell_type": "code",
   "execution_count": 2,
   "id": "33e350cb",
   "metadata": {},
   "outputs": [
    {
     "data": {
      "text/html": [
       "<div>\n",
       "<style scoped>\n",
       "    .dataframe tbody tr th:only-of-type {\n",
       "        vertical-align: middle;\n",
       "    }\n",
       "\n",
       "    .dataframe tbody tr th {\n",
       "        vertical-align: top;\n",
       "    }\n",
       "\n",
       "    .dataframe thead th {\n",
       "        text-align: right;\n",
       "    }\n",
       "</style>\n",
       "<table border=\"1\" class=\"dataframe\">\n",
       "  <thead>\n",
       "    <tr style=\"text-align: right;\">\n",
       "      <th></th>\n",
       "      <th>id</th>\n",
       "      <th>channel_sales</th>\n",
       "      <th>cons_12m</th>\n",
       "      <th>cons_gas_12m</th>\n",
       "      <th>cons_last_month</th>\n",
       "      <th>date_activ</th>\n",
       "      <th>date_end</th>\n",
       "      <th>date_modif_prod</th>\n",
       "      <th>date_renewal</th>\n",
       "      <th>forecast_cons_12m</th>\n",
       "      <th>...</th>\n",
       "      <th>has_gas</th>\n",
       "      <th>imp_cons</th>\n",
       "      <th>margin_gross_pow_ele</th>\n",
       "      <th>margin_net_pow_ele</th>\n",
       "      <th>nb_prod_act</th>\n",
       "      <th>net_margin</th>\n",
       "      <th>num_years_antig</th>\n",
       "      <th>origin_up</th>\n",
       "      <th>pow_max</th>\n",
       "      <th>churn</th>\n",
       "    </tr>\n",
       "  </thead>\n",
       "  <tbody>\n",
       "    <tr>\n",
       "      <th>0</th>\n",
       "      <td>24011ae4ebbe3035111d65fa7c15bc57</td>\n",
       "      <td>foosdfpfkusacimwkcsosbicdxkicaua</td>\n",
       "      <td>0</td>\n",
       "      <td>54946</td>\n",
       "      <td>0</td>\n",
       "      <td>2013-06-15</td>\n",
       "      <td>2016-06-15</td>\n",
       "      <td>2015-11-01</td>\n",
       "      <td>2015-06-23</td>\n",
       "      <td>0.00</td>\n",
       "      <td>...</td>\n",
       "      <td>t</td>\n",
       "      <td>0.00</td>\n",
       "      <td>25.44</td>\n",
       "      <td>25.44</td>\n",
       "      <td>2</td>\n",
       "      <td>678.99</td>\n",
       "      <td>3</td>\n",
       "      <td>lxidpiddsbxsbosboudacockeimpuepw</td>\n",
       "      <td>43.648</td>\n",
       "      <td>1</td>\n",
       "    </tr>\n",
       "    <tr>\n",
       "      <th>1</th>\n",
       "      <td>d29c2c54acc38ff3c0614d0a653813dd</td>\n",
       "      <td>MISSING</td>\n",
       "      <td>4660</td>\n",
       "      <td>0</td>\n",
       "      <td>0</td>\n",
       "      <td>2009-08-21</td>\n",
       "      <td>2016-08-30</td>\n",
       "      <td>2009-08-21</td>\n",
       "      <td>2015-08-31</td>\n",
       "      <td>189.95</td>\n",
       "      <td>...</td>\n",
       "      <td>f</td>\n",
       "      <td>0.00</td>\n",
       "      <td>16.38</td>\n",
       "      <td>16.38</td>\n",
       "      <td>1</td>\n",
       "      <td>18.89</td>\n",
       "      <td>6</td>\n",
       "      <td>kamkkxfxxuwbdslkwifmmcsiusiuosws</td>\n",
       "      <td>13.800</td>\n",
       "      <td>0</td>\n",
       "    </tr>\n",
       "    <tr>\n",
       "      <th>2</th>\n",
       "      <td>764c75f661154dac3a6c254cd082ea7d</td>\n",
       "      <td>foosdfpfkusacimwkcsosbicdxkicaua</td>\n",
       "      <td>544</td>\n",
       "      <td>0</td>\n",
       "      <td>0</td>\n",
       "      <td>2010-04-16</td>\n",
       "      <td>2016-04-16</td>\n",
       "      <td>2010-04-16</td>\n",
       "      <td>2015-04-17</td>\n",
       "      <td>47.96</td>\n",
       "      <td>...</td>\n",
       "      <td>f</td>\n",
       "      <td>0.00</td>\n",
       "      <td>28.60</td>\n",
       "      <td>28.60</td>\n",
       "      <td>1</td>\n",
       "      <td>6.60</td>\n",
       "      <td>6</td>\n",
       "      <td>kamkkxfxxuwbdslkwifmmcsiusiuosws</td>\n",
       "      <td>13.856</td>\n",
       "      <td>0</td>\n",
       "    </tr>\n",
       "    <tr>\n",
       "      <th>3</th>\n",
       "      <td>bba03439a292a1e166f80264c16191cb</td>\n",
       "      <td>lmkebamcaaclubfxadlmueccxoimlema</td>\n",
       "      <td>1584</td>\n",
       "      <td>0</td>\n",
       "      <td>0</td>\n",
       "      <td>2010-03-30</td>\n",
       "      <td>2016-03-30</td>\n",
       "      <td>2010-03-30</td>\n",
       "      <td>2015-03-31</td>\n",
       "      <td>240.04</td>\n",
       "      <td>...</td>\n",
       "      <td>f</td>\n",
       "      <td>0.00</td>\n",
       "      <td>30.22</td>\n",
       "      <td>30.22</td>\n",
       "      <td>1</td>\n",
       "      <td>25.46</td>\n",
       "      <td>6</td>\n",
       "      <td>kamkkxfxxuwbdslkwifmmcsiusiuosws</td>\n",
       "      <td>13.200</td>\n",
       "      <td>0</td>\n",
       "    </tr>\n",
       "    <tr>\n",
       "      <th>4</th>\n",
       "      <td>149d57cf92fc41cf94415803a877cb4b</td>\n",
       "      <td>MISSING</td>\n",
       "      <td>4425</td>\n",
       "      <td>0</td>\n",
       "      <td>526</td>\n",
       "      <td>2010-01-13</td>\n",
       "      <td>2016-03-07</td>\n",
       "      <td>2010-01-13</td>\n",
       "      <td>2015-03-09</td>\n",
       "      <td>445.75</td>\n",
       "      <td>...</td>\n",
       "      <td>f</td>\n",
       "      <td>52.32</td>\n",
       "      <td>44.91</td>\n",
       "      <td>44.91</td>\n",
       "      <td>1</td>\n",
       "      <td>47.98</td>\n",
       "      <td>6</td>\n",
       "      <td>kamkkxfxxuwbdslkwifmmcsiusiuosws</td>\n",
       "      <td>19.800</td>\n",
       "      <td>0</td>\n",
       "    </tr>\n",
       "  </tbody>\n",
       "</table>\n",
       "<p>5 rows × 26 columns</p>\n",
       "</div>"
      ],
      "text/plain": [
       "                                 id                     channel_sales  \\\n",
       "0  24011ae4ebbe3035111d65fa7c15bc57  foosdfpfkusacimwkcsosbicdxkicaua   \n",
       "1  d29c2c54acc38ff3c0614d0a653813dd                           MISSING   \n",
       "2  764c75f661154dac3a6c254cd082ea7d  foosdfpfkusacimwkcsosbicdxkicaua   \n",
       "3  bba03439a292a1e166f80264c16191cb  lmkebamcaaclubfxadlmueccxoimlema   \n",
       "4  149d57cf92fc41cf94415803a877cb4b                           MISSING   \n",
       "\n",
       "   cons_12m  cons_gas_12m  cons_last_month  date_activ    date_end  \\\n",
       "0         0         54946                0  2013-06-15  2016-06-15   \n",
       "1      4660             0                0  2009-08-21  2016-08-30   \n",
       "2       544             0                0  2010-04-16  2016-04-16   \n",
       "3      1584             0                0  2010-03-30  2016-03-30   \n",
       "4      4425             0              526  2010-01-13  2016-03-07   \n",
       "\n",
       "  date_modif_prod date_renewal  forecast_cons_12m  ...  has_gas  imp_cons  \\\n",
       "0      2015-11-01   2015-06-23               0.00  ...        t      0.00   \n",
       "1      2009-08-21   2015-08-31             189.95  ...        f      0.00   \n",
       "2      2010-04-16   2015-04-17              47.96  ...        f      0.00   \n",
       "3      2010-03-30   2015-03-31             240.04  ...        f      0.00   \n",
       "4      2010-01-13   2015-03-09             445.75  ...        f     52.32   \n",
       "\n",
       "   margin_gross_pow_ele  margin_net_pow_ele  nb_prod_act  net_margin  \\\n",
       "0                 25.44               25.44            2      678.99   \n",
       "1                 16.38               16.38            1       18.89   \n",
       "2                 28.60               28.60            1        6.60   \n",
       "3                 30.22               30.22            1       25.46   \n",
       "4                 44.91               44.91            1       47.98   \n",
       "\n",
       "  num_years_antig                         origin_up  pow_max  churn  \n",
       "0               3  lxidpiddsbxsbosboudacockeimpuepw   43.648      1  \n",
       "1               6  kamkkxfxxuwbdslkwifmmcsiusiuosws   13.800      0  \n",
       "2               6  kamkkxfxxuwbdslkwifmmcsiusiuosws   13.856      0  \n",
       "3               6  kamkkxfxxuwbdslkwifmmcsiusiuosws   13.200      0  \n",
       "4               6  kamkkxfxxuwbdslkwifmmcsiusiuosws   19.800      0  \n",
       "\n",
       "[5 rows x 26 columns]"
      ]
     },
     "execution_count": 2,
     "metadata": {},
     "output_type": "execute_result"
    }
   ],
   "source": [
    "#uploading the csv files of client \n",
    "cd=pd.read_csv('client_data.csv')\n",
    "cd.head()"
   ]
  },
  {
   "cell_type": "code",
   "execution_count": 3,
   "id": "212ca550",
   "metadata": {},
   "outputs": [
    {
     "data": {
      "text/plain": [
       "id                                 object\n",
       "channel_sales                      object\n",
       "cons_12m                            int64\n",
       "cons_gas_12m                        int64\n",
       "cons_last_month                     int64\n",
       "date_activ                         object\n",
       "date_end                           object\n",
       "date_modif_prod                    object\n",
       "date_renewal                       object\n",
       "forecast_cons_12m                 float64\n",
       "forecast_cons_year                  int64\n",
       "forecast_discount_energy          float64\n",
       "forecast_meter_rent_12m           float64\n",
       "forecast_price_energy_off_peak    float64\n",
       "forecast_price_energy_peak        float64\n",
       "forecast_price_pow_off_peak       float64\n",
       "has_gas                            object\n",
       "imp_cons                          float64\n",
       "margin_gross_pow_ele              float64\n",
       "margin_net_pow_ele                float64\n",
       "nb_prod_act                         int64\n",
       "net_margin                        float64\n",
       "num_years_antig                     int64\n",
       "origin_up                          object\n",
       "pow_max                           float64\n",
       "churn                               int64\n",
       "dtype: object"
      ]
     },
     "execution_count": 3,
     "metadata": {},
     "output_type": "execute_result"
    }
   ],
   "source": [
    "#to check data types of the datasets\n",
    "cd.dtypes"
   ]
  },
  {
   "cell_type": "code",
   "execution_count": 4,
   "id": "289d682e",
   "metadata": {},
   "outputs": [
    {
     "data": {
      "text/html": [
       "<div>\n",
       "<style scoped>\n",
       "    .dataframe tbody tr th:only-of-type {\n",
       "        vertical-align: middle;\n",
       "    }\n",
       "\n",
       "    .dataframe tbody tr th {\n",
       "        vertical-align: top;\n",
       "    }\n",
       "\n",
       "    .dataframe thead th {\n",
       "        text-align: right;\n",
       "    }\n",
       "</style>\n",
       "<table border=\"1\" class=\"dataframe\">\n",
       "  <thead>\n",
       "    <tr style=\"text-align: right;\">\n",
       "      <th></th>\n",
       "      <th>id</th>\n",
       "      <th>price_date</th>\n",
       "      <th>price_off_peak_var</th>\n",
       "      <th>price_peak_var</th>\n",
       "      <th>price_mid_peak_var</th>\n",
       "      <th>price_off_peak_fix</th>\n",
       "      <th>price_peak_fix</th>\n",
       "      <th>price_mid_peak_fix</th>\n",
       "    </tr>\n",
       "  </thead>\n",
       "  <tbody>\n",
       "    <tr>\n",
       "      <th>192997</th>\n",
       "      <td>16f51cdc2baa19af0b940ee1b3dd17d5</td>\n",
       "      <td>2015-08-01</td>\n",
       "      <td>0.119916</td>\n",
       "      <td>0.102232</td>\n",
       "      <td>0.076257</td>\n",
       "      <td>40.728885</td>\n",
       "      <td>24.43733</td>\n",
       "      <td>16.291555</td>\n",
       "    </tr>\n",
       "    <tr>\n",
       "      <th>192998</th>\n",
       "      <td>16f51cdc2baa19af0b940ee1b3dd17d5</td>\n",
       "      <td>2015-09-01</td>\n",
       "      <td>0.119916</td>\n",
       "      <td>0.102232</td>\n",
       "      <td>0.076257</td>\n",
       "      <td>40.728885</td>\n",
       "      <td>24.43733</td>\n",
       "      <td>16.291555</td>\n",
       "    </tr>\n",
       "    <tr>\n",
       "      <th>192999</th>\n",
       "      <td>16f51cdc2baa19af0b940ee1b3dd17d5</td>\n",
       "      <td>2015-10-01</td>\n",
       "      <td>0.119916</td>\n",
       "      <td>0.102232</td>\n",
       "      <td>0.076257</td>\n",
       "      <td>40.728885</td>\n",
       "      <td>24.43733</td>\n",
       "      <td>16.291555</td>\n",
       "    </tr>\n",
       "    <tr>\n",
       "      <th>193000</th>\n",
       "      <td>16f51cdc2baa19af0b940ee1b3dd17d5</td>\n",
       "      <td>2015-11-01</td>\n",
       "      <td>0.119916</td>\n",
       "      <td>0.102232</td>\n",
       "      <td>0.076257</td>\n",
       "      <td>40.728885</td>\n",
       "      <td>24.43733</td>\n",
       "      <td>16.291555</td>\n",
       "    </tr>\n",
       "    <tr>\n",
       "      <th>193001</th>\n",
       "      <td>16f51cdc2baa19af0b940ee1b3dd17d5</td>\n",
       "      <td>2015-12-01</td>\n",
       "      <td>0.119916</td>\n",
       "      <td>0.102232</td>\n",
       "      <td>0.076257</td>\n",
       "      <td>40.728885</td>\n",
       "      <td>24.43733</td>\n",
       "      <td>16.291555</td>\n",
       "    </tr>\n",
       "  </tbody>\n",
       "</table>\n",
       "</div>"
      ],
      "text/plain": [
       "                                      id  price_date  price_off_peak_var  \\\n",
       "192997  16f51cdc2baa19af0b940ee1b3dd17d5  2015-08-01            0.119916   \n",
       "192998  16f51cdc2baa19af0b940ee1b3dd17d5  2015-09-01            0.119916   \n",
       "192999  16f51cdc2baa19af0b940ee1b3dd17d5  2015-10-01            0.119916   \n",
       "193000  16f51cdc2baa19af0b940ee1b3dd17d5  2015-11-01            0.119916   \n",
       "193001  16f51cdc2baa19af0b940ee1b3dd17d5  2015-12-01            0.119916   \n",
       "\n",
       "        price_peak_var  price_mid_peak_var  price_off_peak_fix  \\\n",
       "192997        0.102232            0.076257           40.728885   \n",
       "192998        0.102232            0.076257           40.728885   \n",
       "192999        0.102232            0.076257           40.728885   \n",
       "193000        0.102232            0.076257           40.728885   \n",
       "193001        0.102232            0.076257           40.728885   \n",
       "\n",
       "        price_peak_fix  price_mid_peak_fix  \n",
       "192997        24.43733           16.291555  \n",
       "192998        24.43733           16.291555  \n",
       "192999        24.43733           16.291555  \n",
       "193000        24.43733           16.291555  \n",
       "193001        24.43733           16.291555  "
      ]
     },
     "execution_count": 4,
     "metadata": {},
     "output_type": "execute_result"
    }
   ],
   "source": [
    "#uploading the csv files of client \n",
    "pds=pd.read_csv('price_data.csv')\n",
    "pds.tail()"
   ]
  },
  {
   "cell_type": "code",
   "execution_count": 5,
   "id": "c7136801",
   "metadata": {},
   "outputs": [
    {
     "data": {
      "text/plain": [
       "id                     object\n",
       "price_date             object\n",
       "price_off_peak_var    float64\n",
       "price_peak_var        float64\n",
       "price_mid_peak_var    float64\n",
       "price_off_peak_fix    float64\n",
       "price_peak_fix        float64\n",
       "price_mid_peak_fix    float64\n",
       "dtype: object"
      ]
     },
     "execution_count": 5,
     "metadata": {},
     "output_type": "execute_result"
    }
   ],
   "source": [
    "pds.dtypes"
   ]
  },
  {
   "cell_type": "markdown",
   "id": "ecb011db",
   "metadata": {},
   "source": [
    "# Exploratory Data Analysis Of Price"
   ]
  },
  {
   "cell_type": "code",
   "execution_count": 6,
   "id": "ea2256e7",
   "metadata": {},
   "outputs": [
    {
     "data": {
      "text/plain": [
       "id                    0.0\n",
       "price_date            0.0\n",
       "price_off_peak_var    0.0\n",
       "price_peak_var        0.0\n",
       "price_mid_peak_var    0.0\n",
       "price_off_peak_fix    0.0\n",
       "price_peak_fix        0.0\n",
       "price_mid_peak_fix    0.0\n",
       "dtype: float64"
      ]
     },
     "execution_count": 6,
     "metadata": {},
     "output_type": "execute_result"
    }
   ],
   "source": [
    "#Checking null values of price\n",
    "pds.isnull().sum()/len(pds)*100"
   ]
  },
  {
   "cell_type": "code",
   "execution_count": 7,
   "id": "b9a44f4f",
   "metadata": {},
   "outputs": [
    {
     "data": {
      "text/plain": [
       "(193002, 8)"
      ]
     },
     "execution_count": 7,
     "metadata": {},
     "output_type": "execute_result"
    }
   ],
   "source": [
    "#count of the price dataset\n",
    "pds.shape"
   ]
  },
  {
   "cell_type": "code",
   "execution_count": 8,
   "id": "47501b29",
   "metadata": {},
   "outputs": [
    {
     "data": {
      "text/plain": [
       "Index(['id', 'price_date', 'price_off_peak_var', 'price_peak_var',\n",
       "       'price_mid_peak_var', 'price_off_peak_fix', 'price_peak_fix',\n",
       "       'price_mid_peak_fix'],\n",
       "      dtype='object')"
      ]
     },
     "execution_count": 8,
     "metadata": {},
     "output_type": "execute_result"
    }
   ],
   "source": [
    "#columns od price\n",
    "pds.columns"
   ]
  },
  {
   "cell_type": "code",
   "execution_count": 9,
   "id": "6b36971c",
   "metadata": {},
   "outputs": [
    {
     "data": {
      "text/plain": [
       "0"
      ]
     },
     "execution_count": 9,
     "metadata": {},
     "output_type": "execute_result"
    }
   ],
   "source": [
    "pds.duplicated().sum()"
   ]
  },
  {
   "cell_type": "code",
   "execution_count": 10,
   "id": "71480206",
   "metadata": {},
   "outputs": [],
   "source": [
    "df1=pds.copy()"
   ]
  },
  {
   "cell_type": "code",
   "execution_count": 11,
   "id": "393e38d2",
   "metadata": {},
   "outputs": [
    {
     "data": {
      "text/html": [
       "<div>\n",
       "<style scoped>\n",
       "    .dataframe tbody tr th:only-of-type {\n",
       "        vertical-align: middle;\n",
       "    }\n",
       "\n",
       "    .dataframe tbody tr th {\n",
       "        vertical-align: top;\n",
       "    }\n",
       "\n",
       "    .dataframe thead th {\n",
       "        text-align: right;\n",
       "    }\n",
       "</style>\n",
       "<table border=\"1\" class=\"dataframe\">\n",
       "  <thead>\n",
       "    <tr style=\"text-align: right;\">\n",
       "      <th></th>\n",
       "      <th>id</th>\n",
       "      <th>price_date</th>\n",
       "      <th>price_off_peak_var</th>\n",
       "      <th>price_peak_var</th>\n",
       "      <th>price_mid_peak_var</th>\n",
       "      <th>price_off_peak_fix</th>\n",
       "      <th>price_peak_fix</th>\n",
       "      <th>price_mid_peak_fix</th>\n",
       "    </tr>\n",
       "  </thead>\n",
       "  <tbody>\n",
       "    <tr>\n",
       "      <th>0</th>\n",
       "      <td>038af19179925da21a25619c5a24b745</td>\n",
       "      <td>2015-01-01</td>\n",
       "      <td>0.151367</td>\n",
       "      <td>0.0</td>\n",
       "      <td>0.0</td>\n",
       "      <td>44.266931</td>\n",
       "      <td>0.0</td>\n",
       "      <td>0.0</td>\n",
       "    </tr>\n",
       "    <tr>\n",
       "      <th>1</th>\n",
       "      <td>038af19179925da21a25619c5a24b745</td>\n",
       "      <td>2015-02-01</td>\n",
       "      <td>0.151367</td>\n",
       "      <td>0.0</td>\n",
       "      <td>0.0</td>\n",
       "      <td>44.266931</td>\n",
       "      <td>0.0</td>\n",
       "      <td>0.0</td>\n",
       "    </tr>\n",
       "    <tr>\n",
       "      <th>2</th>\n",
       "      <td>038af19179925da21a25619c5a24b745</td>\n",
       "      <td>2015-03-01</td>\n",
       "      <td>0.151367</td>\n",
       "      <td>0.0</td>\n",
       "      <td>0.0</td>\n",
       "      <td>44.266931</td>\n",
       "      <td>0.0</td>\n",
       "      <td>0.0</td>\n",
       "    </tr>\n",
       "    <tr>\n",
       "      <th>3</th>\n",
       "      <td>038af19179925da21a25619c5a24b745</td>\n",
       "      <td>2015-04-01</td>\n",
       "      <td>0.149626</td>\n",
       "      <td>0.0</td>\n",
       "      <td>0.0</td>\n",
       "      <td>44.266931</td>\n",
       "      <td>0.0</td>\n",
       "      <td>0.0</td>\n",
       "    </tr>\n",
       "    <tr>\n",
       "      <th>4</th>\n",
       "      <td>038af19179925da21a25619c5a24b745</td>\n",
       "      <td>2015-05-01</td>\n",
       "      <td>0.149626</td>\n",
       "      <td>0.0</td>\n",
       "      <td>0.0</td>\n",
       "      <td>44.266931</td>\n",
       "      <td>0.0</td>\n",
       "      <td>0.0</td>\n",
       "    </tr>\n",
       "  </tbody>\n",
       "</table>\n",
       "</div>"
      ],
      "text/plain": [
       "                                 id  price_date  price_off_peak_var  \\\n",
       "0  038af19179925da21a25619c5a24b745  2015-01-01            0.151367   \n",
       "1  038af19179925da21a25619c5a24b745  2015-02-01            0.151367   \n",
       "2  038af19179925da21a25619c5a24b745  2015-03-01            0.151367   \n",
       "3  038af19179925da21a25619c5a24b745  2015-04-01            0.149626   \n",
       "4  038af19179925da21a25619c5a24b745  2015-05-01            0.149626   \n",
       "\n",
       "   price_peak_var  price_mid_peak_var  price_off_peak_fix  price_peak_fix  \\\n",
       "0             0.0                 0.0           44.266931             0.0   \n",
       "1             0.0                 0.0           44.266931             0.0   \n",
       "2             0.0                 0.0           44.266931             0.0   \n",
       "3             0.0                 0.0           44.266931             0.0   \n",
       "4             0.0                 0.0           44.266931             0.0   \n",
       "\n",
       "   price_mid_peak_fix  \n",
       "0                 0.0  \n",
       "1                 0.0  \n",
       "2                 0.0  \n",
       "3                 0.0  \n",
       "4                 0.0  "
      ]
     },
     "execution_count": 11,
     "metadata": {},
     "output_type": "execute_result"
    }
   ],
   "source": [
    "df1.head()"
   ]
  },
  {
   "cell_type": "code",
   "execution_count": 12,
   "id": "d7189f04",
   "metadata": {},
   "outputs": [
    {
     "data": {
      "text/html": [
       "<div>\n",
       "<style scoped>\n",
       "    .dataframe tbody tr th:only-of-type {\n",
       "        vertical-align: middle;\n",
       "    }\n",
       "\n",
       "    .dataframe tbody tr th {\n",
       "        vertical-align: top;\n",
       "    }\n",
       "\n",
       "    .dataframe thead th {\n",
       "        text-align: right;\n",
       "    }\n",
       "</style>\n",
       "<table border=\"1\" class=\"dataframe\">\n",
       "  <thead>\n",
       "    <tr style=\"text-align: right;\">\n",
       "      <th></th>\n",
       "      <th>price_off_peak_var</th>\n",
       "      <th>price_peak_var</th>\n",
       "      <th>price_mid_peak_var</th>\n",
       "      <th>price_off_peak_fix</th>\n",
       "      <th>price_peak_fix</th>\n",
       "      <th>price_mid_peak_fix</th>\n",
       "    </tr>\n",
       "  </thead>\n",
       "  <tbody>\n",
       "    <tr>\n",
       "      <th>count</th>\n",
       "      <td>193002.000000</td>\n",
       "      <td>193002.000000</td>\n",
       "      <td>193002.000000</td>\n",
       "      <td>193002.000000</td>\n",
       "      <td>193002.000000</td>\n",
       "      <td>193002.000000</td>\n",
       "    </tr>\n",
       "    <tr>\n",
       "      <th>mean</th>\n",
       "      <td>0.141027</td>\n",
       "      <td>0.054630</td>\n",
       "      <td>0.030496</td>\n",
       "      <td>43.334477</td>\n",
       "      <td>10.622875</td>\n",
       "      <td>6.409984</td>\n",
       "    </tr>\n",
       "    <tr>\n",
       "      <th>std</th>\n",
       "      <td>0.025032</td>\n",
       "      <td>0.049924</td>\n",
       "      <td>0.036298</td>\n",
       "      <td>5.410297</td>\n",
       "      <td>12.841895</td>\n",
       "      <td>7.773592</td>\n",
       "    </tr>\n",
       "    <tr>\n",
       "      <th>min</th>\n",
       "      <td>0.000000</td>\n",
       "      <td>0.000000</td>\n",
       "      <td>0.000000</td>\n",
       "      <td>0.000000</td>\n",
       "      <td>0.000000</td>\n",
       "      <td>0.000000</td>\n",
       "    </tr>\n",
       "    <tr>\n",
       "      <th>25%</th>\n",
       "      <td>0.125976</td>\n",
       "      <td>0.000000</td>\n",
       "      <td>0.000000</td>\n",
       "      <td>40.728885</td>\n",
       "      <td>0.000000</td>\n",
       "      <td>0.000000</td>\n",
       "    </tr>\n",
       "    <tr>\n",
       "      <th>50%</th>\n",
       "      <td>0.146033</td>\n",
       "      <td>0.085483</td>\n",
       "      <td>0.000000</td>\n",
       "      <td>44.266930</td>\n",
       "      <td>0.000000</td>\n",
       "      <td>0.000000</td>\n",
       "    </tr>\n",
       "    <tr>\n",
       "      <th>75%</th>\n",
       "      <td>0.151635</td>\n",
       "      <td>0.101673</td>\n",
       "      <td>0.072558</td>\n",
       "      <td>44.444710</td>\n",
       "      <td>24.339581</td>\n",
       "      <td>16.226389</td>\n",
       "    </tr>\n",
       "    <tr>\n",
       "      <th>max</th>\n",
       "      <td>0.280700</td>\n",
       "      <td>0.229788</td>\n",
       "      <td>0.114102</td>\n",
       "      <td>59.444710</td>\n",
       "      <td>36.490692</td>\n",
       "      <td>17.458221</td>\n",
       "    </tr>\n",
       "  </tbody>\n",
       "</table>\n",
       "</div>"
      ],
      "text/plain": [
       "       price_off_peak_var  price_peak_var  price_mid_peak_var  \\\n",
       "count       193002.000000   193002.000000       193002.000000   \n",
       "mean             0.141027        0.054630            0.030496   \n",
       "std              0.025032        0.049924            0.036298   \n",
       "min              0.000000        0.000000            0.000000   \n",
       "25%              0.125976        0.000000            0.000000   \n",
       "50%              0.146033        0.085483            0.000000   \n",
       "75%              0.151635        0.101673            0.072558   \n",
       "max              0.280700        0.229788            0.114102   \n",
       "\n",
       "       price_off_peak_fix  price_peak_fix  price_mid_peak_fix  \n",
       "count       193002.000000   193002.000000       193002.000000  \n",
       "mean            43.334477       10.622875            6.409984  \n",
       "std              5.410297       12.841895            7.773592  \n",
       "min              0.000000        0.000000            0.000000  \n",
       "25%             40.728885        0.000000            0.000000  \n",
       "50%             44.266930        0.000000            0.000000  \n",
       "75%             44.444710       24.339581           16.226389  \n",
       "max             59.444710       36.490692           17.458221  "
      ]
     },
     "execution_count": 12,
     "metadata": {},
     "output_type": "execute_result"
    }
   ],
   "source": [
    "df1.describe()"
   ]
  },
  {
   "cell_type": "code",
   "execution_count": 13,
   "id": "b5520103",
   "metadata": {},
   "outputs": [
    {
     "name": "stdout",
     "output_type": "stream",
     "text": [
      "<class 'pandas.core.frame.DataFrame'>\n",
      "RangeIndex: 193002 entries, 0 to 193001\n",
      "Data columns (total 8 columns):\n",
      " #   Column              Non-Null Count   Dtype  \n",
      "---  ------              --------------   -----  \n",
      " 0   id                  193002 non-null  object \n",
      " 1   price_date          193002 non-null  object \n",
      " 2   price_off_peak_var  193002 non-null  float64\n",
      " 3   price_peak_var      193002 non-null  float64\n",
      " 4   price_mid_peak_var  193002 non-null  float64\n",
      " 5   price_off_peak_fix  193002 non-null  float64\n",
      " 6   price_peak_fix      193002 non-null  float64\n",
      " 7   price_mid_peak_fix  193002 non-null  float64\n",
      "dtypes: float64(6), object(2)\n",
      "memory usage: 11.8+ MB\n"
     ]
    }
   ],
   "source": [
    "df1.info()"
   ]
  },
  {
   "cell_type": "code",
   "execution_count": 14,
   "id": "898d4a55",
   "metadata": {},
   "outputs": [],
   "source": [
    "# convert object into datetime format\n",
    "df1['price_date'] = pd.to_datetime(df1['price_date'])"
   ]
  },
  {
   "cell_type": "code",
   "execution_count": 15,
   "id": "6d994771",
   "metadata": {},
   "outputs": [
    {
     "data": {
      "text/plain": [
       "<Figure size 1152x216 with 0 Axes>"
      ]
     },
     "metadata": {},
     "output_type": "display_data"
    },
    {
     "data": {
      "image/png": "[encoded data removed]",
      "text/plain": [
       "<Figure size 432x432 with 3 Axes>"
      ]
     },
     "metadata": {
      "needs_background": "light"
     },
     "output_type": "display_data"
    }
   ],
   "source": [
    "plt.figure(figsize=(16,3))\n",
    "sns.jointplot(data=df1, x=\"price_off_peak_var\", y=\"price_peak_var\")\n",
    "plt.show()\n",
    " "
   ]
  },
  {
   "cell_type": "code",
   "execution_count": 16,
   "id": "e1ff200e",
   "metadata": {},
   "outputs": [
    {
     "data": {
      "text/plain": [
       "<seaborn.axisgrid.PairGrid at 0x1fed1bf2cd0>"
      ]
     },
     "execution_count": 16,
     "metadata": {},
     "output_type": "execute_result"
    },
    {
     "data": {
      "image/png": "[encoded data removed]",
      "text/plain": [
       "<Figure size 1080x1080 with 42 Axes>"
      ]
     },
     "metadata": {
      "needs_background": "light"
     },
     "output_type": "display_data"
    }
   ],
   "source": [
    "sns.pairplot(df1)\n"
   ]
  },
  {
   "cell_type": "markdown",
   "id": "0c59acaf",
   "metadata": {},
   "source": [
    "# Exploratory Data Analysis Of Client"
   ]
  },
  {
   "cell_type": "code",
   "execution_count": 17,
   "id": "78dc93a9",
   "metadata": {},
   "outputs": [
    {
     "data": {
      "text/plain": [
       "id                                0.0\n",
       "channel_sales                     0.0\n",
       "cons_12m                          0.0\n",
       "cons_gas_12m                      0.0\n",
       "cons_last_month                   0.0\n",
       "date_activ                        0.0\n",
       "date_end                          0.0\n",
       "date_modif_prod                   0.0\n",
       "date_renewal                      0.0\n",
       "forecast_cons_12m                 0.0\n",
       "forecast_cons_year                0.0\n",
       "forecast_discount_energy          0.0\n",
       "forecast_meter_rent_12m           0.0\n",
       "forecast_price_energy_off_peak    0.0\n",
       "forecast_price_energy_peak        0.0\n",
       "forecast_price_pow_off_peak       0.0\n",
       "has_gas                           0.0\n",
       "imp_cons                          0.0\n",
       "margin_gross_pow_ele              0.0\n",
       "margin_net_pow_ele                0.0\n",
       "nb_prod_act                       0.0\n",
       "net_margin                        0.0\n",
       "num_years_antig                   0.0\n",
       "origin_up                         0.0\n",
       "pow_max                           0.0\n",
       "churn                             0.0\n",
       "dtype: float64"
      ]
     },
     "execution_count": 17,
     "metadata": {},
     "output_type": "execute_result"
    }
   ],
   "source": [
    "#Checking null values of client\n",
    "cd.isnull().sum()/len(cd)*100"
   ]
  },
  {
   "cell_type": "code",
   "execution_count": 18,
   "id": "551fd7de",
   "metadata": {},
   "outputs": [
    {
     "data": {
      "text/plain": [
       "(14606, 26)"
      ]
     },
     "execution_count": 18,
     "metadata": {},
     "output_type": "execute_result"
    }
   ],
   "source": [
    "#Count of the client dataset\n",
    "cd.shape"
   ]
  },
  {
   "cell_type": "code",
   "execution_count": 19,
   "id": "2e617777",
   "metadata": {},
   "outputs": [
    {
     "data": {
      "text/plain": [
       "0"
      ]
     },
     "execution_count": 19,
     "metadata": {},
     "output_type": "execute_result"
    }
   ],
   "source": [
    "#Check if the client dataset have duplicated values \n",
    "cd.duplicated().sum()"
   ]
  },
  {
   "cell_type": "code",
   "execution_count": 20,
   "id": "0fb5aabc",
   "metadata": {},
   "outputs": [
    {
     "data": {
      "text/plain": [
       "Index(['id', 'channel_sales', 'cons_12m', 'cons_gas_12m', 'cons_last_month',\n",
       "       'date_activ', 'date_end', 'date_modif_prod', 'date_renewal',\n",
       "       'forecast_cons_12m', 'forecast_cons_year', 'forecast_discount_energy',\n",
       "       'forecast_meter_rent_12m', 'forecast_price_energy_off_peak',\n",
       "       'forecast_price_energy_peak', 'forecast_price_pow_off_peak', 'has_gas',\n",
       "       'imp_cons', 'margin_gross_pow_ele', 'margin_net_pow_ele', 'nb_prod_act',\n",
       "       'net_margin', 'num_years_antig', 'origin_up', 'pow_max', 'churn'],\n",
       "      dtype='object')"
      ]
     },
     "execution_count": 20,
     "metadata": {},
     "output_type": "execute_result"
    }
   ],
   "source": [
    "#column names of client\n",
    "cd.columns"
   ]
  },
  {
   "cell_type": "code",
   "execution_count": 21,
   "id": "98750172",
   "metadata": {},
   "outputs": [],
   "source": [
    "df=cd.copy()"
   ]
  },
  {
   "cell_type": "code",
   "execution_count": 22,
   "id": "00f14dff",
   "metadata": {},
   "outputs": [
    {
     "data": {
      "text/html": [
       "<div>\n",
       "<style scoped>\n",
       "    .dataframe tbody tr th:only-of-type {\n",
       "        vertical-align: middle;\n",
       "    }\n",
       "\n",
       "    .dataframe tbody tr th {\n",
       "        vertical-align: top;\n",
       "    }\n",
       "\n",
       "    .dataframe thead th {\n",
       "        text-align: right;\n",
       "    }\n",
       "</style>\n",
       "<table border=\"1\" class=\"dataframe\">\n",
       "  <thead>\n",
       "    <tr style=\"text-align: right;\">\n",
       "      <th></th>\n",
       "      <th>id</th>\n",
       "      <th>channel_sales</th>\n",
       "      <th>cons_12m</th>\n",
       "      <th>cons_gas_12m</th>\n",
       "      <th>cons_last_month</th>\n",
       "      <th>date_activ</th>\n",
       "      <th>date_end</th>\n",
       "      <th>date_modif_prod</th>\n",
       "      <th>date_renewal</th>\n",
       "      <th>forecast_cons_12m</th>\n",
       "      <th>...</th>\n",
       "      <th>has_gas</th>\n",
       "      <th>imp_cons</th>\n",
       "      <th>margin_gross_pow_ele</th>\n",
       "      <th>margin_net_pow_ele</th>\n",
       "      <th>nb_prod_act</th>\n",
       "      <th>net_margin</th>\n",
       "      <th>num_years_antig</th>\n",
       "      <th>origin_up</th>\n",
       "      <th>pow_max</th>\n",
       "      <th>churn</th>\n",
       "    </tr>\n",
       "  </thead>\n",
       "  <tbody>\n",
       "    <tr>\n",
       "      <th>0</th>\n",
       "      <td>24011ae4ebbe3035111d65fa7c15bc57</td>\n",
       "      <td>foosdfpfkusacimwkcsosbicdxkicaua</td>\n",
       "      <td>0</td>\n",
       "      <td>54946</td>\n",
       "      <td>0</td>\n",
       "      <td>2013-06-15</td>\n",
       "      <td>2016-06-15</td>\n",
       "      <td>2015-11-01</td>\n",
       "      <td>2015-06-23</td>\n",
       "      <td>0.00</td>\n",
       "      <td>...</td>\n",
       "      <td>t</td>\n",
       "      <td>0.00</td>\n",
       "      <td>25.44</td>\n",
       "      <td>25.44</td>\n",
       "      <td>2</td>\n",
       "      <td>678.99</td>\n",
       "      <td>3</td>\n",
       "      <td>lxidpiddsbxsbosboudacockeimpuepw</td>\n",
       "      <td>43.648</td>\n",
       "      <td>1</td>\n",
       "    </tr>\n",
       "    <tr>\n",
       "      <th>1</th>\n",
       "      <td>d29c2c54acc38ff3c0614d0a653813dd</td>\n",
       "      <td>MISSING</td>\n",
       "      <td>4660</td>\n",
       "      <td>0</td>\n",
       "      <td>0</td>\n",
       "      <td>2009-08-21</td>\n",
       "      <td>2016-08-30</td>\n",
       "      <td>2009-08-21</td>\n",
       "      <td>2015-08-31</td>\n",
       "      <td>189.95</td>\n",
       "      <td>...</td>\n",
       "      <td>f</td>\n",
       "      <td>0.00</td>\n",
       "      <td>16.38</td>\n",
       "      <td>16.38</td>\n",
       "      <td>1</td>\n",
       "      <td>18.89</td>\n",
       "      <td>6</td>\n",
       "      <td>kamkkxfxxuwbdslkwifmmcsiusiuosws</td>\n",
       "      <td>13.800</td>\n",
       "      <td>0</td>\n",
       "    </tr>\n",
       "    <tr>\n",
       "      <th>2</th>\n",
       "      <td>764c75f661154dac3a6c254cd082ea7d</td>\n",
       "      <td>foosdfpfkusacimwkcsosbicdxkicaua</td>\n",
       "      <td>544</td>\n",
       "      <td>0</td>\n",
       "      <td>0</td>\n",
       "      <td>2010-04-16</td>\n",
       "      <td>2016-04-16</td>\n",
       "      <td>2010-04-16</td>\n",
       "      <td>2015-04-17</td>\n",
       "      <td>47.96</td>\n",
       "      <td>...</td>\n",
       "      <td>f</td>\n",
       "      <td>0.00</td>\n",
       "      <td>28.60</td>\n",
       "      <td>28.60</td>\n",
       "      <td>1</td>\n",
       "      <td>6.60</td>\n",
       "      <td>6</td>\n",
       "      <td>kamkkxfxxuwbdslkwifmmcsiusiuosws</td>\n",
       "      <td>13.856</td>\n",
       "      <td>0</td>\n",
       "    </tr>\n",
       "    <tr>\n",
       "      <th>3</th>\n",
       "      <td>bba03439a292a1e166f80264c16191cb</td>\n",
       "      <td>lmkebamcaaclubfxadlmueccxoimlema</td>\n",
       "      <td>1584</td>\n",
       "      <td>0</td>\n",
       "      <td>0</td>\n",
       "      <td>2010-03-30</td>\n",
       "      <td>2016-03-30</td>\n",
       "      <td>2010-03-30</td>\n",
       "      <td>2015-03-31</td>\n",
       "      <td>240.04</td>\n",
       "      <td>...</td>\n",
       "      <td>f</td>\n",
       "      <td>0.00</td>\n",
       "      <td>30.22</td>\n",
       "      <td>30.22</td>\n",
       "      <td>1</td>\n",
       "      <td>25.46</td>\n",
       "      <td>6</td>\n",
       "      <td>kamkkxfxxuwbdslkwifmmcsiusiuosws</td>\n",
       "      <td>13.200</td>\n",
       "      <td>0</td>\n",
       "    </tr>\n",
       "    <tr>\n",
       "      <th>4</th>\n",
       "      <td>149d57cf92fc41cf94415803a877cb4b</td>\n",
       "      <td>MISSING</td>\n",
       "      <td>4425</td>\n",
       "      <td>0</td>\n",
       "      <td>526</td>\n",
       "      <td>2010-01-13</td>\n",
       "      <td>2016-03-07</td>\n",
       "      <td>2010-01-13</td>\n",
       "      <td>2015-03-09</td>\n",
       "      <td>445.75</td>\n",
       "      <td>...</td>\n",
       "      <td>f</td>\n",
       "      <td>52.32</td>\n",
       "      <td>44.91</td>\n",
       "      <td>44.91</td>\n",
       "      <td>1</td>\n",
       "      <td>47.98</td>\n",
       "      <td>6</td>\n",
       "      <td>kamkkxfxxuwbdslkwifmmcsiusiuosws</td>\n",
       "      <td>19.800</td>\n",
       "      <td>0</td>\n",
       "    </tr>\n",
       "  </tbody>\n",
       "</table>\n",
       "<p>5 rows × 26 columns</p>\n",
       "</div>"
      ],
      "text/plain": [
       "                                 id                     channel_sales  \\\n",
       "0  24011ae4ebbe3035111d65fa7c15bc57  foosdfpfkusacimwkcsosbicdxkicaua   \n",
       "1  d29c2c54acc38ff3c0614d0a653813dd                           MISSING   \n",
       "2  764c75f661154dac3a6c254cd082ea7d  foosdfpfkusacimwkcsosbicdxkicaua   \n",
       "3  bba03439a292a1e166f80264c16191cb  lmkebamcaaclubfxadlmueccxoimlema   \n",
       "4  149d57cf92fc41cf94415803a877cb4b                           MISSING   \n",
       "\n",
       "   cons_12m  cons_gas_12m  cons_last_month  date_activ    date_end  \\\n",
       "0         0         54946                0  2013-06-15  2016-06-15   \n",
       "1      4660             0                0  2009-08-21  2016-08-30   \n",
       "2       544             0                0  2010-04-16  2016-04-16   \n",
       "3      1584             0                0  2010-03-30  2016-03-30   \n",
       "4      4425             0              526  2010-01-13  2016-03-07   \n",
       "\n",
       "  date_modif_prod date_renewal  forecast_cons_12m  ...  has_gas  imp_cons  \\\n",
       "0      2015-11-01   2015-06-23               0.00  ...        t      0.00   \n",
       "1      2009-08-21   2015-08-31             189.95  ...        f      0.00   \n",
       "2      2010-04-16   2015-04-17              47.96  ...        f      0.00   \n",
       "3      2010-03-30   2015-03-31             240.04  ...        f      0.00   \n",
       "4      2010-01-13   2015-03-09             445.75  ...        f     52.32   \n",
       "\n",
       "   margin_gross_pow_ele  margin_net_pow_ele  nb_prod_act  net_margin  \\\n",
       "0                 25.44               25.44            2      678.99   \n",
       "1                 16.38               16.38            1       18.89   \n",
       "2                 28.60               28.60            1        6.60   \n",
       "3                 30.22               30.22            1       25.46   \n",
       "4                 44.91               44.91            1       47.98   \n",
       "\n",
       "  num_years_antig                         origin_up  pow_max  churn  \n",
       "0               3  lxidpiddsbxsbosboudacockeimpuepw   43.648      1  \n",
       "1               6  kamkkxfxxuwbdslkwifmmcsiusiuosws   13.800      0  \n",
       "2               6  kamkkxfxxuwbdslkwifmmcsiusiuosws   13.856      0  \n",
       "3               6  kamkkxfxxuwbdslkwifmmcsiusiuosws   13.200      0  \n",
       "4               6  kamkkxfxxuwbdslkwifmmcsiusiuosws   19.800      0  \n",
       "\n",
       "[5 rows x 26 columns]"
      ]
     },
     "execution_count": 22,
     "metadata": {},
     "output_type": "execute_result"
    }
   ],
   "source": [
    "df.head()"
   ]
  },
  {
   "cell_type": "code",
   "execution_count": 23,
   "id": "e2fcff06",
   "metadata": {},
   "outputs": [
    {
     "data": {
      "text/html": [
       "<div>\n",
       "<style scoped>\n",
       "    .dataframe tbody tr th:only-of-type {\n",
       "        vertical-align: middle;\n",
       "    }\n",
       "\n",
       "    .dataframe tbody tr th {\n",
       "        vertical-align: top;\n",
       "    }\n",
       "\n",
       "    .dataframe thead th {\n",
       "        text-align: right;\n",
       "    }\n",
       "</style>\n",
       "<table border=\"1\" class=\"dataframe\">\n",
       "  <thead>\n",
       "    <tr style=\"text-align: right;\">\n",
       "      <th></th>\n",
       "      <th>cons_12m</th>\n",
       "      <th>cons_gas_12m</th>\n",
       "      <th>cons_last_month</th>\n",
       "      <th>forecast_cons_12m</th>\n",
       "      <th>forecast_cons_year</th>\n",
       "      <th>forecast_discount_energy</th>\n",
       "      <th>forecast_meter_rent_12m</th>\n",
       "      <th>forecast_price_energy_off_peak</th>\n",
       "      <th>forecast_price_energy_peak</th>\n",
       "      <th>forecast_price_pow_off_peak</th>\n",
       "      <th>imp_cons</th>\n",
       "      <th>margin_gross_pow_ele</th>\n",
       "      <th>margin_net_pow_ele</th>\n",
       "      <th>nb_prod_act</th>\n",
       "      <th>net_margin</th>\n",
       "      <th>num_years_antig</th>\n",
       "      <th>pow_max</th>\n",
       "      <th>churn</th>\n",
       "    </tr>\n",
       "  </thead>\n",
       "  <tbody>\n",
       "    <tr>\n",
       "      <th>count</th>\n",
       "      <td>1.460600e+04</td>\n",
       "      <td>1.460600e+04</td>\n",
       "      <td>14606.000000</td>\n",
       "      <td>14606.000000</td>\n",
       "      <td>14606.000000</td>\n",
       "      <td>14606.000000</td>\n",
       "      <td>14606.000000</td>\n",
       "      <td>14606.000000</td>\n",
       "      <td>14606.000000</td>\n",
       "      <td>14606.000000</td>\n",
       "      <td>14606.000000</td>\n",
       "      <td>14606.000000</td>\n",
       "      <td>14606.000000</td>\n",
       "      <td>14606.000000</td>\n",
       "      <td>14606.000000</td>\n",
       "      <td>14606.000000</td>\n",
       "      <td>14606.000000</td>\n",
       "      <td>14606.000000</td>\n",
       "    </tr>\n",
       "    <tr>\n",
       "      <th>mean</th>\n",
       "      <td>1.592203e+05</td>\n",
       "      <td>2.809238e+04</td>\n",
       "      <td>16090.269752</td>\n",
       "      <td>1868.614880</td>\n",
       "      <td>1399.762906</td>\n",
       "      <td>0.966726</td>\n",
       "      <td>63.086871</td>\n",
       "      <td>0.137283</td>\n",
       "      <td>0.050491</td>\n",
       "      <td>43.130056</td>\n",
       "      <td>152.786896</td>\n",
       "      <td>24.565121</td>\n",
       "      <td>24.562517</td>\n",
       "      <td>1.292346</td>\n",
       "      <td>189.264522</td>\n",
       "      <td>4.997809</td>\n",
       "      <td>18.135136</td>\n",
       "      <td>0.097152</td>\n",
       "    </tr>\n",
       "    <tr>\n",
       "      <th>std</th>\n",
       "      <td>5.734653e+05</td>\n",
       "      <td>1.629731e+05</td>\n",
       "      <td>64364.196422</td>\n",
       "      <td>2387.571531</td>\n",
       "      <td>3247.786255</td>\n",
       "      <td>5.108289</td>\n",
       "      <td>66.165783</td>\n",
       "      <td>0.024623</td>\n",
       "      <td>0.049037</td>\n",
       "      <td>4.485988</td>\n",
       "      <td>341.369366</td>\n",
       "      <td>20.231172</td>\n",
       "      <td>20.230280</td>\n",
       "      <td>0.709774</td>\n",
       "      <td>311.798130</td>\n",
       "      <td>1.611749</td>\n",
       "      <td>13.534743</td>\n",
       "      <td>0.296175</td>\n",
       "    </tr>\n",
       "    <tr>\n",
       "      <th>min</th>\n",
       "      <td>0.000000e+00</td>\n",
       "      <td>0.000000e+00</td>\n",
       "      <td>0.000000</td>\n",
       "      <td>0.000000</td>\n",
       "      <td>0.000000</td>\n",
       "      <td>0.000000</td>\n",
       "      <td>0.000000</td>\n",
       "      <td>0.000000</td>\n",
       "      <td>0.000000</td>\n",
       "      <td>0.000000</td>\n",
       "      <td>0.000000</td>\n",
       "      <td>0.000000</td>\n",
       "      <td>0.000000</td>\n",
       "      <td>1.000000</td>\n",
       "      <td>0.000000</td>\n",
       "      <td>1.000000</td>\n",
       "      <td>3.300000</td>\n",
       "      <td>0.000000</td>\n",
       "    </tr>\n",
       "    <tr>\n",
       "      <th>25%</th>\n",
       "      <td>5.674750e+03</td>\n",
       "      <td>0.000000e+00</td>\n",
       "      <td>0.000000</td>\n",
       "      <td>494.995000</td>\n",
       "      <td>0.000000</td>\n",
       "      <td>0.000000</td>\n",
       "      <td>16.180000</td>\n",
       "      <td>0.116340</td>\n",
       "      <td>0.000000</td>\n",
       "      <td>40.606701</td>\n",
       "      <td>0.000000</td>\n",
       "      <td>14.280000</td>\n",
       "      <td>14.280000</td>\n",
       "      <td>1.000000</td>\n",
       "      <td>50.712500</td>\n",
       "      <td>4.000000</td>\n",
       "      <td>12.500000</td>\n",
       "      <td>0.000000</td>\n",
       "    </tr>\n",
       "    <tr>\n",
       "      <th>50%</th>\n",
       "      <td>1.411550e+04</td>\n",
       "      <td>0.000000e+00</td>\n",
       "      <td>792.500000</td>\n",
       "      <td>1112.875000</td>\n",
       "      <td>314.000000</td>\n",
       "      <td>0.000000</td>\n",
       "      <td>18.795000</td>\n",
       "      <td>0.143166</td>\n",
       "      <td>0.084138</td>\n",
       "      <td>44.311378</td>\n",
       "      <td>37.395000</td>\n",
       "      <td>21.640000</td>\n",
       "      <td>21.640000</td>\n",
       "      <td>1.000000</td>\n",
       "      <td>112.530000</td>\n",
       "      <td>5.000000</td>\n",
       "      <td>13.856000</td>\n",
       "      <td>0.000000</td>\n",
       "    </tr>\n",
       "    <tr>\n",
       "      <th>75%</th>\n",
       "      <td>4.076375e+04</td>\n",
       "      <td>0.000000e+00</td>\n",
       "      <td>3383.000000</td>\n",
       "      <td>2401.790000</td>\n",
       "      <td>1745.750000</td>\n",
       "      <td>0.000000</td>\n",
       "      <td>131.030000</td>\n",
       "      <td>0.146348</td>\n",
       "      <td>0.098837</td>\n",
       "      <td>44.311378</td>\n",
       "      <td>193.980000</td>\n",
       "      <td>29.880000</td>\n",
       "      <td>29.880000</td>\n",
       "      <td>1.000000</td>\n",
       "      <td>243.097500</td>\n",
       "      <td>6.000000</td>\n",
       "      <td>19.172500</td>\n",
       "      <td>0.000000</td>\n",
       "    </tr>\n",
       "    <tr>\n",
       "      <th>max</th>\n",
       "      <td>6.207104e+06</td>\n",
       "      <td>4.154590e+06</td>\n",
       "      <td>771203.000000</td>\n",
       "      <td>82902.830000</td>\n",
       "      <td>175375.000000</td>\n",
       "      <td>30.000000</td>\n",
       "      <td>599.310000</td>\n",
       "      <td>0.273963</td>\n",
       "      <td>0.195975</td>\n",
       "      <td>59.266378</td>\n",
       "      <td>15042.790000</td>\n",
       "      <td>374.640000</td>\n",
       "      <td>374.640000</td>\n",
       "      <td>32.000000</td>\n",
       "      <td>24570.650000</td>\n",
       "      <td>13.000000</td>\n",
       "      <td>320.000000</td>\n",
       "      <td>1.000000</td>\n",
       "    </tr>\n",
       "  </tbody>\n",
       "</table>\n",
       "</div>"
      ],
      "text/plain": [
       "           cons_12m  cons_gas_12m  cons_last_month  forecast_cons_12m  \\\n",
       "count  1.460600e+04  1.460600e+04     14606.000000       14606.000000   \n",
       "mean   1.592203e+05  2.809238e+04     16090.269752        1868.614880   \n",
       "std    5.734653e+05  1.629731e+05     64364.196422        2387.571531   \n",
       "min    0.000000e+00  0.000000e+00         0.000000           0.000000   \n",
       "25%    5.674750e+03  0.000000e+00         0.000000         494.995000   \n",
       "50%    1.411550e+04  0.000000e+00       792.500000        1112.875000   \n",
       "75%    4.076375e+04  0.000000e+00      3383.000000        2401.790000   \n",
       "max    6.207104e+06  4.154590e+06    771203.000000       82902.830000   \n",
       "\n",
       "       forecast_cons_year  forecast_discount_energy  forecast_meter_rent_12m  \\\n",
       "count        14606.000000              14606.000000             14606.000000   \n",
       "mean          1399.762906                  0.966726                63.086871   \n",
       "std           3247.786255                  5.108289                66.165783   \n",
       "min              0.000000                  0.000000                 0.000000   \n",
       "25%              0.000000                  0.000000                16.180000   \n",
       "50%            314.000000                  0.000000                18.795000   \n",
       "75%           1745.750000                  0.000000               131.030000   \n",
       "max         175375.000000                 30.000000               599.310000   \n",
       "\n",
       "       forecast_price_energy_off_peak  forecast_price_energy_peak  \\\n",
       "count                    14606.000000                14606.000000   \n",
       "mean                         0.137283                    0.050491   \n",
       "std                          0.024623                    0.049037   \n",
       "min                          0.000000                    0.000000   \n",
       "25%                          0.116340                    0.000000   \n",
       "50%                          0.143166                    0.084138   \n",
       "75%                          0.146348                    0.098837   \n",
       "max                          0.273963                    0.195975   \n",
       "\n",
       "       forecast_price_pow_off_peak      imp_cons  margin_gross_pow_ele  \\\n",
       "count                 14606.000000  14606.000000          14606.000000   \n",
       "mean                     43.130056    152.786896             24.565121   \n",
       "std                       4.485988    341.369366             20.231172   \n",
       "min                       0.000000      0.000000              0.000000   \n",
       "25%                      40.606701      0.000000             14.280000   \n",
       "50%                      44.311378     37.395000             21.640000   \n",
       "75%                      44.311378    193.980000             29.880000   \n",
       "max                      59.266378  15042.790000            374.640000   \n",
       "\n",
       "       margin_net_pow_ele   nb_prod_act    net_margin  num_years_antig  \\\n",
       "count        14606.000000  14606.000000  14606.000000     14606.000000   \n",
       "mean            24.562517      1.292346    189.264522         4.997809   \n",
       "std             20.230280      0.709774    311.798130         1.611749   \n",
       "min              0.000000      1.000000      0.000000         1.000000   \n",
       "25%             14.280000      1.000000     50.712500         4.000000   \n",
       "50%             21.640000      1.000000    112.530000         5.000000   \n",
       "75%             29.880000      1.000000    243.097500         6.000000   \n",
       "max            374.640000     32.000000  24570.650000        13.000000   \n",
       "\n",
       "            pow_max         churn  \n",
       "count  14606.000000  14606.000000  \n",
       "mean      18.135136      0.097152  \n",
       "std       13.534743      0.296175  \n",
       "min        3.300000      0.000000  \n",
       "25%       12.500000      0.000000  \n",
       "50%       13.856000      0.000000  \n",
       "75%       19.172500      0.000000  \n",
       "max      320.000000      1.000000  "
      ]
     },
     "execution_count": 23,
     "metadata": {},
     "output_type": "execute_result"
    }
   ],
   "source": [
    "#statistical description of client\n",
    "df.describe()"
   ]
  },
  {
   "cell_type": "code",
   "execution_count": 24,
   "id": "ffe9b0ad",
   "metadata": {},
   "outputs": [
    {
     "name": "stdout",
     "output_type": "stream",
     "text": [
      "<class 'pandas.core.frame.DataFrame'>\n",
      "RangeIndex: 14606 entries, 0 to 14605\n",
      "Data columns (total 26 columns):\n",
      " #   Column                          Non-Null Count  Dtype  \n",
      "---  ------                          --------------  -----  \n",
      " 0   id                              14606 non-null  object \n",
      " 1   channel_sales                   14606 non-null  object \n",
      " 2   cons_12m                        14606 non-null  int64  \n",
      " 3   cons_gas_12m                    14606 non-null  int64  \n",
      " 4   cons_last_month                 14606 non-null  int64  \n",
      " 5   date_activ                      14606 non-null  object \n",
      " 6   date_end                        14606 non-null  object \n",
      " 7   date_modif_prod                 14606 non-null  object \n",
      " 8   date_renewal                    14606 non-null  object \n",
      " 9   forecast_cons_12m               14606 non-null  float64\n",
      " 10  forecast_cons_year              14606 non-null  int64  \n",
      " 11  forecast_discount_energy        14606 non-null  float64\n",
      " 12  forecast_meter_rent_12m         14606 non-null  float64\n",
      " 13  forecast_price_energy_off_peak  14606 non-null  float64\n",
      " 14  forecast_price_energy_peak      14606 non-null  float64\n",
      " 15  forecast_price_pow_off_peak     14606 non-null  float64\n",
      " 16  has_gas                         14606 non-null  object \n",
      " 17  imp_cons                        14606 non-null  float64\n",
      " 18  margin_gross_pow_ele            14606 non-null  float64\n",
      " 19  margin_net_pow_ele              14606 non-null  float64\n",
      " 20  nb_prod_act                     14606 non-null  int64  \n",
      " 21  net_margin                      14606 non-null  float64\n",
      " 22  num_years_antig                 14606 non-null  int64  \n",
      " 23  origin_up                       14606 non-null  object \n",
      " 24  pow_max                         14606 non-null  float64\n",
      " 25  churn                           14606 non-null  int64  \n",
      "dtypes: float64(11), int64(7), object(8)\n",
      "memory usage: 2.9+ MB\n"
     ]
    }
   ],
   "source": [
    "#info of the dataset of client\n",
    "df.info()"
   ]
  },
  {
   "cell_type": "code",
   "execution_count": 25,
   "id": "ed7c3b9d",
   "metadata": {},
   "outputs": [],
   "source": [
    "#changing the data types to data and time\n",
    "for i in ['date_activ','date_end','date_modif_prod','date_renewal']:\n",
    "    df[i] = pd.to_datetime(df[i])"
   ]
  },
  {
   "cell_type": "code",
   "execution_count": 27,
   "id": "1580e50a",
   "metadata": {},
   "outputs": [
    {
     "data": {
      "image/png": "[encoded data removed]",
      "text/plain": [
       "<Figure size 1080x288 with 1 Axes>"
      ]
     },
     "metadata": {
      "needs_background": "light"
     },
     "output_type": "display_data"
    }
   ],
   "source": [
    "#Churn count\n",
    "plt.figure(figsize=(15,4))\n",
    "ax = sns.countplot(x=\"churn\", hue=\"churn\", data=df)\n",
    "total = float(len(df))\n",
    "for p in ax.patches:\n",
    "    percentage = '{:.1f}%'.format(100 * p.get_height()/total)\n",
    "    x = p.get_x() + p.get_width()\n",
    "    y = p.get_height()\n",
    "    ax.annotate(percentage, (x, y),ha='center')\n",
    "plt.show()"
   ]
  },
  {
   "cell_type": "code",
   "execution_count": 28,
   "id": "290744ce",
   "metadata": {},
   "outputs": [],
   "source": [
    "#channel_sales and origin up are not unsderstanding so doing label encoder\n",
    "channel_encoder = preprocessing.LabelEncoder()\n",
    "df['channel_sales'] = channel_encoder.fit_transform(df['channel_sales'])\n",
    "origin_encoder = preprocessing.LabelEncoder()\n",
    "df['origin_up'] = origin_encoder.fit_transform(df['origin_up'])"
   ]
  },
  {
   "cell_type": "code",
   "execution_count": 29,
   "id": "8d1235e1",
   "metadata": {},
   "outputs": [
    {
     "data": {
      "text/plain": [
       "4    6754\n",
       "0    3725\n",
       "5    1843\n",
       "7    1375\n",
       "2     893\n",
       "6      11\n",
       "1       3\n",
       "3       2\n",
       "Name: channel_sales, dtype: int64"
      ]
     },
     "execution_count": 29,
     "metadata": {},
     "output_type": "execute_result"
    }
   ],
   "source": [
    "#channel sales of each label\n",
    "df['channel_sales'].value_counts()"
   ]
  },
  {
   "cell_type": "code",
   "execution_count": 30,
   "id": "7f47a70d",
   "metadata": {},
   "outputs": [
    {
     "data": {
      "image/png": "[encoded data removed]",
      "text/plain": [
       "<Figure size 720x288 with 1 Axes>"
      ]
     },
     "metadata": {
      "needs_background": "light"
     },
     "output_type": "display_data"
    },
    {
     "data": {
      "text/plain": [
       "'Insight-1: The label 4 is the most common sales channel and the least label is 1,3 and 6.'"
      ]
     },
     "execution_count": 30,
     "metadata": {},
     "output_type": "execute_result"
    }
   ],
   "source": [
    "#channel sales with relation to churn\n",
    "plt.figure(figsize=(10,4))\n",
    "sns.countplot(data=df, x=\"channel_sales\", hue=\"churn\", palette=\"Set2\")\n",
    "plt.show()\n",
    "\n",
    "'''Insight-1: The label 4 is the most common sales channel and the least label is 1,3 and 6.'''"
   ]
  },
  {
   "cell_type": "code",
   "execution_count": 31,
   "id": "c96f69ff",
   "metadata": {},
   "outputs": [
    {
     "data": {
      "text/plain": [
       "4    7097\n",
       "2    4294\n",
       "3    3148\n",
       "0      64\n",
       "5       2\n",
       "1       1\n",
       "Name: origin_up, dtype: int64"
      ]
     },
     "execution_count": 31,
     "metadata": {},
     "output_type": "execute_result"
    }
   ],
   "source": [
    "df['origin_up'].value_counts()"
   ]
  },
  {
   "cell_type": "code",
   "execution_count": 32,
   "id": "3efbea96",
   "metadata": {
    "scrolled": false
   },
   "outputs": [
    {
     "data": {
      "image/png": "[encoded data removed]",
      "text/plain": [
       "<Figure size 1080x288 with 1 Axes>"
      ]
     },
     "metadata": {
      "needs_background": "light"
     },
     "output_type": "display_data"
    },
    {
     "data": {
      "text/plain": [
       "'Insight-2: Most customers sayed with the company for 3 to 6 years. However the newer customers ( 1 to 2) are less '"
      ]
     },
     "execution_count": 32,
     "metadata": {},
     "output_type": "execute_result"
    }
   ],
   "source": [
    "#number of years customer sayed with the company \n",
    "plt.figure(figsize=(15,4))\n",
    "sns.countplot(data=df, x=\"num_years_antig\")\n",
    "plt.show()\n",
    "\n",
    "'''Insight-2: Most customers sayed with the company for 3 to 6 years. However the newer customers ( 1 to 2) are less '''"
   ]
  },
  {
   "cell_type": "code",
   "execution_count": 33,
   "id": "ca2411e4",
   "metadata": {},
   "outputs": [],
   "source": [
    "# date activ and date end to the year format for better visulaization\n",
    "df['start_year'] =df['date_activ'].dt.year\n",
    "df['end_year'] = df['date_end'].dt.year"
   ]
  },
  {
   "cell_type": "code",
   "execution_count": 34,
   "id": "914c7b52",
   "metadata": {
    "scrolled": true
   },
   "outputs": [
    {
     "data": {
      "image/png": "[encoded data removed]",
      "text/plain": [
       "<Figure size 1080x288 with 1 Axes>"
      ]
     },
     "metadata": {
      "needs_background": "light"
     },
     "output_type": "display_data"
    },
    {
     "data": {
      "text/plain": [
       "'Insight -3:Most customers have started contract from the year 2009 to 2013 and the least members are joined the company is 2014 \\nwhich is the recent '"
      ]
     },
     "execution_count": 34,
     "metadata": {},
     "output_type": "execute_result"
    }
   ],
   "source": [
    "#Customer started the contract with company\n",
    "plt.figure(figsize=(15,4))\n",
    "sns.countplot(data=df, x=\"start_year\", palette=\"Spectral\")\n",
    "plt.show()\n",
    "\n",
    "'''Insight -3:Most customers have started contract from the year 2009 to 2013 and the least members are joined the company is 2014 \n",
    "which is the recent '''"
   ]
  },
  {
   "cell_type": "code",
   "execution_count": 35,
   "id": "f584456e",
   "metadata": {},
   "outputs": [
    {
     "data": {
      "text/plain": [
       "1     11431\n",
       "2      2445\n",
       "3       523\n",
       "4       150\n",
       "5        31\n",
       "9        11\n",
       "6         8\n",
       "8         4\n",
       "10        2\n",
       "32        1\n",
       "Name: nb_prod_act, dtype: int64"
      ]
     },
     "execution_count": 35,
     "metadata": {},
     "output_type": "execute_result"
    }
   ],
   "source": [
    "df['nb_prod_act'].value_counts()"
   ]
  },
  {
   "cell_type": "code",
   "execution_count": 36,
   "id": "34e61d4a",
   "metadata": {},
   "outputs": [
    {
     "data": {
      "image/png": "[encoded data removed]",
      "text/plain": [
       "<Figure size 1080x288 with 1 Axes>"
      ]
     },
     "metadata": {
      "needs_background": "light"
     },
     "output_type": "display_data"
    },
    {
     "data": {
      "text/plain": [
       "'Insight-5: Most customers only had 3 or 4 active products and services '"
      ]
     },
     "execution_count": 36,
     "metadata": {},
     "output_type": "execute_result"
    }
   ],
   "source": [
    "#Customer ended the contract with company\n",
    "plt.figure(figsize=(15,4))\n",
    "sns.countplot(data=df, x=\"nb_prod_act\", palette=\"Spectral\")\n",
    "plt.show()\n",
    "\n",
    "'''Insight-5: Most customers only had 3 or 4 active products and services '''"
   ]
  },
  {
   "cell_type": "code",
   "execution_count": 37,
   "id": "67e70b22",
   "metadata": {},
   "outputs": [
    {
     "data": {
      "image/png": "[encoded data removed]",
      "text/plain": [
       "<Figure size 1440x1080 with 30 Axes>"
      ]
     },
     "metadata": {
      "needs_background": "light"
     },
     "output_type": "display_data"
    }
   ],
   "source": [
    "df.hist(alpha=0.5, figsize=(20, 15))\n",
    "plt.show()\n",
    "\n",
    "'''Insight-- the data is skewed'''"
   ]
  },
  {
   "cell_type": "code",
   "execution_count": 49,
   "id": "f819feec",
   "metadata": {},
   "outputs": [
    {
     "data": {
      "image/png": "[encoded data removed]",
      "text/plain": [
       "<Figure size 432x288 with 1 Axes>"
      ]
     },
     "metadata": {
      "needs_background": "light"
     },
     "output_type": "display_data"
    },
    {
     "data": {
      "image/png": "[encoded data removed]",
      "text/plain": [
       "<Figure size 432x288 with 1 Axes>"
      ]
     },
     "metadata": {
      "needs_background": "light"
     },
     "output_type": "display_data"
    },
    {
     "data": {
      "image/png": "[encoded data removed]",
      "text/plain": [
       "<Figure size 432x288 with 1 Axes>"
      ]
     },
     "metadata": {
      "needs_background": "light"
     },
     "output_type": "display_data"
    },
    {
     "data": {
      "image/png": "[encoded data removed]",
      "text/plain": [
       "<Figure size 432x288 with 1 Axes>"
      ]
     },
     "metadata": {
      "needs_background": "light"
     },
     "output_type": "display_data"
    },
    {
     "data": {
      "image/png": "[encoded data removed]",
      "text/plain": [
       "<Figure size 432x288 with 1 Axes>"
      ]
     },
     "metadata": {
      "needs_background": "light"
     },
     "output_type": "display_data"
    },
    {
     "data": {
      "image/png": "[encoded data removed]",
      "text/plain": [
       "<Figure size 432x288 with 1 Axes>"
      ]
     },
     "metadata": {
      "needs_background": "light"
     },
     "output_type": "display_data"
    },
    {
     "data": {
      "image/png": "[encoded data removed]",
      "text/plain": [
       "<Figure size 432x288 with 1 Axes>"
      ]
     },
     "metadata": {
      "needs_background": "light"
     },
     "output_type": "display_data"
    },
    {
     "data": {
      "image/png": "[encoded data removed]",
      "text/plain": [
       "<Figure size 432x288 with 1 Axes>"
      ]
     },
     "metadata": {
      "needs_background": "light"
     },
     "output_type": "display_data"
    },
    {
     "data": {
      "image/png": "[encoded data removed]",
      "text/plain": [
       "<Figure size 432x288 with 1 Axes>"
      ]
     },
     "metadata": {
      "needs_background": "light"
     },
     "output_type": "display_data"
    },
    {
     "data": {
      "image/png": "[encoded data removed]",
      "text/plain": [
       "<Figure size 432x288 with 1 Axes>"
      ]
     },
     "metadata": {
      "needs_background": "light"
     },
     "output_type": "display_data"
    },
    {
     "data": {
      "image/png": "[encoded data removed]",
      "text/plain": [
       "<Figure size 432x288 with 1 Axes>"
      ]
     },
     "metadata": {
      "needs_background": "light"
     },
     "output_type": "display_data"
    },
    {
     "data": {
      "image/png": "[encoded data removed]",
      "text/plain": [
       "<Figure size 432x288 with 1 Axes>"
      ]
     },
     "metadata": {
      "needs_background": "light"
     },
     "output_type": "display_data"
    },
    {
     "data": {
      "image/png": "[encoded data removed]",
      "text/plain": [
       "<Figure size 432x288 with 1 Axes>"
      ]
     },
     "metadata": {
      "needs_background": "light"
     },
     "output_type": "display_data"
    },
    {
     "data": {
      "image/png": "[encoded data removed]",
      "text/plain": [
       "<Figure size 432x288 with 1 Axes>"
      ]
     },
     "metadata": {
      "needs_background": "light"
     },
     "output_type": "display_data"
    },
    {
     "data": {
      "image/png": "[encoded data removed]",
      "text/plain": [
       "<Figure size 432x288 with 1 Axes>"
      ]
     },
     "metadata": {
      "needs_background": "light"
     },
     "output_type": "display_data"
    },
    {
     "data": {
      "image/png": "[encoded data removed]",
      "text/plain": [
       "<Figure size 432x288 with 1 Axes>"
      ]
     },
     "metadata": {
      "needs_background": "light"
     },
     "output_type": "display_data"
    },
    {
     "data": {
      "image/png": "[encoded data removed]",
      "text/plain": [
       "<Figure size 432x288 with 1 Axes>"
      ]
     },
     "metadata": {
      "needs_background": "light"
     },
     "output_type": "display_data"
    },
    {
     "data": {
      "image/png": "[encoded data removed]",
      "text/plain": [
       "<Figure size 432x288 with 1 Axes>"
      ]
     },
     "metadata": {
      "needs_background": "light"
     },
     "output_type": "display_data"
    },
    {
     "data": {
      "image/png": "[encoded data removed]",
      "text/plain": [
       "<Figure size 432x288 with 1 Axes>"
      ]
     },
     "metadata": {
      "needs_background": "light"
     },
     "output_type": "display_data"
    },
    {
     "data": {
      "image/png": "[encoded data removed]",
      "text/plain": [
       "<Figure size 432x288 with 1 Axes>"
      ]
     },
     "metadata": {
      "needs_background": "light"
     },
     "output_type": "display_data"
    },
    {
     "data": {
      "image/png": "[encoded data removed]",
      "text/plain": [
       "<Figure size 432x288 with 1 Axes>"
      ]
     },
     "metadata": {
      "needs_background": "light"
     },
     "output_type": "display_data"
    }
   ],
   "source": [
    "def boxplots(col):\n",
    "    sns.boxplot(df[col])\n",
    "    plt.show()\n",
    "    \n",
    "for i in list(df.select_dtypes(exclude=['object','datetime64']).columns)[1:]:\n",
    "    boxplots(i)\n",
    "\n",
    "'''Insight -- there are outliers peresent in the client dataset'''"
   ]
  },
  {
   "cell_type": "code",
   "execution_count": 38,
   "id": "85a0fb4c",
   "metadata": {},
   "outputs": [
    {
     "data": {
      "text/html": [
       "<div>\n",
       "<style scoped>\n",
       "    .dataframe tbody tr th:only-of-type {\n",
       "        vertical-align: middle;\n",
       "    }\n",
       "\n",
       "    .dataframe tbody tr th {\n",
       "        vertical-align: top;\n",
       "    }\n",
       "\n",
       "    .dataframe thead th {\n",
       "        text-align: right;\n",
       "    }\n",
       "</style>\n",
       "<table border=\"1\" class=\"dataframe\">\n",
       "  <thead>\n",
       "    <tr style=\"text-align: right;\">\n",
       "      <th></th>\n",
       "      <th>id</th>\n",
       "      <th>price_off_peak_var_max</th>\n",
       "      <th>price_off_peak_var_min</th>\n",
       "      <th>price_off_peak_var_mean</th>\n",
       "      <th>price_peak_var_max</th>\n",
       "      <th>price_peak_var_min</th>\n",
       "      <th>price_peak_var_mean</th>\n",
       "      <th>price_mid_peak_var_max</th>\n",
       "      <th>price_mid_peak_var_min</th>\n",
       "      <th>price_mid_peak_var_mean</th>\n",
       "      <th>price_off_peak_fix_max</th>\n",
       "      <th>price_off_peak_fix_min</th>\n",
       "      <th>price_off_peak_fix_mean</th>\n",
       "      <th>price_peak_fix_max</th>\n",
       "      <th>price_peak_fix_min</th>\n",
       "      <th>price_peak_fix_mean</th>\n",
       "      <th>price_mid_peak_fix_max</th>\n",
       "      <th>price_mid_peak_fix_min</th>\n",
       "      <th>price_mid_peak_fix_mean</th>\n",
       "    </tr>\n",
       "  </thead>\n",
       "  <tbody>\n",
       "    <tr>\n",
       "      <th>0</th>\n",
       "      <td>0002203ffbb812588b632b9e628cc38d</td>\n",
       "      <td>0.128067</td>\n",
       "      <td>0.119906</td>\n",
       "      <td>0.124338</td>\n",
       "      <td>0.105842</td>\n",
       "      <td>0.101673</td>\n",
       "      <td>0.103794</td>\n",
       "      <td>0.073773</td>\n",
       "      <td>0.070232</td>\n",
       "      <td>0.07316</td>\n",
       "      <td>40.728885</td>\n",
       "      <td>40.565969</td>\n",
       "      <td>40.701732</td>\n",
       "      <td>24.43733</td>\n",
       "      <td>24.339581</td>\n",
       "      <td>24.421038</td>\n",
       "      <td>16.291555</td>\n",
       "      <td>16.226389</td>\n",
       "      <td>16.280694</td>\n",
       "    </tr>\n",
       "    <tr>\n",
       "      <th>1</th>\n",
       "      <td>0004351ebdd665e6ee664792efc4fd13</td>\n",
       "      <td>0.148405</td>\n",
       "      <td>0.143943</td>\n",
       "      <td>0.146426</td>\n",
       "      <td>0.000000</td>\n",
       "      <td>0.000000</td>\n",
       "      <td>0.000000</td>\n",
       "      <td>0.000000</td>\n",
       "      <td>0.000000</td>\n",
       "      <td>0.00000</td>\n",
       "      <td>44.444710</td>\n",
       "      <td>44.266931</td>\n",
       "      <td>44.385450</td>\n",
       "      <td>0.00000</td>\n",
       "      <td>0.000000</td>\n",
       "      <td>0.000000</td>\n",
       "      <td>0.000000</td>\n",
       "      <td>0.000000</td>\n",
       "      <td>0.000000</td>\n",
       "    </tr>\n",
       "    <tr>\n",
       "      <th>2</th>\n",
       "      <td>0010bcc39e42b3c2131ed2ce55246e3c</td>\n",
       "      <td>0.205742</td>\n",
       "      <td>0.150837</td>\n",
       "      <td>0.181558</td>\n",
       "      <td>0.000000</td>\n",
       "      <td>0.000000</td>\n",
       "      <td>0.000000</td>\n",
       "      <td>0.000000</td>\n",
       "      <td>0.000000</td>\n",
       "      <td>0.00000</td>\n",
       "      <td>45.944710</td>\n",
       "      <td>44.444710</td>\n",
       "      <td>45.319710</td>\n",
       "      <td>0.00000</td>\n",
       "      <td>0.000000</td>\n",
       "      <td>0.000000</td>\n",
       "      <td>0.000000</td>\n",
       "      <td>0.000000</td>\n",
       "      <td>0.000000</td>\n",
       "    </tr>\n",
       "  </tbody>\n",
       "</table>\n",
       "</div>"
      ],
      "text/plain": [
       "                                 id  price_off_peak_var_max  \\\n",
       "0  0002203ffbb812588b632b9e628cc38d                0.128067   \n",
       "1  0004351ebdd665e6ee664792efc4fd13                0.148405   \n",
       "2  0010bcc39e42b3c2131ed2ce55246e3c                0.205742   \n",
       "\n",
       "   price_off_peak_var_min  price_off_peak_var_mean  price_peak_var_max  \\\n",
       "0                0.119906                 0.124338            0.105842   \n",
       "1                0.143943                 0.146426            0.000000   \n",
       "2                0.150837                 0.181558            0.000000   \n",
       "\n",
       "   price_peak_var_min  price_peak_var_mean  price_mid_peak_var_max  \\\n",
       "0            0.101673             0.103794                0.073773   \n",
       "1            0.000000             0.000000                0.000000   \n",
       "2            0.000000             0.000000                0.000000   \n",
       "\n",
       "   price_mid_peak_var_min  price_mid_peak_var_mean  price_off_peak_fix_max  \\\n",
       "0                0.070232                  0.07316               40.728885   \n",
       "1                0.000000                  0.00000               44.444710   \n",
       "2                0.000000                  0.00000               45.944710   \n",
       "\n",
       "   price_off_peak_fix_min  price_off_peak_fix_mean  price_peak_fix_max  \\\n",
       "0               40.565969                40.701732            24.43733   \n",
       "1               44.266931                44.385450             0.00000   \n",
       "2               44.444710                45.319710             0.00000   \n",
       "\n",
       "   price_peak_fix_min  price_peak_fix_mean  price_mid_peak_fix_max  \\\n",
       "0           24.339581            24.421038               16.291555   \n",
       "1            0.000000             0.000000                0.000000   \n",
       "2            0.000000             0.000000                0.000000   \n",
       "\n",
       "   price_mid_peak_fix_min  price_mid_peak_fix_mean  \n",
       "0               16.226389                16.280694  \n",
       "1                0.000000                 0.000000  \n",
       "2                0.000000                 0.000000  "
      ]
     },
     "execution_count": 38,
     "metadata": {},
     "output_type": "execute_result"
    }
   ],
   "source": [
    "stats = ['max', 'min', 'mean']\n",
    "price_attr = ['price_off_peak_var','price_peak_var','price_mid_peak_var','price_off_peak_fix','price_peak_fix','price_mid_peak_fix']\n",
    "res = df1.drop(columns=['price_date']).groupby(['id']).agg({'price_off_peak_var': stats, 'price_peak_var': stats, 'price_mid_peak_var': stats,\n",
    "                                                      'price_off_peak_fix': stats, 'price_peak_fix': stats, 'price_mid_peak_fix': stats,})\n",
    "# flatten the column names\n",
    "res.columns = ['_'.join(x) for x in zip(res.columns.get_level_values(0), res.columns.get_level_values(1))]\n",
    "res = res.reset_index()\n",
    "res.head(3)"
   ]
  },
  {
   "cell_type": "code",
   "execution_count": 39,
   "id": "12a7893e",
   "metadata": {},
   "outputs": [
    {
     "data": {
      "text/html": [
       "<div>\n",
       "<style scoped>\n",
       "    .dataframe tbody tr th:only-of-type {\n",
       "        vertical-align: middle;\n",
       "    }\n",
       "\n",
       "    .dataframe tbody tr th {\n",
       "        vertical-align: top;\n",
       "    }\n",
       "\n",
       "    .dataframe thead th {\n",
       "        text-align: right;\n",
       "    }\n",
       "</style>\n",
       "<table border=\"1\" class=\"dataframe\">\n",
       "  <thead>\n",
       "    <tr style=\"text-align: right;\">\n",
       "      <th></th>\n",
       "      <th>id</th>\n",
       "      <th>price_off_peak_var_max</th>\n",
       "      <th>price_off_peak_var_min</th>\n",
       "      <th>price_off_peak_var_mean</th>\n",
       "      <th>price_peak_var_max</th>\n",
       "      <th>price_peak_var_min</th>\n",
       "      <th>price_peak_var_mean</th>\n",
       "      <th>price_mid_peak_var_max</th>\n",
       "      <th>price_mid_peak_var_min</th>\n",
       "      <th>price_mid_peak_var_mean</th>\n",
       "      <th>price_off_peak_fix_max</th>\n",
       "      <th>price_off_peak_fix_min</th>\n",
       "      <th>price_off_peak_fix_mean</th>\n",
       "      <th>price_peak_fix_max</th>\n",
       "      <th>price_peak_fix_min</th>\n",
       "      <th>price_peak_fix_mean</th>\n",
       "      <th>price_mid_peak_fix_max</th>\n",
       "      <th>price_mid_peak_fix_min</th>\n",
       "      <th>price_mid_peak_fix_mean</th>\n",
       "      <th>churn</th>\n",
       "    </tr>\n",
       "  </thead>\n",
       "  <tbody>\n",
       "    <tr>\n",
       "      <th>0</th>\n",
       "      <td>0002203ffbb812588b632b9e628cc38d</td>\n",
       "      <td>0.128067</td>\n",
       "      <td>0.119906</td>\n",
       "      <td>0.124338</td>\n",
       "      <td>0.105842</td>\n",
       "      <td>0.101673</td>\n",
       "      <td>0.103794</td>\n",
       "      <td>0.073773</td>\n",
       "      <td>0.070232</td>\n",
       "      <td>0.07316</td>\n",
       "      <td>40.728885</td>\n",
       "      <td>40.565969</td>\n",
       "      <td>40.701732</td>\n",
       "      <td>24.43733</td>\n",
       "      <td>24.339581</td>\n",
       "      <td>24.421038</td>\n",
       "      <td>16.291555</td>\n",
       "      <td>16.226389</td>\n",
       "      <td>16.280694</td>\n",
       "      <td>0.0</td>\n",
       "    </tr>\n",
       "    <tr>\n",
       "      <th>1</th>\n",
       "      <td>0004351ebdd665e6ee664792efc4fd13</td>\n",
       "      <td>0.148405</td>\n",
       "      <td>0.143943</td>\n",
       "      <td>0.146426</td>\n",
       "      <td>0.000000</td>\n",
       "      <td>0.000000</td>\n",
       "      <td>0.000000</td>\n",
       "      <td>0.000000</td>\n",
       "      <td>0.000000</td>\n",
       "      <td>0.00000</td>\n",
       "      <td>44.444710</td>\n",
       "      <td>44.266931</td>\n",
       "      <td>44.385450</td>\n",
       "      <td>0.00000</td>\n",
       "      <td>0.000000</td>\n",
       "      <td>0.000000</td>\n",
       "      <td>0.000000</td>\n",
       "      <td>0.000000</td>\n",
       "      <td>0.000000</td>\n",
       "      <td>0.0</td>\n",
       "    </tr>\n",
       "    <tr>\n",
       "      <th>2</th>\n",
       "      <td>0010bcc39e42b3c2131ed2ce55246e3c</td>\n",
       "      <td>0.205742</td>\n",
       "      <td>0.150837</td>\n",
       "      <td>0.181558</td>\n",
       "      <td>0.000000</td>\n",
       "      <td>0.000000</td>\n",
       "      <td>0.000000</td>\n",
       "      <td>0.000000</td>\n",
       "      <td>0.000000</td>\n",
       "      <td>0.00000</td>\n",
       "      <td>45.944710</td>\n",
       "      <td>44.444710</td>\n",
       "      <td>45.319710</td>\n",
       "      <td>0.00000</td>\n",
       "      <td>0.000000</td>\n",
       "      <td>0.000000</td>\n",
       "      <td>0.000000</td>\n",
       "      <td>0.000000</td>\n",
       "      <td>0.000000</td>\n",
       "      <td>0.0</td>\n",
       "    </tr>\n",
       "  </tbody>\n",
       "</table>\n",
       "</div>"
      ],
      "text/plain": [
       "                                 id  price_off_peak_var_max  \\\n",
       "0  0002203ffbb812588b632b9e628cc38d                0.128067   \n",
       "1  0004351ebdd665e6ee664792efc4fd13                0.148405   \n",
       "2  0010bcc39e42b3c2131ed2ce55246e3c                0.205742   \n",
       "\n",
       "   price_off_peak_var_min  price_off_peak_var_mean  price_peak_var_max  \\\n",
       "0                0.119906                 0.124338            0.105842   \n",
       "1                0.143943                 0.146426            0.000000   \n",
       "2                0.150837                 0.181558            0.000000   \n",
       "\n",
       "   price_peak_var_min  price_peak_var_mean  price_mid_peak_var_max  \\\n",
       "0            0.101673             0.103794                0.073773   \n",
       "1            0.000000             0.000000                0.000000   \n",
       "2            0.000000             0.000000                0.000000   \n",
       "\n",
       "   price_mid_peak_var_min  price_mid_peak_var_mean  price_off_peak_fix_max  \\\n",
       "0                0.070232                  0.07316               40.728885   \n",
       "1                0.000000                  0.00000               44.444710   \n",
       "2                0.000000                  0.00000               45.944710   \n",
       "\n",
       "   price_off_peak_fix_min  price_off_peak_fix_mean  price_peak_fix_max  \\\n",
       "0               40.565969                40.701732            24.43733   \n",
       "1               44.266931                44.385450             0.00000   \n",
       "2               44.444710                45.319710             0.00000   \n",
       "\n",
       "   price_peak_fix_min  price_peak_fix_mean  price_mid_peak_fix_max  \\\n",
       "0           24.339581            24.421038               16.291555   \n",
       "1            0.000000             0.000000                0.000000   \n",
       "2            0.000000             0.000000                0.000000   \n",
       "\n",
       "   price_mid_peak_fix_min  price_mid_peak_fix_mean  churn  \n",
       "0               16.226389                16.280694    0.0  \n",
       "1                0.000000                 0.000000    0.0  \n",
       "2                0.000000                 0.000000    0.0  "
      ]
     },
     "execution_count": 39,
     "metadata": {},
     "output_type": "execute_result"
    }
   ],
   "source": [
    "# add churn values\n",
    "res = res.merge(df[['id','churn']], on=['id'], how='left')\n",
    "# drop ids that are not inclued in the price dataset \n",
    "res = res.dropna(subset=['churn']).reset_index(drop=True)\n",
    "res.head(3)"
   ]
  },
  {
   "cell_type": "code",
   "execution_count": 40,
   "id": "15b94967",
   "metadata": {},
   "outputs": [
    {
     "data": {
      "text/html": [
       "<div>\n",
       "<style scoped>\n",
       "    .dataframe tbody tr th:only-of-type {\n",
       "        vertical-align: middle;\n",
       "    }\n",
       "\n",
       "    .dataframe tbody tr th {\n",
       "        vertical-align: top;\n",
       "    }\n",
       "\n",
       "    .dataframe thead th {\n",
       "        text-align: right;\n",
       "    }\n",
       "</style>\n",
       "<table border=\"1\" class=\"dataframe\">\n",
       "  <thead>\n",
       "    <tr style=\"text-align: right;\">\n",
       "      <th></th>\n",
       "      <th>id</th>\n",
       "      <th>price_off_peak_var_max</th>\n",
       "      <th>price_off_peak_var_min</th>\n",
       "      <th>price_off_peak_var_mean</th>\n",
       "      <th>price_peak_var_max</th>\n",
       "      <th>price_peak_var_min</th>\n",
       "      <th>price_peak_var_mean</th>\n",
       "      <th>price_mid_peak_var_max</th>\n",
       "      <th>price_mid_peak_var_min</th>\n",
       "      <th>price_mid_peak_var_mean</th>\n",
       "      <th>...</th>\n",
       "      <th>price_mid_peak_fix_max</th>\n",
       "      <th>price_mid_peak_fix_min</th>\n",
       "      <th>price_mid_peak_fix_mean</th>\n",
       "      <th>churn</th>\n",
       "      <th>diff_max_min_price_off_peak_var</th>\n",
       "      <th>diff_max_min_price_peak_var</th>\n",
       "      <th>diff_max_min_price_mid_peak_var</th>\n",
       "      <th>diff_max_min_price_off_peak_fix</th>\n",
       "      <th>diff_max_min_price_peak_fix</th>\n",
       "      <th>diff_max_min_price_mid_peak_fix</th>\n",
       "    </tr>\n",
       "  </thead>\n",
       "  <tbody>\n",
       "    <tr>\n",
       "      <th>0</th>\n",
       "      <td>0002203ffbb812588b632b9e628cc38d</td>\n",
       "      <td>0.128067</td>\n",
       "      <td>0.119906</td>\n",
       "      <td>0.124338</td>\n",
       "      <td>0.105842</td>\n",
       "      <td>0.101673</td>\n",
       "      <td>0.103794</td>\n",
       "      <td>0.073773</td>\n",
       "      <td>0.070232</td>\n",
       "      <td>0.07316</td>\n",
       "      <td>...</td>\n",
       "      <td>16.291555</td>\n",
       "      <td>16.226389</td>\n",
       "      <td>16.280694</td>\n",
       "      <td>0.0</td>\n",
       "      <td>0.008161</td>\n",
       "      <td>0.004169</td>\n",
       "      <td>0.003541</td>\n",
       "      <td>0.162916</td>\n",
       "      <td>0.097749</td>\n",
       "      <td>0.065166</td>\n",
       "    </tr>\n",
       "    <tr>\n",
       "      <th>1</th>\n",
       "      <td>0004351ebdd665e6ee664792efc4fd13</td>\n",
       "      <td>0.148405</td>\n",
       "      <td>0.143943</td>\n",
       "      <td>0.146426</td>\n",
       "      <td>0.000000</td>\n",
       "      <td>0.000000</td>\n",
       "      <td>0.000000</td>\n",
       "      <td>0.000000</td>\n",
       "      <td>0.000000</td>\n",
       "      <td>0.00000</td>\n",
       "      <td>...</td>\n",
       "      <td>0.000000</td>\n",
       "      <td>0.000000</td>\n",
       "      <td>0.000000</td>\n",
       "      <td>0.0</td>\n",
       "      <td>0.004462</td>\n",
       "      <td>0.000000</td>\n",
       "      <td>0.000000</td>\n",
       "      <td>0.177779</td>\n",
       "      <td>0.000000</td>\n",
       "      <td>0.000000</td>\n",
       "    </tr>\n",
       "    <tr>\n",
       "      <th>2</th>\n",
       "      <td>0010bcc39e42b3c2131ed2ce55246e3c</td>\n",
       "      <td>0.205742</td>\n",
       "      <td>0.150837</td>\n",
       "      <td>0.181558</td>\n",
       "      <td>0.000000</td>\n",
       "      <td>0.000000</td>\n",
       "      <td>0.000000</td>\n",
       "      <td>0.000000</td>\n",
       "      <td>0.000000</td>\n",
       "      <td>0.00000</td>\n",
       "      <td>...</td>\n",
       "      <td>0.000000</td>\n",
       "      <td>0.000000</td>\n",
       "      <td>0.000000</td>\n",
       "      <td>0.0</td>\n",
       "      <td>0.054905</td>\n",
       "      <td>0.000000</td>\n",
       "      <td>0.000000</td>\n",
       "      <td>1.500000</td>\n",
       "      <td>0.000000</td>\n",
       "      <td>0.000000</td>\n",
       "    </tr>\n",
       "  </tbody>\n",
       "</table>\n",
       "<p>3 rows × 26 columns</p>\n",
       "</div>"
      ],
      "text/plain": [
       "                                 id  price_off_peak_var_max  \\\n",
       "0  0002203ffbb812588b632b9e628cc38d                0.128067   \n",
       "1  0004351ebdd665e6ee664792efc4fd13                0.148405   \n",
       "2  0010bcc39e42b3c2131ed2ce55246e3c                0.205742   \n",
       "\n",
       "   price_off_peak_var_min  price_off_peak_var_mean  price_peak_var_max  \\\n",
       "0                0.119906                 0.124338            0.105842   \n",
       "1                0.143943                 0.146426            0.000000   \n",
       "2                0.150837                 0.181558            0.000000   \n",
       "\n",
       "   price_peak_var_min  price_peak_var_mean  price_mid_peak_var_max  \\\n",
       "0            0.101673             0.103794                0.073773   \n",
       "1            0.000000             0.000000                0.000000   \n",
       "2            0.000000             0.000000                0.000000   \n",
       "\n",
       "   price_mid_peak_var_min  price_mid_peak_var_mean  ...  \\\n",
       "0                0.070232                  0.07316  ...   \n",
       "1                0.000000                  0.00000  ...   \n",
       "2                0.000000                  0.00000  ...   \n",
       "\n",
       "   price_mid_peak_fix_max  price_mid_peak_fix_min  price_mid_peak_fix_mean  \\\n",
       "0               16.291555               16.226389                16.280694   \n",
       "1                0.000000                0.000000                 0.000000   \n",
       "2                0.000000                0.000000                 0.000000   \n",
       "\n",
       "   churn  diff_max_min_price_off_peak_var  diff_max_min_price_peak_var  \\\n",
       "0    0.0                         0.008161                     0.004169   \n",
       "1    0.0                         0.004462                     0.000000   \n",
       "2    0.0                         0.054905                     0.000000   \n",
       "\n",
       "   diff_max_min_price_mid_peak_var  diff_max_min_price_off_peak_fix  \\\n",
       "0                         0.003541                         0.162916   \n",
       "1                         0.000000                         0.177779   \n",
       "2                         0.000000                         1.500000   \n",
       "\n",
       "   diff_max_min_price_peak_fix  diff_max_min_price_mid_peak_fix  \n",
       "0                     0.097749                         0.065166  \n",
       "1                     0.000000                         0.000000  \n",
       "2                     0.000000                         0.000000  \n",
       "\n",
       "[3 rows x 26 columns]"
      ]
     },
     "execution_count": 40,
     "metadata": {},
     "output_type": "execute_result"
    }
   ],
   "source": [
    "for i in price_attr:\n",
    "    res[f'diff_max_min_{i}'] = res[f'{i}_max'] - res[f'{i}_min']\n",
    "res.head(3)"
   ]
  },
  {
   "cell_type": "code",
   "execution_count": 41,
   "id": "70909e47",
   "metadata": {},
   "outputs": [
    {
     "data": {
      "text/html": [
       "<div>\n",
       "<style scoped>\n",
       "    .dataframe tbody tr th:only-of-type {\n",
       "        vertical-align: middle;\n",
       "    }\n",
       "\n",
       "    .dataframe tbody tr th {\n",
       "        vertical-align: top;\n",
       "    }\n",
       "\n",
       "    .dataframe thead th {\n",
       "        text-align: right;\n",
       "    }\n",
       "</style>\n",
       "<table border=\"1\" class=\"dataframe\">\n",
       "  <thead>\n",
       "    <tr style=\"text-align: right;\">\n",
       "      <th></th>\n",
       "      <th>id</th>\n",
       "      <th>price_off_peak_var_max</th>\n",
       "      <th>price_off_peak_var_min</th>\n",
       "      <th>price_off_peak_var_mean</th>\n",
       "      <th>price_peak_var_max</th>\n",
       "      <th>price_peak_var_min</th>\n",
       "      <th>price_peak_var_mean</th>\n",
       "      <th>price_mid_peak_var_max</th>\n",
       "      <th>price_mid_peak_var_min</th>\n",
       "      <th>price_mid_peak_var_mean</th>\n",
       "      <th>...</th>\n",
       "      <th>price_mid_peak_fix_max</th>\n",
       "      <th>price_mid_peak_fix_min</th>\n",
       "      <th>price_mid_peak_fix_mean</th>\n",
       "      <th>churn</th>\n",
       "      <th>diff_max_min_price_off_peak_var</th>\n",
       "      <th>diff_max_min_price_peak_var</th>\n",
       "      <th>diff_max_min_price_mid_peak_var</th>\n",
       "      <th>diff_max_min_price_off_peak_fix</th>\n",
       "      <th>diff_max_min_price_peak_fix</th>\n",
       "      <th>diff_max_min_price_mid_peak_fix</th>\n",
       "    </tr>\n",
       "  </thead>\n",
       "  <tbody>\n",
       "    <tr>\n",
       "      <th>0</th>\n",
       "      <td>0002203ffbb812588b632b9e628cc38d</td>\n",
       "      <td>0.128067</td>\n",
       "      <td>0.119906</td>\n",
       "      <td>0.124338</td>\n",
       "      <td>0.105842</td>\n",
       "      <td>0.101673</td>\n",
       "      <td>0.103794</td>\n",
       "      <td>0.073773</td>\n",
       "      <td>0.070232</td>\n",
       "      <td>0.073160</td>\n",
       "      <td>...</td>\n",
       "      <td>16.291555</td>\n",
       "      <td>16.226389</td>\n",
       "      <td>16.280694</td>\n",
       "      <td>0.0</td>\n",
       "      <td>0.008161</td>\n",
       "      <td>0.004169</td>\n",
       "      <td>0.003541</td>\n",
       "      <td>0.162916</td>\n",
       "      <td>0.097749</td>\n",
       "      <td>0.065166</td>\n",
       "    </tr>\n",
       "    <tr>\n",
       "      <th>1</th>\n",
       "      <td>0004351ebdd665e6ee664792efc4fd13</td>\n",
       "      <td>0.148405</td>\n",
       "      <td>0.143943</td>\n",
       "      <td>0.146426</td>\n",
       "      <td>0.000000</td>\n",
       "      <td>0.000000</td>\n",
       "      <td>0.000000</td>\n",
       "      <td>0.000000</td>\n",
       "      <td>0.000000</td>\n",
       "      <td>0.000000</td>\n",
       "      <td>...</td>\n",
       "      <td>0.000000</td>\n",
       "      <td>0.000000</td>\n",
       "      <td>0.000000</td>\n",
       "      <td>0.0</td>\n",
       "      <td>0.004462</td>\n",
       "      <td>0.000000</td>\n",
       "      <td>0.000000</td>\n",
       "      <td>0.177779</td>\n",
       "      <td>0.000000</td>\n",
       "      <td>0.000000</td>\n",
       "    </tr>\n",
       "    <tr>\n",
       "      <th>2</th>\n",
       "      <td>0010bcc39e42b3c2131ed2ce55246e3c</td>\n",
       "      <td>0.205742</td>\n",
       "      <td>0.150837</td>\n",
       "      <td>0.181558</td>\n",
       "      <td>0.000000</td>\n",
       "      <td>0.000000</td>\n",
       "      <td>0.000000</td>\n",
       "      <td>0.000000</td>\n",
       "      <td>0.000000</td>\n",
       "      <td>0.000000</td>\n",
       "      <td>...</td>\n",
       "      <td>0.000000</td>\n",
       "      <td>0.000000</td>\n",
       "      <td>0.000000</td>\n",
       "      <td>0.0</td>\n",
       "      <td>0.054905</td>\n",
       "      <td>0.000000</td>\n",
       "      <td>0.000000</td>\n",
       "      <td>1.500000</td>\n",
       "      <td>0.000000</td>\n",
       "      <td>0.000000</td>\n",
       "    </tr>\n",
       "    <tr>\n",
       "      <th>3</th>\n",
       "      <td>00114d74e963e47177db89bc70108537</td>\n",
       "      <td>0.149902</td>\n",
       "      <td>0.145440</td>\n",
       "      <td>0.147926</td>\n",
       "      <td>0.000000</td>\n",
       "      <td>0.000000</td>\n",
       "      <td>0.000000</td>\n",
       "      <td>0.000000</td>\n",
       "      <td>0.000000</td>\n",
       "      <td>0.000000</td>\n",
       "      <td>...</td>\n",
       "      <td>0.000000</td>\n",
       "      <td>0.000000</td>\n",
       "      <td>0.000000</td>\n",
       "      <td>0.0</td>\n",
       "      <td>0.004462</td>\n",
       "      <td>0.000000</td>\n",
       "      <td>0.000000</td>\n",
       "      <td>0.000001</td>\n",
       "      <td>0.000000</td>\n",
       "      <td>0.000000</td>\n",
       "    </tr>\n",
       "    <tr>\n",
       "      <th>4</th>\n",
       "      <td>0013f326a839a2f6ad87a1859952d227</td>\n",
       "      <td>0.129808</td>\n",
       "      <td>0.121647</td>\n",
       "      <td>0.126076</td>\n",
       "      <td>0.107582</td>\n",
       "      <td>0.103413</td>\n",
       "      <td>0.105542</td>\n",
       "      <td>0.075514</td>\n",
       "      <td>0.072089</td>\n",
       "      <td>0.074921</td>\n",
       "      <td>...</td>\n",
       "      <td>16.291555</td>\n",
       "      <td>16.291555</td>\n",
       "      <td>16.291555</td>\n",
       "      <td>0.0</td>\n",
       "      <td>0.008161</td>\n",
       "      <td>0.004169</td>\n",
       "      <td>0.003425</td>\n",
       "      <td>0.000000</td>\n",
       "      <td>0.000000</td>\n",
       "      <td>0.000000</td>\n",
       "    </tr>\n",
       "    <tr>\n",
       "      <th>...</th>\n",
       "      <td>...</td>\n",
       "      <td>...</td>\n",
       "      <td>...</td>\n",
       "      <td>...</td>\n",
       "      <td>...</td>\n",
       "      <td>...</td>\n",
       "      <td>...</td>\n",
       "      <td>...</td>\n",
       "      <td>...</td>\n",
       "      <td>...</td>\n",
       "      <td>...</td>\n",
       "      <td>...</td>\n",
       "      <td>...</td>\n",
       "      <td>...</td>\n",
       "      <td>...</td>\n",
       "      <td>...</td>\n",
       "      <td>...</td>\n",
       "      <td>...</td>\n",
       "      <td>...</td>\n",
       "      <td>...</td>\n",
       "      <td>...</td>\n",
       "    </tr>\n",
       "    <tr>\n",
       "      <th>14601</th>\n",
       "      <td>ffebf6a979dd0b17a41076df1057e733</td>\n",
       "      <td>0.126409</td>\n",
       "      <td>0.115916</td>\n",
       "      <td>0.122426</td>\n",
       "      <td>0.104273</td>\n",
       "      <td>0.099461</td>\n",
       "      <td>0.102375</td>\n",
       "      <td>0.072331</td>\n",
       "      <td>0.071884</td>\n",
       "      <td>0.072210</td>\n",
       "      <td>...</td>\n",
       "      <td>16.291555</td>\n",
       "      <td>16.226383</td>\n",
       "      <td>16.242678</td>\n",
       "      <td>0.0</td>\n",
       "      <td>0.010493</td>\n",
       "      <td>0.004812</td>\n",
       "      <td>0.000447</td>\n",
       "      <td>0.162916</td>\n",
       "      <td>0.097752</td>\n",
       "      <td>0.065172</td>\n",
       "    </tr>\n",
       "    <tr>\n",
       "      <th>14602</th>\n",
       "      <td>fffac626da707b1b5ab11e8431a4d0a2</td>\n",
       "      <td>0.148825</td>\n",
       "      <td>0.144363</td>\n",
       "      <td>0.147137</td>\n",
       "      <td>0.000000</td>\n",
       "      <td>0.000000</td>\n",
       "      <td>0.000000</td>\n",
       "      <td>0.000000</td>\n",
       "      <td>0.000000</td>\n",
       "      <td>0.000000</td>\n",
       "      <td>...</td>\n",
       "      <td>0.000000</td>\n",
       "      <td>0.000000</td>\n",
       "      <td>0.000000</td>\n",
       "      <td>0.0</td>\n",
       "      <td>0.004462</td>\n",
       "      <td>0.000000</td>\n",
       "      <td>0.000000</td>\n",
       "      <td>0.177780</td>\n",
       "      <td>0.000000</td>\n",
       "      <td>0.000000</td>\n",
       "    </tr>\n",
       "    <tr>\n",
       "      <th>14603</th>\n",
       "      <td>fffc0cacd305dd51f316424bbb08d1bd</td>\n",
       "      <td>0.159560</td>\n",
       "      <td>0.151399</td>\n",
       "      <td>0.153879</td>\n",
       "      <td>0.132895</td>\n",
       "      <td>0.126871</td>\n",
       "      <td>0.129497</td>\n",
       "      <td>0.101037</td>\n",
       "      <td>0.091394</td>\n",
       "      <td>0.094842</td>\n",
       "      <td>...</td>\n",
       "      <td>16.791555</td>\n",
       "      <td>16.724389</td>\n",
       "      <td>16.763569</td>\n",
       "      <td>0.0</td>\n",
       "      <td>0.008161</td>\n",
       "      <td>0.006024</td>\n",
       "      <td>0.009643</td>\n",
       "      <td>0.164916</td>\n",
       "      <td>0.099749</td>\n",
       "      <td>0.067166</td>\n",
       "    </tr>\n",
       "    <tr>\n",
       "      <th>14604</th>\n",
       "      <td>fffe4f5646aa39c7f97f95ae2679ce64</td>\n",
       "      <td>0.127566</td>\n",
       "      <td>0.118175</td>\n",
       "      <td>0.123858</td>\n",
       "      <td>0.105428</td>\n",
       "      <td>0.100491</td>\n",
       "      <td>0.103499</td>\n",
       "      <td>0.074516</td>\n",
       "      <td>0.073433</td>\n",
       "      <td>0.073735</td>\n",
       "      <td>...</td>\n",
       "      <td>16.291555</td>\n",
       "      <td>16.226383</td>\n",
       "      <td>16.242678</td>\n",
       "      <td>0.0</td>\n",
       "      <td>0.009391</td>\n",
       "      <td>0.004937</td>\n",
       "      <td>0.001083</td>\n",
       "      <td>0.162916</td>\n",
       "      <td>0.097752</td>\n",
       "      <td>0.065172</td>\n",
       "    </tr>\n",
       "    <tr>\n",
       "      <th>14605</th>\n",
       "      <td>ffff7fa066f1fb305ae285bb03bf325a</td>\n",
       "      <td>0.129444</td>\n",
       "      <td>0.119916</td>\n",
       "      <td>0.125360</td>\n",
       "      <td>0.106863</td>\n",
       "      <td>0.102232</td>\n",
       "      <td>0.104895</td>\n",
       "      <td>0.076311</td>\n",
       "      <td>0.075004</td>\n",
       "      <td>0.075635</td>\n",
       "      <td>...</td>\n",
       "      <td>16.291555</td>\n",
       "      <td>16.226383</td>\n",
       "      <td>16.258971</td>\n",
       "      <td>0.0</td>\n",
       "      <td>0.009528</td>\n",
       "      <td>0.004631</td>\n",
       "      <td>0.001307</td>\n",
       "      <td>0.162916</td>\n",
       "      <td>0.097752</td>\n",
       "      <td>0.065172</td>\n",
       "    </tr>\n",
       "  </tbody>\n",
       "</table>\n",
       "<p>14606 rows × 26 columns</p>\n",
       "</div>"
      ],
      "text/plain": [
       "                                     id  price_off_peak_var_max  \\\n",
       "0      0002203ffbb812588b632b9e628cc38d                0.128067   \n",
       "1      0004351ebdd665e6ee664792efc4fd13                0.148405   \n",
       "2      0010bcc39e42b3c2131ed2ce55246e3c                0.205742   \n",
       "3      00114d74e963e47177db89bc70108537                0.149902   \n",
       "4      0013f326a839a2f6ad87a1859952d227                0.129808   \n",
       "...                                 ...                     ...   \n",
       "14601  ffebf6a979dd0b17a41076df1057e733                0.126409   \n",
       "14602  fffac626da707b1b5ab11e8431a4d0a2                0.148825   \n",
       "14603  fffc0cacd305dd51f316424bbb08d1bd                0.159560   \n",
       "14604  fffe4f5646aa39c7f97f95ae2679ce64                0.127566   \n",
       "14605  ffff7fa066f1fb305ae285bb03bf325a                0.129444   \n",
       "\n",
       "       price_off_peak_var_min  price_off_peak_var_mean  price_peak_var_max  \\\n",
       "0                    0.119906                 0.124338            0.105842   \n",
       "1                    0.143943                 0.146426            0.000000   \n",
       "2                    0.150837                 0.181558            0.000000   \n",
       "3                    0.145440                 0.147926            0.000000   \n",
       "4                    0.121647                 0.126076            0.107582   \n",
       "...                       ...                      ...                 ...   \n",
       "14601                0.115916                 0.122426            0.104273   \n",
       "14602                0.144363                 0.147137            0.000000   \n",
       "14603                0.151399                 0.153879            0.132895   \n",
       "14604                0.118175                 0.123858            0.105428   \n",
       "14605                0.119916                 0.125360            0.106863   \n",
       "\n",
       "       price_peak_var_min  price_peak_var_mean  price_mid_peak_var_max  \\\n",
       "0                0.101673             0.103794                0.073773   \n",
       "1                0.000000             0.000000                0.000000   \n",
       "2                0.000000             0.000000                0.000000   \n",
       "3                0.000000             0.000000                0.000000   \n",
       "4                0.103413             0.105542                0.075514   \n",
       "...                   ...                  ...                     ...   \n",
       "14601            0.099461             0.102375                0.072331   \n",
       "14602            0.000000             0.000000                0.000000   \n",
       "14603            0.126871             0.129497                0.101037   \n",
       "14604            0.100491             0.103499                0.074516   \n",
       "14605            0.102232             0.104895                0.076311   \n",
       "\n",
       "       price_mid_peak_var_min  price_mid_peak_var_mean  ...  \\\n",
       "0                    0.070232                 0.073160  ...   \n",
       "1                    0.000000                 0.000000  ...   \n",
       "2                    0.000000                 0.000000  ...   \n",
       "3                    0.000000                 0.000000  ...   \n",
       "4                    0.072089                 0.074921  ...   \n",
       "...                       ...                      ...  ...   \n",
       "14601                0.071884                 0.072210  ...   \n",
       "14602                0.000000                 0.000000  ...   \n",
       "14603                0.091394                 0.094842  ...   \n",
       "14604                0.073433                 0.073735  ...   \n",
       "14605                0.075004                 0.075635  ...   \n",
       "\n",
       "       price_mid_peak_fix_max  price_mid_peak_fix_min  \\\n",
       "0                   16.291555               16.226389   \n",
       "1                    0.000000                0.000000   \n",
       "2                    0.000000                0.000000   \n",
       "3                    0.000000                0.000000   \n",
       "4                   16.291555               16.291555   \n",
       "...                       ...                     ...   \n",
       "14601               16.291555               16.226383   \n",
       "14602                0.000000                0.000000   \n",
       "14603               16.791555               16.724389   \n",
       "14604               16.291555               16.226383   \n",
       "14605               16.291555               16.226383   \n",
       "\n",
       "       price_mid_peak_fix_mean  churn  diff_max_min_price_off_peak_var  \\\n",
       "0                    16.280694    0.0                         0.008161   \n",
       "1                     0.000000    0.0                         0.004462   \n",
       "2                     0.000000    0.0                         0.054905   \n",
       "3                     0.000000    0.0                         0.004462   \n",
       "4                    16.291555    0.0                         0.008161   \n",
       "...                        ...    ...                              ...   \n",
       "14601                16.242678    0.0                         0.010493   \n",
       "14602                 0.000000    0.0                         0.004462   \n",
       "14603                16.763569    0.0                         0.008161   \n",
       "14604                16.242678    0.0                         0.009391   \n",
       "14605                16.258971    0.0                         0.009528   \n",
       "\n",
       "       diff_max_min_price_peak_var  diff_max_min_price_mid_peak_var  \\\n",
       "0                         0.004169                         0.003541   \n",
       "1                         0.000000                         0.000000   \n",
       "2                         0.000000                         0.000000   \n",
       "3                         0.000000                         0.000000   \n",
       "4                         0.004169                         0.003425   \n",
       "...                            ...                              ...   \n",
       "14601                     0.004812                         0.000447   \n",
       "14602                     0.000000                         0.000000   \n",
       "14603                     0.006024                         0.009643   \n",
       "14604                     0.004937                         0.001083   \n",
       "14605                     0.004631                         0.001307   \n",
       "\n",
       "       diff_max_min_price_off_peak_fix  diff_max_min_price_peak_fix  \\\n",
       "0                             0.162916                     0.097749   \n",
       "1                             0.177779                     0.000000   \n",
       "2                             1.500000                     0.000000   \n",
       "3                             0.000001                     0.000000   \n",
       "4                             0.000000                     0.000000   \n",
       "...                                ...                          ...   \n",
       "14601                         0.162916                     0.097752   \n",
       "14602                         0.177780                     0.000000   \n",
       "14603                         0.164916                     0.099749   \n",
       "14604                         0.162916                     0.097752   \n",
       "14605                         0.162916                     0.097752   \n",
       "\n",
       "       diff_max_min_price_mid_peak_fix  \n",
       "0                             0.065166  \n",
       "1                             0.000000  \n",
       "2                             0.000000  \n",
       "3                             0.000000  \n",
       "4                             0.000000  \n",
       "...                                ...  \n",
       "14601                         0.065172  \n",
       "14602                         0.000000  \n",
       "14603                         0.067166  \n",
       "14604                         0.065172  \n",
       "14605                         0.065172  \n",
       "\n",
       "[14606 rows x 26 columns]"
      ]
     },
     "execution_count": 41,
     "metadata": {},
     "output_type": "execute_result"
    }
   ],
   "source": [
    "res"
   ]
  },
  {
   "cell_type": "code",
   "execution_count": 42,
   "id": "01c8d323",
   "metadata": {},
   "outputs": [
    {
     "data": {
      "text/html": [
       "<div>\n",
       "<style scoped>\n",
       "    .dataframe tbody tr th:only-of-type {\n",
       "        vertical-align: middle;\n",
       "    }\n",
       "\n",
       "    .dataframe tbody tr th {\n",
       "        vertical-align: top;\n",
       "    }\n",
       "\n",
       "    .dataframe thead th {\n",
       "        text-align: right;\n",
       "    }\n",
       "</style>\n",
       "<table border=\"1\" class=\"dataframe\">\n",
       "  <thead>\n",
       "    <tr style=\"text-align: right;\">\n",
       "      <th></th>\n",
       "      <th>id</th>\n",
       "      <th>price_off_peak_var_max</th>\n",
       "      <th>price_off_peak_var_min</th>\n",
       "      <th>price_off_peak_var_mean</th>\n",
       "      <th>price_peak_var_max</th>\n",
       "      <th>price_peak_var_min</th>\n",
       "      <th>price_peak_var_mean</th>\n",
       "      <th>price_mid_peak_var_max</th>\n",
       "      <th>price_mid_peak_var_min</th>\n",
       "      <th>price_mid_peak_var_mean</th>\n",
       "      <th>...</th>\n",
       "      <th>diff_max_min_price_mid_peak_var</th>\n",
       "      <th>diff_max_min_price_off_peak_fix</th>\n",
       "      <th>diff_max_min_price_peak_fix</th>\n",
       "      <th>diff_max_min_price_mid_peak_fix</th>\n",
       "      <th>diff_Dec_mean_price_off_peak_var</th>\n",
       "      <th>diff_Dec_mean_price_peak_var</th>\n",
       "      <th>diff_Dec_mean_price_mid_peak_var</th>\n",
       "      <th>diff_Dec_mean_price_off_peak_fix</th>\n",
       "      <th>diff_Dec_mean_price_peak_fix</th>\n",
       "      <th>diff_Dec_mean_price_mid_peak_fix</th>\n",
       "    </tr>\n",
       "  </thead>\n",
       "  <tbody>\n",
       "    <tr>\n",
       "      <th>0</th>\n",
       "      <td>0002203ffbb812588b632b9e628cc38d</td>\n",
       "      <td>0.128067</td>\n",
       "      <td>0.119906</td>\n",
       "      <td>0.124338</td>\n",
       "      <td>0.105842</td>\n",
       "      <td>0.101673</td>\n",
       "      <td>0.103794</td>\n",
       "      <td>0.073773</td>\n",
       "      <td>0.070232</td>\n",
       "      <td>0.07316</td>\n",
       "      <td>...</td>\n",
       "      <td>0.003541</td>\n",
       "      <td>0.162916</td>\n",
       "      <td>0.097749</td>\n",
       "      <td>0.065166</td>\n",
       "      <td>-0.004432</td>\n",
       "      <td>-0.002121</td>\n",
       "      <td>0.000559</td>\n",
       "      <td>0.027153</td>\n",
       "      <td>0.016292</td>\n",
       "      <td>0.010861</td>\n",
       "    </tr>\n",
       "    <tr>\n",
       "      <th>1</th>\n",
       "      <td>0004351ebdd665e6ee664792efc4fd13</td>\n",
       "      <td>0.148405</td>\n",
       "      <td>0.143943</td>\n",
       "      <td>0.146426</td>\n",
       "      <td>0.000000</td>\n",
       "      <td>0.000000</td>\n",
       "      <td>0.000000</td>\n",
       "      <td>0.000000</td>\n",
       "      <td>0.000000</td>\n",
       "      <td>0.00000</td>\n",
       "      <td>...</td>\n",
       "      <td>0.000000</td>\n",
       "      <td>0.177779</td>\n",
       "      <td>0.000000</td>\n",
       "      <td>0.000000</td>\n",
       "      <td>-0.002483</td>\n",
       "      <td>0.000000</td>\n",
       "      <td>0.000000</td>\n",
       "      <td>0.059260</td>\n",
       "      <td>0.000000</td>\n",
       "      <td>0.000000</td>\n",
       "    </tr>\n",
       "    <tr>\n",
       "      <th>2</th>\n",
       "      <td>0010bcc39e42b3c2131ed2ce55246e3c</td>\n",
       "      <td>0.205742</td>\n",
       "      <td>0.150837</td>\n",
       "      <td>0.181558</td>\n",
       "      <td>0.000000</td>\n",
       "      <td>0.000000</td>\n",
       "      <td>0.000000</td>\n",
       "      <td>0.000000</td>\n",
       "      <td>0.000000</td>\n",
       "      <td>0.00000</td>\n",
       "      <td>...</td>\n",
       "      <td>0.000000</td>\n",
       "      <td>1.500000</td>\n",
       "      <td>0.000000</td>\n",
       "      <td>0.000000</td>\n",
       "      <td>0.019722</td>\n",
       "      <td>0.000000</td>\n",
       "      <td>0.000000</td>\n",
       "      <td>0.625000</td>\n",
       "      <td>0.000000</td>\n",
       "      <td>0.000000</td>\n",
       "    </tr>\n",
       "  </tbody>\n",
       "</table>\n",
       "<p>3 rows × 32 columns</p>\n",
       "</div>"
      ],
      "text/plain": [
       "                                 id  price_off_peak_var_max  \\\n",
       "0  0002203ffbb812588b632b9e628cc38d                0.128067   \n",
       "1  0004351ebdd665e6ee664792efc4fd13                0.148405   \n",
       "2  0010bcc39e42b3c2131ed2ce55246e3c                0.205742   \n",
       "\n",
       "   price_off_peak_var_min  price_off_peak_var_mean  price_peak_var_max  \\\n",
       "0                0.119906                 0.124338            0.105842   \n",
       "1                0.143943                 0.146426            0.000000   \n",
       "2                0.150837                 0.181558            0.000000   \n",
       "\n",
       "   price_peak_var_min  price_peak_var_mean  price_mid_peak_var_max  \\\n",
       "0            0.101673             0.103794                0.073773   \n",
       "1            0.000000             0.000000                0.000000   \n",
       "2            0.000000             0.000000                0.000000   \n",
       "\n",
       "   price_mid_peak_var_min  price_mid_peak_var_mean  ...  \\\n",
       "0                0.070232                  0.07316  ...   \n",
       "1                0.000000                  0.00000  ...   \n",
       "2                0.000000                  0.00000  ...   \n",
       "\n",
       "   diff_max_min_price_mid_peak_var  diff_max_min_price_off_peak_fix  \\\n",
       "0                         0.003541                         0.162916   \n",
       "1                         0.000000                         0.177779   \n",
       "2                         0.000000                         1.500000   \n",
       "\n",
       "   diff_max_min_price_peak_fix  diff_max_min_price_mid_peak_fix  \\\n",
       "0                     0.097749                         0.065166   \n",
       "1                     0.000000                         0.000000   \n",
       "2                     0.000000                         0.000000   \n",
       "\n",
       "   diff_Dec_mean_price_off_peak_var  diff_Dec_mean_price_peak_var  \\\n",
       "0                         -0.004432                     -0.002121   \n",
       "1                         -0.002483                      0.000000   \n",
       "2                          0.019722                      0.000000   \n",
       "\n",
       "   diff_Dec_mean_price_mid_peak_var  diff_Dec_mean_price_off_peak_fix  \\\n",
       "0                          0.000559                          0.027153   \n",
       "1                          0.000000                          0.059260   \n",
       "2                          0.000000                          0.625000   \n",
       "\n",
       "   diff_Dec_mean_price_peak_fix  diff_Dec_mean_price_mid_peak_fix  \n",
       "0                      0.016292                          0.010861  \n",
       "1                      0.000000                          0.000000  \n",
       "2                      0.000000                          0.000000  \n",
       "\n",
       "[3 rows x 32 columns]"
      ]
     },
     "execution_count": 42,
     "metadata": {},
     "output_type": "execute_result"
    }
   ],
   "source": [
    "# add diff\n",
    "for i in price_attr:\n",
    "    res[f'diff_Dec_mean_{i}'] = df1[df1['id'].isin(res['id'])].groupby(['id'])[i].nth(-1).values - res[f'{i}_mean']\n",
    "\n",
    "res.head(3)"
   ]
  },
  {
   "cell_type": "code",
   "execution_count": 43,
   "id": "a098e500",
   "metadata": {},
   "outputs": [
    {
     "data": {
      "image/png": "[encoded data removed]",
      "text/plain": [
       "<Figure size 1080x288 with 1 Axes>"
      ]
     },
     "metadata": {
      "needs_background": "light"
     },
     "output_type": "display_data"
    }
   ],
   "source": [
    "plt.figure(figsize=(15,4))\n",
    "sns.stripplot( x= df['churn'], y=res['diff_Dec_mean_price_off_peak_var'])\n",
    "plt.show()"
   ]
  },
  {
   "cell_type": "code",
   "execution_count": 44,
   "id": "f08a7af6",
   "metadata": {},
   "outputs": [
    {
     "data": {
      "image/png": "[encoded data removed]",
      "text/plain": [
       "<Figure size 1080x288 with 1 Axes>"
      ]
     },
     "metadata": {
      "needs_background": "light"
     },
     "output_type": "display_data"
    }
   ],
   "source": [
    "plt.figure(figsize=(15,4))\n",
    "sns.stripplot( x= df['churn'], y=res['diff_Dec_mean_price_peak_var'])\n",
    "plt.show() \n"
   ]
  },
  {
   "cell_type": "code",
   "execution_count": 45,
   "id": "8ed3dc77",
   "metadata": {},
   "outputs": [
    {
     "data": {
      "text/plain": [
       "'From the above insights, we can see no matter how prices changed, proportion of churning customers always there. \\nIn other words, changes in prices did not affect customer churn. \\nTherefore, we can conclude customers were not sensitive to prices.'"
      ]
     },
     "execution_count": 45,
     "metadata": {},
     "output_type": "execute_result"
    }
   ],
   "source": [
    "'''From the above insights, we can see no matter how prices changed, proportion of churning customers always there. \n",
    "In other words, changes in prices did not affect customer churn. \n",
    "Therefore, we can conclude customers were not sensitive to prices.'''"
   ]
  },
  {
   "cell_type": "markdown",
   "id": "8dae5811",
   "metadata": {},
   "source": [
    "# SUB-TASK -3"
   ]
  },
  {
   "cell_type": "code",
   "execution_count": null,
   "id": "83bdc7ce",
   "metadata": {},
   "outputs": [],
   "source": [
    "'''\n",
    "KEY FINDINGS:\n",
    "--CHANGES IN PRICES DOESNT NOT AFFECR CUSTOMER CHURN.\n",
    "--CHURN WAS ABOUT 9.7% OF CUSTOMERS PROVIDERS.\n",
    "\n",
    "\n",
    "SUGGESTIONS:\n",
    "--MORE DATAS ARE REQUIRED REGARDING CILENT DATA \n",
    "--COMPETITOR PRICE DATA WILL BE USEFUL FOR PREDICTING THE CHURN\n",
    "\n",
    "'''"
   ]
  },
  {
   "cell_type": "code",
   "execution_count": null,
   "id": "9bf5d02f",
   "metadata": {},
   "outputs": [],
   "source": []
  }
 ],
 "metadata": {
  "kernelspec": {
   "display_name": "Python 3 (ipykernel)",
   "language": "python",
   "name": "python3"
  },
  "language_info": {
   "codemirror_mode": {
    "name": "ipython",
    "version": 3
   },
   "file_extension": ".py",
   "mimetype": "text/x-python",
   "name": "python",
   "nbconvert_exporter": "python",
   "pygments_lexer": "ipython3",
   "version": "3.9.12"
  }
 },
 "nbformat": 4,
 "nbformat_minor": 5
}
