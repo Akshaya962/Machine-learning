{
 "cells": [
  {
   "cell_type": "code",
   "execution_count": 1,
   "id": "aafa8165",
   "metadata": {},
   "outputs": [],
   "source": [
    "import os, sys\n",
    "import numpy as np\n",
    "import pandas as pd"
   ]
  },
  {
   "cell_type": "code",
   "execution_count": 2,
   "id": "679ede7e",
   "metadata": {},
   "outputs": [
    {
     "data": {
      "text/plain": [
       "'C:\\\\Users\\\\Lenovo\\\\Desktop\\\\AI&NLP_morning_8-10\\\\NLP'"
      ]
     },
     "execution_count": 2,
     "metadata": {},
     "output_type": "execute_result"
    },
    {
     "data": {
      "text/plain": [
       "'C:\\\\Users\\\\Lenovo\\\\Desktop\\\\AI&NLP_morning_8-10\\\\NLP'"
      ]
     },
     "execution_count": 2,
     "metadata": {},
     "output_type": "execute_result"
    }
   ],
   "source": [
    "os.getcwd()"
   ]
  },
  {
   "cell_type": "code",
   "execution_count": null,
   "id": "e43f7b6e",
   "metadata": {},
   "outputs": [],
   "source": []
  },
  {
   "cell_type": "code",
   "execution_count": null,
   "id": "30253712",
   "metadata": {},
   "outputs": [],
   "source": [
    "# Extract text from the the given PDF"
   ]
  },
  {
   "cell_type": "code",
   "execution_count": 1,
   "id": "6d1efbbc",
   "metadata": {},
   "outputs": [
    {
     "name": "stdout",
     "output_type": "stream",
     "text": [
      "Collecting pdfminer.six\n",
      "  Downloading pdfminer.six-20221105-py3-none-any.whl (5.6 MB)\n",
      "Requirement already satisfied: charset-normalizer>=2.0.0 in c:\\users\\akshaya\\anaconda3\\lib\\site-packages (from pdfminer.six) (2.0.4)\n",
      "Collecting cryptography>=36.0.0\n",
      "  Downloading cryptography-39.0.2-cp36-abi3-win_amd64.whl (2.5 MB)\n",
      "Requirement already satisfied: cffi>=1.12 in c:\\users\\akshaya\\anaconda3\\lib\\site-packages (from cryptography>=36.0.0->pdfminer.six) (1.15.0)\n",
      "Requirement already satisfied: pycparser in c:\\users\\akshaya\\anaconda3\\lib\\site-packages (from cffi>=1.12->cryptography>=36.0.0->pdfminer.six) (2.21)\n",
      "Installing collected packages: cryptography, pdfminer.six\n",
      "  Attempting uninstall: cryptography\n",
      "    Found existing installation: cryptography 3.4.8\n",
      "    Uninstalling cryptography-3.4.8:\n",
      "      Successfully uninstalled cryptography-3.4.8\n",
      "Successfully installed cryptography-39.0.2 pdfminer.six-20221105\n"
     ]
    }
   ],
   "source": [
    "#!pip install pdfminer.six"
   ]
  },
  {
   "cell_type": "code",
   "execution_count": 4,
   "id": "a705a1d1",
   "metadata": {},
   "outputs": [
    {
     "name": "stdout",
     "output_type": "stream",
     "text": [
      "<LTTextBoxHorizontal(0) 270.277,745.699,325.202,758.413 'FORM 28\\n'>\n",
      "<LTTextBoxHorizontal(1) 106.112,710.151,489.662,739.223 '[Refer Rules 54, 58(1), (3) and (4)]\\nAPPLICATION FOR AND GRANT OF NO OBJECTION CERTIFICATE\\n'>\n",
      "<LTTextBoxHorizontal(2) 473.499,727.366,526.898,740.080 'FORM 28\\n'>\n",
      "<LTTextBoxHorizontal(3) 68.887,618.938,526.972,702.397 '(To  be  made  in  quadruplicate  if  the  vehicle  is  held  under  an  agreement  of\\nhire-purchase/lease/hypothecation,  in  duplicate  copy,  the  triplicate  copy  and  the\\nquadruplicate copy with the endorsement of the registering authority to be returned to\\nthe  registered  owner  of  the  vehicle,  the  registering  authority  in  whose  jurisdiction  the\\nvehicle  is  to  be  removed  and  the  financier  simultaneously  on  grant/refusal  of  a  “No\\nObjection Certificate”.)\\n'>\n",
      "<LTTextBoxHorizontal(4) 235.796,600.537,359.984,611.980 'PART I—APPLICATION\\n'>\n",
      "<LTTextBoxHorizontal(5) 68.885,580.772,82.884,592.851 'To\\n'>\n",
      "<LTTextBoxHorizontal(6) 68.885,357.431,526.814,573.622 'The Registering Authority,\\n..............................................\\nI/We intend to transfer the vehicle to the jurisdiction of the registering authority\\nI/We intend to sell the vehicle to Shri/Smt./Kumari ...............................................\\nwho resides in the jurisdiction of the registering authority..................................... of the\\nState  ..............................  I/We,  therefore,  request  for  the  issue  of  a  “No  Objection\\nCertificate” for my/our vehicle, the particulars of which are furnished below:—\\n1. Name and address\\n2.\\n2a. Mobile number of the owner of the vehicle\\n3. Registration number of the vehicle\\n4. Class of vehicle\\n5. Registering authority which originally registered the vehicle\\n6. Engine number or motor number in the case of Battery\\n'>\n",
      "<LTTextBoxHorizontal(7) 428.628,371.767,528.299,459.203 '.................................\\n.................................\\n................................\\n.................................\\n.................................\\n.................................\\n'>\n",
      "<LTTextBoxHorizontal(8) 91.774,432.787,211.688,444.865 'Son/wife/daughter of\\n'>\n",
      "<LTTextBoxHorizontal(9) 91.773,343.092,189.415,355.171 'Operated Vehicles\\n'>\n",
      "<LTTextBoxHorizontal(10) 68.885,268.051,399.012,340.835 '7. Chassis number (affix also pencil print)\\n8. Period of stay in the State\\n9. Period up to which motor vehicle tax has been paid\\n10. Whether any demand for tax is pending, if so, give details\\n11. Whether the vehicle is involved in any theft cases,\\n'>\n",
      "<LTTextBoxHorizontal(11) 91.773,253.712,180.585,265.791 'if so, give details\\n'>\n",
      "<LTTextBoxHorizontal(12) 68.885,196.363,366.666,251.454 '12. Whether any action under section 53, 54 or 58 of the\\n“Motor Vehicles Act, 1988 is pending before any\\nregistering authority or other prescribed authority,\\nif so, give details.\\n'>\n",
      "<LTTextBoxHorizontal(13) 68.885,182.027,334.924,194.105 '13. Whether the vehicle is involved in any case of\\n'>\n",
      "<LTTextBoxHorizontal(14) 68.885,153.352,346.556,179.767 'transport of prohibited goods, if so, give details\\n14. Whether the vehicle is held under an agreement\\n'>\n",
      "<LTTextBoxHorizontal(15) 91.773,108.503,406.101,151.093 'of hire-purchase/lease/hypothecation, if so, give full name\\nand address of the financier\\nWe solemnly declare that the above statement is true.\\n'>\n",
      "<LTTextBoxHorizontal(16) 428.616,282.386,528.324,355.171 '.................................\\n.................................\\n.................................\\n.................................\\n.................................\\n'>\n",
      "<LTTextBoxHorizontal(17) 428.662,253.712,528.309,265.791 '.................................\\n'>\n",
      "<LTTextBoxHorizontal(18) 428.627,196.363,528.274,208.441 '.................................\\n'>\n",
      "<LTTextBoxHorizontal(19) 428.641,153.352,528.322,179.767 '.................................\\n.................................\\n'>\n",
      "<LTTextBoxHorizontal(20) 68.885,76.157,139.290,88.236 'Date...............\\n'>\n",
      "<LTTextBoxHorizontal(21) 359.987,61.820,529.085,102.574 '........................................................\\nSignature or thumb impression\\nof registered owner   \\n'>\n",
      "<LTTextLineHorizontal 481.689,61.820,493.562,73.899 '   \\n'>\n",
      "<LTTextLineHorizontal 499.698,61.820,511.571,73.899 '   \\n'>\n",
      "<LTTextLineHorizontal 517.707,61.820,520.726,73.899 ' \\n'>\n",
      "<LTTextBoxHorizontal(0) 119.233,732.361,476.600,758.141 'PART II—CONSENT OF THE FINANCIERS IN THE CASE OF MOTOR\\nVEHICLE SUBJECT TO AN AGREEMENT\\n'>\n",
      "<LTTextBoxHorizontal(1) 96.348,717.169,526.544,729.248 'I/We being a party to an agreement of the hire-purchase/lease/hypothecation in\\n'>\n",
      "<LTTextBoxHorizontal(2) 68.882,703.738,282.452,715.817 'respect of the above said vehicle hereby:\\n'>\n",
      "<LTTextBoxHorizontal(3) 114.962,686.646,526.642,698.725 '1. Give consent to issue the “No Objection Certificate” for the said vehicle only\\n'>\n",
      "<LTTextBoxHorizontal(4) 132.970,672.310,298.069,684.389 'for the purpose referred above.\\n'>\n",
      "<LTTextBoxHorizontal(5) 114.962,655.218,526.630,667.297 '2. Refuse to give consent for issue of “No Objection Certificate” for the said\\n'>\n",
      "<LTTextBoxHorizontal(6) 132.970,607.013,527.112,652.961 'vehicle due to the reasons furnished hereunder :\\n....................................................................................................................................\\nSignature of the financier\\n'>\n",
      "<LTTextBoxHorizontal(7) 68.894,607.013,166.475,619.092 'Date........................\\n'>\n",
      "<LTTextBoxHorizontal(8) 146.700,559.961,448.512,601.910 'PART III—OFFICE ENDORSEMENT\\nGrant/refusal of “No Objection Certificate” under section 48(3) of\\nMotor Vehicles Act, 1988\\n'>\n",
      "<LTTextBoxHorizontal(9) 109.774,513.956,526.648,554.708 '(1) No Objection Certificate in respect of the vehicle, the detailed particulars\\nwhereof are recorded over above is hereby granted under section 48(3) of\\nthe Act, (valid for use at the registering authority, on whom it is issued).\\n'>\n",
      "<LTTextBoxHorizontal(10) 109.774,453.854,526.648,508.943 '(2) No  objection  certificate  in  respect  of  the  motor  vehicle,  the  detailed\\nparticulars whereof recorded over above is hereby refused under section\\n48(3) of the Motor Vehicles Act, 1988, for the reasons recorded as under\\n.................................................................................................................................\\n'>\n",
      "<LTTextBoxHorizontal(11) 68.889,437.078,178.548,449.156 'Date............................\\n'>\n",
      "<LTTextBoxHorizontal(12) 68.889,389.186,254.111,418.103 '* Strike out whichever is in applicable.\\nTo\\n'>\n",
      "<LTTextBoxHorizontal(13) 297.436,422.741,526.902,449.156 'Signature with seal of registering authority\\nAddress .............................................................\\n'>\n",
      "<LTTextBoxHorizontal(14) 96.355,324.193,430.492,384.489 'The Registered Owner ..................................\\nThe Financier ..................................................\\nThe Registering Authority ...........................\\n(To be sent to the parties by Regd. post acknowledgement due)\\n'>\n"
     ]
    }
   ],
   "source": [
    "import re\n",
    "from pdfminer.high_level import extract_pages, extract_text\n",
    "\n",
    "for page_layout in extract_pages(\"FORM-28.pdf\"):\n",
    "    for element in page_layout:\n",
    "        print(element)"
   ]
  },
  {
   "cell_type": "code",
   "execution_count": 5,
   "id": "2fdccdee",
   "metadata": {},
   "outputs": [
    {
     "name": "stdout",
     "output_type": "stream",
     "text": [
      "FORM 28\n",
      "\n",
      "[Refer Rules 54, 58(1), (3) and (4)]\n",
      "APPLICATION FOR AND GRANT OF NO OBJECTION CERTIFICATE\n",
      "\n",
      "FORM 28\n",
      "\n",
      "(To  be  made  in  quadruplicate  if  the  vehicle  is  held  under  an  agreement  of\n",
      "hire-purchase/lease/hypothecation,  in  duplicate  copy,  the  triplicate  copy  and  the\n",
      "quadruplicate copy with the endorsement of the registering authority to be returned to\n",
      "the  registered  owner  of  the  vehicle,  the  registering  authority  in  whose  jurisdiction  the\n",
      "vehicle  is  to  be  removed  and  the  financier  simultaneously  on  grant/refusal  of  a  “No\n",
      "Objection Certificate”.)\n",
      "\n",
      "PART I—APPLICATION\n",
      "\n",
      "To\n",
      "\n",
      "The Registering Authority,\n",
      "..............................................\n",
      "I/We intend to transfer the vehicle to the jurisdiction of the registering authority\n",
      "I/We intend to sell the vehicle to Shri/Smt./Kumari ...............................................\n",
      "who resides in the jurisdiction of the registering authority..................................... of the\n",
      "State  ..............................  I/We,  therefore,  request  for  the  issue  of  a  “No  Objection\n",
      "Certificate” for my/our vehicle, the particulars of which are furnished below:—\n",
      "1. Name and address\n",
      "2.\n",
      "2a. Mobile number of the owner of the vehicle\n",
      "3. Registration number of the vehicle\n",
      "4. Class of vehicle\n",
      "5. Registering authority which originally registered the vehicle\n",
      "6. Engine number or motor number in the case of Battery\n",
      "\n",
      ".................................\n",
      ".................................\n",
      "................................\n",
      ".................................\n",
      ".................................\n",
      ".................................\n",
      "\n",
      "Son/wife/daughter of\n",
      "\n",
      "Operated Vehicles\n",
      "\n",
      "7. Chassis number (affix also pencil print)\n",
      "8. Period of stay in the State\n",
      "9. Period up to which motor vehicle tax has been paid\n",
      "10. Whether any demand for tax is pending, if so, give details\n",
      "11. Whether the vehicle is involved in any theft cases,\n",
      "\n",
      "if so, give details\n",
      "\n",
      "12. Whether any action under section 53, 54 or 58 of the\n",
      "“Motor Vehicles Act, 1988 is pending before any\n",
      "registering authority or other prescribed authority,\n",
      "if so, give details.\n",
      "\n",
      "13. Whether the vehicle is involved in any case of\n",
      "\n",
      "transport of prohibited goods, if so, give details\n",
      "14. Whether the vehicle is held under an agreement\n",
      "\n",
      "of hire-purchase/lease/hypothecation, if so, give full name\n",
      "and address of the financier\n",
      "We solemnly declare that the above statement is true.\n",
      "\n",
      ".................................\n",
      ".................................\n",
      ".................................\n",
      ".................................\n",
      ".................................\n",
      "\n",
      ".................................\n",
      "\n",
      ".................................\n",
      "\n",
      ".................................\n",
      ".................................\n",
      "\n",
      "Date...............\n",
      "\n",
      "........................................................\n",
      "Signature or thumb impression\n",
      "of registered owner   \n",
      "\n",
      "   \n",
      "   \n",
      " \n",
      "\f",
      "PART II—CONSENT OF THE FINANCIERS IN THE CASE OF MOTOR\n",
      "VEHICLE SUBJECT TO AN AGREEMENT\n",
      "\n",
      "I/We being a party to an agreement of the hire-purchase/lease/hypothecation in\n",
      "\n",
      "respect of the above said vehicle hereby:\n",
      "\n",
      "1. Give consent to issue the “No Objection Certificate” for the said vehicle only\n",
      "\n",
      "for the purpose referred above.\n",
      "\n",
      "2. Refuse to give consent for issue of “No Objection Certificate” for the said\n",
      "\n",
      "vehicle due to the reasons furnished hereunder :\n",
      "....................................................................................................................................\n",
      "Signature of the financier\n",
      "\n",
      "Date........................\n",
      "\n",
      "PART III—OFFICE ENDORSEMENT\n",
      "Grant/refusal of “No Objection Certificate” under section 48(3) of\n",
      "Motor Vehicles Act, 1988\n",
      "\n",
      "(1) No Objection Certificate in respect of the vehicle, the detailed particulars\n",
      "whereof are recorded over above is hereby granted under section 48(3) of\n",
      "the Act, (valid for use at the registering authority, on whom it is issued).\n",
      "\n",
      "(2) No  objection  certificate  in  respect  of  the  motor  vehicle,  the  detailed\n",
      "particulars whereof recorded over above is hereby refused under section\n",
      "48(3) of the Motor Vehicles Act, 1988, for the reasons recorded as under\n",
      ".................................................................................................................................\n",
      "\n",
      "Date............................\n",
      "\n",
      "* Strike out whichever is in applicable.\n",
      "To\n",
      "\n",
      "Signature with seal of registering authority\n",
      "Address .............................................................\n",
      "\n",
      "The Registered Owner ..................................\n",
      "The Financier ..................................................\n",
      "The Registering Authority ...........................\n",
      "(To be sent to the parties by Regd. post acknowledgement due)\n",
      "\n",
      "\f",
      "\n"
     ]
    }
   ],
   "source": [
    "text = extract_text(\"FORM-28.pdf\")\n",
    "print(text)"
   ]
  },
  {
   "cell_type": "code",
   "execution_count": 19,
   "id": "12a56ba8",
   "metadata": {},
   "outputs": [],
   "source": [
    "import nltk\n",
    "import re\n",
    "from nltk.corpus import stopwords\n",
    "from nltk.stem import WordNetLemmatizer\n",
    "my_review = nltk.sent_tokenize(text)\n",
    "\n",
    "lemma = WordNetLemmatizer()\n",
    "\n",
    "corpus = []\n",
    "\n",
    "for i in range(len(my_review)):\n",
    "    review = re.sub('[^a-zA-Z]',' ', my_review[i])\n",
    "    review = review.lower()\n",
    "    review = review.split()\n",
    "    review = [lemma.lemmatize(word) for word in review if not word in \n",
    "              set(stopwords.words('english'))]\n",
    "    review = ' '.join(review)\n",
    "    corpus.append(review)"
   ]
  },
  {
   "cell_type": "code",
   "execution_count": 20,
   "id": "75d32eb8",
   "metadata": {},
   "outputs": [
    {
     "data": {
      "text/plain": [
       "['form refer rule application grant objection certificate form made quadruplicate vehicle held agreement hire purchase lease hypothecation duplicate copy triplicate copy quadruplicate copy endorsement registering authority returned registered owner vehicle registering authority whose jurisdiction vehicle removed financier simultaneously grant refusal objection certificate',\n",
       " 'part application registering authority intend transfer vehicle jurisdiction registering authority intend sell vehicle shri smt kumari resides jurisdiction registering authority state therefore request issue objection certificate vehicle particular furnished',\n",
       " 'name address',\n",
       " '',\n",
       " 'mobile number owner vehicle',\n",
       " 'registration number vehicle',\n",
       " 'class vehicle',\n",
       " 'registering authority originally registered vehicle',\n",
       " 'engine number motor number case battery son wife daughter operated vehicle',\n",
       " 'chassis number affix also pencil print',\n",
       " 'period stay state',\n",
       " 'period motor vehicle tax paid',\n",
       " 'whether demand tax pending give detail',\n",
       " 'whether vehicle involved theft case give detail',\n",
       " 'whether action section motor vehicle act pending registering authority prescribed authority give detail',\n",
       " '',\n",
       " 'whether vehicle involved case transport prohibited good give detail',\n",
       " 'whether vehicle held agreement hire purchase lease hypothecation give full name address financier solemnly declare statement true',\n",
       " '',\n",
       " 'date signature thumb impression registered owner part ii consent financier case motor vehicle subject agreement party agreement hire purchase lease hypothecation respect said vehicle hereby',\n",
       " 'give consent issue objection certificate said vehicle purpose referred',\n",
       " '',\n",
       " 'refuse give consent issue objection certificate said vehicle due reason furnished hereunder signature financier date part iii office endorsement grant refusal objection certificate section motor vehicle act objection certificate respect vehicle detailed particular whereof recorded hereby granted section act valid use registering authority issued',\n",
       " 'objection certificate respect motor vehicle detailed particular whereof recorded hereby refused section motor vehicle act reason recorded',\n",
       " 'date strike whichever applicable',\n",
       " 'signature seal registering authority address',\n",
       " 'registered owner',\n",
       " 'financier',\n",
       " 'registering authority sent party regd',\n",
       " 'post acknowledgement due']"
      ]
     },
     "execution_count": 20,
     "metadata": {},
     "output_type": "execute_result"
    }
   ],
   "source": [
    "corpus"
   ]
  },
  {
   "cell_type": "code",
   "execution_count": 21,
   "id": "408dc4ca",
   "metadata": {},
   "outputs": [],
   "source": [
    "from sklearn.feature_extraction.text import CountVectorizer\n",
    "cv = CountVectorizer()\n",
    "x = cv.fit_transform(corpus).toarray()"
   ]
  },
  {
   "cell_type": "code",
   "execution_count": 22,
   "id": "5ac232aa",
   "metadata": {},
   "outputs": [
    {
     "data": {
      "text/plain": [
       "array([[0, 0, 0, ..., 0, 1, 0],\n",
       "       [0, 0, 0, ..., 0, 0, 0],\n",
       "       [0, 0, 0, ..., 0, 0, 0],\n",
       "       ...,\n",
       "       [0, 0, 0, ..., 0, 0, 0],\n",
       "       [0, 0, 0, ..., 0, 0, 0],\n",
       "       [1, 0, 0, ..., 0, 0, 0]], dtype=int64)"
      ]
     },
     "execution_count": 22,
     "metadata": {},
     "output_type": "execute_result"
    }
   ],
   "source": [
    "x"
   ]
  },
  {
   "cell_type": "code",
   "execution_count": null,
   "id": "be5d3ace",
   "metadata": {},
   "outputs": [],
   "source": []
  },
  {
   "cell_type": "markdown",
   "id": "9f687afa",
   "metadata": {},
   "source": [
    "# How to extract images from the PDF"
   ]
  },
  {
   "cell_type": "code",
   "execution_count": 2,
   "id": "8b9fa708",
   "metadata": {},
   "outputs": [
    {
     "name": "stdout",
     "output_type": "stream",
     "text": [
      "Collecting PyMuPDF\n",
      "  Downloading PyMuPDF-1.21.1-cp39-cp39-win_amd64.whl (11.7 MB)\n",
      "Installing collected packages: PyMuPDF\n",
      "Successfully installed PyMuPDF-1.21.1\n",
      "Requirement already satisfied: pillow in c:\\users\\akshaya\\anaconda3\\lib\\site-packages (9.0.1)\n"
     ]
    }
   ],
   "source": [
    "#!pip install PyMuPDF\n",
    "#!pip install pillow"
   ]
  },
  {
   "cell_type": "code",
   "execution_count": 3,
   "id": "4b5e7ef2",
   "metadata": {},
   "outputs": [],
   "source": [
    "import fitz # PyMuPDF\n",
    "import PIL.Image # pillow\n",
    "import io"
   ]
  },
  {
   "cell_type": "code",
   "execution_count": 4,
   "id": "eeb529f4",
   "metadata": {},
   "outputs": [],
   "source": [
    "pdf = fitz.open(\"2019BurkovTheHundred-pageMachineLearning.pdf\")\n",
    "counter = 1\n",
    "\n",
    "for i in range(len(pdf)):\n",
    "    page= pdf[i]\n",
    "    images = page.get_images()\n",
    "    for image in images:\n",
    "        base_img = pdf.extract_image(image[0])\n",
    "        image_data = base_img[\"image\"]\n",
    "        img = PIL.Image.open(io.BytesIO(image_data))\n",
    "        extension = base_img[\"ext\"]\n",
    "        img.save(open(f\"image{counter}.{extension}\", \"wb\"))\n",
    "        counter +=1"
   ]
  },
  {
   "cell_type": "code",
   "execution_count": null,
   "id": "50ac1874",
   "metadata": {},
   "outputs": [],
   "source": []
  },
  {
   "cell_type": "markdown",
   "id": "9c36035e",
   "metadata": {},
   "source": [
    "# Speech to Text"
   ]
  },
  {
   "cell_type": "code",
   "execution_count": 3,
   "id": "345f2661",
   "metadata": {},
   "outputs": [
    {
     "name": "stdout",
     "output_type": "stream",
     "text": [
      "Collecting pipwin\n",
      "  Downloading pipwin-0.5.2.tar.gz (7.9 kB)\n",
      "Collecting docopt\n",
      "  Downloading docopt-0.6.2.tar.gz (25 kB)\n",
      "Requirement already satisfied: requests in c:\\users\\akshaya\\anaconda3\\lib\\site-packages (from pipwin) (2.27.1)\n",
      "Collecting pyprind\n",
      "  Downloading PyPrind-2.11.3-py2.py3-none-any.whl (8.4 kB)\n",
      "Requirement already satisfied: six in c:\\users\\akshaya\\anaconda3\\lib\\site-packages (from pipwin) (1.16.0)\n",
      "Requirement already satisfied: beautifulsoup4>=4.9.0 in c:\\users\\akshaya\\anaconda3\\lib\\site-packages (from pipwin) (4.11.1)\n",
      "Collecting js2py\n",
      "  Downloading Js2Py-0.74-py3-none-any.whl (1.0 MB)\n",
      "Requirement already satisfied: packaging in c:\\users\\akshaya\\anaconda3\\lib\\site-packages (from pipwin) (21.3)\n",
      "Collecting pySmartDL>=1.3.1\n",
      "  Downloading pySmartDL-1.3.4-py3-none-any.whl (20 kB)\n",
      "Requirement already satisfied: soupsieve>1.2 in c:\\users\\akshaya\\anaconda3\\lib\\site-packages (from beautifulsoup4>=4.9.0->pipwin) (2.3.1)\n",
      "Collecting pyjsparser>=2.5.1\n",
      "  Downloading pyjsparser-2.7.1.tar.gz (24 kB)\n",
      "Collecting tzlocal>=1.2\n",
      "  Downloading tzlocal-4.2-py3-none-any.whl (19 kB)\n",
      "Collecting pytz-deprecation-shim\n",
      "  Downloading pytz_deprecation_shim-0.1.0.post0-py2.py3-none-any.whl (15 kB)\n",
      "Collecting tzdata\n",
      "  Downloading tzdata-2022.7-py2.py3-none-any.whl (340 kB)\n",
      "Requirement already satisfied: pyparsing!=3.0.5,>=2.0.2 in c:\\users\\akshaya\\anaconda3\\lib\\site-packages (from packaging->pipwin) (3.0.4)\n",
      "Requirement already satisfied: charset-normalizer~=2.0.0 in c:\\users\\akshaya\\anaconda3\\lib\\site-packages (from requests->pipwin) (2.0.4)\n",
      "Requirement already satisfied: idna<4,>=2.5 in c:\\users\\akshaya\\anaconda3\\lib\\site-packages (from requests->pipwin) (3.3)\n",
      "Requirement already satisfied: certifi>=2017.4.17 in c:\\users\\akshaya\\anaconda3\\lib\\site-packages (from requests->pipwin) (2021.10.8)\n",
      "Requirement already satisfied: urllib3<1.27,>=1.21.1 in c:\\users\\akshaya\\anaconda3\\lib\\site-packages (from requests->pipwin) (1.26.9)\n",
      "Building wheels for collected packages: pipwin, docopt, pyjsparser\n",
      "  Building wheel for pipwin (setup.py): started\n",
      "  Building wheel for pipwin (setup.py): finished with status 'done'\n",
      "  Created wheel for pipwin: filename=pipwin-0.5.2-py2.py3-none-any.whl size=8790 sha256=9d1a75c25726684fd5129ffd0b9f385b4ab5e91fb1f3797219cd7a94cfde2a50\n",
      "  Stored in directory: c:\\users\\akshaya\\appdata\\local\\pip\\cache\\wheels\\bc\\86\\30\\f70db104d3f51560d9a177d6ced4f7e09f3e474d6985c101ae\n",
      "  Building wheel for docopt (setup.py): started\n",
      "  Building wheel for docopt (setup.py): finished with status 'done'\n",
      "  Created wheel for docopt: filename=docopt-0.6.2-py2.py3-none-any.whl size=13723 sha256=cafb41827af9a599c5657e7257fb0fca072bac3b217b5eb6ba20c1c0eff79d93\n",
      "  Stored in directory: c:\\users\\akshaya\\appdata\\local\\pip\\cache\\wheels\\70\\4a\\46\\1309fc853b8d395e60bafaf1b6df7845bdd82c95fd59dd8d2b\n",
      "  Building wheel for pyjsparser (setup.py): started\n",
      "  Building wheel for pyjsparser (setup.py): finished with status 'done'\n",
      "  Created wheel for pyjsparser: filename=pyjsparser-2.7.1-py3-none-any.whl size=26000 sha256=20230ff58c890750f50ac77d9969dcff10991d960b23b71dcfeb8a3941a3559a\n",
      "  Stored in directory: c:\\users\\akshaya\\appdata\\local\\pip\\cache\\wheels\\f0\\70\\61\\f42dc45dcf0fbe8c495ce579b04730787081499bfb5b8bc60e\n",
      "Successfully built pipwin docopt pyjsparser\n",
      "Installing collected packages: tzdata, pytz-deprecation-shim, tzlocal, pyjsparser, pySmartDL, pyprind, js2py, docopt, pipwin\n",
      "Successfully installed docopt-0.6.2 js2py-0.74 pipwin-0.5.2 pySmartDL-1.3.4 pyjsparser-2.7.1 pyprind-2.11.3 pytz-deprecation-shim-0.1.0.post0 tzdata-2022.7 tzlocal-4.2\n",
      "Collecting pyaudio\n",
      "  Downloading PyAudio-0.2.13-cp39-cp39-win_amd64.whl (164 kB)\n",
      "Installing collected packages: pyaudio\n",
      "Successfully installed pyaudio-0.2.13\n",
      "Collecting speechrecognition\n",
      "  Downloading SpeechRecognition-3.10.0-py2.py3-none-any.whl (32.8 MB)\n",
      "Requirement already satisfied: requests>=2.26.0 in c:\\users\\akshaya\\anaconda3\\lib\\site-packages (from speechrecognition) (2.27.1)\n",
      "Requirement already satisfied: urllib3<1.27,>=1.21.1 in c:\\users\\akshaya\\anaconda3\\lib\\site-packages (from requests>=2.26.0->speechrecognition) (1.26.9)\n",
      "Requirement already satisfied: charset-normalizer~=2.0.0 in c:\\users\\akshaya\\anaconda3\\lib\\site-packages (from requests>=2.26.0->speechrecognition) (2.0.4)\n",
      "Requirement already satisfied: idna<4,>=2.5 in c:\\users\\akshaya\\anaconda3\\lib\\site-packages (from requests>=2.26.0->speechrecognition) (3.3)\n",
      "Requirement already satisfied: certifi>=2017.4.17 in c:\\users\\akshaya\\anaconda3\\lib\\site-packages (from requests>=2.26.0->speechrecognition) (2021.10.8)\n",
      "Installing collected packages: speechrecognition\n",
      "Successfully installed speechrecognition-3.10.0\n"
     ]
    }
   ],
   "source": [
    "#!pip install pipwin\n",
    "#!pip install pyaudio\n",
    "#!pip install speechrecognition"
   ]
  },
  {
   "cell_type": "code",
   "execution_count": 8,
   "id": "ddd126fb",
   "metadata": {},
   "outputs": [],
   "source": [
    "import speech_recognition as sr"
   ]
  },
  {
   "cell_type": "code",
   "execution_count": 10,
   "id": "a44551fe",
   "metadata": {},
   "outputs": [
    {
     "data": {
      "text/plain": [
       "<speech_recognition.Recognizer at 0x2e99c1d7eb0>"
      ]
     },
     "execution_count": 10,
     "metadata": {},
     "output_type": "execute_result"
    },
    {
     "data": {
      "text/plain": [
       "<speech_recognition.Recognizer at 0x2e99c1d7eb0>"
      ]
     },
     "execution_count": 10,
     "metadata": {},
     "output_type": "execute_result"
    }
   ],
   "source": [
    "# initialse the recognizer\n",
    "r = sr.Recognizer()\n",
    "r"
   ]
  },
  {
   "cell_type": "code",
   "execution_count": 11,
   "id": "6ab778bc",
   "metadata": {},
   "outputs": [
    {
     "name": "stdout",
     "output_type": "stream",
     "text": [
      "Please speak ........\n",
      "Please speak ........\n"
     ]
    }
   ],
   "source": [
    "# can we record now\n",
    "with sr.Microphone() as source:\n",
    "    print(\"Please speak ........\")\n",
    "    recoded_voice = r.listen(source)"
   ]
  },
  {
   "cell_type": "code",
   "execution_count": 12,
   "id": "2c21c87f",
   "metadata": {},
   "outputs": [
    {
     "name": "stdout",
     "output_type": "stream",
     "text": [
      "result2:\n",
      "{   'alternative': [   {   'confidence': 0.87790382,\n",
      "                           'transcript': 'now I am going to do it my friend '\n",
      "                                         'you can see it seem please speak so '\n",
      "                                         \"I am I am speaking and let's hope \"\n",
      "                                         \"you know it's capturing all this \"\n",
      "                                         'thing so here you go'},\n",
      "                       {   'transcript': 'now I am going to do it my friend '\n",
      "                                         'you can see it seem please speak so '\n",
      "                                         \"I am I am speaking and let's hope \"\n",
      "                                         \"you know it's capturing all this \"\n",
      "                                         'thing so where you go'},\n",
      "                       {   'transcript': 'now I am going to do it my friend '\n",
      "                                         'you can see it seem please a speak '\n",
      "                                         \"so I am I am speaking and let's hope \"\n",
      "                                         \"you know it's capturing all this \"\n",
      "                                         'thing so here you go'},\n",
      "                       {   'transcript': 'now I am going to do it my friend '\n",
      "                                         'you can see it seem please a speak '\n",
      "                                         \"so I am I am speaking and let's hope \"\n",
      "                                         \"you know it's capturing all this \"\n",
      "                                         'thing so where you go'},\n",
      "                       {   'transcript': 'now I am going to do it my friend '\n",
      "                                         'you can see it seem please speak so '\n",
      "                                         \"I am I am speaking and let's hope \"\n",
      "                                         \"you know it's capturing all this \"\n",
      "                                         'thing so here you'}],\n",
      "    'final': True}\n"
     ]
    },
    {
     "data": {
      "text/plain": [
       "\"now I am going to do it my friend you can see it seem please speak so I am I am speaking and let's hope you know it's capturing all this thing so here you go\""
      ]
     },
     "execution_count": 12,
     "metadata": {},
     "output_type": "execute_result"
    },
    {
     "name": "stdout",
     "output_type": "stream",
     "text": [
      "result2:\n",
      "{   'alternative': [   {   'confidence': 0.87790382,\n",
      "                           'transcript': 'now I am going to do it my friend '\n",
      "                                         'you can see it seem please speak so '\n",
      "                                         \"I am I am speaking and let's hope \"\n",
      "                                         \"you know it's capturing all this \"\n",
      "                                         'thing so here you go'},\n",
      "                       {   'transcript': 'now I am going to do it my friend '\n",
      "                                         'you can see it seem please speak so '\n",
      "                                         \"I am I am speaking and let's hope \"\n",
      "                                         \"you know it's capturing all this \"\n",
      "                                         'thing so where you go'},\n",
      "                       {   'transcript': 'now I am going to do it my friend '\n",
      "                                         'you can see it seem please a speak '\n",
      "                                         \"so I am I am speaking and let's hope \"\n",
      "                                         \"you know it's capturing all this \"\n",
      "                                         'thing so here you go'},\n",
      "                       {   'transcript': 'now I am going to do it my friend '\n",
      "                                         'you can see it seem please a speak '\n",
      "                                         \"so I am I am speaking and let's hope \"\n",
      "                                         \"you know it's capturing all this \"\n",
      "                                         'thing so where you go'},\n",
      "                       {   'transcript': 'now I am going to do it my friend '\n",
      "                                         'you can see it seem please speak so '\n",
      "                                         \"I am I am speaking and let's hope \"\n",
      "                                         \"you know it's capturing all this \"\n",
      "                                         'thing so here you'}],\n",
      "    'final': True}\n"
     ]
    },
    {
     "data": {
      "text/plain": [
       "\"now I am going to do it my friend you can see it seem please speak so I am I am speaking and let's hope you know it's capturing all this thing so here you go\""
      ]
     },
     "execution_count": 12,
     "metadata": {},
     "output_type": "execute_result"
    }
   ],
   "source": [
    "r.recognize_google(recoded_voice)"
   ]
  },
  {
   "cell_type": "markdown",
   "id": "701a43b2",
   "metadata": {},
   "source": [
    "# https://github.com/Uberi/speech_recognition/tree/master/examples\n",
    "# Please explore more for better understanding"
   ]
  },
  {
   "cell_type": "code",
   "execution_count": null,
   "id": "d5e0713e",
   "metadata": {},
   "outputs": [],
   "source": [
    "#!/usr/bin/env python3\n",
    "\n",
    "# NOTE: this example requires PyAudio because it uses the Microphone class\n",
    "\n",
    "import speech_recognition as sr\n",
    "\n",
    "# obtain audio from the microphone\n",
    "r = sr.Recognizer()\n",
    "with sr.Microphone() as source:\n",
    "    print(\"Say something!\")\n",
    "    audio = r.listen(source)\n",
    "\n",
    "# write audio to a RAW file\n",
    "with open(\"microphone-results.raw\", \"wb\") as f:\n",
    "    f.write(audio.get_raw_data())\n",
    "\n",
    "# write audio to a WAV file\n",
    "with open(\"microphone-results.wav\", \"wb\") as f:\n",
    "    f.write(audio.get_wav_data())\n",
    "\n",
    "# write audio to an AIFF file\n",
    "with open(\"microphone-results.aiff\", \"wb\") as f:\n",
    "    f.write(audio.get_aiff_data())\n",
    "\n",
    "# write audio to a FLAC file\n",
    "with open(\"microphone-results.flac\", \"wb\") as f:\n",
    "    f.write(audio.get_flac_data())\n",
    "Footer\n",
    "© 2023 GitHub, Inc.\n",
    "Footer navigation\n",
    "Terms\n",
    "Privacy"
   ]
  },
  {
   "cell_type": "code",
   "execution_count": null,
   "id": "47bf670c",
   "metadata": {},
   "outputs": [],
   "source": []
  },
  {
   "cell_type": "code",
   "execution_count": null,
   "id": "9c59ef25",
   "metadata": {},
   "outputs": [],
   "source": []
  },
  {
   "cell_type": "code",
   "execution_count": null,
   "id": "c7c98b6e",
   "metadata": {},
   "outputs": [],
   "source": []
  },
  {
   "cell_type": "code",
   "execution_count": null,
   "id": "e9adbe63",
   "metadata": {},
   "outputs": [],
   "source": []
  },
  {
   "cell_type": "code",
   "execution_count": null,
   "id": "18fe3e22",
   "metadata": {},
   "outputs": [],
   "source": []
  }
 ],
 "metadata": {
  "kernelspec": {
   "display_name": "Python 3 (ipykernel)",
   "language": "python",
   "name": "python3"
  },
  "language_info": {
   "codemirror_mode": {
    "name": "ipython",
    "version": 3
   },
   "file_extension": ".py",
   "mimetype": "text/x-python",
   "name": "python",
   "nbconvert_exporter": "python",
   "pygments_lexer": "ipython3",
   "version": "3.9.12"
  }
 },
 "nbformat": 4,
 "nbformat_minor": 5
}
