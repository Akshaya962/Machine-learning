{
 "cells": [
  {
   "cell_type": "code",
   "execution_count": 2,
   "id": "0a6e09c7",
   "metadata": {},
   "outputs": [],
   "source": [
    "import numpy as np\n",
    "import scipy.stats as stats\n",
    "import math\n",
    "import pandas as pd\n"
   ]
  },
  {
   "cell_type": "code",
   "execution_count": 13,
   "id": "37165eb9",
   "metadata": {},
   "outputs": [
    {
     "name": "stdout",
     "output_type": "stream",
     "text": [
      "1-Y OR 0-N0\n",
      "Kindly select an option:\n",
      "1.Point estimate\n",
      "2.Confidence estimate\n",
      "3.Both\n",
      "2\n",
      " This is t distribution\n",
      "Interval estimate (7.801297281377348, 13.198702718622652)\n"
     ]
    }
   ],
   "source": [
    "df_estimate=pd.read_csv('estimate.csv')\n",
    "flag=int(input('1-Y OR 0-N'))\n",
    "if (flag==1):\n",
    "    print(df_estimate['New'].describe())\n",
    "else:\n",
    "    data=np.array([1,2,3,4,5,6,7,8,9,10,11,12,13,14,15,16,17,18,19,20])\n",
    "    print(\"Kindly select an option:\")\n",
    "    print(\"1.Point estimate\")\n",
    "    print(\"2.Confidence estimate\")\n",
    "    print(\"3.Both\")\n",
    "    option=int(input())\n",
    "    def estimate(data,ss):\n",
    "        global pe,ci\n",
    "        if option==1:\n",
    "            pe= data.mean()\n",
    "            print(\"Point estimate:\",pe)\n",
    "        elif option==2:\n",
    "            if ss<40:\n",
    "                tc=stats.t.ppf(q=1-0.05/2,df=(ss-1))\n",
    "                me=tc*(data.std()/math.sqrt(ss))\n",
    "                ci=(pe-me,pe+me)\n",
    "                print(\" This is t distribution\")\n",
    "                print(\"Interval estimate\",ci)\n",
    "            else:\n",
    "                zc=stats.norm.ppf(q=1-0.05/2)\n",
    "                me=zc*(data.std()/math.sqrt(ss))\n",
    "                ci=(pe-me,pe+me)\n",
    "                print(\"This is z distribution\")\n",
    "                print(\"Interval estimate\",ci)\n",
    "        elif option==3:\n",
    "            print(\"Point estimate =\",pe)\n",
    "            print(\"Interval estimate =\",ci)\n",
    "        else: \n",
    "            print(\"invalid entry\")\n",
    "    estimate(data,20)"
   ]
  },
  {
   "cell_type": "code",
   "execution_count": null,
   "id": "c219d145",
   "metadata": {},
   "outputs": [],
   "source": []
  },
  {
   "cell_type": "code",
   "execution_count": null,
   "id": "40ef1e6c",
   "metadata": {},
   "outputs": [],
   "source": []
  }
 ],
 "metadata": {
  "kernelspec": {
   "display_name": "Python 3 (ipykernel)",
   "language": "python",
   "name": "python3"
  },
  "language_info": {
   "codemirror_mode": {
    "name": "ipython",
    "version": 3
   },
   "file_extension": ".py",
   "mimetype": "text/x-python",
   "name": "python",
   "nbconvert_exporter": "python",
   "pygments_lexer": "ipython3",
   "version": "3.9.12"
  }
 },
 "nbformat": 4,
 "nbformat_minor": 5
}
