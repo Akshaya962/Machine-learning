{
 "cells": [
  {
   "cell_type": "code",
   "execution_count": 67,
   "metadata": {},
   "outputs": [],
   "source": [
    "#importing all the necessary libraries\n",
    "import pandas as pd\n",
    "import numpy as np\n",
    "import seaborn as sns\n",
    "from scipy import stats\n",
    "from sklearn import preprocessing\n",
    "from sklearn.model_selection import train_test_split\n",
    "from sklearn.metrics import confusion_matrix\n",
    "from sklearn.metrics import accuracy_score\n",
    "import matplotlib.pyplot as plt\n",
    "from IPython.display import Image  \n",
    "from sklearn.tree import export_graphviz\n",
    "from sklearn import metrics\n",
    "%matplotlib inline\n",
    "from sklearn.model_selection import GridSearchCV\n",
    "import warnings \n",
    "warnings.filterwarnings('ignore')\n",
    "import pylab"
   ]
  },
  {
   "cell_type": "markdown",
   "metadata": {},
   "source": [
    "---\n",
    "## 2. Load data"
   ]
  },
  {
   "cell_type": "code",
   "execution_count": 68,
   "metadata": {},
   "outputs": [
    {
     "data": {
      "text/html": [
       "<div>\n",
       "<style scoped>\n",
       "    .dataframe tbody tr th:only-of-type {\n",
       "        vertical-align: middle;\n",
       "    }\n",
       "\n",
       "    .dataframe tbody tr th {\n",
       "        vertical-align: top;\n",
       "    }\n",
       "\n",
       "    .dataframe thead th {\n",
       "        text-align: right;\n",
       "    }\n",
       "</style>\n",
       "<table border=\"1\" class=\"dataframe\">\n",
       "  <thead>\n",
       "    <tr style=\"text-align: right;\">\n",
       "      <th></th>\n",
       "      <th>id</th>\n",
       "      <th>channel_sales</th>\n",
       "      <th>cons_12m</th>\n",
       "      <th>cons_gas_12m</th>\n",
       "      <th>cons_last_month</th>\n",
       "      <th>date_activ</th>\n",
       "      <th>date_end</th>\n",
       "      <th>date_modif_prod</th>\n",
       "      <th>date_renewal</th>\n",
       "      <th>forecast_cons_12m</th>\n",
       "      <th>...</th>\n",
       "      <th>has_gas</th>\n",
       "      <th>imp_cons</th>\n",
       "      <th>margin_gross_pow_ele</th>\n",
       "      <th>margin_net_pow_ele</th>\n",
       "      <th>nb_prod_act</th>\n",
       "      <th>net_margin</th>\n",
       "      <th>num_years_antig</th>\n",
       "      <th>origin_up</th>\n",
       "      <th>pow_max</th>\n",
       "      <th>churn</th>\n",
       "    </tr>\n",
       "  </thead>\n",
       "  <tbody>\n",
       "    <tr>\n",
       "      <th>0</th>\n",
       "      <td>24011ae4ebbe3035111d65fa7c15bc57</td>\n",
       "      <td>foosdfpfkusacimwkcsosbicdxkicaua</td>\n",
       "      <td>0</td>\n",
       "      <td>54946</td>\n",
       "      <td>0</td>\n",
       "      <td>2013-06-15</td>\n",
       "      <td>2016-06-15</td>\n",
       "      <td>2015-11-01</td>\n",
       "      <td>2015-06-23</td>\n",
       "      <td>0.00</td>\n",
       "      <td>...</td>\n",
       "      <td>t</td>\n",
       "      <td>0.00</td>\n",
       "      <td>25.44</td>\n",
       "      <td>25.44</td>\n",
       "      <td>2</td>\n",
       "      <td>678.99</td>\n",
       "      <td>3</td>\n",
       "      <td>lxidpiddsbxsbosboudacockeimpuepw</td>\n",
       "      <td>43.648</td>\n",
       "      <td>1</td>\n",
       "    </tr>\n",
       "    <tr>\n",
       "      <th>1</th>\n",
       "      <td>d29c2c54acc38ff3c0614d0a653813dd</td>\n",
       "      <td>MISSING</td>\n",
       "      <td>4660</td>\n",
       "      <td>0</td>\n",
       "      <td>0</td>\n",
       "      <td>2009-08-21</td>\n",
       "      <td>2016-08-30</td>\n",
       "      <td>2009-08-21</td>\n",
       "      <td>2015-08-31</td>\n",
       "      <td>189.95</td>\n",
       "      <td>...</td>\n",
       "      <td>f</td>\n",
       "      <td>0.00</td>\n",
       "      <td>16.38</td>\n",
       "      <td>16.38</td>\n",
       "      <td>1</td>\n",
       "      <td>18.89</td>\n",
       "      <td>6</td>\n",
       "      <td>kamkkxfxxuwbdslkwifmmcsiusiuosws</td>\n",
       "      <td>13.800</td>\n",
       "      <td>0</td>\n",
       "    </tr>\n",
       "    <tr>\n",
       "      <th>2</th>\n",
       "      <td>764c75f661154dac3a6c254cd082ea7d</td>\n",
       "      <td>foosdfpfkusacimwkcsosbicdxkicaua</td>\n",
       "      <td>544</td>\n",
       "      <td>0</td>\n",
       "      <td>0</td>\n",
       "      <td>2010-04-16</td>\n",
       "      <td>2016-04-16</td>\n",
       "      <td>2010-04-16</td>\n",
       "      <td>2015-04-17</td>\n",
       "      <td>47.96</td>\n",
       "      <td>...</td>\n",
       "      <td>f</td>\n",
       "      <td>0.00</td>\n",
       "      <td>28.60</td>\n",
       "      <td>28.60</td>\n",
       "      <td>1</td>\n",
       "      <td>6.60</td>\n",
       "      <td>6</td>\n",
       "      <td>kamkkxfxxuwbdslkwifmmcsiusiuosws</td>\n",
       "      <td>13.856</td>\n",
       "      <td>0</td>\n",
       "    </tr>\n",
       "    <tr>\n",
       "      <th>3</th>\n",
       "      <td>bba03439a292a1e166f80264c16191cb</td>\n",
       "      <td>lmkebamcaaclubfxadlmueccxoimlema</td>\n",
       "      <td>1584</td>\n",
       "      <td>0</td>\n",
       "      <td>0</td>\n",
       "      <td>2010-03-30</td>\n",
       "      <td>2016-03-30</td>\n",
       "      <td>2010-03-30</td>\n",
       "      <td>2015-03-31</td>\n",
       "      <td>240.04</td>\n",
       "      <td>...</td>\n",
       "      <td>f</td>\n",
       "      <td>0.00</td>\n",
       "      <td>30.22</td>\n",
       "      <td>30.22</td>\n",
       "      <td>1</td>\n",
       "      <td>25.46</td>\n",
       "      <td>6</td>\n",
       "      <td>kamkkxfxxuwbdslkwifmmcsiusiuosws</td>\n",
       "      <td>13.200</td>\n",
       "      <td>0</td>\n",
       "    </tr>\n",
       "    <tr>\n",
       "      <th>4</th>\n",
       "      <td>149d57cf92fc41cf94415803a877cb4b</td>\n",
       "      <td>MISSING</td>\n",
       "      <td>4425</td>\n",
       "      <td>0</td>\n",
       "      <td>526</td>\n",
       "      <td>2010-01-13</td>\n",
       "      <td>2016-03-07</td>\n",
       "      <td>2010-01-13</td>\n",
       "      <td>2015-03-09</td>\n",
       "      <td>445.75</td>\n",
       "      <td>...</td>\n",
       "      <td>f</td>\n",
       "      <td>52.32</td>\n",
       "      <td>44.91</td>\n",
       "      <td>44.91</td>\n",
       "      <td>1</td>\n",
       "      <td>47.98</td>\n",
       "      <td>6</td>\n",
       "      <td>kamkkxfxxuwbdslkwifmmcsiusiuosws</td>\n",
       "      <td>19.800</td>\n",
       "      <td>0</td>\n",
       "    </tr>\n",
       "  </tbody>\n",
       "</table>\n",
       "<p>5 rows × 26 columns</p>\n",
       "</div>"
      ],
      "text/plain": [
       "                                 id                     channel_sales  \\\n",
       "0  24011ae4ebbe3035111d65fa7c15bc57  foosdfpfkusacimwkcsosbicdxkicaua   \n",
       "1  d29c2c54acc38ff3c0614d0a653813dd                           MISSING   \n",
       "2  764c75f661154dac3a6c254cd082ea7d  foosdfpfkusacimwkcsosbicdxkicaua   \n",
       "3  bba03439a292a1e166f80264c16191cb  lmkebamcaaclubfxadlmueccxoimlema   \n",
       "4  149d57cf92fc41cf94415803a877cb4b                           MISSING   \n",
       "\n",
       "   cons_12m  cons_gas_12m  cons_last_month  date_activ    date_end  \\\n",
       "0         0         54946                0  2013-06-15  2016-06-15   \n",
       "1      4660             0                0  2009-08-21  2016-08-30   \n",
       "2       544             0                0  2010-04-16  2016-04-16   \n",
       "3      1584             0                0  2010-03-30  2016-03-30   \n",
       "4      4425             0              526  2010-01-13  2016-03-07   \n",
       "\n",
       "  date_modif_prod date_renewal  forecast_cons_12m  ...  has_gas  imp_cons  \\\n",
       "0      2015-11-01   2015-06-23               0.00  ...        t      0.00   \n",
       "1      2009-08-21   2015-08-31             189.95  ...        f      0.00   \n",
       "2      2010-04-16   2015-04-17              47.96  ...        f      0.00   \n",
       "3      2010-03-30   2015-03-31             240.04  ...        f      0.00   \n",
       "4      2010-01-13   2015-03-09             445.75  ...        f     52.32   \n",
       "\n",
       "   margin_gross_pow_ele  margin_net_pow_ele  nb_prod_act  net_margin  \\\n",
       "0                 25.44               25.44            2      678.99   \n",
       "1                 16.38               16.38            1       18.89   \n",
       "2                 28.60               28.60            1        6.60   \n",
       "3                 30.22               30.22            1       25.46   \n",
       "4                 44.91               44.91            1       47.98   \n",
       "\n",
       "  num_years_antig                         origin_up  pow_max  churn  \n",
       "0               3  lxidpiddsbxsbosboudacockeimpuepw   43.648      1  \n",
       "1               6  kamkkxfxxuwbdslkwifmmcsiusiuosws   13.800      0  \n",
       "2               6  kamkkxfxxuwbdslkwifmmcsiusiuosws   13.856      0  \n",
       "3               6  kamkkxfxxuwbdslkwifmmcsiusiuosws   13.200      0  \n",
       "4               6  kamkkxfxxuwbdslkwifmmcsiusiuosws   19.800      0  \n",
       "\n",
       "[5 rows x 26 columns]"
      ]
     },
     "execution_count": 68,
     "metadata": {},
     "output_type": "execute_result"
    }
   ],
   "source": [
    "#uploading the csv files of client \n",
    "cd=pd.read_csv('client_data.csv')\n",
    "cd.head()\n"
   ]
  },
  {
   "cell_type": "code",
   "execution_count": 69,
   "metadata": {},
   "outputs": [
    {
     "data": {
      "text/html": [
       "<div>\n",
       "<style scoped>\n",
       "    .dataframe tbody tr th:only-of-type {\n",
       "        vertical-align: middle;\n",
       "    }\n",
       "\n",
       "    .dataframe tbody tr th {\n",
       "        vertical-align: top;\n",
       "    }\n",
       "\n",
       "    .dataframe thead th {\n",
       "        text-align: right;\n",
       "    }\n",
       "</style>\n",
       "<table border=\"1\" class=\"dataframe\">\n",
       "  <thead>\n",
       "    <tr style=\"text-align: right;\">\n",
       "      <th></th>\n",
       "      <th>id</th>\n",
       "      <th>price_date</th>\n",
       "      <th>price_off_peak_var</th>\n",
       "      <th>price_peak_var</th>\n",
       "      <th>price_mid_peak_var</th>\n",
       "      <th>price_off_peak_fix</th>\n",
       "      <th>price_peak_fix</th>\n",
       "      <th>price_mid_peak_fix</th>\n",
       "    </tr>\n",
       "  </thead>\n",
       "  <tbody>\n",
       "    <tr>\n",
       "      <th>192997</th>\n",
       "      <td>16f51cdc2baa19af0b940ee1b3dd17d5</td>\n",
       "      <td>2015-08-01</td>\n",
       "      <td>0.119916</td>\n",
       "      <td>0.102232</td>\n",
       "      <td>0.076257</td>\n",
       "      <td>40.728885</td>\n",
       "      <td>24.43733</td>\n",
       "      <td>16.291555</td>\n",
       "    </tr>\n",
       "    <tr>\n",
       "      <th>192998</th>\n",
       "      <td>16f51cdc2baa19af0b940ee1b3dd17d5</td>\n",
       "      <td>2015-09-01</td>\n",
       "      <td>0.119916</td>\n",
       "      <td>0.102232</td>\n",
       "      <td>0.076257</td>\n",
       "      <td>40.728885</td>\n",
       "      <td>24.43733</td>\n",
       "      <td>16.291555</td>\n",
       "    </tr>\n",
       "    <tr>\n",
       "      <th>192999</th>\n",
       "      <td>16f51cdc2baa19af0b940ee1b3dd17d5</td>\n",
       "      <td>2015-10-01</td>\n",
       "      <td>0.119916</td>\n",
       "      <td>0.102232</td>\n",
       "      <td>0.076257</td>\n",
       "      <td>40.728885</td>\n",
       "      <td>24.43733</td>\n",
       "      <td>16.291555</td>\n",
       "    </tr>\n",
       "    <tr>\n",
       "      <th>193000</th>\n",
       "      <td>16f51cdc2baa19af0b940ee1b3dd17d5</td>\n",
       "      <td>2015-11-01</td>\n",
       "      <td>0.119916</td>\n",
       "      <td>0.102232</td>\n",
       "      <td>0.076257</td>\n",
       "      <td>40.728885</td>\n",
       "      <td>24.43733</td>\n",
       "      <td>16.291555</td>\n",
       "    </tr>\n",
       "    <tr>\n",
       "      <th>193001</th>\n",
       "      <td>16f51cdc2baa19af0b940ee1b3dd17d5</td>\n",
       "      <td>2015-12-01</td>\n",
       "      <td>0.119916</td>\n",
       "      <td>0.102232</td>\n",
       "      <td>0.076257</td>\n",
       "      <td>40.728885</td>\n",
       "      <td>24.43733</td>\n",
       "      <td>16.291555</td>\n",
       "    </tr>\n",
       "  </tbody>\n",
       "</table>\n",
       "</div>"
      ],
      "text/plain": [
       "                                      id  price_date  price_off_peak_var  \\\n",
       "192997  16f51cdc2baa19af0b940ee1b3dd17d5  2015-08-01            0.119916   \n",
       "192998  16f51cdc2baa19af0b940ee1b3dd17d5  2015-09-01            0.119916   \n",
       "192999  16f51cdc2baa19af0b940ee1b3dd17d5  2015-10-01            0.119916   \n",
       "193000  16f51cdc2baa19af0b940ee1b3dd17d5  2015-11-01            0.119916   \n",
       "193001  16f51cdc2baa19af0b940ee1b3dd17d5  2015-12-01            0.119916   \n",
       "\n",
       "        price_peak_var  price_mid_peak_var  price_off_peak_fix  \\\n",
       "192997        0.102232            0.076257           40.728885   \n",
       "192998        0.102232            0.076257           40.728885   \n",
       "192999        0.102232            0.076257           40.728885   \n",
       "193000        0.102232            0.076257           40.728885   \n",
       "193001        0.102232            0.076257           40.728885   \n",
       "\n",
       "        price_peak_fix  price_mid_peak_fix  \n",
       "192997        24.43733           16.291555  \n",
       "192998        24.43733           16.291555  \n",
       "192999        24.43733           16.291555  \n",
       "193000        24.43733           16.291555  \n",
       "193001        24.43733           16.291555  "
      ]
     },
     "execution_count": 69,
     "metadata": {},
     "output_type": "execute_result"
    }
   ],
   "source": [
    "#uploading the csv files of price \n",
    "pds=pd.read_csv('price_data.csv')\n",
    "pds.tail()"
   ]
  },
  {
   "cell_type": "code",
   "execution_count": 70,
   "metadata": {},
   "outputs": [],
   "source": [
    "#Copy the columns\n",
    "\n",
    "df=cd.copy()\n",
    "df1=pds.copy()"
   ]
  },
  {
   "cell_type": "code",
   "execution_count": 71,
   "metadata": {},
   "outputs": [],
   "source": [
    "#changing the data types to data and time\n",
    "for i in ['date_activ','date_end','date_modif_prod','date_renewal']:\n",
    "    df[i] = pd.to_datetime(df[i])"
   ]
  },
  {
   "cell_type": "code",
   "execution_count": 72,
   "metadata": {},
   "outputs": [],
   "source": [
    "df['modif_year'] = df['date_modif_prod'].dt.year\n",
    "df['renewal_year'] = df['date_renewal'].dt.year\n",
    "df['start_year'] = df['date_modif_prod'].dt.year\n",
    "df['end_year'] = df['date_renewal'].dt.year\n",
    "df = df.drop(columns=['date_activ','date_end','date_modif_prod','date_renewal'])"
   ]
  },
  {
   "cell_type": "code",
   "execution_count": 73,
   "metadata": {},
   "outputs": [],
   "source": [
    "#channel_sales and origin up are not unsderstanding so doing label encoder\n",
    "#channel_encoder = preprocessing.LabelEncoder()\n",
    "#df['channel_sales'] = channel_encoder.fit_transform(df['channel_sales'])\n",
    "#origin_encoder = preprocessing.LabelEncoder()\n",
    "#df['origin_up'] = origin_encoder.fit_transform(df['origin_up'])\n",
    "#has_gas= preprocessing.LableEncoder()\n",
    "#df['has_gas']= hg_encoder.fit_transform(df['has_gas'])\n",
    "\n",
    "def preprocessor(df):\n",
    "    le = preprocessing.LabelEncoder()\n",
    "    \n",
    "    df['channel_sales'] = le.fit_transform(df['channel_sales']) \n",
    "    df['origin_up'] = le.fit_transform(df['origin_up'])\n",
    "    df['has_gas'] = le.fit_transform(df['has_gas'])\n",
    "\n",
    "    return df"
   ]
  },
  {
   "cell_type": "code",
   "execution_count": 74,
   "metadata": {},
   "outputs": [],
   "source": [
    "df = preprocessor(df)"
   ]
  },
  {
   "cell_type": "code",
   "execution_count": 75,
   "metadata": {},
   "outputs": [
    {
     "data": {
      "text/html": [
       "<div>\n",
       "<style scoped>\n",
       "    .dataframe tbody tr th:only-of-type {\n",
       "        vertical-align: middle;\n",
       "    }\n",
       "\n",
       "    .dataframe tbody tr th {\n",
       "        vertical-align: top;\n",
       "    }\n",
       "\n",
       "    .dataframe thead th {\n",
       "        text-align: right;\n",
       "    }\n",
       "</style>\n",
       "<table border=\"1\" class=\"dataframe\">\n",
       "  <thead>\n",
       "    <tr style=\"text-align: right;\">\n",
       "      <th></th>\n",
       "      <th>id</th>\n",
       "      <th>channel_sales</th>\n",
       "      <th>cons_12m</th>\n",
       "      <th>cons_gas_12m</th>\n",
       "      <th>cons_last_month</th>\n",
       "      <th>forecast_cons_12m</th>\n",
       "      <th>forecast_cons_year</th>\n",
       "      <th>forecast_discount_energy</th>\n",
       "      <th>forecast_meter_rent_12m</th>\n",
       "      <th>forecast_price_energy_off_peak</th>\n",
       "      <th>...</th>\n",
       "      <th>nb_prod_act</th>\n",
       "      <th>net_margin</th>\n",
       "      <th>num_years_antig</th>\n",
       "      <th>origin_up</th>\n",
       "      <th>pow_max</th>\n",
       "      <th>churn</th>\n",
       "      <th>modif_year</th>\n",
       "      <th>renewal_year</th>\n",
       "      <th>start_year</th>\n",
       "      <th>end_year</th>\n",
       "    </tr>\n",
       "  </thead>\n",
       "  <tbody>\n",
       "    <tr>\n",
       "      <th>0</th>\n",
       "      <td>24011ae4ebbe3035111d65fa7c15bc57</td>\n",
       "      <td>4</td>\n",
       "      <td>0</td>\n",
       "      <td>54946</td>\n",
       "      <td>0</td>\n",
       "      <td>0.00</td>\n",
       "      <td>0</td>\n",
       "      <td>0.0</td>\n",
       "      <td>1.78</td>\n",
       "      <td>0.114481</td>\n",
       "      <td>...</td>\n",
       "      <td>2</td>\n",
       "      <td>678.99</td>\n",
       "      <td>3</td>\n",
       "      <td>4</td>\n",
       "      <td>43.648</td>\n",
       "      <td>1</td>\n",
       "      <td>2015</td>\n",
       "      <td>2015</td>\n",
       "      <td>2015</td>\n",
       "      <td>2015</td>\n",
       "    </tr>\n",
       "    <tr>\n",
       "      <th>1</th>\n",
       "      <td>d29c2c54acc38ff3c0614d0a653813dd</td>\n",
       "      <td>0</td>\n",
       "      <td>4660</td>\n",
       "      <td>0</td>\n",
       "      <td>0</td>\n",
       "      <td>189.95</td>\n",
       "      <td>0</td>\n",
       "      <td>0.0</td>\n",
       "      <td>16.27</td>\n",
       "      <td>0.145711</td>\n",
       "      <td>...</td>\n",
       "      <td>1</td>\n",
       "      <td>18.89</td>\n",
       "      <td>6</td>\n",
       "      <td>2</td>\n",
       "      <td>13.800</td>\n",
       "      <td>0</td>\n",
       "      <td>2009</td>\n",
       "      <td>2015</td>\n",
       "      <td>2009</td>\n",
       "      <td>2015</td>\n",
       "    </tr>\n",
       "    <tr>\n",
       "      <th>2</th>\n",
       "      <td>764c75f661154dac3a6c254cd082ea7d</td>\n",
       "      <td>4</td>\n",
       "      <td>544</td>\n",
       "      <td>0</td>\n",
       "      <td>0</td>\n",
       "      <td>47.96</td>\n",
       "      <td>0</td>\n",
       "      <td>0.0</td>\n",
       "      <td>38.72</td>\n",
       "      <td>0.165794</td>\n",
       "      <td>...</td>\n",
       "      <td>1</td>\n",
       "      <td>6.60</td>\n",
       "      <td>6</td>\n",
       "      <td>2</td>\n",
       "      <td>13.856</td>\n",
       "      <td>0</td>\n",
       "      <td>2010</td>\n",
       "      <td>2015</td>\n",
       "      <td>2010</td>\n",
       "      <td>2015</td>\n",
       "    </tr>\n",
       "    <tr>\n",
       "      <th>3</th>\n",
       "      <td>bba03439a292a1e166f80264c16191cb</td>\n",
       "      <td>5</td>\n",
       "      <td>1584</td>\n",
       "      <td>0</td>\n",
       "      <td>0</td>\n",
       "      <td>240.04</td>\n",
       "      <td>0</td>\n",
       "      <td>0.0</td>\n",
       "      <td>19.83</td>\n",
       "      <td>0.146694</td>\n",
       "      <td>...</td>\n",
       "      <td>1</td>\n",
       "      <td>25.46</td>\n",
       "      <td>6</td>\n",
       "      <td>2</td>\n",
       "      <td>13.200</td>\n",
       "      <td>0</td>\n",
       "      <td>2010</td>\n",
       "      <td>2015</td>\n",
       "      <td>2010</td>\n",
       "      <td>2015</td>\n",
       "    </tr>\n",
       "    <tr>\n",
       "      <th>4</th>\n",
       "      <td>149d57cf92fc41cf94415803a877cb4b</td>\n",
       "      <td>0</td>\n",
       "      <td>4425</td>\n",
       "      <td>0</td>\n",
       "      <td>526</td>\n",
       "      <td>445.75</td>\n",
       "      <td>526</td>\n",
       "      <td>0.0</td>\n",
       "      <td>131.73</td>\n",
       "      <td>0.116900</td>\n",
       "      <td>...</td>\n",
       "      <td>1</td>\n",
       "      <td>47.98</td>\n",
       "      <td>6</td>\n",
       "      <td>2</td>\n",
       "      <td>19.800</td>\n",
       "      <td>0</td>\n",
       "      <td>2010</td>\n",
       "      <td>2015</td>\n",
       "      <td>2010</td>\n",
       "      <td>2015</td>\n",
       "    </tr>\n",
       "  </tbody>\n",
       "</table>\n",
       "<p>5 rows × 26 columns</p>\n",
       "</div>"
      ],
      "text/plain": [
       "                                 id  channel_sales  cons_12m  cons_gas_12m  \\\n",
       "0  24011ae4ebbe3035111d65fa7c15bc57              4         0         54946   \n",
       "1  d29c2c54acc38ff3c0614d0a653813dd              0      4660             0   \n",
       "2  764c75f661154dac3a6c254cd082ea7d              4       544             0   \n",
       "3  bba03439a292a1e166f80264c16191cb              5      1584             0   \n",
       "4  149d57cf92fc41cf94415803a877cb4b              0      4425             0   \n",
       "\n",
       "   cons_last_month  forecast_cons_12m  forecast_cons_year  \\\n",
       "0                0               0.00                   0   \n",
       "1                0             189.95                   0   \n",
       "2                0              47.96                   0   \n",
       "3                0             240.04                   0   \n",
       "4              526             445.75                 526   \n",
       "\n",
       "   forecast_discount_energy  forecast_meter_rent_12m  \\\n",
       "0                       0.0                     1.78   \n",
       "1                       0.0                    16.27   \n",
       "2                       0.0                    38.72   \n",
       "3                       0.0                    19.83   \n",
       "4                       0.0                   131.73   \n",
       "\n",
       "   forecast_price_energy_off_peak  ...  nb_prod_act  net_margin  \\\n",
       "0                        0.114481  ...            2      678.99   \n",
       "1                        0.145711  ...            1       18.89   \n",
       "2                        0.165794  ...            1        6.60   \n",
       "3                        0.146694  ...            1       25.46   \n",
       "4                        0.116900  ...            1       47.98   \n",
       "\n",
       "   num_years_antig  origin_up  pow_max  churn  modif_year  renewal_year  \\\n",
       "0                3          4   43.648      1        2015          2015   \n",
       "1                6          2   13.800      0        2009          2015   \n",
       "2                6          2   13.856      0        2010          2015   \n",
       "3                6          2   13.200      0        2010          2015   \n",
       "4                6          2   19.800      0        2010          2015   \n",
       "\n",
       "   start_year  end_year  \n",
       "0        2015      2015  \n",
       "1        2009      2015  \n",
       "2        2010      2015  \n",
       "3        2010      2015  \n",
       "4        2010      2015  \n",
       "\n",
       "[5 rows x 26 columns]"
      ]
     },
     "execution_count": 75,
     "metadata": {},
     "output_type": "execute_result"
    }
   ],
   "source": [
    "df.head()"
   ]
  },
  {
   "cell_type": "code",
   "execution_count": 76,
   "metadata": {},
   "outputs": [
    {
     "data": {
      "text/html": [
       "<div>\n",
       "<style scoped>\n",
       "    .dataframe tbody tr th:only-of-type {\n",
       "        vertical-align: middle;\n",
       "    }\n",
       "\n",
       "    .dataframe tbody tr th {\n",
       "        vertical-align: top;\n",
       "    }\n",
       "\n",
       "    .dataframe thead th {\n",
       "        text-align: right;\n",
       "    }\n",
       "</style>\n",
       "<table border=\"1\" class=\"dataframe\">\n",
       "  <thead>\n",
       "    <tr style=\"text-align: right;\">\n",
       "      <th></th>\n",
       "      <th>id</th>\n",
       "      <th>price_date</th>\n",
       "      <th>price_off_peak_var</th>\n",
       "      <th>price_peak_var</th>\n",
       "      <th>price_mid_peak_var</th>\n",
       "      <th>price_off_peak_fix</th>\n",
       "      <th>price_peak_fix</th>\n",
       "      <th>price_mid_peak_fix</th>\n",
       "    </tr>\n",
       "  </thead>\n",
       "  <tbody>\n",
       "    <tr>\n",
       "      <th>0</th>\n",
       "      <td>038af19179925da21a25619c5a24b745</td>\n",
       "      <td>2015-01-01</td>\n",
       "      <td>0.151367</td>\n",
       "      <td>0.0</td>\n",
       "      <td>0.0</td>\n",
       "      <td>44.266931</td>\n",
       "      <td>0.0</td>\n",
       "      <td>0.0</td>\n",
       "    </tr>\n",
       "    <tr>\n",
       "      <th>1</th>\n",
       "      <td>038af19179925da21a25619c5a24b745</td>\n",
       "      <td>2015-02-01</td>\n",
       "      <td>0.151367</td>\n",
       "      <td>0.0</td>\n",
       "      <td>0.0</td>\n",
       "      <td>44.266931</td>\n",
       "      <td>0.0</td>\n",
       "      <td>0.0</td>\n",
       "    </tr>\n",
       "    <tr>\n",
       "      <th>2</th>\n",
       "      <td>038af19179925da21a25619c5a24b745</td>\n",
       "      <td>2015-03-01</td>\n",
       "      <td>0.151367</td>\n",
       "      <td>0.0</td>\n",
       "      <td>0.0</td>\n",
       "      <td>44.266931</td>\n",
       "      <td>0.0</td>\n",
       "      <td>0.0</td>\n",
       "    </tr>\n",
       "    <tr>\n",
       "      <th>3</th>\n",
       "      <td>038af19179925da21a25619c5a24b745</td>\n",
       "      <td>2015-04-01</td>\n",
       "      <td>0.149626</td>\n",
       "      <td>0.0</td>\n",
       "      <td>0.0</td>\n",
       "      <td>44.266931</td>\n",
       "      <td>0.0</td>\n",
       "      <td>0.0</td>\n",
       "    </tr>\n",
       "    <tr>\n",
       "      <th>4</th>\n",
       "      <td>038af19179925da21a25619c5a24b745</td>\n",
       "      <td>2015-05-01</td>\n",
       "      <td>0.149626</td>\n",
       "      <td>0.0</td>\n",
       "      <td>0.0</td>\n",
       "      <td>44.266931</td>\n",
       "      <td>0.0</td>\n",
       "      <td>0.0</td>\n",
       "    </tr>\n",
       "  </tbody>\n",
       "</table>\n",
       "</div>"
      ],
      "text/plain": [
       "                                 id price_date  price_off_peak_var  \\\n",
       "0  038af19179925da21a25619c5a24b745 2015-01-01            0.151367   \n",
       "1  038af19179925da21a25619c5a24b745 2015-02-01            0.151367   \n",
       "2  038af19179925da21a25619c5a24b745 2015-03-01            0.151367   \n",
       "3  038af19179925da21a25619c5a24b745 2015-04-01            0.149626   \n",
       "4  038af19179925da21a25619c5a24b745 2015-05-01            0.149626   \n",
       "\n",
       "   price_peak_var  price_mid_peak_var  price_off_peak_fix  price_peak_fix  \\\n",
       "0             0.0                 0.0           44.266931             0.0   \n",
       "1             0.0                 0.0           44.266931             0.0   \n",
       "2             0.0                 0.0           44.266931             0.0   \n",
       "3             0.0                 0.0           44.266931             0.0   \n",
       "4             0.0                 0.0           44.266931             0.0   \n",
       "\n",
       "   price_mid_peak_fix  \n",
       "0                 0.0  \n",
       "1                 0.0  \n",
       "2                 0.0  \n",
       "3                 0.0  \n",
       "4                 0.0  "
      ]
     },
     "execution_count": 76,
     "metadata": {},
     "output_type": "execute_result"
    }
   ],
   "source": [
    "#change the data type\n",
    "df1[\"price_date\"] = pd.to_datetime(df1['price_date'])\n",
    "df1.head()"
   ]
  },
  {
   "cell_type": "code",
   "execution_count": 77,
   "metadata": {},
   "outputs": [],
   "source": [
    "diff_dec_jan_off_peak_var = df1.sort_values(by=['price_date']).groupby(['id'])['price_off_peak_var'].nth(-1) - df1.sort_values(by=['price_date']).groupby(['id'])['price_off_peak_var'].nth(0)\n",
    "diff_dec_jan_off_peak_var = diff_dec_jan_off_peak_var.reset_index(name='diff_dec_jan_off_peak_var')\n",
    "diff_dec_jan_off_peak_fix = df1.sort_values(by=['price_date']).groupby(['id'])['price_off_peak_fix'].nth(-1) - df1.sort_values(by=['price_date']).groupby(['id'])['price_off_peak_fix'].nth(0)\n",
    "diff_dec_jan_off_peak_fix = diff_dec_jan_off_peak_fix.reset_index(name='diff_dec_jan_off_peak_fix')\n",
    "df = df.merge(diff_dec_jan_off_peak_var, on='id', how='left')\n",
    "df = df.merge(diff_dec_jan_off_peak_fix, on='id', how='left')"
   ]
  },
  {
   "cell_type": "code",
   "execution_count": 78,
   "metadata": {},
   "outputs": [
    {
     "data": {
      "text/html": [
       "<div>\n",
       "<style scoped>\n",
       "    .dataframe tbody tr th:only-of-type {\n",
       "        vertical-align: middle;\n",
       "    }\n",
       "\n",
       "    .dataframe tbody tr th {\n",
       "        vertical-align: top;\n",
       "    }\n",
       "\n",
       "    .dataframe thead th {\n",
       "        text-align: right;\n",
       "    }\n",
       "</style>\n",
       "<table border=\"1\" class=\"dataframe\">\n",
       "  <thead>\n",
       "    <tr style=\"text-align: right;\">\n",
       "      <th></th>\n",
       "      <th>id</th>\n",
       "      <th>channel_sales</th>\n",
       "      <th>cons_12m</th>\n",
       "      <th>cons_gas_12m</th>\n",
       "      <th>cons_last_month</th>\n",
       "      <th>forecast_cons_12m</th>\n",
       "      <th>forecast_cons_year</th>\n",
       "      <th>forecast_discount_energy</th>\n",
       "      <th>forecast_meter_rent_12m</th>\n",
       "      <th>forecast_price_energy_off_peak</th>\n",
       "      <th>...</th>\n",
       "      <th>modif_year</th>\n",
       "      <th>renewal_year</th>\n",
       "      <th>start_year</th>\n",
       "      <th>end_year</th>\n",
       "      <th>diff_dec_jan_off_peak_var</th>\n",
       "      <th>diff_dec_jan_off_peak_fix</th>\n",
       "      <th>diff_dec_jan_price_peak_var</th>\n",
       "      <th>diff_dec_jan_price_peak_fix</th>\n",
       "      <th>diff_dec_jan_price_mid_peak_var</th>\n",
       "      <th>diff_dec_jan_price_mid_peak_fix</th>\n",
       "    </tr>\n",
       "  </thead>\n",
       "  <tbody>\n",
       "    <tr>\n",
       "      <th>0</th>\n",
       "      <td>24011ae4ebbe3035111d65fa7c15bc57</td>\n",
       "      <td>4</td>\n",
       "      <td>0</td>\n",
       "      <td>54946</td>\n",
       "      <td>0</td>\n",
       "      <td>0.00</td>\n",
       "      <td>0</td>\n",
       "      <td>0.0</td>\n",
       "      <td>1.78</td>\n",
       "      <td>0.114481</td>\n",
       "      <td>...</td>\n",
       "      <td>2015</td>\n",
       "      <td>2015</td>\n",
       "      <td>2015</td>\n",
       "      <td>2015</td>\n",
       "      <td>0.020057</td>\n",
       "      <td>3.700961</td>\n",
       "      <td>-0.017912</td>\n",
       "      <td>-24.339581</td>\n",
       "      <td>-0.071536</td>\n",
       "      <td>-16.226389</td>\n",
       "    </tr>\n",
       "    <tr>\n",
       "      <th>1</th>\n",
       "      <td>d29c2c54acc38ff3c0614d0a653813dd</td>\n",
       "      <td>0</td>\n",
       "      <td>4660</td>\n",
       "      <td>0</td>\n",
       "      <td>0</td>\n",
       "      <td>189.95</td>\n",
       "      <td>0</td>\n",
       "      <td>0.0</td>\n",
       "      <td>16.27</td>\n",
       "      <td>0.145711</td>\n",
       "      <td>...</td>\n",
       "      <td>2009</td>\n",
       "      <td>2015</td>\n",
       "      <td>2009</td>\n",
       "      <td>2015</td>\n",
       "      <td>-0.003767</td>\n",
       "      <td>0.177779</td>\n",
       "      <td>0.000000</td>\n",
       "      <td>0.000000</td>\n",
       "      <td>0.000000</td>\n",
       "      <td>0.000000</td>\n",
       "    </tr>\n",
       "    <tr>\n",
       "      <th>2</th>\n",
       "      <td>764c75f661154dac3a6c254cd082ea7d</td>\n",
       "      <td>4</td>\n",
       "      <td>544</td>\n",
       "      <td>0</td>\n",
       "      <td>0</td>\n",
       "      <td>47.96</td>\n",
       "      <td>0</td>\n",
       "      <td>0.0</td>\n",
       "      <td>38.72</td>\n",
       "      <td>0.165794</td>\n",
       "      <td>...</td>\n",
       "      <td>2010</td>\n",
       "      <td>2015</td>\n",
       "      <td>2010</td>\n",
       "      <td>2015</td>\n",
       "      <td>-0.004670</td>\n",
       "      <td>0.177779</td>\n",
       "      <td>0.000528</td>\n",
       "      <td>0.000000</td>\n",
       "      <td>0.000000</td>\n",
       "      <td>0.000000</td>\n",
       "    </tr>\n",
       "    <tr>\n",
       "      <th>3</th>\n",
       "      <td>bba03439a292a1e166f80264c16191cb</td>\n",
       "      <td>5</td>\n",
       "      <td>1584</td>\n",
       "      <td>0</td>\n",
       "      <td>0</td>\n",
       "      <td>240.04</td>\n",
       "      <td>0</td>\n",
       "      <td>0.0</td>\n",
       "      <td>19.83</td>\n",
       "      <td>0.146694</td>\n",
       "      <td>...</td>\n",
       "      <td>2010</td>\n",
       "      <td>2015</td>\n",
       "      <td>2010</td>\n",
       "      <td>2015</td>\n",
       "      <td>-0.004547</td>\n",
       "      <td>0.177779</td>\n",
       "      <td>0.000000</td>\n",
       "      <td>0.000000</td>\n",
       "      <td>0.000000</td>\n",
       "      <td>0.000000</td>\n",
       "    </tr>\n",
       "    <tr>\n",
       "      <th>4</th>\n",
       "      <td>149d57cf92fc41cf94415803a877cb4b</td>\n",
       "      <td>0</td>\n",
       "      <td>4425</td>\n",
       "      <td>0</td>\n",
       "      <td>526</td>\n",
       "      <td>445.75</td>\n",
       "      <td>526</td>\n",
       "      <td>0.0</td>\n",
       "      <td>131.73</td>\n",
       "      <td>0.116900</td>\n",
       "      <td>...</td>\n",
       "      <td>2010</td>\n",
       "      <td>2015</td>\n",
       "      <td>2010</td>\n",
       "      <td>2015</td>\n",
       "      <td>-0.006192</td>\n",
       "      <td>0.162916</td>\n",
       "      <td>-0.002302</td>\n",
       "      <td>0.097749</td>\n",
       "      <td>0.003487</td>\n",
       "      <td>0.065166</td>\n",
       "    </tr>\n",
       "  </tbody>\n",
       "</table>\n",
       "<p>5 rows × 32 columns</p>\n",
       "</div>"
      ],
      "text/plain": [
       "                                 id  channel_sales  cons_12m  cons_gas_12m  \\\n",
       "0  24011ae4ebbe3035111d65fa7c15bc57              4         0         54946   \n",
       "1  d29c2c54acc38ff3c0614d0a653813dd              0      4660             0   \n",
       "2  764c75f661154dac3a6c254cd082ea7d              4       544             0   \n",
       "3  bba03439a292a1e166f80264c16191cb              5      1584             0   \n",
       "4  149d57cf92fc41cf94415803a877cb4b              0      4425             0   \n",
       "\n",
       "   cons_last_month  forecast_cons_12m  forecast_cons_year  \\\n",
       "0                0               0.00                   0   \n",
       "1                0             189.95                   0   \n",
       "2                0              47.96                   0   \n",
       "3                0             240.04                   0   \n",
       "4              526             445.75                 526   \n",
       "\n",
       "   forecast_discount_energy  forecast_meter_rent_12m  \\\n",
       "0                       0.0                     1.78   \n",
       "1                       0.0                    16.27   \n",
       "2                       0.0                    38.72   \n",
       "3                       0.0                    19.83   \n",
       "4                       0.0                   131.73   \n",
       "\n",
       "   forecast_price_energy_off_peak  ...  modif_year  renewal_year  start_year  \\\n",
       "0                        0.114481  ...        2015          2015        2015   \n",
       "1                        0.145711  ...        2009          2015        2009   \n",
       "2                        0.165794  ...        2010          2015        2010   \n",
       "3                        0.146694  ...        2010          2015        2010   \n",
       "4                        0.116900  ...        2010          2015        2010   \n",
       "\n",
       "   end_year  diff_dec_jan_off_peak_var  diff_dec_jan_off_peak_fix  \\\n",
       "0      2015                   0.020057                   3.700961   \n",
       "1      2015                  -0.003767                   0.177779   \n",
       "2      2015                  -0.004670                   0.177779   \n",
       "3      2015                  -0.004547                   0.177779   \n",
       "4      2015                  -0.006192                   0.162916   \n",
       "\n",
       "   diff_dec_jan_price_peak_var  diff_dec_jan_price_peak_fix  \\\n",
       "0                    -0.017912                   -24.339581   \n",
       "1                     0.000000                     0.000000   \n",
       "2                     0.000528                     0.000000   \n",
       "3                     0.000000                     0.000000   \n",
       "4                    -0.002302                     0.097749   \n",
       "\n",
       "   diff_dec_jan_price_mid_peak_var  diff_dec_jan_price_mid_peak_fix  \n",
       "0                        -0.071536                       -16.226389  \n",
       "1                         0.000000                         0.000000  \n",
       "2                         0.000000                         0.000000  \n",
       "3                         0.000000                         0.000000  \n",
       "4                         0.003487                         0.065166  \n",
       "\n",
       "[5 rows x 32 columns]"
      ]
     },
     "execution_count": 78,
     "metadata": {},
     "output_type": "execute_result"
    }
   ],
   "source": [
    "for attr in ['price_peak_var','price_peak_fix','price_mid_peak_var','price_mid_peak_fix']:\n",
    "    diff_dec_jan_temp = df1.sort_values(by=['price_date']).groupby(['id'])[attr].nth(-1) - df1.sort_values(by=['price_date']).groupby(['id'])[attr].nth(0)\n",
    "    diff_dec_jan_temp = diff_dec_jan_temp.reset_index(name=f'diff_dec_jan_{attr}')\n",
    "    df = df.merge(diff_dec_jan_temp, on='id', how='left')\n",
    "    \n",
    "\n",
    "df.head()"
   ]
  },
  {
   "cell_type": "markdown",
   "metadata": {},
   "source": [
    "# Treating Outliers"
   ]
  },
  {
   "cell_type": "code",
   "execution_count": 79,
   "metadata": {},
   "outputs": [
    {
     "data": {
      "image/png": "[encoded data removed]",
      "text/plain": [
       "<Figure size 432x288 with 1 Axes>"
      ]
     },
     "metadata": {
      "needs_background": "light"
     },
     "output_type": "display_data"
    },
    {
     "data": {
      "image/png": "[encoded data removed]",
      "text/plain": [
       "<Figure size 432x288 with 1 Axes>"
      ]
     },
     "metadata": {
      "needs_background": "light"
     },
     "output_type": "display_data"
    },
    {
     "data": {
      "image/png": "[encoded data removed]",
      "text/plain": [
       "<Figure size 432x288 with 1 Axes>"
      ]
     },
     "metadata": {
      "needs_background": "light"
     },
     "output_type": "display_data"
    },
    {
     "data": {
      "image/png": "[encoded data removed]",
      "text/plain": [
       "<Figure size 432x288 with 1 Axes>"
      ]
     },
     "metadata": {
      "needs_background": "light"
     },
     "output_type": "display_data"
    },
    {
     "data": {
      "image/png": "[encoded data removed]",
      "text/plain": [
       "<Figure size 432x288 with 1 Axes>"
      ]
     },
     "metadata": {
      "needs_background": "light"
     },
     "output_type": "display_data"
    },
    {
     "data": {
      "image/png": "[encoded data removed]",
      "text/plain": [
       "<Figure size 432x288 with 1 Axes>"
      ]
     },
     "metadata": {
      "needs_background": "light"
     },
     "output_type": "display_data"
    },
    {
     "data": {
      "image/png": "[encoded data removed]",
      "text/plain": [
       "<Figure size 432x288 with 1 Axes>"
      ]
     },
     "metadata": {
      "needs_background": "light"
     },
     "output_type": "display_data"
    },
    {
     "data": {
      "image/png": "[encoded data removed]",
      "text/plain": [
       "<Figure size 432x288 with 1 Axes>"
      ]
     },
     "metadata": {
      "needs_background": "light"
     },
     "output_type": "display_data"
    },
    {
     "data": {
      "image/png": "[encoded data removed]",
      "text/plain": [
       "<Figure size 432x288 with 1 Axes>"
      ]
     },
     "metadata": {
      "needs_background": "light"
     },
     "output_type": "display_data"
    },
    {
     "data": {
      "image/png": "[encoded data removed]",
      "text/plain": [
       "<Figure size 432x288 with 1 Axes>"
      ]
     },
     "metadata": {
      "needs_background": "light"
     },
     "output_type": "display_data"
    },
    {
     "data": {
      "image/png": "[encoded data removed]",
      "text/plain": [
       "<Figure size 432x288 with 1 Axes>"
      ]
     },
     "metadata": {
      "needs_background": "light"
     },
     "output_type": "display_data"
    },
    {
     "data": {
      "image/png": "[encoded data removed]",
      "text/plain": [
       "<Figure size 432x288 with 1 Axes>"
      ]
     },
     "metadata": {
      "needs_background": "light"
     },
     "output_type": "display_data"
    },
    {
     "data": {
      "image/png": "[encoded data removed]",
      "text/plain": [
       "<Figure size 432x288 with 1 Axes>"
      ]
     },
     "metadata": {
      "needs_background": "light"
     },
     "output_type": "display_data"
    },
    {
     "data": {
      "image/png": "[encoded data removed]",
      "text/plain": [
       "<Figure size 432x288 with 1 Axes>"
      ]
     },
     "metadata": {
      "needs_background": "light"
     },
     "output_type": "display_data"
    },
    {
     "data": {
      "image/png": "[encoded data removed]",
      "text/plain": [
       "<Figure size 432x288 with 1 Axes>"
      ]
     },
     "metadata": {
      "needs_background": "light"
     },
     "output_type": "display_data"
    },
    {
     "data": {
      "image/png": "[encoded data removed]",
      "text/plain": [
       "<Figure size 432x288 with 1 Axes>"
      ]
     },
     "metadata": {
      "needs_background": "light"
     },
     "output_type": "display_data"
    },
    {
     "data": {
      "image/png": "[encoded data removed]",
      "text/plain": [
       "<Figure size 432x288 with 1 Axes>"
      ]
     },
     "metadata": {
      "needs_background": "light"
     },
     "output_type": "display_data"
    },
    {
     "data": {
      "image/png": "[encoded data removed]",
      "text/plain": [
       "<Figure size 432x288 with 1 Axes>"
      ]
     },
     "metadata": {
      "needs_background": "light"
     },
     "output_type": "display_data"
    },
    {
     "data": {
      "image/png": "[encoded data removed]",
      "text/plain": [
       "<Figure size 432x288 with 1 Axes>"
      ]
     },
     "metadata": {
      "needs_background": "light"
     },
     "output_type": "display_data"
    },
    {
     "data": {
      "image/png": "[encoded data removed]",
      "text/plain": [
       "<Figure size 432x288 with 1 Axes>"
      ]
     },
     "metadata": {
      "needs_background": "light"
     },
     "output_type": "display_data"
    },
    {
     "data": {
      "image/png": "[encoded data removed]",
      "text/plain": [
       "<Figure size 432x288 with 1 Axes>"
      ]
     },
     "metadata": {
      "needs_background": "light"
     },
     "output_type": "display_data"
    },
    {
     "data": {
      "image/png": "[encoded data removed]",
      "text/plain": [
       "<Figure size 432x288 with 1 Axes>"
      ]
     },
     "metadata": {
      "needs_background": "light"
     },
     "output_type": "display_data"
    },
    {
     "data": {
      "image/png": "[encoded data removed]",
      "text/plain": [
       "<Figure size 432x288 with 1 Axes>"
      ]
     },
     "metadata": {
      "needs_background": "light"
     },
     "output_type": "display_data"
    },
    {
     "data": {
      "image/png": "[encoded data removed]",
      "text/plain": [
       "<Figure size 432x288 with 1 Axes>"
      ]
     },
     "metadata": {
      "needs_background": "light"
     },
     "output_type": "display_data"
    },
    {
     "data": {
      "image/png": "[encoded data removed]",
      "text/plain": [
       "<Figure size 432x288 with 1 Axes>"
      ]
     },
     "metadata": {
      "needs_background": "light"
     },
     "output_type": "display_data"
    },
    {
     "data": {
      "image/png": "[encoded data removed]",
      "text/plain": [
       "<Figure size 432x288 with 1 Axes>"
      ]
     },
     "metadata": {
      "needs_background": "light"
     },
     "output_type": "display_data"
    },
    {
     "data": {
      "image/png": "[encoded data removed]",
      "text/plain": [
       "<Figure size 432x288 with 1 Axes>"
      ]
     },
     "metadata": {
      "needs_background": "light"
     },
     "output_type": "display_data"
    },
    {
     "data": {
      "image/png": "[encoded data removed]",
      "text/plain": [
       "<Figure size 432x288 with 1 Axes>"
      ]
     },
     "metadata": {
      "needs_background": "light"
     },
     "output_type": "display_data"
    },
    {
     "data": {
      "image/png": "[encoded data removed]",
      "text/plain": [
       "<Figure size 432x288 with 1 Axes>"
      ]
     },
     "metadata": {
      "needs_background": "light"
     },
     "output_type": "display_data"
    },
    {
     "data": {
      "image/png": "[encoded data removed]",
      "text/plain": [
       "<Figure size 432x288 with 1 Axes>"
      ]
     },
     "metadata": {
      "needs_background": "light"
     },
     "output_type": "display_data"
    }
   ],
   "source": [
    "def boxplots(col):\n",
    "    sns.boxplot(df[col])\n",
    "    plt.show()\n",
    "    \n",
    "for i in list(df.select_dtypes(exclude=['object','datetime64']).columns)[1:]:\n",
    "    boxplots(i)"
   ]
  },
  {
   "cell_type": "code",
   "execution_count": 80,
   "metadata": {},
   "outputs": [],
   "source": [
    "def remove_outlier(col):\n",
    "    sorted(col)\n",
    "    Q1, Q3 = col.quantile([0.25, 0.75])\n",
    "    IQR = Q3 - Q1\n",
    "    lower_range = Q1 - (1.5 * IQR)\n",
    "    upper_range = Q3 + (1.5 * IQR)\n",
    "    return lower_range, upper_range"
   ]
  },
  {
   "cell_type": "code",
   "execution_count": 81,
   "metadata": {},
   "outputs": [],
   "source": [
    "lrcons_gas_12m, upcons_gas_12m = remove_outlier(df['cons_gas_12m'])\n",
    "df['cons_gas_12m'] = np.where(df['cons_gas_12m']>upcons_gas_12m, upcons_gas_12m, df['cons_gas_12m'])\n",
    "df['cons_gas_12m'] = np.where(df['cons_gas_12m']< lrcons_gas_12m, lrcons_gas_12m, df['cons_gas_12m'])\n",
    "\n",
    "lrcons_last_month, upcons_last_month = remove_outlier(df['cons_last_month'])\n",
    "df['cons_last_month'] = np.where(df['cons_last_month']>upcons_last_month, upcons_last_month, df['cons_last_month'])\n",
    "df['cons_last_month'] = np.where(df['cons_last_month']< lrcons_last_month, lrcons_last_month, df['cons_last_month'])\n",
    "\n",
    "lrforecast_cons_12m, upforecast_cons_12m = remove_outlier(df['forecast_cons_12m'])\n",
    "df['forecast_cons_12m'] = np.where(df['forecast_cons_12m']>upforecast_cons_12m, upforecast_cons_12m, df['forecast_cons_12m'])\n",
    "df['forecast_cons_12m'] = np.where(df['forecast_cons_12m']< lrforecast_cons_12m, lrforecast_cons_12m, df['forecast_cons_12m'])\n",
    "\n",
    "lrforecast_cons_year, upforecast_cons_year = remove_outlier(df['forecast_cons_year'])\n",
    "df['forecast_cons_year'] = np.where(df['forecast_cons_year']>upforecast_cons_year, upforecast_cons_year, df['forecast_cons_year'])\n",
    "df['forecast_cons_year'] = np.where(df['forecast_cons_year']< lrforecast_cons_year, lrforecast_cons_year, df['forecast_cons_year'])\n",
    "\n",
    "lrforecast_discount_energy, upforecast_discount_energy = remove_outlier(df['forecast_discount_energy'])\n",
    "df['forecast_discount_energy'] = np.where(df['forecast_discount_energy']>upforecast_discount_energy, upforecast_discount_energy, df['forecast_discount_energy'])\n",
    "df['forecast_discount_energy'] = np.where(df['forecast_discount_energy']< lrforecast_discount_energy, lrforecast_discount_energy, df['forecast_discount_energy'])\n",
    "\n",
    "lrforecast_meter_rent_12m, upforecast_meter_rent_12m = remove_outlier(df['forecast_meter_rent_12m'])\n",
    "df['forecast_meter_rent_12m'] = np.where(df['forecast_meter_rent_12m']>upforecast_meter_rent_12m, upforecast_meter_rent_12m, df['forecast_meter_rent_12m'])\n",
    "df['forecast_meter_rent_12m'] = np.where(df['forecast_meter_rent_12m']< lrforecast_meter_rent_12m, lrforecast_meter_rent_12m, df['forecast_meter_rent_12m'])\n",
    "\n",
    "lrforecast_price_energy_off_peak, upforecast_price_energy_off_peak = remove_outlier(df['forecast_price_energy_off_peak'])\n",
    "df['forecast_price_energy_off_peak'] = np.where(df['forecast_price_energy_off_peak']>upforecast_price_energy_off_peak, upforecast_price_energy_off_peak, df['forecast_price_energy_off_peak'])\n",
    "df['forecast_price_energy_off_peak'] = np.where(df['forecast_price_energy_off_peak']< lrforecast_price_energy_off_peak, lrforecast_price_energy_off_peak, df['forecast_price_energy_off_peak'])\n",
    "\n",
    "lrforecast_price_pow_off_peak, upforecast_price_pow_off_peak = remove_outlier(df['forecast_price_pow_off_peak'])\n",
    "df['forecast_price_pow_off_peak'] = np.where(df['forecast_price_pow_off_peak']>upforecast_price_pow_off_peak, upforecast_price_pow_off_peak, df['forecast_price_pow_off_peak'])\n",
    "df['forecast_price_pow_off_peak'] = np.where(df['forecast_price_pow_off_peak']< lrforecast_price_pow_off_peak, lrforecast_price_pow_off_peak, df['forecast_price_pow_off_peak'])\n",
    "\n",
    "lrimp_cons, upimp_cons = remove_outlier(df['imp_cons'])\n",
    "df['imp_cons'] = np.where(df['imp_cons']>upimp_cons, upimp_cons, df['imp_cons'])\n",
    "df['imp_cons'] = np.where(df['imp_cons']< lrimp_cons, lrimp_cons, df['imp_cons'])\n",
    "\n",
    "lrmargin_gross_pow_ele, upmargin_gross_pow_ele = remove_outlier(df['margin_gross_pow_ele'])\n",
    "df['margin_gross_pow_ele'] = np.where(df['margin_gross_pow_ele']>upmargin_gross_pow_ele, upmargin_gross_pow_ele, df['margin_gross_pow_ele'])\n",
    "df['margin_gross_pow_ele'] = np.where(df['margin_gross_pow_ele']< lrmargin_gross_pow_ele, lrmargin_gross_pow_ele, df['margin_gross_pow_ele'])\n",
    "\n",
    "lrmargin_net_pow_ele, upmargin_net_pow_ele= remove_outlier(df['margin_net_pow_ele'])\n",
    "df['margin_net_pow_ele'] = np.where(df['margin_net_pow_ele']>upmargin_net_pow_ele, upmargin_net_pow_ele, df['margin_net_pow_ele'])\n",
    "df['margin_net_pow_ele'] = np.where(df['margin_net_pow_ele']< lrmargin_net_pow_ele, lrmargin_net_pow_ele, df['margin_net_pow_ele'])\n",
    "\n",
    "lrnb_prod_act, upnb_prod_act = remove_outlier(df['nb_prod_act'])\n",
    "df['nb_prod_act'] = np.where(df['nb_prod_act']>upnb_prod_act, upnb_prod_act, df['nb_prod_act'])\n",
    "df['nb_prod_act'] = np.where(df['nb_prod_act']< lrnb_prod_act, lrnb_prod_act, df['nb_prod_act'])\n",
    "\n",
    "lrnet_margin, upnet_margin = remove_outlier(df['net_margin'])\n",
    "df['net_margin'] = np.where(df['net_margin']>upnet_margin, upnet_margin, df['net_margin'])\n",
    "df['net_margin'] = np.where(df['net_margin']< lrnet_margin, lrnet_margin, df['net_margin'])\n",
    "\n",
    "lrpow_max, uppow_max = remove_outlier(df['pow_max'])\n",
    "df['pow_max'] = np.where(df['pow_max']>uppow_max, uppow_max, df['pow_max'])\n",
    "df['pow_max'] = np.where(df['pow_max']< lrpow_max, lrpow_max, df['pow_max'])\n",
    "\n",
    "lrnum_years_antig, upnum_years_antig = remove_outlier(df['num_years_antig'])\n",
    "df['num_years_antig'] = np.where(df['num_years_antig']>upnet_margin, upnet_margin, df['num_years_antig'])\n",
    "df['num_years_antig'] = np.where(df['num_years_antig']< lrnet_margin, lrnet_margin, df['num_years_antig'])"
   ]
  },
  {
   "cell_type": "markdown",
   "metadata": {},
   "source": [
    "# Treating Skewiness"
   ]
  },
  {
   "cell_type": "code",
   "execution_count": 82,
   "metadata": {},
   "outputs": [
    {
     "data": {
      "text/plain": [
       "cons_12m                           5.997308\n",
       "diff_dec_jan_off_peak_var          3.377645\n",
       "churn                              2.720715\n",
       "has_gas                            1.652855\n",
       "num_years_antig                    1.446214\n",
       "forecast_cons_year                 1.240244\n",
       "imp_cons                           1.233204\n",
       "diff_dec_jan_price_peak_var        1.229038\n",
       "cons_last_month                    1.204561\n",
       "pow_max                            1.143216\n",
       "net_margin                         1.115920\n",
       "forecast_cons_12m                  1.108772\n",
       "forecast_meter_rent_12m            0.953549\n",
       "renewal_year                       0.821770\n",
       "end_year                           0.821770\n",
       "margin_net_pow_ele                 0.554469\n",
       "margin_gross_pow_ele               0.554187\n",
       "forecast_price_energy_off_peak     0.090157\n",
       "forecast_discount_energy           0.000000\n",
       "cons_gas_12m                       0.000000\n",
       "nb_prod_act                        0.000000\n",
       "forecast_price_energy_peak        -0.014331\n",
       "forecast_price_pow_off_peak       -0.104028\n",
       "channel_sales                     -0.314053\n",
       "origin_up                         -0.506807\n",
       "start_year                        -0.645830\n",
       "modif_year                        -0.645830\n",
       "diff_dec_jan_price_mid_peak_var   -3.198229\n",
       "diff_dec_jan_price_peak_fix       -4.695929\n",
       "diff_dec_jan_price_mid_peak_fix   -5.345713\n",
       "diff_dec_jan_off_peak_fix         -9.278376\n",
       "dtype: float64"
      ]
     },
     "execution_count": 82,
     "metadata": {},
     "output_type": "execute_result"
    }
   ],
   "source": [
    "df.skew().sort_values(ascending=False)"
   ]
  },
  {
   "cell_type": "code",
   "execution_count": 83,
   "metadata": {},
   "outputs": [],
   "source": [
    "sq_cons_12m=np.sqrt(df['cons_12m'])\n",
    "sq_cons_12m.skew()\n",
    "df['cons_12m']=sq_cons_12m"
   ]
  },
  {
   "cell_type": "code",
   "execution_count": 84,
   "metadata": {},
   "outputs": [
    {
     "data": {
      "text/plain": [
       "0    13187\n",
       "1     1419\n",
       "Name: churn, dtype: int64"
      ]
     },
     "execution_count": 84,
     "metadata": {},
     "output_type": "execute_result"
    }
   ],
   "source": [
    "df[\"churn\"].value_counts()\n"
   ]
  },
  {
   "cell_type": "markdown",
   "metadata": {},
   "source": [
    "# FEATURE SCALING"
   ]
  },
  {
   "cell_type": "markdown",
   "metadata": {},
   "source": [
    "CLASSIFICATION: TREE BASED MODEL\n",
    "--No need to peform feature scaling "
   ]
  },
  {
   "cell_type": "code",
   "execution_count": 85,
   "metadata": {},
   "outputs": [
    {
     "data": {
      "text/plain": [
       "((14606, 30), (14606,))"
      ]
     },
     "execution_count": 85,
     "metadata": {},
     "output_type": "execute_result"
    }
   ],
   "source": [
    "x = df.drop(columns=['id','churn'],axis=1)\n",
    "y = df['churn']\n",
    "x.shape, y.shape"
   ]
  },
  {
   "cell_type": "code",
   "execution_count": 86,
   "metadata": {},
   "outputs": [],
   "source": [
    "#!pip install imblearn"
   ]
  },
  {
   "cell_type": "code",
   "execution_count": 87,
   "metadata": {},
   "outputs": [],
   "source": [
    "import imblearn"
   ]
  },
  {
   "cell_type": "code",
   "execution_count": 88,
   "metadata": {},
   "outputs": [],
   "source": [
    "from imblearn.over_sampling import RandomOverSampler\n",
    "over = RandomOverSampler()\n",
    "x_over, y_over = over.fit_resample(x,y)"
   ]
  },
  {
   "cell_type": "code",
   "execution_count": 89,
   "metadata": {},
   "outputs": [
    {
     "name": "stdout",
     "output_type": "stream",
     "text": [
      "1    13187\n",
      "0    13187\n",
      "Name: churn, dtype: int64\n",
      "(26374, 30) (26374,)\n",
      "(14606, 30) (14606,)\n"
     ]
    }
   ],
   "source": [
    "print(y_over.value_counts())\n",
    "print(x_over.shape, y_over.shape)\n",
    "print(x.shape, y.shape)"
   ]
  },
  {
   "cell_type": "markdown",
   "metadata": {},
   "source": [
    "# Splitting the data"
   ]
  },
  {
   "cell_type": "code",
   "execution_count": 90,
   "metadata": {},
   "outputs": [],
   "source": [
    "# split the data into training and test\n",
    "x_train, x_test, y_train, y_test = train_test_split(x_over, y_over, test_size = 0.20, random_state=1)"
   ]
  },
  {
   "cell_type": "markdown",
   "metadata": {},
   "source": [
    "# Random Forest Model"
   ]
  },
  {
   "cell_type": "code",
   "execution_count": 91,
   "metadata": {},
   "outputs": [
    {
     "data": {
      "text/plain": [
       "RandomForestClassifier(criterion='entropy', random_state=1)"
      ]
     },
     "execution_count": 91,
     "metadata": {},
     "output_type": "execute_result"
    }
   ],
   "source": [
    "from sklearn.ensemble import RandomForestClassifier\n",
    "rf = RandomForestClassifier(criterion='entropy', random_state=1)\n",
    "rf.fit(x_train, y_train)"
   ]
  },
  {
   "cell_type": "code",
   "execution_count": 92,
   "metadata": {},
   "outputs": [],
   "source": [
    "y_pred_rf_train = rf.predict(x_train)\n",
    "y_pred_rf_test = rf.predict(x_test)"
   ]
  },
  {
   "cell_type": "code",
   "execution_count": 93,
   "metadata": {},
   "outputs": [
    {
     "name": "stdout",
     "output_type": "stream",
     "text": [
      "              precision    recall  f1-score   support\n",
      "\n",
      "           0       1.00      0.99      0.99      2685\n",
      "           1       0.99      1.00      0.99      2590\n",
      "\n",
      "    accuracy                           0.99      5275\n",
      "   macro avg       0.99      0.99      0.99      5275\n",
      "weighted avg       0.99      0.99      0.99      5275\n",
      "\n"
     ]
    }
   ],
   "source": [
    "#from sklearn.metrics import accuracy_score, classification_report, confusion_matrix\n",
    "\n",
    "print(classification_report(y_test,y_pred_rf_test))"
   ]
  },
  {
   "cell_type": "code",
   "execution_count": 94,
   "metadata": {},
   "outputs": [],
   "source": [
    "#Confusion Matrix\n",
    "cnf_matrix = metrics.confusion_matrix(y_test, y_pred_rf_test)"
   ]
  },
  {
   "cell_type": "code",
   "execution_count": 95,
   "metadata": {},
   "outputs": [
    {
     "data": {
      "text/plain": [
       "Text(0.5, 257.44, 'Predicted label')"
      ]
     },
     "execution_count": 95,
     "metadata": {},
     "output_type": "execute_result"
    },
    {
     "data": {
      "image/png": "[encoded data removed]",
      "text/plain": [
       "<Figure size 432x288 with 2 Axes>"
      ]
     },
     "metadata": {
      "needs_background": "light"
     },
     "output_type": "display_data"
    }
   ],
   "source": [
    "class_names=[0,1] # name  of classes\n",
    "fig, ax = plt.subplots()\n",
    "tick_marks = np.arange(len(class_names))\n",
    "plt.xticks(tick_marks, class_names)\n",
    "plt.yticks(tick_marks, class_names)\n",
    "# create heatmap\n",
    "sns.heatmap(pd.DataFrame(cnf_matrix), annot=True, cmap=\"YlGnBu\" ,fmt='g')\n",
    "ax.xaxis.set_label_position(\"top\")\n",
    "plt.tight_layout()\n",
    "plt.title('Confusion matrix', y=1.1)\n",
    "plt.ylabel('Actual label')\n",
    "plt.xlabel('Predicted label')"
   ]
  },
  {
   "cell_type": "code",
   "execution_count": 96,
   "metadata": {},
   "outputs": [
    {
     "name": "stdout",
     "output_type": "stream",
     "text": [
      "Accuracy: 0.9939336492890996\n",
      "Precision: 0.9877955758962624\n",
      "Recall: 1.0\n"
     ]
    }
   ],
   "source": [
    "#performance Accuracy\n",
    "print(\"Accuracy:\",metrics.accuracy_score(y_test, y_pred_rf_test))\n",
    "print(\"Precision:\",metrics.precision_score(y_test, y_pred_rf_test))\n",
    "print(\"Recall:\",metrics.recall_score(y_test, y_pred_rf_test))"
   ]
  },
  {
   "cell_type": "markdown",
   "metadata": {},
   "source": [
    "MODELLING DETAILS\n",
    "\n",
    "\n",
    "1. loaded the dataset\n",
    "2. Treating the outliers and removing them\n",
    "3. Treating the skewness\n",
    "4. There is imbalance in the dataset so treating the dataset with over sampling technique \n",
    "5. splitting the train and test dataset in 80% and 20% \n",
    "6. Used random forest classifier model \n",
    "7. Performation matrix : Confusion matrix,accuracy, precision and recall was evaluated\n"
   ]
  },
  {
   "cell_type": "code",
   "execution_count": 99,
   "metadata": {},
   "outputs": [],
   "source": [
    "feature_importances = pd.DataFrame({\n",
    "    'features': x_train.columns,\n",
    "    'importance': rf.feature_importances_\n",
    "}).sort_values(by='importance', ascending=True).reset_index()"
   ]
  },
  {
   "cell_type": "code",
   "execution_count": 100,
   "metadata": {},
   "outputs": [
    {
     "data": {
      "image/png": "[encoded data removed]",
      "text/plain": [
       "<Figure size 1080x1800 with 1 Axes>"
      ]
     },
     "metadata": {
      "needs_background": "light"
     },
     "output_type": "display_data"
    }
   ],
   "source": [
    "plt.figure(figsize=(15, 25))\n",
    "plt.title('Feature Importances')\n",
    "plt.barh(range(len(feature_importances)), feature_importances['importance'], color='b', align='center')\n",
    "plt.yticks(range(len(feature_importances)), feature_importances['features'])\n",
    "plt.xlabel('Importance')\n",
    "plt.show()"
   ]
  },
  {
   "cell_type": "code",
   "execution_count": null,
   "metadata": {},
   "outputs": [],
   "source": []
  },
  {
   "cell_type": "code",
   "execution_count": null,
   "metadata": {},
   "outputs": [],
   "source": []
  }
 ],
 "metadata": {
  "interpreter": {
   "hash": "152bf6e7dc8ee53edb5af21dc1a8faeab7f134840808a94079ed98d91ece7e0c"
  },
  "kernelspec": {
   "display_name": "Python 3 (ipykernel)",
   "language": "python",
   "name": "python3"
  },
  "language_info": {
   "codemirror_mode": {
    "name": "ipython",
    "version": 3
   },
   "file_extension": ".py",
   "mimetype": "text/x-python",
   "name": "python",
   "nbconvert_exporter": "python",
   "pygments_lexer": "ipython3",
   "version": "3.9.12"
  }
 },
 "nbformat": 4,
 "nbformat_minor": 4
}
