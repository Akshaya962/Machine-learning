{
 "cells": [
  {
   "cell_type": "code",
   "execution_count": 1,
   "id": "9371f074",
   "metadata": {},
   "outputs": [],
   "source": [
    "import numpy as np\n",
    "import pandas as pd\n",
    "import matplotlib.pyplot as plt\n",
    "import seaborn as sns\n",
    "import warnings\n",
    "warnings.filterwarnings('ignore')\n",
    "%matplotlib inline\n",
    "sns.set()"
   ]
  },
  {
   "cell_type": "code",
   "execution_count": 2,
   "id": "914a0452",
   "metadata": {},
   "outputs": [],
   "source": [
    "data=pd.read_csv('loan_sanction_train.csv')"
   ]
  },
  {
   "cell_type": "code",
   "execution_count": 3,
   "id": "214fe16d",
   "metadata": {},
   "outputs": [
    {
     "data": {
      "text/html": [
       "<div>\n",
       "<style scoped>\n",
       "    .dataframe tbody tr th:only-of-type {\n",
       "        vertical-align: middle;\n",
       "    }\n",
       "\n",
       "    .dataframe tbody tr th {\n",
       "        vertical-align: top;\n",
       "    }\n",
       "\n",
       "    .dataframe thead th {\n",
       "        text-align: right;\n",
       "    }\n",
       "</style>\n",
       "<table border=\"1\" class=\"dataframe\">\n",
       "  <thead>\n",
       "    <tr style=\"text-align: right;\">\n",
       "      <th></th>\n",
       "      <th>Loan_ID</th>\n",
       "      <th>Gender</th>\n",
       "      <th>Married</th>\n",
       "      <th>Dependents</th>\n",
       "      <th>Education</th>\n",
       "      <th>Self_Employed</th>\n",
       "      <th>ApplicantIncome</th>\n",
       "      <th>CoapplicantIncome</th>\n",
       "      <th>LoanAmount</th>\n",
       "      <th>Loan_Amount_Term</th>\n",
       "      <th>Credit_History</th>\n",
       "      <th>Property_Area</th>\n",
       "      <th>Loan_Status</th>\n",
       "    </tr>\n",
       "  </thead>\n",
       "  <tbody>\n",
       "    <tr>\n",
       "      <th>0</th>\n",
       "      <td>LP001002</td>\n",
       "      <td>Male</td>\n",
       "      <td>No</td>\n",
       "      <td>0</td>\n",
       "      <td>Graduate</td>\n",
       "      <td>No</td>\n",
       "      <td>5849</td>\n",
       "      <td>0.0</td>\n",
       "      <td>NaN</td>\n",
       "      <td>360.0</td>\n",
       "      <td>1.0</td>\n",
       "      <td>Urban</td>\n",
       "      <td>Y</td>\n",
       "    </tr>\n",
       "    <tr>\n",
       "      <th>1</th>\n",
       "      <td>LP001003</td>\n",
       "      <td>Male</td>\n",
       "      <td>Yes</td>\n",
       "      <td>1</td>\n",
       "      <td>Graduate</td>\n",
       "      <td>No</td>\n",
       "      <td>4583</td>\n",
       "      <td>1508.0</td>\n",
       "      <td>128.0</td>\n",
       "      <td>360.0</td>\n",
       "      <td>1.0</td>\n",
       "      <td>Rural</td>\n",
       "      <td>N</td>\n",
       "    </tr>\n",
       "    <tr>\n",
       "      <th>2</th>\n",
       "      <td>LP001005</td>\n",
       "      <td>Male</td>\n",
       "      <td>Yes</td>\n",
       "      <td>0</td>\n",
       "      <td>Graduate</td>\n",
       "      <td>Yes</td>\n",
       "      <td>3000</td>\n",
       "      <td>0.0</td>\n",
       "      <td>66.0</td>\n",
       "      <td>360.0</td>\n",
       "      <td>1.0</td>\n",
       "      <td>Urban</td>\n",
       "      <td>Y</td>\n",
       "    </tr>\n",
       "    <tr>\n",
       "      <th>3</th>\n",
       "      <td>LP001006</td>\n",
       "      <td>Male</td>\n",
       "      <td>Yes</td>\n",
       "      <td>0</td>\n",
       "      <td>Not Graduate</td>\n",
       "      <td>No</td>\n",
       "      <td>2583</td>\n",
       "      <td>2358.0</td>\n",
       "      <td>120.0</td>\n",
       "      <td>360.0</td>\n",
       "      <td>1.0</td>\n",
       "      <td>Urban</td>\n",
       "      <td>Y</td>\n",
       "    </tr>\n",
       "    <tr>\n",
       "      <th>4</th>\n",
       "      <td>LP001008</td>\n",
       "      <td>Male</td>\n",
       "      <td>No</td>\n",
       "      <td>0</td>\n",
       "      <td>Graduate</td>\n",
       "      <td>No</td>\n",
       "      <td>6000</td>\n",
       "      <td>0.0</td>\n",
       "      <td>141.0</td>\n",
       "      <td>360.0</td>\n",
       "      <td>1.0</td>\n",
       "      <td>Urban</td>\n",
       "      <td>Y</td>\n",
       "    </tr>\n",
       "  </tbody>\n",
       "</table>\n",
       "</div>"
      ],
      "text/plain": [
       "    Loan_ID Gender Married Dependents     Education Self_Employed  \\\n",
       "0  LP001002   Male      No          0      Graduate            No   \n",
       "1  LP001003   Male     Yes          1      Graduate            No   \n",
       "2  LP001005   Male     Yes          0      Graduate           Yes   \n",
       "3  LP001006   Male     Yes          0  Not Graduate            No   \n",
       "4  LP001008   Male      No          0      Graduate            No   \n",
       "\n",
       "   ApplicantIncome  CoapplicantIncome  LoanAmount  Loan_Amount_Term  \\\n",
       "0             5849                0.0         NaN             360.0   \n",
       "1             4583             1508.0       128.0             360.0   \n",
       "2             3000                0.0        66.0             360.0   \n",
       "3             2583             2358.0       120.0             360.0   \n",
       "4             6000                0.0       141.0             360.0   \n",
       "\n",
       "   Credit_History Property_Area Loan_Status  \n",
       "0             1.0         Urban           Y  \n",
       "1             1.0         Rural           N  \n",
       "2             1.0         Urban           Y  \n",
       "3             1.0         Urban           Y  \n",
       "4             1.0         Urban           Y  "
      ]
     },
     "execution_count": 3,
     "metadata": {},
     "output_type": "execute_result"
    }
   ],
   "source": [
    "data.head()"
   ]
  },
  {
   "cell_type": "code",
   "execution_count": 4,
   "id": "f6dd70a0",
   "metadata": {},
   "outputs": [
    {
     "data": {
      "text/plain": [
       "(614, 13)"
      ]
     },
     "execution_count": 4,
     "metadata": {},
     "output_type": "execute_result"
    }
   ],
   "source": [
    "data.shape"
   ]
  },
  {
   "cell_type": "code",
   "execution_count": 5,
   "id": "eb06897a",
   "metadata": {},
   "outputs": [
    {
     "data": {
      "text/plain": [
       "Loan_ID               object\n",
       "Gender                object\n",
       "Married               object\n",
       "Dependents            object\n",
       "Education             object\n",
       "Self_Employed         object\n",
       "ApplicantIncome        int64\n",
       "CoapplicantIncome    float64\n",
       "LoanAmount           float64\n",
       "Loan_Amount_Term     float64\n",
       "Credit_History       float64\n",
       "Property_Area         object\n",
       "Loan_Status           object\n",
       "dtype: object"
      ]
     },
     "execution_count": 5,
     "metadata": {},
     "output_type": "execute_result"
    }
   ],
   "source": [
    "data.dtypes"
   ]
  },
  {
   "cell_type": "code",
   "execution_count": 6,
   "id": "07e635f9",
   "metadata": {},
   "outputs": [],
   "source": [
    "df=data.copy()"
   ]
  },
  {
   "cell_type": "markdown",
   "id": "86fd679d",
   "metadata": {},
   "source": [
    "# EDA"
   ]
  },
  {
   "cell_type": "code",
   "execution_count": 7,
   "id": "6cc2b7c7",
   "metadata": {},
   "outputs": [
    {
     "data": {
      "text/plain": [
       "0"
      ]
     },
     "execution_count": 7,
     "metadata": {},
     "output_type": "execute_result"
    }
   ],
   "source": [
    "df.duplicated().sum()"
   ]
  },
  {
   "cell_type": "code",
   "execution_count": 8,
   "id": "8ce07bfd",
   "metadata": {},
   "outputs": [
    {
     "data": {
      "text/plain": [
       "Loan_ID               0\n",
       "Gender               13\n",
       "Married               3\n",
       "Dependents           15\n",
       "Education             0\n",
       "Self_Employed        32\n",
       "ApplicantIncome       0\n",
       "CoapplicantIncome     0\n",
       "LoanAmount           22\n",
       "Loan_Amount_Term     14\n",
       "Credit_History       50\n",
       "Property_Area         0\n",
       "Loan_Status           0\n",
       "dtype: int64"
      ]
     },
     "execution_count": 8,
     "metadata": {},
     "output_type": "execute_result"
    }
   ],
   "source": [
    "df.isnull().sum()"
   ]
  },
  {
   "cell_type": "code",
   "execution_count": 9,
   "id": "0ff712c9",
   "metadata": {},
   "outputs": [
    {
     "data": {
      "text/plain": [
       "Male      489\n",
       "Female    112\n",
       "Name: Gender, dtype: int64"
      ]
     },
     "execution_count": 9,
     "metadata": {},
     "output_type": "execute_result"
    }
   ],
   "source": [
    "df['Gender'].value_counts()"
   ]
  },
  {
   "cell_type": "code",
   "execution_count": 10,
   "id": "66c8ed56",
   "metadata": {},
   "outputs": [],
   "source": [
    "df['Gender'] = df['Gender'].fillna('Male')"
   ]
  },
  {
   "cell_type": "code",
   "execution_count": 11,
   "id": "87ccdaca",
   "metadata": {},
   "outputs": [
    {
     "data": {
      "text/plain": [
       "Yes    398\n",
       "No     213\n",
       "Name: Married, dtype: int64"
      ]
     },
     "execution_count": 11,
     "metadata": {},
     "output_type": "execute_result"
    }
   ],
   "source": [
    "df['Married'].value_counts()"
   ]
  },
  {
   "cell_type": "code",
   "execution_count": 12,
   "id": "f5e82c49",
   "metadata": {},
   "outputs": [],
   "source": [
    "df['Married'] = df['Married'].fillna('Yes')"
   ]
  },
  {
   "cell_type": "code",
   "execution_count": 13,
   "id": "9b8e7965",
   "metadata": {},
   "outputs": [
    {
     "data": {
      "text/plain": [
       "0     345\n",
       "1     102\n",
       "2     101\n",
       "3+     51\n",
       "Name: Dependents, dtype: int64"
      ]
     },
     "execution_count": 13,
     "metadata": {},
     "output_type": "execute_result"
    }
   ],
   "source": [
    "df[\"Dependents\"].value_counts()"
   ]
  },
  {
   "cell_type": "code",
   "execution_count": 14,
   "id": "44575a43",
   "metadata": {},
   "outputs": [],
   "source": [
    "df['Dependents'] = df['Dependents'].apply(lambda x:'3' if x=='3+' else x)"
   ]
  },
  {
   "cell_type": "code",
   "execution_count": 15,
   "id": "6e5a6e4c",
   "metadata": {},
   "outputs": [
    {
     "data": {
      "text/plain": [
       "0    345\n",
       "1    102\n",
       "2    101\n",
       "3     51\n",
       "Name: Dependents, dtype: int64"
      ]
     },
     "execution_count": 15,
     "metadata": {},
     "output_type": "execute_result"
    }
   ],
   "source": [
    "df[\"Dependents\"].value_counts()"
   ]
  },
  {
   "cell_type": "code",
   "execution_count": 16,
   "id": "64dbcf90",
   "metadata": {},
   "outputs": [],
   "source": [
    "df['Dependents'] = df['Dependents'].fillna('0')"
   ]
  },
  {
   "cell_type": "code",
   "execution_count": 17,
   "id": "c2c93b75",
   "metadata": {},
   "outputs": [],
   "source": [
    "#change the data type\n",
    "df['Dependents']=df['Dependents'].astype(\"int64\")"
   ]
  },
  {
   "cell_type": "code",
   "execution_count": 18,
   "id": "6c61603f",
   "metadata": {},
   "outputs": [
    {
     "data": {
      "text/plain": [
       "No     500\n",
       "Yes     82\n",
       "Name: Self_Employed, dtype: int64"
      ]
     },
     "execution_count": 18,
     "metadata": {},
     "output_type": "execute_result"
    }
   ],
   "source": [
    "df[\"Self_Employed\"].value_counts()"
   ]
  },
  {
   "cell_type": "code",
   "execution_count": 19,
   "id": "4cbb36ad",
   "metadata": {},
   "outputs": [],
   "source": [
    "df['Self_Employed']=df['Self_Employed'].fillna('No')"
   ]
  },
  {
   "cell_type": "code",
   "execution_count": 20,
   "id": "6585a4df",
   "metadata": {},
   "outputs": [
    {
     "data": {
      "text/plain": [
       "128.0"
      ]
     },
     "execution_count": 20,
     "metadata": {},
     "output_type": "execute_result"
    }
   ],
   "source": [
    "df[\"LoanAmount\"].median()"
   ]
  },
  {
   "cell_type": "code",
   "execution_count": 21,
   "id": "4739506a",
   "metadata": {},
   "outputs": [],
   "source": [
    "df['LoanAmount']=df['LoanAmount'].fillna(128.0)"
   ]
  },
  {
   "cell_type": "code",
   "execution_count": 22,
   "id": "f9fd3637",
   "metadata": {},
   "outputs": [
    {
     "data": {
      "text/plain": [
       "360.0"
      ]
     },
     "execution_count": 22,
     "metadata": {},
     "output_type": "execute_result"
    }
   ],
   "source": [
    "df[\"Loan_Amount_Term\"].median()"
   ]
  },
  {
   "cell_type": "code",
   "execution_count": 23,
   "id": "eb63ff17",
   "metadata": {},
   "outputs": [],
   "source": [
    "df['Loan_Amount_Term']=df['Loan_Amount_Term'].fillna(360.0)"
   ]
  },
  {
   "cell_type": "code",
   "execution_count": 24,
   "id": "c2dfd537",
   "metadata": {},
   "outputs": [
    {
     "data": {
      "text/plain": [
       "1.0"
      ]
     },
     "execution_count": 24,
     "metadata": {},
     "output_type": "execute_result"
    }
   ],
   "source": [
    "df[\"Credit_History\"].median()"
   ]
  },
  {
   "cell_type": "code",
   "execution_count": 25,
   "id": "5329c148",
   "metadata": {},
   "outputs": [],
   "source": [
    "df['Credit_History']=df['Credit_History'].fillna(1.0)"
   ]
  },
  {
   "cell_type": "code",
   "execution_count": 26,
   "id": "c5bf0e96",
   "metadata": {},
   "outputs": [
    {
     "name": "stdout",
     "output_type": "stream",
     "text": [
      "********************************************************* Loan_ID ************************************************************\n",
      "\n",
      "{'LP002950', 'LP002768', 'LP001565', 'LP001404', 'LP001770', 'LP002031', 'LP002659', 'LP002524', 'LP002126', 'LP002403', 'LP001491', 'LP002757', 'LP001504', 'LP001715', 'LP001488', 'LP001883', 'LP002250', 'LP002547', 'LP001535', 'LP001806', 'LP002223', 'LP001356', 'LP001498', 'LP002224', 'LP001350', 'LP002530', 'LP002832', 'LP002560', 'LP001657', 'LP002234', 'LP002863', 'LP001343', 'LP001594', 'LP002582', 'LP001243', 'LP002622', 'LP001674', 'LP002229', 'LP002894', 'LP001029', 'LP001871', 'LP001003', 'LP001896', 'LP002272', 'LP001814', 'LP001671', 'LP001493', 'LP002377', 'LP002872', 'LP002051', 'LP002489', 'LP001137', 'LP001529', 'LP001940', 'LP001996', 'LP001790', 'LP002531', 'LP002281', 'LP002931', 'LP002734', 'LP002205', 'LP002720', 'LP001439', 'LP001333', 'LP002367', 'LP001765', 'LP001658', 'LP002418', 'LP002201', 'LP002054', 'LP002335', 'LP001574', 'LP002424', 'LP002813', 'LP001800', 'LP002106', 'LP002130', 'LP002888', 'LP001972', 'LP001637', 'LP001398', 'LP002357', 'LP001610', 'LP002305', 'LP002964', 'LP002739', 'LP001732', 'LP002544', 'LP001422', 'LP001443', 'LP001264', 'LP001487', 'LP001606', 'LP002422', 'LP002435', 'LP001870', 'LP002767', 'LP002798', 'LP002606', 'LP001864', 'LP002697', 'LP002953', 'LP001213', 'LP001693', 'LP001922', 'LP002753', 'LP002936', 'LP002361', 'LP002337', 'LP002024', 'LP001164', 'LP001322', 'LP002197', 'LP001640', 'LP001677', 'LP002180', 'LP001028', 'LP002129', 'LP001543', 'LP001385', 'LP002949', 'LP001643', 'LP001489', 'LP002236', 'LP001068', 'LP001552', 'LP002693', 'LP001528', 'LP001722', 'LP001682', 'LP001641', 'LP001516', 'LP001955', 'LP001586', 'LP001754', 'LP002868', 'LP002648', 'LP002314', 'LP001581', 'LP001379', 'LP001248', 'LP002100', 'LP002788', 'LP002792', 'LP002467', 'LP001041', 'LP002804', 'LP001508', 'LP002115', 'LP001692', 'LP002941', 'LP001903', 'LP002517', 'LP002494', 'LP001013', 'LP001207', 'LP001131', 'LP002379', 'LP001266', 'LP002836', 'LP001884', 'LP001656', 'LP001541', 'LP001936', 'LP002161', 'LP001664', 'LP002960', 'LP001888', 'LP002706', 'LP002692', 'LP001370', 'LP001120', 'LP001562', 'LP001892', 'LP002741', 'LP002225', 'LP002807', 'LP002144', 'LP001891', 'LP001688', 'LP002288', 'LP001520', 'LP002840', 'LP002342', 'LP001713', 'LP002175', 'LP002874', 'LP001151', 'LP001585', 'LP001255', 'LP002682', 'LP002777', 'LP001949', 'LP002297', 'LP001032', 'LP001824', 'LP002536', 'LP002794', 'LP001744', 'LP001086', 'LP002128', 'LP002347', 'LP002103', 'LP002043', 'LP001519', 'LP002911', 'LP001144', 'LP002265', 'LP002505', 'LP001155', 'LP001392', 'LP001431', 'LP001872', 'LP002493', 'LP002729', 'LP001205', 'LP001198', 'LP001206', 'LP002050', 'LP002065', 'LP002231', 'LP002699', 'LP001430', 'LP001256', 'LP001998', 'LP002618', 'LP001027', 'LP001843', 'LP002877', 'LP002082', 'LP002315', 'LP002689', 'LP002529', 'LP002501', 'LP001947', 'LP001579', 'LP002979', 'LP002690', 'LP001267', 'LP001669', 'LP001882', 'LP002036', 'LP001199', 'LP001469', 'LP002170', 'LP002602', 'LP002209', 'LP001734', 'LP002407', 'LP002393', 'LP001749', 'LP002515', 'LP002097', 'LP002643', 'LP002740', 'LP002847', 'LP002945', 'LP001776', 'LP002537', 'LP001095', 'LP001580', 'LP002928', 'LP001241', 'LP001931', 'LP001994', 'LP001877', 'LP001020', 'LP002160', 'LP002459', 'LP001666', 'LP001275', 'LP002500', 'LP001024', 'LP001005', 'LP002785', 'LP001186', 'LP002841', 'LP001507', 'LP001006', 'LP001465', 'LP002912', 'LP002187', 'LP001391', 'LP001653', 'LP002587', 'LP001647', 'LP002743', 'LP001761', 'LP001432', 'LP002522', 'LP001938', 'LP002237', 'LP001603', 'LP002002', 'LP001616', 'LP001736', 'LP002266', 'LP001786', 'LP001002', 'LP001907', 'LP002119', 'LP002446', 'LP001197', 'LP002833', 'LP001334', 'LP001138', 'LP001325', 'LP002319', 'LP002893', 'LP002429', 'LP001492', 'LP001319', 'LP001531', 'LP001702', 'LP002368', 'LP002732', 'LP001282', 'LP002484', 'LP001570', 'LP002004', 'LP002974', 'LP001106', 'LP002370', 'LP002983', 'LP001030', 'LP002142', 'LP002545', 'LP001875', 'LP002401', 'LP001008', 'LP002588', 'LP001091', 'LP001514', 'LP001698', 'LP002455', 'LP001357', 'LP002600', 'LP001114', 'LP002328', 'LP002444', 'LP002938', 'LP002139', 'LP002487', 'LP001038', 'LP002795', 'LP001451', 'LP002925', 'LP002821', 'LP001865', 'LP001577', 'LP002855', 'LP002478', 'LP001157', 'LP001819', 'LP002190', 'LP001633', 'LP001751', 'LP002926', 'LP001924', 'LP002151', 'LP002723', 'LP002534', 'LP002053', 'LP002364', 'LP002586', 'LP002277', 'LP001639', 'LP002640', 'LP001401', 'LP001195', 'LP001813', 'LP002116', 'LP002555', 'LP001904', 'LP002958', 'LP002345', 'LP001073', 'LP001636', 'LP001518', 'LP001327', 'LP001100', 'LP001289', 'LP002387', 'LP001716', 'LP002398', 'LP002262', 'LP002502', 'LP001018', 'LP002408', 'LP002624', 'LP001326', 'LP001497', 'LP001259', 'LP001047', 'LP002453', 'LP002862', 'LP001726', 'LP001760', 'LP002519', 'LP001280', 'LP002296', 'LP002287', 'LP002543', 'LP001964', 'LP002137', 'LP002409', 'LP001768', 'LP001250', 'LP002188', 'LP002447', 'LP002615', 'LP002348', 'LP001743', 'LP001034', 'LP001245', 'LP002683', 'LP001691', 'LP001109', 'LP001387', 'LP001914', 'LP002443', 'LP001116', 'LP001310', 'LP002626', 'LP002449', 'LP002243', 'LP001784', 'LP002716', 'LP001279', 'LP001788', 'LP001926', 'LP002731', 'LP002211', 'LP001854', 'LP002556', 'LP002933', 'LP002984', 'LP002318', 'LP001097', 'LP002776', 'LP002652', 'LP001194', 'LP002068', 'LP002684', 'LP002366', 'LP001954', 'LP002541', 'LP001560', 'LP002717', 'LP001473', 'LP002990', 'LP001225', 'LP002114', 'LP002959', 'LP002362', 'LP002301', 'LP001811', 'LP002562', 'LP001792', 'LP001112', 'LP002940', 'LP001665', 'LP002317', 'LP002181', 'LP001046', 'LP001634', 'LP002194', 'LP002308', 'LP001546', 'LP001963', 'LP001052', 'LP001482', 'LP002571', 'LP002714', 'LP002916', 'LP002284', 'LP001978', 'LP001036', 'LP002140', 'LP002637', 'LP001868', 'LP001908', 'LP001273', 'LP002784', 'LP001644', 'LP002585', 'LP002820', 'LP002191', 'LP002086', 'LP002141', 'LP002943', 'LP002035', 'LP001448', 'LP002067', 'LP001098', 'LP002143', 'LP001253', 'LP002738', 'LP001836', 'LP002772', 'LP001711', 'LP002603', 'LP001146', 'LP001977', 'LP002158', 'LP001798', 'LP001935', 'LP002961', 'LP001238', 'LP002178', 'LP001066', 'LP001349', 'LP001900', 'LP002087', 'LP002244', 'LP001993', 'LP002006', 'LP001578', 'LP001179', 'LP002110', 'LP001835', 'LP002842', 'LP001844', 'LP001263', 'LP002131', 'LP001910', 'LP001384', 'LP001233', 'LP001807', 'LP001318', 'LP002670', 'LP001917', 'LP001449', 'LP001572', 'LP002149', 'LP002473', 'LP002948', 'LP001265', 'LP002755', 'LP001708', 'LP001043', 'LP001228', 'LP001478', 'LP001699', 'LP002300', 'LP001421', 'LP001846', 'LP002332', 'LP001050', 'LP002226', 'LP001841', 'LP001136', 'LP002113', 'LP001014', 'LP001532', 'LP002219', 'LP001608', 'LP002098', 'LP001369', 'LP002341', 'LP002472', 'LP001011', 'LP002390', 'LP002533', 'LP002778', 'LP001630', 'LP002448', 'LP001673', 'LP002625', 'LP001778', 'LP002055', 'LP001894', 'LP001345', 'LP002789', 'LP002255', 'LP001123', 'LP001925', 'LP002239', 'LP002434', 'LP002263', 'LP001087', 'LP002898', 'LP001945', 'LP001426', 'LP001316', 'LP001720', 'LP002837', 'LP002369', 'LP002634', 'LP001750', 'LP002101', 'LP002917', 'LP001859', 'LP001974', 'LP002112', 'LP002892', 'LP001953', 'LP002138', 'LP002619', 'LP002527', 'LP002008', 'LP002386', 'LP001536', 'LP001915', 'LP001849', 'LP001222', 'LP002978', 'LP001825', 'LP001367', 'LP001990', 'LP001405', 'LP001119', 'LP002705', 'LP001758'}\n",
      "\n",
      "********************************************************* Gender ************************************************************\n",
      "\n",
      "{'Male', 'Female'}\n",
      "\n",
      "********************************************************* Married ************************************************************\n",
      "\n",
      "{'No', 'Yes'}\n",
      "\n",
      "********************************************************* Dependents ************************************************************\n",
      "\n",
      "{0, 1, 2, 3}\n",
      "\n",
      "********************************************************* Education ************************************************************\n",
      "\n",
      "{'Graduate', 'Not Graduate'}\n",
      "\n",
      "********************************************************* Self_Employed ************************************************************\n",
      "\n",
      "{'No', 'Yes'}\n",
      "\n",
      "********************************************************* ApplicantIncome ************************************************************\n",
      "\n",
      "{4100, 2058, 4106, 2060, 2071, 4124, 2083, 4133, 4160, 4166, 4167, 6216, 2130, 2132, 4180, 2137, 2138, 4188, 4191, 2149, 4200, 6250, 8300, 6256, 2165, 2167, 4226, 2178, 6277, 4230, 6283, 8333, 8334, 16525, 2192, 150, 2213, 2214, 10408, 2221, 10416, 6325, 4281, 4283, 20667, 2237, 6333, 2239, 4288, 4300, 2253, 4301, 210, 12500, 4310, 2275, 2281, 39147, 4333, 6383, 4342, 14583, 4344, 2297, 2301, 4350, 6400, 4354, 2309, 6406, 10513, 6417, 2330, 16667, 16666, 2333, 4384, 2346, 4400, 16692, 4408, 2366, 4416, 2378, 2383, 2395, 14683, 2400, 20833, 6500, 4467, 8566, 2423, 2425, 2435, 2439, 6540, 2454, 416, 2473, 2479, 8624, 2483, 2484, 2491, 2492, 2499, 2500, 4547, 4554, 2507, 2510, 6608, 4566, 8666, 2526, 4583, 6633, 2550, 4600, 10750, 4606, 4608, 4616, 2577, 14866, 4625, 2583, 14880, 2600, 12841, 4652, 6700, 8750, 2609, 51763, 4666, 2620, 2625, 4680, 4683, 12876, 10833, 4691, 4692, 2645, 4695, 2647, 2653, 8799, 4707, 4708, 2661, 2666, 2667, 4723, 2679, 6782, 4735, 6783, 645, 2698, 2699, 4750, 4755, 2708, 4758, 14999, 15000, 2717, 2718, 2720, 674, 6822, 2726, 2750, 2755, 2764, 2768, 4817, 2769, 6875, 2785, 2787, 4843, 2799, 11000, 4860, 4865, 2833, 4885, 4887, 4895, 6950, 4917, 2873, 2875, 4923, 2876, 2882, 4931, 2889, 2894, 2895, 4945, 2900, 4950, 37719, 2917, 2920, 2927, 17263, 2929, 2935, 9083, 2947, 5000, 11146, 2957, 2958, 2965, 2971, 2980, 2987, 7085, 5042, 2995, 3000, 5050, 7100, 3010, 3013, 3015, 3017, 9166, 9167, 13262, 3029, 3033, 3036, 7142, 1000, 3052, 11250, 3062, 5116, 3069, 7167, 3073, 1025, 3075, 5124, 3074, 3083, 3086, 3087, 3089, 3095, 3100, 19484, 3103, 7200, 5166, 5167, 3125, 33846, 39999, 5185, 5191, 3153, 7250, 3155, 3158, 3159, 17500, 3166, 3167, 3173, 81000, 9323, 3180, 3182, 9328, 3189, 3200, 5250, 3208, 9357, 5266, 11417, 3229, 3232, 7333, 3237, 5285, 3244, 3246, 3250, 3254, 5316, 3273, 3276, 3283, 5333, 11500, 3315, 3316, 23803, 3326, 3333, 3340, 5391, 7441, 19730, 1299, 7451, 3357, 3358, 9504, 9508, 3365, 3366, 5417, 9538, 3399, 3400, 3406, 3410, 13650, 9560, 3416, 3418, 3417, 5468, 1378, 3427, 3430, 5488, 3450, 5500, 5503, 3459, 3463, 3466, 5516, 15759, 3481, 7578, 5532, 7583, 1442, 3497, 3500, 3510, 5568, 3522, 3523, 3539, 3541, 3547, 1500, 9703, 7660, 11757, 7667, 3572, 3583, 1538, 3588, 3593, 3596, 3597, 3598, 3600, 5649, 3601, 3617, 5667, 3620, 3625, 5677, 7740, 5695, 1600, 3652, 5703, 5708, 3660, 3667, 1625, 3675, 3676, 5726, 9833, 7787, 3692, 3691, 5746, 3704, 3707, 3708, 3716, 3717, 1668, 3727, 5780, 3748, 3750, 5800, 3762, 5815, 5818, 5819, 5821, 3775, 5829, 20166, 3800, 5849, 7901, 1759, 12000, 3812, 3813, 3814, 3816, 9963, 18165, 1782, 16120, 3833, 7933, 3846, 1800, 20233, 3850, 7948, 10000, 1809, 3858, 1811, 3859, 3865, 3867, 1820, 3875, 1828, 5923, 1830, 1836, 5935, 3887, 5941, 3900, 1853, 3902, 10047, 8000, 5955, 1863, 3917, 1875, 3927, 1880, 3941, 63337, 3948, 6000, 1907, 16250, 1916, 1926, 3975, 1928, 8072, 8080, 6033, 3987, 3988, 3992, 3993, 10139, 6045, 18333, 4000, 6050, 4006, 1958, 4009, 1963, 6065, 1977, 6080, 6083, 1993, 2000, 6096, 4050, 4053, 2014, 6125, 2031, 6133, 2045, 4095}\n",
      "\n",
      "********************************************************* CoapplicantIncome ************************************************************\n",
      "\n",
      "{0.0, 1030.0, 2054.0, 1542.0, 2569.0, 6666.0, 6667.0, 1032.0, 1040.0, 3600.0, 4114.0, 2067.0, 1041.0, 16.12000084, 5654.0, 2583.0, 1560.0, 536.0, 2079.0, 20000.0, 2042.0, 2083.0, 11300.0, 2598.0, 2087.0, 4648.0, 7210.0, 33837.0, 1587.0, 2100.0, 1590.0, 1591.0, 1083.0, 1086.0, 1600.0, 3136.0, 2115.0, 1603.0, 5701.0, 2118.0, 4167.0, 7750.0, 3150.0, 7250.0, 1619.0, 3667.0, 3666.0, 2134.0, 1625.0, 2138.0, 2142.0, 3166.0, 3167.0, 1632.0, 3683.0, 4196.0, 1125.0, 1126.0, 1640.0, 6250.0, 2667.0, 1644.0, 1131.0, 2157.0, 2669.0, 2160.0, 2166.0, 2167.0, 2168.0, 1664.0, 1666.0, 1667.0, 1668.0, 4232.0, 5624.0, 2188.0, 8333.0, 4750.0, 1167.0, 2064.0, 5266.0, 663.0, 2200.0, 4250.0, 3230.0, 1695.0, 2209.0, 2210.0, 1700.0, 3237.0, 3750.0, 4266.0, 1710.0, 2223.0, 5296.0, 688.0, 3250.0, 2739.0, 1717.0, 5302.0, 1719.0, 2232.0, 1210.0, 700.0, 1213.0, 189.0, 3263.0, 7873.0, 41667.0, 1733.0, 2250.0, 3274.0, 4300.0, 2253.0, 2254.0, 1229.0, 1742.0, 4301.0, 3796.0, 2773.0, 1750.0, 10968.0, 3800.0, 3806.0, 736.0, 2785.0, 1250.0, 2275.0, 3300.0, 2791.0, 1255.0, 1769.0, 2792.0, 2283.0, 1260.0, 4333.0, 1774.0, 1775.0, 240.0, 754.0, 1779.0, 242.0, 1783.0, 2302.0, 1280.0, 2816.0, 1793.0, 2306.0, 3333.0, 3334.0, 1287.0, 1800.0, 3850.0, 1803.0, 1811.0, 8980.0, 1300.0, 1302.0, 2840.0, 2330.0, 1820.0, 2333.0, 2845.0, 2336.0, 800.0, 2340.0, 3369.0, 1833.0, 2859.0, 2857.0, 1840.0, 1330.0, 1843.0, 3890.0, 1842.0, 2358.0, 1851.0, 2365.0, 830.0, 4416.0, 4417.0, 1857.0, 3906.0, 1863.0, 2375.0, 1868.0, 2383.0, 1872.0, 1875.0, 2900.0, 3416.0, 1881.0, 2400.0, 1376.0, 3428.0, 2405.0, 2917.0, 1387.0, 2925.0, 3440.0, 2416.0, 2417.0, 1398.0, 1911.0, 3447.0, 3449.0, 2426.0, 2934.0, 4983.0, 1917.0, 1400.0, 1915.0, 5500.0, 1411.0, 4996.0, 2436.0, 4486.0, 5000.0, 1929.0, 4490.0, 1417.0, 1424.0, 1425.0, 913.0, 2451.0, 1430.0, 2458.0, 923.0, 1950.0, 4000.0, 2466.0, 1447.0, 2985.0, 8106.0, 1451.0, 3500.0, 1964.0, 1456.0, 1459.0, 3000.0, 7101.0, 1983.0, 1987.0, 2500.0, 3013.0, 5063.0, 2504.0, 5064.0, 1993.0, 1483.0, 3021.0, 3022.0, 461.0, 2000.0, 2004.0, 3541.0, 983.0, 985.7999878, 3033.0, 1500.0, 2524.0, 2014.0, 2016.0, 2531.0, 1508.0, 997.0, 484.0, 4583.0, 1000.0, 1522.0, 1516.0, 3053.0, 2541.0, 505.0, 2033.0, 2034.0, 4595.0, 1010.0, 4083.0, 1526.0, 1014.0, 4600.0, 5625.0, 3066.0, 2035.0, 7166.0, 3583.0}\n",
      "\n",
      "********************************************************* LoanAmount ************************************************************\n",
      "\n",
      "{9.0, 17.0, 25.0, 26.0, 30.0, 35.0, 36.0, 40.0, 42.0, 44.0, 45.0, 46.0, 47.0, 48.0, 50.0, 53.0, 54.0, 55.0, 56.0, 58.0, 59.0, 60.0, 570.0, 62.0, 63.0, 61.0, 65.0, 66.0, 67.0, 70.0, 71.0, 72.0, 73.0, 74.0, 75.0, 76.0, 78.0, 80.0, 81.0, 83.0, 84.0, 85.0, 86.0, 87.0, 88.0, 600.0, 90.0, 89.0, 93.0, 94.0, 95.0, 96.0, 97.0, 98.0, 99.0, 100.0, 101.0, 102.0, 103.0, 104.0, 105.0, 106.0, 107.0, 108.0, 109.0, 110.0, 111.0, 112.0, 113.0, 114.0, 115.0, 116.0, 117.0, 118.0, 119.0, 120.0, 121.0, 122.0, 123.0, 124.0, 125.0, 126.0, 127.0, 128.0, 129.0, 130.0, 131.0, 132.0, 133.0, 134.0, 135.0, 136.0, 137.0, 650.0, 139.0, 138.0, 141.0, 140.0, 143.0, 144.0, 145.0, 146.0, 142.0, 148.0, 149.0, 150.0, 151.0, 152.0, 153.0, 154.0, 155.0, 156.0, 157.0, 158.0, 159.0, 160.0, 161.0, 162.0, 164.0, 165.0, 166.0, 167.0, 168.0, 170.0, 172.0, 173.0, 175.0, 176.0, 178.0, 180.0, 181.0, 182.0, 184.0, 185.0, 186.0, 187.0, 188.0, 700.0, 190.0, 191.0, 192.0, 194.0, 196.0, 200.0, 201.0, 205.0, 207.0, 208.0, 209.0, 210.0, 211.0, 214.0, 216.0, 218.0, 225.0, 228.0, 230.0, 234.0, 236.0, 239.0, 240.0, 242.0, 243.0, 244.0, 246.0, 250.0, 253.0, 255.0, 258.0, 259.0, 260.0, 265.0, 267.0, 275.0, 279.0, 280.0, 286.0, 290.0, 292.0, 296.0, 300.0, 304.0, 308.0, 311.0, 312.0, 315.0, 320.0, 324.0, 330.0, 349.0, 350.0, 360.0, 370.0, 376.0, 380.0, 400.0, 405.0, 436.0, 480.0, 490.0, 495.0, 496.0, 500.0}\n",
      "\n",
      "********************************************************* Loan_Amount_Term ************************************************************\n",
      "\n",
      "{480.0, 36.0, 360.0, 300.0, 12.0, 240.0, 180.0, 84.0, 120.0, 60.0}\n",
      "\n",
      "********************************************************* Credit_History ************************************************************\n",
      "\n",
      "{0.0, 1.0}\n",
      "\n",
      "********************************************************* Property_Area ************************************************************\n",
      "\n",
      "{'Semiurban', 'Urban', 'Rural'}\n",
      "\n",
      "********************************************************* Loan_Status ************************************************************\n",
      "\n",
      "{'N', 'Y'}\n",
      "\n"
     ]
    }
   ],
   "source": [
    "for i in df.columns:\n",
    "  print(\"*********************************************************\",\n",
    "        i , \n",
    "        \"************************************************************\")\n",
    "  print()\n",
    "  print(set(df[i].tolist()))\n",
    "  print()"
   ]
  },
  {
   "cell_type": "code",
   "execution_count": 27,
   "id": "41be6420",
   "metadata": {},
   "outputs": [
    {
     "data": {
      "image/png": "[encoded data removed]",
      "text/plain": [
       "<Figure size 640x480 with 1 Axes>"
      ]
     },
     "metadata": {},
     "output_type": "display_data"
    },
    {
     "data": {
      "image/png": "[encoded data removed]",
      "text/plain": [
       "<Figure size 640x480 with 1 Axes>"
      ]
     },
     "metadata": {},
     "output_type": "display_data"
    },
    {
     "data": {
      "image/png": "[encoded data removed]",
      "text/plain": [
       "<Figure size 640x480 with 1 Axes>"
      ]
     },
     "metadata": {},
     "output_type": "display_data"
    },
    {
     "data": {
      "image/png": "[encoded data removed]",
      "text/plain": [
       "<Figure size 640x480 with 1 Axes>"
      ]
     },
     "metadata": {},
     "output_type": "display_data"
    },
    {
     "data": {
      "image/png": "[encoded data removed]",
      "text/plain": [
       "<Figure size 640x480 with 1 Axes>"
      ]
     },
     "metadata": {},
     "output_type": "display_data"
    }
   ],
   "source": [
    "#Outlier handelling\n",
    "def boxplots(col):\n",
    "    sns.boxplot(df[col])\n",
    "    plt.show()\n",
    "    \n",
    "for i in list(df.select_dtypes(exclude=['object']).columns)[1:]:\n",
    "    boxplots(i)"
   ]
  },
  {
   "cell_type": "code",
   "execution_count": 28,
   "id": "fdc848e9",
   "metadata": {},
   "outputs": [],
   "source": [
    "def remove_outlier(col):\n",
    "    sorted(col)\n",
    "    Q1, Q3 = col.quantile([0.25, 0.75])\n",
    "    IQR = Q3 - Q1\n",
    "    lower_range = Q1 - (1.5 * IQR)\n",
    "    upper_range = Q3 + (1.5 * IQR)\n",
    "    return lower_range, upper_range"
   ]
  },
  {
   "cell_type": "code",
   "execution_count": 29,
   "id": "b01ab5b7",
   "metadata": {},
   "outputs": [],
   "source": [
    "lr_ai, up_ai = remove_outlier(df['ApplicantIncome'])"
   ]
  },
  {
   "cell_type": "code",
   "execution_count": 30,
   "id": "a260cc27",
   "metadata": {},
   "outputs": [],
   "source": [
    "df['ApplicantIncome'] = np.where(df['ApplicantIncome'] > up_ai, up_ai,df['ApplicantIncome'])\n",
    "df['ApplicantIncome'] = np.where(df['ApplicantIncome'] < lr_ai, lr_ai,df['ApplicantIncome'])"
   ]
  },
  {
   "cell_type": "code",
   "execution_count": 31,
   "id": "0e63c5a2",
   "metadata": {},
   "outputs": [],
   "source": [
    "lr_cai, up_cai = remove_outlier(df['CoapplicantIncome'])"
   ]
  },
  {
   "cell_type": "code",
   "execution_count": 32,
   "id": "8a53d8ec",
   "metadata": {},
   "outputs": [],
   "source": [
    "df['CoapplicantIncome'] = np.where(df['CoapplicantIncome'] > up_cai, up_cai,df['CoapplicantIncome'])\n",
    "df['CoapplicantIncome'] = np.where(df['CoapplicantIncome'] < lr_cai, lr_cai,df['CoapplicantIncome'])"
   ]
  },
  {
   "cell_type": "code",
   "execution_count": 33,
   "id": "c4026f19",
   "metadata": {},
   "outputs": [],
   "source": [
    "lr_la,up_la= remove_outlier(df['LoanAmount'])\n"
   ]
  },
  {
   "cell_type": "code",
   "execution_count": 34,
   "id": "f5171afc",
   "metadata": {},
   "outputs": [],
   "source": [
    "df['LoanAmount'] = np.where(df['LoanAmount'] > up_la, up_la,df['LoanAmount'])\n",
    "df['LoanAmount'] = np.where(df['LoanAmount'] < lr_la, lr_la,df['LoanAmount'])"
   ]
  },
  {
   "cell_type": "code",
   "execution_count": 35,
   "id": "4662d66c",
   "metadata": {},
   "outputs": [
    {
     "data": {
      "text/plain": [
       "<Axes: ylabel='LoanAmount'>"
      ]
     },
     "execution_count": 35,
     "metadata": {},
     "output_type": "execute_result"
    },
    {
     "data": {
      "image/png": "[encoded data removed]",
      "text/plain": [
       "<Figure size 640x480 with 1 Axes>"
      ]
     },
     "metadata": {},
     "output_type": "display_data"
    }
   ],
   "source": [
    "sns.boxplot(y=\"LoanAmount\", data=df)"
   ]
  },
  {
   "cell_type": "code",
   "execution_count": 36,
   "id": "398965b7",
   "metadata": {},
   "outputs": [
    {
     "name": "stdout",
     "output_type": "stream",
     "text": [
      "<class 'pandas.core.frame.DataFrame'>\n",
      "RangeIndex: 614 entries, 0 to 613\n",
      "Data columns (total 13 columns):\n",
      " #   Column             Non-Null Count  Dtype  \n",
      "---  ------             --------------  -----  \n",
      " 0   Loan_ID            614 non-null    object \n",
      " 1   Gender             614 non-null    object \n",
      " 2   Married            614 non-null    object \n",
      " 3   Dependents         614 non-null    int64  \n",
      " 4   Education          614 non-null    object \n",
      " 5   Self_Employed      614 non-null    object \n",
      " 6   ApplicantIncome    614 non-null    float64\n",
      " 7   CoapplicantIncome  614 non-null    float64\n",
      " 8   LoanAmount         614 non-null    float64\n",
      " 9   Loan_Amount_Term   614 non-null    float64\n",
      " 10  Credit_History     614 non-null    float64\n",
      " 11  Property_Area      614 non-null    object \n",
      " 12  Loan_Status        614 non-null    object \n",
      "dtypes: float64(5), int64(1), object(7)\n",
      "memory usage: 62.5+ KB\n"
     ]
    }
   ],
   "source": [
    "df.info()"
   ]
  },
  {
   "cell_type": "code",
   "execution_count": 37,
   "id": "1e198eee",
   "metadata": {},
   "outputs": [
    {
     "data": {
      "text/html": [
       "<div>\n",
       "<style scoped>\n",
       "    .dataframe tbody tr th:only-of-type {\n",
       "        vertical-align: middle;\n",
       "    }\n",
       "\n",
       "    .dataframe tbody tr th {\n",
       "        vertical-align: top;\n",
       "    }\n",
       "\n",
       "    .dataframe thead th {\n",
       "        text-align: right;\n",
       "    }\n",
       "</style>\n",
       "<table border=\"1\" class=\"dataframe\">\n",
       "  <thead>\n",
       "    <tr style=\"text-align: right;\">\n",
       "      <th></th>\n",
       "      <th>Dependents</th>\n",
       "      <th>ApplicantIncome</th>\n",
       "      <th>CoapplicantIncome</th>\n",
       "      <th>LoanAmount</th>\n",
       "      <th>Loan_Amount_Term</th>\n",
       "      <th>Credit_History</th>\n",
       "    </tr>\n",
       "  </thead>\n",
       "  <tbody>\n",
       "    <tr>\n",
       "      <th>count</th>\n",
       "      <td>614.000000</td>\n",
       "      <td>614.000000</td>\n",
       "      <td>614.000000</td>\n",
       "      <td>614.000000</td>\n",
       "      <td>614.000000</td>\n",
       "      <td>614.000000</td>\n",
       "    </tr>\n",
       "    <tr>\n",
       "      <th>mean</th>\n",
       "      <td>0.744300</td>\n",
       "      <td>4617.111564</td>\n",
       "      <td>1419.702231</td>\n",
       "      <td>137.365635</td>\n",
       "      <td>342.410423</td>\n",
       "      <td>0.855049</td>\n",
       "    </tr>\n",
       "    <tr>\n",
       "      <th>std</th>\n",
       "      <td>1.009623</td>\n",
       "      <td>2479.851729</td>\n",
       "      <td>1624.605892</td>\n",
       "      <td>55.779749</td>\n",
       "      <td>64.428629</td>\n",
       "      <td>0.352339</td>\n",
       "    </tr>\n",
       "    <tr>\n",
       "      <th>min</th>\n",
       "      <td>0.000000</td>\n",
       "      <td>150.000000</td>\n",
       "      <td>0.000000</td>\n",
       "      <td>9.000000</td>\n",
       "      <td>12.000000</td>\n",
       "      <td>0.000000</td>\n",
       "    </tr>\n",
       "    <tr>\n",
       "      <th>25%</th>\n",
       "      <td>0.000000</td>\n",
       "      <td>2877.500000</td>\n",
       "      <td>0.000000</td>\n",
       "      <td>100.250000</td>\n",
       "      <td>360.000000</td>\n",
       "      <td>1.000000</td>\n",
       "    </tr>\n",
       "    <tr>\n",
       "      <th>50%</th>\n",
       "      <td>0.000000</td>\n",
       "      <td>3812.500000</td>\n",
       "      <td>1188.500000</td>\n",
       "      <td>128.000000</td>\n",
       "      <td>360.000000</td>\n",
       "      <td>1.000000</td>\n",
       "    </tr>\n",
       "    <tr>\n",
       "      <th>75%</th>\n",
       "      <td>1.000000</td>\n",
       "      <td>5795.000000</td>\n",
       "      <td>2297.250000</td>\n",
       "      <td>164.750000</td>\n",
       "      <td>360.000000</td>\n",
       "      <td>1.000000</td>\n",
       "    </tr>\n",
       "    <tr>\n",
       "      <th>max</th>\n",
       "      <td>3.000000</td>\n",
       "      <td>10171.250000</td>\n",
       "      <td>5743.125000</td>\n",
       "      <td>261.500000</td>\n",
       "      <td>480.000000</td>\n",
       "      <td>1.000000</td>\n",
       "    </tr>\n",
       "  </tbody>\n",
       "</table>\n",
       "</div>"
      ],
      "text/plain": [
       "       Dependents  ApplicantIncome  CoapplicantIncome  LoanAmount  \\\n",
       "count  614.000000       614.000000         614.000000  614.000000   \n",
       "mean     0.744300      4617.111564        1419.702231  137.365635   \n",
       "std      1.009623      2479.851729        1624.605892   55.779749   \n",
       "min      0.000000       150.000000           0.000000    9.000000   \n",
       "25%      0.000000      2877.500000           0.000000  100.250000   \n",
       "50%      0.000000      3812.500000        1188.500000  128.000000   \n",
       "75%      1.000000      5795.000000        2297.250000  164.750000   \n",
       "max      3.000000     10171.250000        5743.125000  261.500000   \n",
       "\n",
       "       Loan_Amount_Term  Credit_History  \n",
       "count        614.000000      614.000000  \n",
       "mean         342.410423        0.855049  \n",
       "std           64.428629        0.352339  \n",
       "min           12.000000        0.000000  \n",
       "25%          360.000000        1.000000  \n",
       "50%          360.000000        1.000000  \n",
       "75%          360.000000        1.000000  \n",
       "max          480.000000        1.000000  "
      ]
     },
     "execution_count": 37,
     "metadata": {},
     "output_type": "execute_result"
    }
   ],
   "source": [
    "df.describe()"
   ]
  },
  {
   "cell_type": "code",
   "execution_count": 38,
   "id": "944a5a43",
   "metadata": {},
   "outputs": [
    {
     "data": {
      "image/png": "[encoded data removed]",
      "text/plain": [
       "<Figure size 1500x400 with 1 Axes>"
      ]
     },
     "metadata": {},
     "output_type": "display_data"
    }
   ],
   "source": []
  },
  {
   "cell_type": "code",
   "execution_count": 39,
   "id": "7a72fbd9",
   "metadata": {},
   "outputs": [],
   "source": [
    "# Using map function to convert y/n as 1/0\n",
    "df['Loan_Status'] = df['Loan_Status'].map({'Y': 1, 'N': 0})\n"
   ]
  },
  {
   "cell_type": "code",
   "execution_count": 40,
   "id": "fd496b9c",
   "metadata": {},
   "outputs": [
    {
     "data": {
      "text/plain": [
       "Loan_ID               object\n",
       "Gender                object\n",
       "Married               object\n",
       "Dependents             int64\n",
       "Education             object\n",
       "Self_Employed         object\n",
       "ApplicantIncome      float64\n",
       "CoapplicantIncome    float64\n",
       "LoanAmount           float64\n",
       "Loan_Amount_Term     float64\n",
       "Credit_History       float64\n",
       "Property_Area         object\n",
       "Loan_Status            int64\n",
       "dtype: object"
      ]
     },
     "execution_count": 40,
     "metadata": {},
     "output_type": "execute_result"
    }
   ],
   "source": [
    "df.dtypes"
   ]
  },
  {
   "cell_type": "code",
   "execution_count": 41,
   "id": "32c4eae0",
   "metadata": {},
   "outputs": [],
   "source": [
    "df['ApplicantIncome']=df['ApplicantIncome'].astype(\"int64\")\n",
    "df['CoapplicantIncome']=df['CoapplicantIncome'].astype(\"int64\")\n",
    "df['LoanAmount']=df['LoanAmount'].astype(\"int64\")\n",
    "df['Loan_Amount_Term']=df['Loan_Amount_Term'].astype(\"int64\")\n",
    "df['Credit_History']=df['Credit_History'].astype(\"int64\")"
   ]
  },
  {
   "cell_type": "code",
   "execution_count": 42,
   "id": "c69af33f",
   "metadata": {},
   "outputs": [
    {
     "data": {
      "text/plain": [
       "<Axes: xlabel='Gender', ylabel='Count'>"
      ]
     },
     "execution_count": 42,
     "metadata": {},
     "output_type": "execute_result"
    },
    {
     "data": {
      "image/png": "[encoded data removed]",
      "text/plain": [
       "<Figure size 640x480 with 1 Axes>"
      ]
     },
     "metadata": {},
     "output_type": "display_data"
    }
   ],
   "source": [
    "#realtionship of loan status with gender\n",
    "sns.histplot(data=df, x=\"Gender\",hue=\"Loan_Status\")\n"
   ]
  },
  {
   "cell_type": "code",
   "execution_count": 43,
   "id": "de5f4815",
   "metadata": {},
   "outputs": [
    {
     "data": {
      "text/plain": [
       "<Axes: xlabel='LoanAmount', ylabel='Count'>"
      ]
     },
     "execution_count": 43,
     "metadata": {},
     "output_type": "execute_result"
    },
    {
     "data": {
      "image/png": "[encoded data removed]",
      "text/plain": [
       "<Figure size 640x480 with 1 Axes>"
      ]
     },
     "metadata": {},
     "output_type": "display_data"
    }
   ],
   "source": [
    "sns.histplot(data=df, x=\"LoanAmount\", hue=\"Loan_Status\")\n"
   ]
  },
  {
   "cell_type": "code",
   "execution_count": 44,
   "id": "35140cae",
   "metadata": {},
   "outputs": [
    {
     "data": {
      "image/png": "[encoded data removed]",
      "text/plain": [
       "<Figure size 1000x400 with 1 Axes>"
      ]
     },
     "metadata": {},
     "output_type": "display_data"
    }
   ],
   "source": [
    "plt.figure(figsize=(10,4))\n",
    "sns.histplot(data=df, x=\"Education\",hue=\"Loan_Status\",palette=\"Set2\")\n",
    "plt.show()"
   ]
  },
  {
   "cell_type": "code",
   "execution_count": 45,
   "id": "6c97c2ed",
   "metadata": {},
   "outputs": [
    {
     "data": {
      "text/plain": [
       "<Figure size 1000x400 with 0 Axes>"
      ]
     },
     "metadata": {},
     "output_type": "display_data"
    },
    {
     "data": {
      "image/png": "[encoded data removed]",
      "text/plain": [
       "<Figure size 605.847x500 with 1 Axes>"
      ]
     },
     "metadata": {},
     "output_type": "display_data"
    }
   ],
   "source": [
    "plt.figure(figsize=(10,4))\n",
    "sns.catplot(data=df, x=\"Education\", y=\"ApplicantIncome\",hue=\"Loan_Status\")\n",
    "plt.show()\n"
   ]
  },
  {
   "cell_type": "code",
   "execution_count": 46,
   "id": "38c2b6e5",
   "metadata": {},
   "outputs": [
    {
     "data": {
      "image/png": "[encoded data removed]",
      "text/plain": [
       "<Figure size 1000x400 with 1 Axes>"
      ]
     },
     "metadata": {},
     "output_type": "display_data"
    }
   ],
   "source": [
    "plt.figure(figsize=(10,4))\n",
    "sns.countplot(data=df, x=\"Self_Employed\", hue=\"Loan_Status\", palette=\"pastel\")\n",
    "plt.show()"
   ]
  },
  {
   "cell_type": "code",
   "execution_count": 47,
   "id": "a6f78e61",
   "metadata": {},
   "outputs": [
    {
     "data": {
      "image/png": "[encoded data removed]",
      "text/plain": [
       "<Figure size 800x400 with 1 Axes>"
      ]
     },
     "metadata": {},
     "output_type": "display_data"
    }
   ],
   "source": [
    "plt.figure(figsize=(8,4))\n",
    "00plt.show()"
   ]
  },
  {
   "cell_type": "code",
   "execution_count": 48,
   "id": "f2ee91c9",
   "metadata": {},
   "outputs": [
    {
     "data": {
      "image/png": "[encoded data removed]",
      "text/plain": [
       "<Figure size 1000x700 with 1 Axes>"
      ]
     },
     "metadata": {},
     "output_type": "display_data"
    }
   ],
   "source": [
    "#Years at Company\n",
    "plt.figure(figsize=(10,7))\n",
    "sns.barplot(data=df, x=\"Credit_History\", y=\"Property_Area\", hue=\"Loan_Status\")\n",
    "plt.show()\n",
    "plt.show()"
   ]
  },
  {
   "cell_type": "code",
   "execution_count": 49,
   "id": "f494634a",
   "metadata": {},
   "outputs": [
    {
     "data": {
      "text/html": [
       "<div>\n",
       "<style scoped>\n",
       "    .dataframe tbody tr th:only-of-type {\n",
       "        vertical-align: middle;\n",
       "    }\n",
       "\n",
       "    .dataframe tbody tr th {\n",
       "        vertical-align: top;\n",
       "    }\n",
       "\n",
       "    .dataframe thead th {\n",
       "        text-align: right;\n",
       "    }\n",
       "</style>\n",
       "<table border=\"1\" class=\"dataframe\">\n",
       "  <thead>\n",
       "    <tr style=\"text-align: right;\">\n",
       "      <th></th>\n",
       "      <th>Loan_ID</th>\n",
       "      <th>Gender</th>\n",
       "      <th>Married</th>\n",
       "      <th>Dependents</th>\n",
       "      <th>Education</th>\n",
       "      <th>Self_Employed</th>\n",
       "      <th>ApplicantIncome</th>\n",
       "      <th>CoapplicantIncome</th>\n",
       "      <th>LoanAmount</th>\n",
       "      <th>Loan_Amount_Term</th>\n",
       "      <th>Credit_History</th>\n",
       "      <th>Property_Area</th>\n",
       "      <th>Loan_Status</th>\n",
       "    </tr>\n",
       "  </thead>\n",
       "  <tbody>\n",
       "    <tr>\n",
       "      <th>609</th>\n",
       "      <td>LP002978</td>\n",
       "      <td>Female</td>\n",
       "      <td>No</td>\n",
       "      <td>0</td>\n",
       "      <td>Graduate</td>\n",
       "      <td>No</td>\n",
       "      <td>2900</td>\n",
       "      <td>0</td>\n",
       "      <td>71</td>\n",
       "      <td>360</td>\n",
       "      <td>1</td>\n",
       "      <td>Rural</td>\n",
       "      <td>1</td>\n",
       "    </tr>\n",
       "    <tr>\n",
       "      <th>610</th>\n",
       "      <td>LP002979</td>\n",
       "      <td>Male</td>\n",
       "      <td>Yes</td>\n",
       "      <td>3</td>\n",
       "      <td>Graduate</td>\n",
       "      <td>No</td>\n",
       "      <td>4106</td>\n",
       "      <td>0</td>\n",
       "      <td>40</td>\n",
       "      <td>180</td>\n",
       "      <td>1</td>\n",
       "      <td>Rural</td>\n",
       "      <td>1</td>\n",
       "    </tr>\n",
       "    <tr>\n",
       "      <th>611</th>\n",
       "      <td>LP002983</td>\n",
       "      <td>Male</td>\n",
       "      <td>Yes</td>\n",
       "      <td>1</td>\n",
       "      <td>Graduate</td>\n",
       "      <td>No</td>\n",
       "      <td>8072</td>\n",
       "      <td>240</td>\n",
       "      <td>253</td>\n",
       "      <td>360</td>\n",
       "      <td>1</td>\n",
       "      <td>Urban</td>\n",
       "      <td>1</td>\n",
       "    </tr>\n",
       "    <tr>\n",
       "      <th>612</th>\n",
       "      <td>LP002984</td>\n",
       "      <td>Male</td>\n",
       "      <td>Yes</td>\n",
       "      <td>2</td>\n",
       "      <td>Graduate</td>\n",
       "      <td>No</td>\n",
       "      <td>7583</td>\n",
       "      <td>0</td>\n",
       "      <td>187</td>\n",
       "      <td>360</td>\n",
       "      <td>1</td>\n",
       "      <td>Urban</td>\n",
       "      <td>1</td>\n",
       "    </tr>\n",
       "    <tr>\n",
       "      <th>613</th>\n",
       "      <td>LP002990</td>\n",
       "      <td>Female</td>\n",
       "      <td>No</td>\n",
       "      <td>0</td>\n",
       "      <td>Graduate</td>\n",
       "      <td>Yes</td>\n",
       "      <td>4583</td>\n",
       "      <td>0</td>\n",
       "      <td>133</td>\n",
       "      <td>360</td>\n",
       "      <td>0</td>\n",
       "      <td>Semiurban</td>\n",
       "      <td>0</td>\n",
       "    </tr>\n",
       "  </tbody>\n",
       "</table>\n",
       "</div>"
      ],
      "text/plain": [
       "      Loan_ID  Gender Married  Dependents Education Self_Employed  \\\n",
       "609  LP002978  Female      No           0  Graduate            No   \n",
       "610  LP002979    Male     Yes           3  Graduate            No   \n",
       "611  LP002983    Male     Yes           1  Graduate            No   \n",
       "612  LP002984    Male     Yes           2  Graduate            No   \n",
       "613  LP002990  Female      No           0  Graduate           Yes   \n",
       "\n",
       "     ApplicantIncome  CoapplicantIncome  LoanAmount  Loan_Amount_Term  \\\n",
       "609             2900                  0          71               360   \n",
       "610             4106                  0          40               180   \n",
       "611             8072                240         253               360   \n",
       "612             7583                  0         187               360   \n",
       "613             4583                  0         133               360   \n",
       "\n",
       "     Credit_History Property_Area  Loan_Status  \n",
       "609               1         Rural            1  \n",
       "610               1         Rural            1  \n",
       "611               1         Urban            1  \n",
       "612               1         Urban            1  \n",
       "613               0     Semiurban            0  "
      ]
     },
     "execution_count": 49,
     "metadata": {},
     "output_type": "execute_result"
    }
   ],
   "source": [
    "df.tail()"
   ]
  },
  {
   "cell_type": "markdown",
   "id": "6dbd385f",
   "metadata": {},
   "source": [
    "# Encoding"
   ]
  },
  {
   "cell_type": "code",
   "execution_count": 50,
   "id": "0d97d547",
   "metadata": {},
   "outputs": [],
   "source": [
    "df = df.drop(['Loan_ID'], axis=1)"
   ]
  },
  {
   "cell_type": "code",
   "execution_count": 51,
   "id": "23e91180",
   "metadata": {},
   "outputs": [],
   "source": [
    "x = df.iloc[:,:-1]\n",
    "y = df.iloc[:,-1]"
   ]
  },
  {
   "cell_type": "code",
   "execution_count": 52,
   "id": "3c80927e",
   "metadata": {},
   "outputs": [
    {
     "data": {
      "text/html": [
       "<div>\n",
       "<style scoped>\n",
       "    .dataframe tbody tr th:only-of-type {\n",
       "        vertical-align: middle;\n",
       "    }\n",
       "\n",
       "    .dataframe tbody tr th {\n",
       "        vertical-align: top;\n",
       "    }\n",
       "\n",
       "    .dataframe thead th {\n",
       "        text-align: right;\n",
       "    }\n",
       "</style>\n",
       "<table border=\"1\" class=\"dataframe\">\n",
       "  <thead>\n",
       "    <tr style=\"text-align: right;\">\n",
       "      <th></th>\n",
       "      <th>Gender</th>\n",
       "      <th>Married</th>\n",
       "      <th>Dependents</th>\n",
       "      <th>Education</th>\n",
       "      <th>Self_Employed</th>\n",
       "      <th>ApplicantIncome</th>\n",
       "      <th>CoapplicantIncome</th>\n",
       "      <th>LoanAmount</th>\n",
       "      <th>Loan_Amount_Term</th>\n",
       "      <th>Credit_History</th>\n",
       "      <th>Property_Area</th>\n",
       "    </tr>\n",
       "  </thead>\n",
       "  <tbody>\n",
       "    <tr>\n",
       "      <th>0</th>\n",
       "      <td>Male</td>\n",
       "      <td>No</td>\n",
       "      <td>0</td>\n",
       "      <td>Graduate</td>\n",
       "      <td>No</td>\n",
       "      <td>5849</td>\n",
       "      <td>0</td>\n",
       "      <td>128</td>\n",
       "      <td>360</td>\n",
       "      <td>1</td>\n",
       "      <td>Urban</td>\n",
       "    </tr>\n",
       "    <tr>\n",
       "      <th>1</th>\n",
       "      <td>Male</td>\n",
       "      <td>Yes</td>\n",
       "      <td>1</td>\n",
       "      <td>Graduate</td>\n",
       "      <td>No</td>\n",
       "      <td>4583</td>\n",
       "      <td>1508</td>\n",
       "      <td>128</td>\n",
       "      <td>360</td>\n",
       "      <td>1</td>\n",
       "      <td>Rural</td>\n",
       "    </tr>\n",
       "    <tr>\n",
       "      <th>2</th>\n",
       "      <td>Male</td>\n",
       "      <td>Yes</td>\n",
       "      <td>0</td>\n",
       "      <td>Graduate</td>\n",
       "      <td>Yes</td>\n",
       "      <td>3000</td>\n",
       "      <td>0</td>\n",
       "      <td>66</td>\n",
       "      <td>360</td>\n",
       "      <td>1</td>\n",
       "      <td>Urban</td>\n",
       "    </tr>\n",
       "    <tr>\n",
       "      <th>3</th>\n",
       "      <td>Male</td>\n",
       "      <td>Yes</td>\n",
       "      <td>0</td>\n",
       "      <td>Not Graduate</td>\n",
       "      <td>No</td>\n",
       "      <td>2583</td>\n",
       "      <td>2358</td>\n",
       "      <td>120</td>\n",
       "      <td>360</td>\n",
       "      <td>1</td>\n",
       "      <td>Urban</td>\n",
       "    </tr>\n",
       "    <tr>\n",
       "      <th>4</th>\n",
       "      <td>Male</td>\n",
       "      <td>No</td>\n",
       "      <td>0</td>\n",
       "      <td>Graduate</td>\n",
       "      <td>No</td>\n",
       "      <td>6000</td>\n",
       "      <td>0</td>\n",
       "      <td>141</td>\n",
       "      <td>360</td>\n",
       "      <td>1</td>\n",
       "      <td>Urban</td>\n",
       "    </tr>\n",
       "  </tbody>\n",
       "</table>\n",
       "</div>"
      ],
      "text/plain": [
       "  Gender Married  Dependents     Education Self_Employed  ApplicantIncome  \\\n",
       "0   Male      No           0      Graduate            No             5849   \n",
       "1   Male     Yes           1      Graduate            No             4583   \n",
       "2   Male     Yes           0      Graduate           Yes             3000   \n",
       "3   Male     Yes           0  Not Graduate            No             2583   \n",
       "4   Male      No           0      Graduate            No             6000   \n",
       "\n",
       "   CoapplicantIncome  LoanAmount  Loan_Amount_Term  Credit_History  \\\n",
       "0                  0         128               360               1   \n",
       "1               1508         128               360               1   \n",
       "2                  0          66               360               1   \n",
       "3               2358         120               360               1   \n",
       "4                  0         141               360               1   \n",
       "\n",
       "  Property_Area  \n",
       "0         Urban  \n",
       "1         Rural  \n",
       "2         Urban  \n",
       "3         Urban  \n",
       "4         Urban  "
      ]
     },
     "execution_count": 52,
     "metadata": {},
     "output_type": "execute_result"
    }
   ],
   "source": [
    "x.head()"
   ]
  },
  {
   "cell_type": "code",
   "execution_count": 53,
   "id": "32fbcde9",
   "metadata": {},
   "outputs": [],
   "source": [
    "from sklearn import preprocessing\n",
    "Gender = preprocessing.LabelEncoder()\n",
    "x['Gender'] = Gender.fit_transform(x['Gender'])\n",
    "Married = preprocessing.LabelEncoder()\n",
    "x['Married'] = Married.fit_transform(x['Married'])\n",
    "Education= preprocessing.LabelEncoder()\n",
    "x['Education'] = Education.fit_transform(x['Education'])\n",
    "Self_Employed= preprocessing.LabelEncoder()\n",
    "x['Self_Employed'] = Self_Employed.fit_transform(x['Self_Employed'])\n",
    "x = pd.get_dummies(x, columns=['Property_Area'],drop_first=True)"
   ]
  },
  {
   "cell_type": "code",
   "execution_count": 54,
   "id": "f44d228a",
   "metadata": {},
   "outputs": [
    {
     "data": {
      "text/html": [
       "<div>\n",
       "<style scoped>\n",
       "    .dataframe tbody tr th:only-of-type {\n",
       "        vertical-align: middle;\n",
       "    }\n",
       "\n",
       "    .dataframe tbody tr th {\n",
       "        vertical-align: top;\n",
       "    }\n",
       "\n",
       "    .dataframe thead th {\n",
       "        text-align: right;\n",
       "    }\n",
       "</style>\n",
       "<table border=\"1\" class=\"dataframe\">\n",
       "  <thead>\n",
       "    <tr style=\"text-align: right;\">\n",
       "      <th></th>\n",
       "      <th>Gender</th>\n",
       "      <th>Married</th>\n",
       "      <th>Dependents</th>\n",
       "      <th>Education</th>\n",
       "      <th>Self_Employed</th>\n",
       "      <th>ApplicantIncome</th>\n",
       "      <th>CoapplicantIncome</th>\n",
       "      <th>LoanAmount</th>\n",
       "      <th>Loan_Amount_Term</th>\n",
       "      <th>Credit_History</th>\n",
       "      <th>Property_Area_Semiurban</th>\n",
       "      <th>Property_Area_Urban</th>\n",
       "    </tr>\n",
       "  </thead>\n",
       "  <tbody>\n",
       "    <tr>\n",
       "      <th>0</th>\n",
       "      <td>1</td>\n",
       "      <td>0</td>\n",
       "      <td>0</td>\n",
       "      <td>0</td>\n",
       "      <td>0</td>\n",
       "      <td>5849</td>\n",
       "      <td>0</td>\n",
       "      <td>128</td>\n",
       "      <td>360</td>\n",
       "      <td>1</td>\n",
       "      <td>0</td>\n",
       "      <td>1</td>\n",
       "    </tr>\n",
       "    <tr>\n",
       "      <th>1</th>\n",
       "      <td>1</td>\n",
       "      <td>1</td>\n",
       "      <td>1</td>\n",
       "      <td>0</td>\n",
       "      <td>0</td>\n",
       "      <td>4583</td>\n",
       "      <td>1508</td>\n",
       "      <td>128</td>\n",
       "      <td>360</td>\n",
       "      <td>1</td>\n",
       "      <td>0</td>\n",
       "      <td>0</td>\n",
       "    </tr>\n",
       "    <tr>\n",
       "      <th>2</th>\n",
       "      <td>1</td>\n",
       "      <td>1</td>\n",
       "      <td>0</td>\n",
       "      <td>0</td>\n",
       "      <td>1</td>\n",
       "      <td>3000</td>\n",
       "      <td>0</td>\n",
       "      <td>66</td>\n",
       "      <td>360</td>\n",
       "      <td>1</td>\n",
       "      <td>0</td>\n",
       "      <td>1</td>\n",
       "    </tr>\n",
       "    <tr>\n",
       "      <th>3</th>\n",
       "      <td>1</td>\n",
       "      <td>1</td>\n",
       "      <td>0</td>\n",
       "      <td>1</td>\n",
       "      <td>0</td>\n",
       "      <td>2583</td>\n",
       "      <td>2358</td>\n",
       "      <td>120</td>\n",
       "      <td>360</td>\n",
       "      <td>1</td>\n",
       "      <td>0</td>\n",
       "      <td>1</td>\n",
       "    </tr>\n",
       "    <tr>\n",
       "      <th>4</th>\n",
       "      <td>1</td>\n",
       "      <td>0</td>\n",
       "      <td>0</td>\n",
       "      <td>0</td>\n",
       "      <td>0</td>\n",
       "      <td>6000</td>\n",
       "      <td>0</td>\n",
       "      <td>141</td>\n",
       "      <td>360</td>\n",
       "      <td>1</td>\n",
       "      <td>0</td>\n",
       "      <td>1</td>\n",
       "    </tr>\n",
       "  </tbody>\n",
       "</table>\n",
       "</div>"
      ],
      "text/plain": [
       "   Gender  Married  Dependents  Education  Self_Employed  ApplicantIncome  \\\n",
       "0       1        0           0          0              0             5849   \n",
       "1       1        1           1          0              0             4583   \n",
       "2       1        1           0          0              1             3000   \n",
       "3       1        1           0          1              0             2583   \n",
       "4       1        0           0          0              0             6000   \n",
       "\n",
       "   CoapplicantIncome  LoanAmount  Loan_Amount_Term  Credit_History  \\\n",
       "0                  0         128               360               1   \n",
       "1               1508         128               360               1   \n",
       "2                  0          66               360               1   \n",
       "3               2358         120               360               1   \n",
       "4                  0         141               360               1   \n",
       "\n",
       "   Property_Area_Semiurban  Property_Area_Urban  \n",
       "0                        0                    1  \n",
       "1                        0                    0  \n",
       "2                        0                    1  \n",
       "3                        0                    1  \n",
       "4                        0                    1  "
      ]
     },
     "execution_count": 54,
     "metadata": {},
     "output_type": "execute_result"
    }
   ],
   "source": [
    "x.head()"
   ]
  },
  {
   "cell_type": "code",
   "execution_count": 55,
   "id": "1819f22e",
   "metadata": {},
   "outputs": [],
   "source": [
    "import imblearn"
   ]
  },
  {
   "cell_type": "code",
   "execution_count": 56,
   "id": "8b710b49",
   "metadata": {},
   "outputs": [
    {
     "data": {
      "text/plain": [
       "1    422\n",
       "0    192\n",
       "Name: Loan_Status, dtype: int64"
      ]
     },
     "execution_count": 56,
     "metadata": {},
     "output_type": "execute_result"
    }
   ],
   "source": [
    "y.value_counts()"
   ]
  },
  {
   "cell_type": "code",
   "execution_count": 57,
   "id": "25651efd",
   "metadata": {},
   "outputs": [],
   "source": [
    "from imblearn.over_sampling import RandomOverSampler\n",
    "over=RandomOverSampler()\n",
    "x_over,y_over=over.fit_resample(x,y)"
   ]
  },
  {
   "cell_type": "code",
   "execution_count": 58,
   "id": "1de52a01",
   "metadata": {},
   "outputs": [
    {
     "name": "stdout",
     "output_type": "stream",
     "text": [
      "(844, 12) (844,)\n",
      "(614, 12) (614,)\n"
     ]
    }
   ],
   "source": [
    "print(x_over.shape, y_over.shape)\n",
    "print(x.shape, y.shape)"
   ]
  },
  {
   "cell_type": "code",
   "execution_count": 59,
   "id": "2d129cfa",
   "metadata": {},
   "outputs": [
    {
     "data": {
      "text/plain": [
       "1    422\n",
       "0    422\n",
       "Name: Loan_Status, dtype: int64"
      ]
     },
     "execution_count": 59,
     "metadata": {},
     "output_type": "execute_result"
    }
   ],
   "source": [
    "y_over.value_counts()"
   ]
  },
  {
   "cell_type": "markdown",
   "id": "81e99604",
   "metadata": {},
   "source": [
    "# Feature Scaling"
   ]
  },
  {
   "cell_type": "code",
   "execution_count": 60,
   "id": "06ee30dc",
   "metadata": {},
   "outputs": [
    {
     "data": {
      "text/html": [
       "<div>\n",
       "<style scoped>\n",
       "    .dataframe tbody tr th:only-of-type {\n",
       "        vertical-align: middle;\n",
       "    }\n",
       "\n",
       "    .dataframe tbody tr th {\n",
       "        vertical-align: top;\n",
       "    }\n",
       "\n",
       "    .dataframe thead th {\n",
       "        text-align: right;\n",
       "    }\n",
       "</style>\n",
       "<table border=\"1\" class=\"dataframe\">\n",
       "  <thead>\n",
       "    <tr style=\"text-align: right;\">\n",
       "      <th></th>\n",
       "      <th>Gender</th>\n",
       "      <th>Married</th>\n",
       "      <th>Dependents</th>\n",
       "      <th>Education</th>\n",
       "      <th>Self_Employed</th>\n",
       "      <th>ApplicantIncome</th>\n",
       "      <th>CoapplicantIncome</th>\n",
       "      <th>LoanAmount</th>\n",
       "      <th>Loan_Amount_Term</th>\n",
       "      <th>Credit_History</th>\n",
       "      <th>Property_Area_Semiurban</th>\n",
       "      <th>Property_Area_Urban</th>\n",
       "    </tr>\n",
       "  </thead>\n",
       "  <tbody>\n",
       "    <tr>\n",
       "      <th>0</th>\n",
       "      <td>1</td>\n",
       "      <td>0</td>\n",
       "      <td>0</td>\n",
       "      <td>0</td>\n",
       "      <td>0</td>\n",
       "      <td>5849</td>\n",
       "      <td>0</td>\n",
       "      <td>128</td>\n",
       "      <td>360</td>\n",
       "      <td>1</td>\n",
       "      <td>0</td>\n",
       "      <td>1</td>\n",
       "    </tr>\n",
       "    <tr>\n",
       "      <th>1</th>\n",
       "      <td>1</td>\n",
       "      <td>1</td>\n",
       "      <td>1</td>\n",
       "      <td>0</td>\n",
       "      <td>0</td>\n",
       "      <td>4583</td>\n",
       "      <td>1508</td>\n",
       "      <td>128</td>\n",
       "      <td>360</td>\n",
       "      <td>1</td>\n",
       "      <td>0</td>\n",
       "      <td>0</td>\n",
       "    </tr>\n",
       "    <tr>\n",
       "      <th>2</th>\n",
       "      <td>1</td>\n",
       "      <td>1</td>\n",
       "      <td>0</td>\n",
       "      <td>0</td>\n",
       "      <td>1</td>\n",
       "      <td>3000</td>\n",
       "      <td>0</td>\n",
       "      <td>66</td>\n",
       "      <td>360</td>\n",
       "      <td>1</td>\n",
       "      <td>0</td>\n",
       "      <td>1</td>\n",
       "    </tr>\n",
       "    <tr>\n",
       "      <th>3</th>\n",
       "      <td>1</td>\n",
       "      <td>1</td>\n",
       "      <td>0</td>\n",
       "      <td>1</td>\n",
       "      <td>0</td>\n",
       "      <td>2583</td>\n",
       "      <td>2358</td>\n",
       "      <td>120</td>\n",
       "      <td>360</td>\n",
       "      <td>1</td>\n",
       "      <td>0</td>\n",
       "      <td>1</td>\n",
       "    </tr>\n",
       "    <tr>\n",
       "      <th>4</th>\n",
       "      <td>1</td>\n",
       "      <td>0</td>\n",
       "      <td>0</td>\n",
       "      <td>0</td>\n",
       "      <td>0</td>\n",
       "      <td>6000</td>\n",
       "      <td>0</td>\n",
       "      <td>141</td>\n",
       "      <td>360</td>\n",
       "      <td>1</td>\n",
       "      <td>0</td>\n",
       "      <td>1</td>\n",
       "    </tr>\n",
       "  </tbody>\n",
       "</table>\n",
       "</div>"
      ],
      "text/plain": [
       "   Gender  Married  Dependents  Education  Self_Employed  ApplicantIncome  \\\n",
       "0       1        0           0          0              0             5849   \n",
       "1       1        1           1          0              0             4583   \n",
       "2       1        1           0          0              1             3000   \n",
       "3       1        1           0          1              0             2583   \n",
       "4       1        0           0          0              0             6000   \n",
       "\n",
       "   CoapplicantIncome  LoanAmount  Loan_Amount_Term  Credit_History  \\\n",
       "0                  0         128               360               1   \n",
       "1               1508         128               360               1   \n",
       "2                  0          66               360               1   \n",
       "3               2358         120               360               1   \n",
       "4                  0         141               360               1   \n",
       "\n",
       "   Property_Area_Semiurban  Property_Area_Urban  \n",
       "0                        0                    1  \n",
       "1                        0                    0  \n",
       "2                        0                    1  \n",
       "3                        0                    1  \n",
       "4                        0                    1  "
      ]
     },
     "execution_count": 60,
     "metadata": {},
     "output_type": "execute_result"
    }
   ],
   "source": [
    "x.head()"
   ]
  },
  {
   "cell_type": "code",
   "execution_count": 61,
   "id": "b583e454",
   "metadata": {},
   "outputs": [],
   "source": [
    "# Feature Scaling\n",
    "from sklearn.preprocessing import StandardScaler\n",
    "scaler = StandardScaler()\n",
    "x_scaler = scaler.fit_transform(x_over)"
   ]
  },
  {
   "cell_type": "code",
   "execution_count": 62,
   "id": "7578eab8",
   "metadata": {},
   "outputs": [],
   "source": [
    "from sklearn.model_selection import train_test_split\n",
    "x_train,x_test,y_train,y_test= train_test_split(x_scaler,y_over, test_size=0.2, random_state=5)"
   ]
  },
  {
   "cell_type": "code",
   "execution_count": 63,
   "id": "717518b9",
   "metadata": {},
   "outputs": [],
   "source": [
    "# !pip install xgboost"
   ]
  },
  {
   "cell_type": "code",
   "execution_count": 64,
   "id": "d6affc0e",
   "metadata": {},
   "outputs": [],
   "source": [
    "from sklearn.metrics import confusion_matrix, classification_report, accuracy_score\n",
    "from sklearn.ensemble import VotingClassifier\n",
    "from sklearn.tree import DecisionTreeClassifier\n",
    "from sklearn.ensemble import RandomForestClassifier\n",
    "from sklearn.svm import SVC\n",
    "from sklearn.neighbors import KNeighborsClassifier\n",
    "from sklearn.naive_bayes import GaussianNB\n",
    "from xgboost import XGBClassifier"
   ]
  },
  {
   "cell_type": "code",
   "execution_count": 65,
   "id": "75e2b96b",
   "metadata": {},
   "outputs": [
    {
     "name": "stdout",
     "output_type": "stream",
     "text": [
      "              Method Used  Accuracy\n",
      "0            DecisionTree  0.881657\n",
      "1            RandomForest  0.899408\n",
      "2  Support Vector Machine  0.804734\n",
      "3     K Nearest Neighbors  0.727811\n",
      "4     Naive Bayes Theorem  0.781065\n",
      "5                 XGBoost  0.857988\n",
      "6                  Voting  0.911243\n",
      "Axes(0.125,0.11;0.775x0.77)\n"
     ]
    },
    {
     "data": {
      "image/png": "[encoded data removed]",
      "text/plain": [
       "<Figure size 640x480 with 1 Axes>"
      ]
     },
     "metadata": {},
     "output_type": "display_data"
    }
   ],
   "source": [
    "list_met = []\n",
    "list_accuracy = []\n",
    "\n",
    "# DecisionTree\n",
    "dt = DecisionTreeClassifier()\n",
    "dt = dt.fit(x_train, y_train)\n",
    "y_pred_dt = dt.predict(x_test)\n",
    "accuracy_dt = accuracy_score(y_test, y_pred_dt)\n",
    "\n",
    "# RandomForestClassifier\n",
    "rf = RandomForestClassifier()\n",
    "rf = rf.fit(x_train, y_train)\n",
    "y_pred_rf = rf.predict(x_test)\n",
    "accuracy_rf = accuracy_score(y_test, y_pred_rf)\n",
    "\n",
    "# SVC\n",
    "svc = SVC()\n",
    "svc = svc.fit(x_train, y_train)\n",
    "y_pred_svc = svc.predict(x_test)\n",
    "accuracy_svc = accuracy_score(y_test, y_pred_svc)\n",
    "\n",
    "# KNeighborsClassifier\n",
    "knn = KNeighborsClassifier()\n",
    "knn = knn.fit(x_train, y_train)\n",
    "y_pred_knn = knn.predict(x_test)\n",
    "accuracy_knn = accuracy_score(y_test, y_pred_knn)\n",
    "\n",
    "# GaussianNB\n",
    "nb = GaussianNB()\n",
    "nb = nb.fit(x_train, y_train)\n",
    "y_pred_nb = nb.predict(x_test)\n",
    "accuracy_nb = accuracy_score(y_test, y_pred_nb)\n",
    "\n",
    "#XGBoost Classifer\n",
    "xgb = XGBClassifier()\n",
    "xgb = xgb.fit(x_train, y_train)\n",
    "y_pred_xgb = xgb.predict(x_test)\n",
    "accuracy_xgb = accuracy_score(y_test, y_pred_xgb)\n",
    "\n",
    "# Combining all the above model with voting classifier\n",
    "model_evc = VotingClassifier(estimators=[ ('dt',dt),('rf', rf),('svc', svc),('knn', knn),('nb', nb),('XGB', xgb)], voting='hard')\n",
    "model_evc = model_evc.fit(x_train, y_train)\n",
    "pred_evc = model_evc.predict(x_test)\n",
    "accuracy_evc = accuracy_score(y_test, pred_evc)\n",
    "\n",
    "list1 = ['DecisionTree','RandomForest','Support Vector Machine','K Nearest Neighbors','Naive Bayes Theorem','XGBoost','Voting']\n",
    "\n",
    "list2 = [ accuracy_dt, accuracy_rf, accuracy_svc, accuracy_knn, accuracy_nb, accuracy_xgb, accuracy_evc]\n",
    "\n",
    "list3 = [ dt, rf, svc, knn, nb,xgb, model_evc]\n",
    "\n",
    "df_accuracy = pd.DataFrame({'Method Used': list1, \"Accuracy\": list2})\n",
    "\n",
    "print(df_accuracy)\n",
    "\n",
    "chart = sns.barplot(x = 'Method Used', y='Accuracy', data=df_accuracy)\n",
    "chart.set_xticklabels(chart.get_xticklabels(), rotation=90)\n",
    "print(chart)"
   ]
  },
  {
   "cell_type": "code",
   "execution_count": 66,
   "id": "277c328b",
   "metadata": {},
   "outputs": [],
   "source": [
    "#As random forest shows best result, we are going to use random forest model\n",
    "#using hyper parameter tuning\n",
    "from sklearn.model_selection import GridSearchCV\n",
    "\n",
    "rf = RandomForestClassifier()"
   ]
  },
  {
   "cell_type": "code",
   "execution_count": 67,
   "id": "882173d6",
   "metadata": {},
   "outputs": [
    {
     "name": "stdout",
     "output_type": "stream",
     "text": [
      "The best parameters are : {'criterion': 'entropy', 'max_depth': 15, 'max_features': 'sqrt', 'n_estimators': 80}\n"
     ]
    }
   ],
   "source": [
    "np.random.seed(43)\n",
    "param_dist = [{'n_estimators':[50,90,60,80,20],\n",
    "               'max_depth': [12,16,17,14,15],\n",
    "              'max_features': ['auto', 'sqrt', 'log2', None],\n",
    "              'criterion': ['gini', 'entropy']}]\n",
    "gs = GridSearchCV(rf, param_grid=param_dist, cv=10,n_jobs = 5)\n",
    "gs.fit(x_train, y_train)\n",
    "\n",
    "\n",
    "print(f'The best parameters are : {gs.best_params_}')\n",
    "              "
   ]
  },
  {
   "cell_type": "code",
   "execution_count": 68,
   "id": "0df16fa2",
   "metadata": {},
   "outputs": [
    {
     "name": "stdout",
     "output_type": "stream",
     "text": [
      "Detailed Classification Report :\n",
      "              precision    recall  f1-score   support\n",
      "\n",
      "           0       0.88      0.91      0.89        79\n",
      "           1       0.92      0.89      0.90        90\n",
      "\n",
      "    accuracy                           0.90       169\n",
      "   macro avg       0.90      0.90      0.90       169\n",
      "weighted avg       0.90      0.90      0.90       169\n",
      "\n",
      "************************************\n",
      "0.8994082840236687\n"
     ]
    }
   ],
   "source": [
    "print(\"Detailed Classification Report :\")\n",
    "y_true, lr_pred = y_test, gs.predict(x_test)\n",
    "print(classification_report(y_true, lr_pred))   \n",
    "print(\"************************************\")\n",
    "print(accuracy_score(y_true, lr_pred))    "
   ]
  },
  {
   "cell_type": "code",
   "execution_count": 69,
   "id": "7e92c978",
   "metadata": {},
   "outputs": [
    {
     "data": {
      "text/html": [
       "<style>#sk-container-id-1 {color: black;background-color: white;}#sk-container-id-1 pre{padding: 0;}#sk-container-id-1 div.sk-toggleable {background-color: white;}#sk-container-id-1 label.sk-toggleable__label {cursor: pointer;display: block;width: 100%;margin-bottom: 0;padding: 0.3em;box-sizing: border-box;text-align: center;}#sk-container-id-1 label.sk-toggleable__label-arrow:before {content: \"▸\";float: left;margin-right: 0.25em;color: #696969;}#sk-container-id-1 label.sk-toggleable__label-arrow:hover:before {color: black;}#sk-container-id-1 div.sk-estimator:hover label.sk-toggleable__label-arrow:before {color: black;}#sk-container-id-1 div.sk-toggleable__content {max-height: 0;max-width: 0;overflow: hidden;text-align: left;background-color: #f0f8ff;}#sk-container-id-1 div.sk-toggleable__content pre {margin: 0.2em;color: black;border-radius: 0.25em;background-color: #f0f8ff;}#sk-container-id-1 input.sk-toggleable__control:checked~div.sk-toggleable__content {max-height: 200px;max-width: 100%;overflow: auto;}#sk-container-id-1 input.sk-toggleable__control:checked~label.sk-toggleable__label-arrow:before {content: \"▾\";}#sk-container-id-1 div.sk-estimator input.sk-toggleable__control:checked~label.sk-toggleable__label {background-color: #d4ebff;}#sk-container-id-1 div.sk-label input.sk-toggleable__control:checked~label.sk-toggleable__label {background-color: #d4ebff;}#sk-container-id-1 input.sk-hidden--visually {border: 0;clip: rect(1px 1px 1px 1px);clip: rect(1px, 1px, 1px, 1px);height: 1px;margin: -1px;overflow: hidden;padding: 0;position: absolute;width: 1px;}#sk-container-id-1 div.sk-estimator {font-family: monospace;background-color: #f0f8ff;border: 1px dotted black;border-radius: 0.25em;box-sizing: border-box;margin-bottom: 0.5em;}#sk-container-id-1 div.sk-estimator:hover {background-color: #d4ebff;}#sk-container-id-1 div.sk-parallel-item::after {content: \"\";width: 100%;border-bottom: 1px solid gray;flex-grow: 1;}#sk-container-id-1 div.sk-label:hover label.sk-toggleable__label {background-color: #d4ebff;}#sk-container-id-1 div.sk-serial::before {content: \"\";position: absolute;border-left: 1px solid gray;box-sizing: border-box;top: 0;bottom: 0;left: 50%;z-index: 0;}#sk-container-id-1 div.sk-serial {display: flex;flex-direction: column;align-items: center;background-color: white;padding-right: 0.2em;padding-left: 0.2em;position: relative;}#sk-container-id-1 div.sk-item {position: relative;z-index: 1;}#sk-container-id-1 div.sk-parallel {display: flex;align-items: stretch;justify-content: center;background-color: white;position: relative;}#sk-container-id-1 div.sk-item::before, #sk-container-id-1 div.sk-parallel-item::before {content: \"\";position: absolute;border-left: 1px solid gray;box-sizing: border-box;top: 0;bottom: 0;left: 50%;z-index: -1;}#sk-container-id-1 div.sk-parallel-item {display: flex;flex-direction: column;z-index: 1;position: relative;background-color: white;}#sk-container-id-1 div.sk-parallel-item:first-child::after {align-self: flex-end;width: 50%;}#sk-container-id-1 div.sk-parallel-item:last-child::after {align-self: flex-start;width: 50%;}#sk-container-id-1 div.sk-parallel-item:only-child::after {width: 0;}#sk-container-id-1 div.sk-dashed-wrapped {border: 1px dashed gray;margin: 0 0.4em 0.5em 0.4em;box-sizing: border-box;padding-bottom: 0.4em;background-color: white;}#sk-container-id-1 div.sk-label label {font-family: monospace;font-weight: bold;display: inline-block;line-height: 1.2em;}#sk-container-id-1 div.sk-label-container {text-align: center;}#sk-container-id-1 div.sk-container {/* jupyter's `normalize.less` sets `[hidden] { display: none; }` but bootstrap.min.css set `[hidden] { display: none !important; }` so we also need the `!important` here to be able to override the default hidden behavior on the sphinx rendered scikit-learn.org. See: https://github.com/scikit-learn/scikit-learn/issues/21755 */display: inline-block !important;position: relative;}#sk-container-id-1 div.sk-text-repr-fallback {display: none;}</style><div id=\"sk-container-id-1\" class=\"sk-top-container\"><div class=\"sk-text-repr-fallback\"><pre>RandomForestClassifier(criterion=&#x27;entropy&#x27;, max_depth=15, n_estimators=80)</pre><b>In a Jupyter environment, please rerun this cell to show the HTML representation or trust the notebook. <br />On GitHub, the HTML representation is unable to render, please try loading this page with nbviewer.org.</b></div><div class=\"sk-container\" hidden><div class=\"sk-item\"><div class=\"sk-estimator sk-toggleable\"><input class=\"sk-toggleable__control sk-hidden--visually\" id=\"sk-estimator-id-1\" type=\"checkbox\" checked><label for=\"sk-estimator-id-1\" class=\"sk-toggleable__label sk-toggleable__label-arrow\">RandomForestClassifier</label><div class=\"sk-toggleable__content\"><pre>RandomForestClassifier(criterion=&#x27;entropy&#x27;, max_depth=15, n_estimators=80)</pre></div></div></div></div></div>"
      ],
      "text/plain": [
       "RandomForestClassifier(criterion='entropy', max_depth=15, n_estimators=80)"
      ]
     },
     "execution_count": 69,
     "metadata": {},
     "output_type": "execute_result"
    }
   ],
   "source": [
    "rf.set_params(criterion = 'entropy', \n",
    "              max_depth= 15,\n",
    "              max_features='sqrt',\n",
    "              n_estimators= 80)"
   ]
  },
  {
   "cell_type": "code",
   "execution_count": 70,
   "id": "5cc872f5",
   "metadata": {},
   "outputs": [
    {
     "data": {
      "text/html": [
       "<style>#sk-container-id-2 {color: black;background-color: white;}#sk-container-id-2 pre{padding: 0;}#sk-container-id-2 div.sk-toggleable {background-color: white;}#sk-container-id-2 label.sk-toggleable__label {cursor: pointer;display: block;width: 100%;margin-bottom: 0;padding: 0.3em;box-sizing: border-box;text-align: center;}#sk-container-id-2 label.sk-toggleable__label-arrow:before {content: \"▸\";float: left;margin-right: 0.25em;color: #696969;}#sk-container-id-2 label.sk-toggleable__label-arrow:hover:before {color: black;}#sk-container-id-2 div.sk-estimator:hover label.sk-toggleable__label-arrow:before {color: black;}#sk-container-id-2 div.sk-toggleable__content {max-height: 0;max-width: 0;overflow: hidden;text-align: left;background-color: #f0f8ff;}#sk-container-id-2 div.sk-toggleable__content pre {margin: 0.2em;color: black;border-radius: 0.25em;background-color: #f0f8ff;}#sk-container-id-2 input.sk-toggleable__control:checked~div.sk-toggleable__content {max-height: 200px;max-width: 100%;overflow: auto;}#sk-container-id-2 input.sk-toggleable__control:checked~label.sk-toggleable__label-arrow:before {content: \"▾\";}#sk-container-id-2 div.sk-estimator input.sk-toggleable__control:checked~label.sk-toggleable__label {background-color: #d4ebff;}#sk-container-id-2 div.sk-label input.sk-toggleable__control:checked~label.sk-toggleable__label {background-color: #d4ebff;}#sk-container-id-2 input.sk-hidden--visually {border: 0;clip: rect(1px 1px 1px 1px);clip: rect(1px, 1px, 1px, 1px);height: 1px;margin: -1px;overflow: hidden;padding: 0;position: absolute;width: 1px;}#sk-container-id-2 div.sk-estimator {font-family: monospace;background-color: #f0f8ff;border: 1px dotted black;border-radius: 0.25em;box-sizing: border-box;margin-bottom: 0.5em;}#sk-container-id-2 div.sk-estimator:hover {background-color: #d4ebff;}#sk-container-id-2 div.sk-parallel-item::after {content: \"\";width: 100%;border-bottom: 1px solid gray;flex-grow: 1;}#sk-container-id-2 div.sk-label:hover label.sk-toggleable__label {background-color: #d4ebff;}#sk-container-id-2 div.sk-serial::before {content: \"\";position: absolute;border-left: 1px solid gray;box-sizing: border-box;top: 0;bottom: 0;left: 50%;z-index: 0;}#sk-container-id-2 div.sk-serial {display: flex;flex-direction: column;align-items: center;background-color: white;padding-right: 0.2em;padding-left: 0.2em;position: relative;}#sk-container-id-2 div.sk-item {position: relative;z-index: 1;}#sk-container-id-2 div.sk-parallel {display: flex;align-items: stretch;justify-content: center;background-color: white;position: relative;}#sk-container-id-2 div.sk-item::before, #sk-container-id-2 div.sk-parallel-item::before {content: \"\";position: absolute;border-left: 1px solid gray;box-sizing: border-box;top: 0;bottom: 0;left: 50%;z-index: -1;}#sk-container-id-2 div.sk-parallel-item {display: flex;flex-direction: column;z-index: 1;position: relative;background-color: white;}#sk-container-id-2 div.sk-parallel-item:first-child::after {align-self: flex-end;width: 50%;}#sk-container-id-2 div.sk-parallel-item:last-child::after {align-self: flex-start;width: 50%;}#sk-container-id-2 div.sk-parallel-item:only-child::after {width: 0;}#sk-container-id-2 div.sk-dashed-wrapped {border: 1px dashed gray;margin: 0 0.4em 0.5em 0.4em;box-sizing: border-box;padding-bottom: 0.4em;background-color: white;}#sk-container-id-2 div.sk-label label {font-family: monospace;font-weight: bold;display: inline-block;line-height: 1.2em;}#sk-container-id-2 div.sk-label-container {text-align: center;}#sk-container-id-2 div.sk-container {/* jupyter's `normalize.less` sets `[hidden] { display: none; }` but bootstrap.min.css set `[hidden] { display: none !important; }` so we also need the `!important` here to be able to override the default hidden behavior on the sphinx rendered scikit-learn.org. See: https://github.com/scikit-learn/scikit-learn/issues/21755 */display: inline-block !important;position: relative;}#sk-container-id-2 div.sk-text-repr-fallback {display: none;}</style><div id=\"sk-container-id-2\" class=\"sk-top-container\"><div class=\"sk-text-repr-fallback\"><pre>RandomForestClassifier(criterion=&#x27;entropy&#x27;, max_depth=15, n_estimators=80)</pre><b>In a Jupyter environment, please rerun this cell to show the HTML representation or trust the notebook. <br />On GitHub, the HTML representation is unable to render, please try loading this page with nbviewer.org.</b></div><div class=\"sk-container\" hidden><div class=\"sk-item\"><div class=\"sk-estimator sk-toggleable\"><input class=\"sk-toggleable__control sk-hidden--visually\" id=\"sk-estimator-id-2\" type=\"checkbox\" checked><label for=\"sk-estimator-id-2\" class=\"sk-toggleable__label sk-toggleable__label-arrow\">RandomForestClassifier</label><div class=\"sk-toggleable__content\"><pre>RandomForestClassifier(criterion=&#x27;entropy&#x27;, max_depth=15, n_estimators=80)</pre></div></div></div></div></div>"
      ],
      "text/plain": [
       "RandomForestClassifier(criterion='entropy', max_depth=15, n_estimators=80)"
      ]
     },
     "execution_count": 70,
     "metadata": {},
     "output_type": "execute_result"
    }
   ],
   "source": [
    "rf.fit(x_train,y_train)"
   ]
  },
  {
   "cell_type": "markdown",
   "id": "c304fcc5",
   "metadata": {},
   "source": [
    "# Prediction"
   ]
  },
  {
   "cell_type": "code",
   "execution_count": 71,
   "id": "6cf0861f",
   "metadata": {},
   "outputs": [
    {
     "data": {
      "text/html": [
       "<div>\n",
       "<style scoped>\n",
       "    .dataframe tbody tr th:only-of-type {\n",
       "        vertical-align: middle;\n",
       "    }\n",
       "\n",
       "    .dataframe tbody tr th {\n",
       "        vertical-align: top;\n",
       "    }\n",
       "\n",
       "    .dataframe thead th {\n",
       "        text-align: right;\n",
       "    }\n",
       "</style>\n",
       "<table border=\"1\" class=\"dataframe\">\n",
       "  <thead>\n",
       "    <tr style=\"text-align: right;\">\n",
       "      <th></th>\n",
       "      <th>Loan_ID</th>\n",
       "      <th>Gender</th>\n",
       "      <th>Married</th>\n",
       "      <th>Dependents</th>\n",
       "      <th>Education</th>\n",
       "      <th>Self_Employed</th>\n",
       "      <th>ApplicantIncome</th>\n",
       "      <th>CoapplicantIncome</th>\n",
       "      <th>LoanAmount</th>\n",
       "      <th>Loan_Amount_Term</th>\n",
       "      <th>Credit_History</th>\n",
       "      <th>Property_Area</th>\n",
       "    </tr>\n",
       "  </thead>\n",
       "  <tbody>\n",
       "    <tr>\n",
       "      <th>0</th>\n",
       "      <td>LP001015</td>\n",
       "      <td>Male</td>\n",
       "      <td>Yes</td>\n",
       "      <td>0</td>\n",
       "      <td>Graduate</td>\n",
       "      <td>No</td>\n",
       "      <td>5720</td>\n",
       "      <td>0</td>\n",
       "      <td>110.0</td>\n",
       "      <td>360.0</td>\n",
       "      <td>1.0</td>\n",
       "      <td>Urban</td>\n",
       "    </tr>\n",
       "    <tr>\n",
       "      <th>1</th>\n",
       "      <td>LP001022</td>\n",
       "      <td>Male</td>\n",
       "      <td>Yes</td>\n",
       "      <td>1</td>\n",
       "      <td>Graduate</td>\n",
       "      <td>No</td>\n",
       "      <td>3076</td>\n",
       "      <td>1500</td>\n",
       "      <td>126.0</td>\n",
       "      <td>360.0</td>\n",
       "      <td>1.0</td>\n",
       "      <td>Urban</td>\n",
       "    </tr>\n",
       "    <tr>\n",
       "      <th>2</th>\n",
       "      <td>LP001031</td>\n",
       "      <td>Male</td>\n",
       "      <td>Yes</td>\n",
       "      <td>2</td>\n",
       "      <td>Graduate</td>\n",
       "      <td>No</td>\n",
       "      <td>5000</td>\n",
       "      <td>1800</td>\n",
       "      <td>208.0</td>\n",
       "      <td>360.0</td>\n",
       "      <td>1.0</td>\n",
       "      <td>Urban</td>\n",
       "    </tr>\n",
       "    <tr>\n",
       "      <th>3</th>\n",
       "      <td>LP001035</td>\n",
       "      <td>Male</td>\n",
       "      <td>Yes</td>\n",
       "      <td>2</td>\n",
       "      <td>Graduate</td>\n",
       "      <td>No</td>\n",
       "      <td>2340</td>\n",
       "      <td>2546</td>\n",
       "      <td>100.0</td>\n",
       "      <td>360.0</td>\n",
       "      <td>NaN</td>\n",
       "      <td>Urban</td>\n",
       "    </tr>\n",
       "    <tr>\n",
       "      <th>4</th>\n",
       "      <td>LP001051</td>\n",
       "      <td>Male</td>\n",
       "      <td>No</td>\n",
       "      <td>0</td>\n",
       "      <td>Not Graduate</td>\n",
       "      <td>No</td>\n",
       "      <td>3276</td>\n",
       "      <td>0</td>\n",
       "      <td>78.0</td>\n",
       "      <td>360.0</td>\n",
       "      <td>1.0</td>\n",
       "      <td>Urban</td>\n",
       "    </tr>\n",
       "  </tbody>\n",
       "</table>\n",
       "</div>"
      ],
      "text/plain": [
       "    Loan_ID Gender Married Dependents     Education Self_Employed  \\\n",
       "0  LP001015   Male     Yes          0      Graduate            No   \n",
       "1  LP001022   Male     Yes          1      Graduate            No   \n",
       "2  LP001031   Male     Yes          2      Graduate            No   \n",
       "3  LP001035   Male     Yes          2      Graduate            No   \n",
       "4  LP001051   Male      No          0  Not Graduate            No   \n",
       "\n",
       "   ApplicantIncome  CoapplicantIncome  LoanAmount  Loan_Amount_Term  \\\n",
       "0             5720                  0       110.0             360.0   \n",
       "1             3076               1500       126.0             360.0   \n",
       "2             5000               1800       208.0             360.0   \n",
       "3             2340               2546       100.0             360.0   \n",
       "4             3276                  0        78.0             360.0   \n",
       "\n",
       "   Credit_History Property_Area  \n",
       "0             1.0         Urban  \n",
       "1             1.0         Urban  \n",
       "2             1.0         Urban  \n",
       "3             NaN         Urban  \n",
       "4             1.0         Urban  "
      ]
     },
     "execution_count": 71,
     "metadata": {},
     "output_type": "execute_result"
    }
   ],
   "source": [
    "test= pd.read_csv('loan_sanction_test.csv')\n",
    "test_set=test.copy()\n",
    "test_set.head()"
   ]
  },
  {
   "cell_type": "code",
   "execution_count": 72,
   "id": "27593f77",
   "metadata": {},
   "outputs": [
    {
     "data": {
      "text/plain": [
       "((675, 12), (367, 12))"
      ]
     },
     "execution_count": 72,
     "metadata": {},
     "output_type": "execute_result"
    }
   ],
   "source": [
    "x_train.shape, test_set.shape"
   ]
  },
  {
   "cell_type": "code",
   "execution_count": 73,
   "id": "3e6b7273",
   "metadata": {},
   "outputs": [
    {
     "data": {
      "text/plain": [
       "Loan_ID               0\n",
       "Gender               11\n",
       "Married               0\n",
       "Dependents           10\n",
       "Education             0\n",
       "Self_Employed        23\n",
       "ApplicantIncome       0\n",
       "CoapplicantIncome     0\n",
       "LoanAmount            5\n",
       "Loan_Amount_Term      6\n",
       "Credit_History       29\n",
       "Property_Area         0\n",
       "dtype: int64"
      ]
     },
     "execution_count": 73,
     "metadata": {},
     "output_type": "execute_result"
    }
   ],
   "source": [
    "test_set.isnull().sum()"
   ]
  },
  {
   "cell_type": "code",
   "execution_count": 74,
   "id": "c9ff9970",
   "metadata": {},
   "outputs": [
    {
     "data": {
      "text/plain": [
       "Loan_ID               object\n",
       "Gender                object\n",
       "Married               object\n",
       "Dependents            object\n",
       "Education             object\n",
       "Self_Employed         object\n",
       "ApplicantIncome        int64\n",
       "CoapplicantIncome      int64\n",
       "LoanAmount           float64\n",
       "Loan_Amount_Term     float64\n",
       "Credit_History       float64\n",
       "Property_Area         object\n",
       "dtype: object"
      ]
     },
     "execution_count": 74,
     "metadata": {},
     "output_type": "execute_result"
    }
   ],
   "source": [
    "test_set.dtypes"
   ]
  },
  {
   "cell_type": "code",
   "execution_count": 75,
   "id": "b3853377",
   "metadata": {},
   "outputs": [
    {
     "data": {
      "text/plain": [
       "Male      286\n",
       "Female     70\n",
       "Name: Gender, dtype: int64"
      ]
     },
     "execution_count": 75,
     "metadata": {},
     "output_type": "execute_result"
    }
   ],
   "source": [
    "#imputation\n",
    "test_set['Gender'].value_counts()"
   ]
  },
  {
   "cell_type": "code",
   "execution_count": 76,
   "id": "edd619b0",
   "metadata": {},
   "outputs": [],
   "source": [
    "test_set['Gender']=test_set['Gender'].fillna('Male')"
   ]
  },
  {
   "cell_type": "code",
   "execution_count": 77,
   "id": "346653c1",
   "metadata": {},
   "outputs": [
    {
     "data": {
      "text/plain": [
       "0     200\n",
       "2      59\n",
       "1      58\n",
       "3+     40\n",
       "Name: Dependents, dtype: int64"
      ]
     },
     "execution_count": 77,
     "metadata": {},
     "output_type": "execute_result"
    }
   ],
   "source": [
    "test_set['Dependents'].value_counts()"
   ]
  },
  {
   "cell_type": "code",
   "execution_count": 78,
   "id": "0bc1562a",
   "metadata": {},
   "outputs": [],
   "source": [
    "test_set['Dependents']=test_set['Dependents'].apply(lambda x:3 if x=='3+' else x)"
   ]
  },
  {
   "cell_type": "code",
   "execution_count": 79,
   "id": "1b1bdbfb",
   "metadata": {},
   "outputs": [
    {
     "data": {
      "text/plain": [
       "0    200\n",
       "2     59\n",
       "1     58\n",
       "3     40\n",
       "Name: Dependents, dtype: int64"
      ]
     },
     "execution_count": 79,
     "metadata": {},
     "output_type": "execute_result"
    }
   ],
   "source": [
    "test_set['Dependents'].value_counts()"
   ]
  },
  {
   "cell_type": "code",
   "execution_count": 80,
   "id": "6b1215e8",
   "metadata": {},
   "outputs": [],
   "source": [
    "test_set['Dependents']=test_set['Dependents'].fillna('0')"
   ]
  },
  {
   "cell_type": "code",
   "execution_count": 81,
   "id": "40578ac1",
   "metadata": {},
   "outputs": [],
   "source": [
    "#change the data type\n",
    "test_set['Dependents']=test_set['Dependents'].astype('int64')"
   ]
  },
  {
   "cell_type": "code",
   "execution_count": 82,
   "id": "d34fcc03",
   "metadata": {},
   "outputs": [
    {
     "data": {
      "text/plain": [
       "No     307\n",
       "Yes     37\n",
       "Name: Self_Employed, dtype: int64"
      ]
     },
     "execution_count": 82,
     "metadata": {},
     "output_type": "execute_result"
    }
   ],
   "source": [
    "test_set['Self_Employed'].value_counts()"
   ]
  },
  {
   "cell_type": "code",
   "execution_count": 83,
   "id": "ed7a9f27",
   "metadata": {},
   "outputs": [],
   "source": [
    "test_set['Self_Employed']=test_set['Self_Employed'].fillna('No')"
   ]
  },
  {
   "cell_type": "code",
   "execution_count": 84,
   "id": "97eb0b3d",
   "metadata": {},
   "outputs": [
    {
     "data": {
      "text/plain": [
       "125.0"
      ]
     },
     "execution_count": 84,
     "metadata": {},
     "output_type": "execute_result"
    }
   ],
   "source": [
    "test_set['LoanAmount'].median()"
   ]
  },
  {
   "cell_type": "code",
   "execution_count": 85,
   "id": "f560c6a2",
   "metadata": {},
   "outputs": [],
   "source": [
    "test_set['LoanAmount']=test_set['LoanAmount'].fillna(125.0)"
   ]
  },
  {
   "cell_type": "code",
   "execution_count": 86,
   "id": "e56da7ce",
   "metadata": {},
   "outputs": [
    {
     "data": {
      "text/plain": [
       "360.0"
      ]
     },
     "execution_count": 86,
     "metadata": {},
     "output_type": "execute_result"
    }
   ],
   "source": [
    "test_set['Loan_Amount_Term'].median()"
   ]
  },
  {
   "cell_type": "code",
   "execution_count": 87,
   "id": "7ba0c237",
   "metadata": {},
   "outputs": [],
   "source": [
    "test_set['Loan_Amount_Term']=test_set['Loan_Amount_Term'].fillna(360.0)"
   ]
  },
  {
   "cell_type": "code",
   "execution_count": 88,
   "id": "89960fe6",
   "metadata": {},
   "outputs": [
    {
     "data": {
      "text/plain": [
       "1.0    279\n",
       "0.0     59\n",
       "Name: Credit_History, dtype: int64"
      ]
     },
     "execution_count": 88,
     "metadata": {},
     "output_type": "execute_result"
    }
   ],
   "source": [
    "test_set['Credit_History'].value_counts()"
   ]
  },
  {
   "cell_type": "code",
   "execution_count": 89,
   "id": "529f04ba",
   "metadata": {},
   "outputs": [],
   "source": [
    "test_set['Credit_History']=test_set['Credit_History'].fillna(1.0)"
   ]
  },
  {
   "cell_type": "code",
   "execution_count": 90,
   "id": "a26fb82d",
   "metadata": {},
   "outputs": [
    {
     "name": "stdout",
     "output_type": "stream",
     "text": [
      "********************************************************* Loan_ID ************************************************************\n",
      "\n",
      "{'LP002735', 'LP002793', 'LP002257', 'LP001446', 'LP001183', 'LP001082', 'LP001351', 'LP002016', 'LP001176', 'LP001627', 'LP002123', 'LP002566', 'LP001785', 'LP002270', 'LP001563', 'LP001348', 'LP001099', 'LP002445', 'LP001210', 'LP002867', 'LP001548', 'LP001232', 'LP001128', 'LP001591', 'LP002310', 'LP002167', 'LP002400', 'LP002099', 'LP001923', 'LP002542', 'LP002402', 'LP001650', 'LP002389', 'LP002172', 'LP001499', 'LP001818', 'LP001124', 'LP002118', 'LP001622', 'LP001652', 'LP001486', 'LP001771', 'LP001312', 'LP002394', 'LP002354', 'LP002412', 'LP002746', 'LP001298', 'LP001242', 'LP001589', 'LP002986', 'LP002286', 'LP001739', 'LP002306', 'LP002954', 'LP002046', 'LP002605', 'LP002441', 'LP002007', 'LP002333', 'LP002581', 'LP002017', 'LP001728', 'LP002858', 'LP001445', 'LP002045', 'LP001321', 'LP001450', 'LP001471', 'LP002769', 'LP001822', 'LP002843', 'LP002782', 'LP002360', 'LP002609', 'LP002042', 'LP002339', 'LP001361', 'LP001352', 'LP001347', 'LP001906', 'LP002899', 'LP001083', 'LP001270', 'LP001881', 'LP001490', 'LP002969', 'LP002090', 'LP002744', 'LP001386', 'LP002932', 'LP002890', 'LP001221', 'LP001587', 'LP002256', 'LP002240', 'LP001208', 'LP001163', 'LP001527', 'LP002657', 'LP001335', 'LP001735', 'LP001568', 'LP001413', 'LP001797', 'LP002853', 'LP001933', 'LP002754', 'LP001483', 'LP002450', 'LP001651', 'LP002612', 'LP002856', 'LP001407', 'LP001107', 'LP002584', 'LP002907', 'LP002192', 'LP002790', 'LP001853', 'LP002027', 'LP001420', 'LP001501', 'LP002062', 'LP002375', 'LP002747', 'LP001015', 'LP002901', 'LP002329', 'LP002921', 'LP001757', 'LP002383', 'LP001584', 'LP001567', 'LP001815', 'LP002635', 'LP002344', 'LP001842', 'LP001169', 'LP002593', 'LP001230', 'LP001400', 'LP001500', 'LP001291', 'LP001611', 'LP001051', 'LP001607', 'LP002857', 'LP001999', 'LP001220', 'LP002440', 'LP002471', 'LP002786', 'LP001979', 'LP001703', 'LP002592', 'LP002355', 'LP001561', 'LP001185', 'LP001078', 'LP001737', 'LP002816', 'LP002102', 'LP001287', 'LP002975', 'LP002433', 'LP002644', 'LP002766', 'LP002745', 'LP002183', 'LP002775', 'LP001662', 'LP002849', 'LP001789', 'LP002311', 'LP001827', 'LP002553', 'LP001177', 'LP001975', 'LP001663', 'LP002417', 'LP001174', 'LP001358', 'LP001055', 'LP002639', 'LP002420', 'LP002803', 'LP002721', 'LP001558', 'LP002568', 'LP001419', 'LP002176', 'LP002570', 'LP001542', 'LP001153', 'LP002057', 'LP002850', 'LP001203', 'LP001959', 'LP001237', 'LP001791', 'LP002325', 'LP001332', 'LP001769', 'LP001695', 'LP001660', 'LP002760', 'LP002791', 'LP002971', 'LP002989', 'LP001323', 'LP002346', 'LP002495', 'LP002825', 'LP002096', 'LP001380', 'LP002316', 'LP002397', 'LP002610', 'LP001035', 'LP001909', 'LP001067', 'LP001115', 'LP001601', 'LP001517', 'LP001950', 'LP002885', 'LP001599', 'LP002298', 'LP002935', 'LP001455', 'LP001921', 'LP002869', 'LP001466', 'LP002891', 'LP002551', 'LP002651', 'LP001878', 'LP002105', 'LP002550', 'LP001368', 'LP002878', 'LP002376', 'LP001219', 'LP002442', 'LP002018', 'LP001108', 'LP001190', 'LP001324', 'LP001226', 'LP001135', 'LP001375', 'LP001667', 'LP002056', 'LP002245', 'LP002920', 'LP001054', 'LP002385', 'LP001415', 'LP001742', 'LP002111', 'LP002561', 'LP002279', 'LP001317', 'LP001961', 'LP002321', 'LP002152', 'LP002028', 'LP002294', 'LP002168', 'LP001149', 'LP001817', 'LP002630', 'LP001022', 'LP001655', 'LP001187', 'LP001973', 'LP001573', 'LP002476', 'LP002805', 'LP002212', 'LP001867', 'LP002802', 'LP001366', 'LP001547', 'LP001452', 'LP002806', 'LP001496', 'LP002064', 'LP002952', 'LP002059', 'LP002077', 'LP002711', 'LP001359', 'LP001096', 'LP001428', 'LP002604', 'LP002823', 'LP001857', 'LP002184', 'LP001718', 'LP001862', 'LP002962', 'LP002253', 'LP001855', 'LP002399', 'LP002358', 'LP001121', 'LP001472', 'LP002712', 'LP002965', 'LP001794', 'LP002599', 'LP002482', 'LP002069', 'LP001787', 'LP002980', 'LP001338', 'LP001475', 'LP001094', 'LP001105', 'LP002009', 'LP002047', 'LP002165', 'LP002759', 'LP001031', 'LP002554', 'LP002208', 'LP002415', 'LP002148', 'LP002186', 'LP002860', 'LP002654', 'LP002425', 'LP001056', 'LP002781', 'LP002264', 'LP002870', 'LP001995', 'LP002523', 'LP002195', 'LP002614', 'LP001211', 'LP001231', 'LP001284', 'LP002774', 'LP001268', 'LP001943', 'LP002117', 'LP001886', 'LP001911', 'LP002107', 'LP002083', 'LP002070', 'LP002125', 'LP002876', 'LP001613', 'LP002496', 'LP002326', 'LP001059', 'LP002826', 'LP001534', 'LP002879', 'LP001831', 'LP002572', 'LP002485', 'LP001313'}\n",
      "\n",
      "********************************************************* Gender ************************************************************\n",
      "\n",
      "{'Male', 'Female'}\n",
      "\n",
      "********************************************************* Married ************************************************************\n",
      "\n",
      "{'No', 'Yes'}\n",
      "\n",
      "********************************************************* Dependents ************************************************************\n",
      "\n",
      "{0, 1, 2, 3}\n",
      "\n",
      "********************************************************* Education ************************************************************\n",
      "\n",
      "{'Graduate', 'Not Graduate'}\n",
      "\n",
      "********************************************************* Self_Employed ************************************************************\n",
      "\n",
      "{'No', 'Yes'}\n",
      "\n",
      "********************************************************* ApplicantIncome ************************************************************\n",
      "\n",
      "{0, 2066, 4116, 6166, 4120, 2083, 4136, 2101, 4150, 2107, 4158, 4163, 4166, 4167, 6250, 2157, 6260, 2165, 4213, 2166, 2185, 8333, 8334, 4243, 4246, 6300, 4258, 4260, 2226, 2231, 4283, 2241, 2243, 6356, 12500, 2262, 2267, 2268, 24797, 2269, 2274, 2283, 4333, 4334, 2292, 8449, 4358, 4363, 4364, 2333, 2340, 4402, 2356, 2360, 2362, 2366, 6478, 2400, 6500, 4452, 8550, 4456, 2412, 2415, 4463, 2419, 2431, 4483, 4490, 4500, 18840, 2458, 2463, 4513, 4521, 4523, 2478, 2500, 2513, 8667, 4583, 2539, 2540, 29167, 2545, 2553, 8703, 4609, 8706, 4635, 2600, 8750, 2613, 4666, 4667, 570, 14911, 2623, 4700, 2654, 4709, 2666, 2667, 4720, 4727, 2687, 4742, 6792, 6794, 10890, 14987, 12941, 4750, 2708, 4766, 4768, 6825, 2733, 6835, 2740, 2747, 4796, 2750, 6858, 724, 2773, 2779, 2783, 2792, 4855, 13083, 2855, 9000, 2858, 2860, 6958, 4912, 2868, 2875, 2896, 72529, 4960, 2914, 2917, 2918, 7016, 4968, 2922, 2925, 4983, 2942, 5000, 2964, 2982, 5041, 2995, 3007, 5058, 5062, 3015, 3016, 3017, 9167, 15312, 3042, 9200, 3066, 3071, 5119, 3073, 3074, 3076, 5128, 9226, 3083, 3089, 3091, 3125, 5180, 3132, 5184, 3150, 3159, 3166, 5225, 3180, 3186, 3188, 3189, 1141, 1173, 3235, 3242, 5293, 3250, 7350, 5314, 3268, 5316, 3271, 3276, 13518, 5333, 3321, 32000, 3333, 5384, 3343, 1300, 3350, 5400, 3391, 13633, 3400, 7500, 3413, 3417, 3418, 3436, 3445, 5509, 5530, 3500, 7600, 3507, 3508, 7603, 3510, 3522, 5583, 9699, 1516, 3564, 7666, 3571, 9719, 3579, 5629, 3583, 3613, 5667, 3620, 3621, 3634, 3643, 3644, 1596, 1599, 5708, 3666, 3667, 5720, 1635, 1647, 3708, 16000, 3719, 5769, 3729, 7830, 3747, 1700, 3754, 7859, 3765, 3767, 5817, 3772, 5823, 7874, 5833, 3786, 3785, 3791, 1750, 7895, 3808, 1762, 3829, 3833, 3835, 1792, 3844, 5900, 7950, 3854, 10000, 3859, 3863, 3881, 3887, 1850, 3900, 3901, 8000, 3909, 1888, 3943, 1900, 3958, 3972, 12173, 1937, 4000, 4009, 4010, 1972, 10166, 4028, 2000, 2014, 4082, 4083, 2038}\n",
      "\n",
      "********************************************************* CoapplicantIncome ************************************************************\n",
      "\n",
      "{0, 1025, 1541, 3077, 4614, 2565, 2057, 1542, 1550, 528, 1558, 1560, 4123, 542, 2600, 2088, 2094, 1585, 1594, 1083, 2619, 2108, 1600, 2632, 3145, 3148, 2125, 1103, 3664, 2130, 1620, 1110, 2139, 5211, 4700, 3167, 1120, 4200, 2666, 618, 2667, 1646, 2166, 2167, 2168, 1658, 1152, 2690, 3719, 2183, 3725, 4754, 1683, 2708, 4246, 5272, 15000, 2717, 13983, 4256, 1184, 4255, 3750, 1704, 2730, 1707, 14507, 3250, 2738, 4275, 1721, 2233, 3769, 700, 187, 1213, 4288, 2755, 709, 717, 4309, 2774, 3803, 4831, 1760, 3809, 1250, 738, 1762, 2792, 1768, 7916, 3308, 2286, 1775, 750, 1777, 2291, 1270, 250, 4347, 1788, 3333, 1287, 1800, 3338, 6414, 2833, 1300, 3355, 4380, 2333, 2845, 1820, 292, 296, 818, 820, 2360, 3900, 828, 2367, 8000, 833, 2370, 3396, 1350, 2374, 3916, 333, 2382, 3917, 2900, 2393, 3422, 2400, 2912, 2916, 1380, 3435, 2925, 1902, 879, 2416, 2417, 2935, 1400, 1917, 3967, 2945, 1411, 5000, 2444, 3470, 910, 1936, 11666, 2458, 1951, 4000, 1442, 2474, 1963, 2988, 1966, 1456, 437, 3510, 2999, 440, 4027, 4029, 24000, 1475, 2500, 1993, 1998, 2000, 3539, 4053, 1497, 1500, 2015, 2529, 2017, 4583, 2024, 1000, 1516, 1517, 5105, 2546, 3575, 3583}\n",
      "\n",
      "********************************************************* LoanAmount ************************************************************\n",
      "\n",
      "{28.0, 30.0, 35.0, 550.0, 40.0, 46.0, 48.0, 49.0, 50.0, 55.0, 57.0, 59.0, 60.0, 61.0, 64.0, 65.0, 66.0, 67.0, 68.0, 70.0, 71.0, 72.0, 74.0, 75.0, 76.0, 77.0, 78.0, 79.0, 80.0, 81.0, 83.0, 84.0, 85.0, 87.0, 88.0, 90.0, 92.0, 93.0, 94.0, 95.0, 96.0, 98.0, 99.0, 100.0, 101.0, 102.0, 103.0, 104.0, 105.0, 106.0, 107.0, 108.0, 109.0, 110.0, 112.0, 113.0, 114.0, 115.0, 116.0, 117.0, 118.0, 119.0, 120.0, 121.0, 122.0, 123.0, 124.0, 125.0, 126.0, 128.0, 130.0, 131.0, 132.0, 133.0, 134.0, 135.0, 137.0, 138.0, 139.0, 140.0, 141.0, 142.0, 143.0, 144.0, 145.0, 146.0, 147.0, 148.0, 149.0, 150.0, 151.0, 152.0, 153.0, 155.0, 157.0, 158.0, 159.0, 160.0, 162.0, 163.0, 165.0, 166.0, 170.0, 171.0, 173.0, 176.0, 177.0, 180.0, 181.0, 183.0, 184.0, 185.0, 186.0, 187.0, 188.0, 189.0, 192.0, 197.0, 199.0, 200.0, 208.0, 209.0, 212.0, 213.0, 214.0, 225.0, 232.0, 234.0, 235.0, 240.0, 254.0, 256.0, 257.0, 260.0, 275.0, 280.0, 290.0, 297.0, 300.0, 336.0, 360.0, 390.0, 412.0, 460.0}\n",
      "\n",
      "********************************************************* Loan_Amount_Term ************************************************************\n",
      "\n",
      "{480.0, 36.0, 6.0, 360.0, 12.0, 300.0, 240.0, 180.0, 84.0, 120.0, 60.0, 350.0}\n",
      "\n",
      "********************************************************* Credit_History ************************************************************\n",
      "\n",
      "{0.0, 1.0}\n",
      "\n",
      "********************************************************* Property_Area ************************************************************\n",
      "\n",
      "{'Semiurban', 'Urban', 'Rural'}\n",
      "\n"
     ]
    }
   ],
   "source": [
    "for i in test_set.columns:\n",
    "  print(\"*********************************************************\",\n",
    "        i , \n",
    "        \"************************************************************\")\n",
    "  print()\n",
    "  print(set(test_set[i].tolist()))\n",
    "  print()"
   ]
  },
  {
   "cell_type": "code",
   "execution_count": 91,
   "id": "88936f09",
   "metadata": {},
   "outputs": [
    {
     "data": {
      "image/png": "[encoded data removed]",
      "text/plain": [
       "<Figure size 640x480 with 1 Axes>"
      ]
     },
     "metadata": {},
     "output_type": "display_data"
    },
    {
     "data": {
      "image/png": "[encoded data removed]",
      "text/plain": [
       "<Figure size 640x480 with 1 Axes>"
      ]
     },
     "metadata": {},
     "output_type": "display_data"
    },
    {
     "data": {
      "image/png": "[encoded data removed]",
      "text/plain": [
       "<Figure size 640x480 with 1 Axes>"
      ]
     },
     "metadata": {},
     "output_type": "display_data"
    },
    {
     "data": {
      "image/png": "[encoded data removed]",
      "text/plain": [
       "<Figure size 640x480 with 1 Axes>"
      ]
     },
     "metadata": {},
     "output_type": "display_data"
    },
    {
     "data": {
      "image/png": "[encoded data removed]",
      "text/plain": [
       "<Figure size 640x480 with 1 Axes>"
      ]
     },
     "metadata": {},
     "output_type": "display_data"
    }
   ],
   "source": [
    "#Outlier handelling\n",
    "def boxplots(col):\n",
    "    sns.boxplot(test_set[col])\n",
    "    plt.show()\n",
    "    \n",
    "for i in list(test_set.select_dtypes(exclude=['object']).columns)[1:]:\n",
    "    boxplots(i)"
   ]
  },
  {
   "cell_type": "code",
   "execution_count": 92,
   "id": "9ad1e085",
   "metadata": {},
   "outputs": [],
   "source": [
    "def remove_outlier(col):\n",
    "    sorted(col)\n",
    "    Q1, Q3 = col.quantile([0.25, 0.75])\n",
    "    IQR = Q3 - Q1\n",
    "    lower_range = Q1 - (1.5 * IQR)\n",
    "    upper_range = Q3 + (1.5 * IQR)\n",
    "    return lower_range, upper_range"
   ]
  },
  {
   "cell_type": "code",
   "execution_count": 93,
   "id": "f83bfe94",
   "metadata": {},
   "outputs": [],
   "source": [
    "lr_ai, up_ai = remove_outlier(test_set['ApplicantIncome'])"
   ]
  },
  {
   "cell_type": "code",
   "execution_count": 94,
   "id": "f26b7c9a",
   "metadata": {},
   "outputs": [],
   "source": [
    "test_set['ApplicantIncome'] = np.where(test_set['ApplicantIncome'] > up_ai, up_ai,test_set['ApplicantIncome'])\n",
    "test_set['ApplicantIncome'] = np.where(test_set['ApplicantIncome'] < lr_ai, lr_ai,test_set['ApplicantIncome'])"
   ]
  },
  {
   "cell_type": "code",
   "execution_count": 95,
   "id": "eeb07120",
   "metadata": {},
   "outputs": [],
   "source": [
    "lr_cai, up_cai = remove_outlier(test_set['CoapplicantIncome'])"
   ]
  },
  {
   "cell_type": "code",
   "execution_count": 96,
   "id": "3676b061",
   "metadata": {},
   "outputs": [],
   "source": [
    "test_set['CoapplicantIncome'] = np.where(test_set['CoapplicantIncome'] > up_cai, up_cai,test_set['CoapplicantIncome'])\n",
    "test_set['CoapplicantIncome'] = np.where(test_set['CoapplicantIncome'] < lr_cai, lr_cai,test_set['CoapplicantIncome'])"
   ]
  },
  {
   "cell_type": "code",
   "execution_count": 97,
   "id": "afffecfa",
   "metadata": {},
   "outputs": [],
   "source": [
    "lr_la,up_la= remove_outlier(test_set['LoanAmount'])"
   ]
  },
  {
   "cell_type": "code",
   "execution_count": 98,
   "id": "fe5e62e4",
   "metadata": {},
   "outputs": [],
   "source": [
    "test_set['LoanAmount'] = np.where(test_set['LoanAmount'] > up_la, up_la,test_set['LoanAmount'])\n",
    "test_set['LoanAmount'] = np.where(test_set['LoanAmount'] < lr_la, lr_la,test_set['LoanAmount'])"
   ]
  },
  {
   "cell_type": "code",
   "execution_count": 99,
   "id": "8e5a489a",
   "metadata": {},
   "outputs": [],
   "source": [
    "from sklearn import preprocessing\n",
    "Gender = preprocessing.LabelEncoder()\n",
    "test_set['Gender'] = Gender.fit_transform(test_set['Gender'])\n",
    "Married = preprocessing.LabelEncoder()\n",
    "test_set['Married'] = Married.fit_transform(test_set['Married'])\n",
    "Education= preprocessing.LabelEncoder()\n",
    "test_set['Education'] = Education.fit_transform(test_set['Education'])\n",
    "Self_Employed= preprocessing.LabelEncoder()\n",
    "test_set['Self_Employed'] = Self_Employed.fit_transform(test_set['Self_Employed'])\n",
    "test_set = pd.get_dummies(test_set, columns=['Property_Area'],drop_first=True)"
   ]
  },
  {
   "cell_type": "code",
   "execution_count": 100,
   "id": "48d811de",
   "metadata": {},
   "outputs": [
    {
     "data": {
      "text/html": [
       "<div>\n",
       "<style scoped>\n",
       "    .dataframe tbody tr th:only-of-type {\n",
       "        vertical-align: middle;\n",
       "    }\n",
       "\n",
       "    .dataframe tbody tr th {\n",
       "        vertical-align: top;\n",
       "    }\n",
       "\n",
       "    .dataframe thead th {\n",
       "        text-align: right;\n",
       "    }\n",
       "</style>\n",
       "<table border=\"1\" class=\"dataframe\">\n",
       "  <thead>\n",
       "    <tr style=\"text-align: right;\">\n",
       "      <th></th>\n",
       "      <th>Loan_ID</th>\n",
       "      <th>Gender</th>\n",
       "      <th>Married</th>\n",
       "      <th>Dependents</th>\n",
       "      <th>Education</th>\n",
       "      <th>Self_Employed</th>\n",
       "      <th>ApplicantIncome</th>\n",
       "      <th>CoapplicantIncome</th>\n",
       "      <th>LoanAmount</th>\n",
       "      <th>Loan_Amount_Term</th>\n",
       "      <th>Credit_History</th>\n",
       "      <th>Property_Area_Semiurban</th>\n",
       "      <th>Property_Area_Urban</th>\n",
       "    </tr>\n",
       "  </thead>\n",
       "  <tbody>\n",
       "    <tr>\n",
       "      <th>0</th>\n",
       "      <td>LP001015</td>\n",
       "      <td>1</td>\n",
       "      <td>1</td>\n",
       "      <td>0</td>\n",
       "      <td>0</td>\n",
       "      <td>0</td>\n",
       "      <td>5720.0</td>\n",
       "      <td>0.0</td>\n",
       "      <td>110.0</td>\n",
       "      <td>360.0</td>\n",
       "      <td>1.0</td>\n",
       "      <td>0</td>\n",
       "      <td>1</td>\n",
       "    </tr>\n",
       "    <tr>\n",
       "      <th>1</th>\n",
       "      <td>LP001022</td>\n",
       "      <td>1</td>\n",
       "      <td>1</td>\n",
       "      <td>1</td>\n",
       "      <td>0</td>\n",
       "      <td>0</td>\n",
       "      <td>3076.0</td>\n",
       "      <td>1500.0</td>\n",
       "      <td>126.0</td>\n",
       "      <td>360.0</td>\n",
       "      <td>1.0</td>\n",
       "      <td>0</td>\n",
       "      <td>1</td>\n",
       "    </tr>\n",
       "    <tr>\n",
       "      <th>2</th>\n",
       "      <td>LP001031</td>\n",
       "      <td>1</td>\n",
       "      <td>1</td>\n",
       "      <td>2</td>\n",
       "      <td>0</td>\n",
       "      <td>0</td>\n",
       "      <td>5000.0</td>\n",
       "      <td>1800.0</td>\n",
       "      <td>208.0</td>\n",
       "      <td>360.0</td>\n",
       "      <td>1.0</td>\n",
       "      <td>0</td>\n",
       "      <td>1</td>\n",
       "    </tr>\n",
       "    <tr>\n",
       "      <th>3</th>\n",
       "      <td>LP001035</td>\n",
       "      <td>1</td>\n",
       "      <td>1</td>\n",
       "      <td>2</td>\n",
       "      <td>0</td>\n",
       "      <td>0</td>\n",
       "      <td>2340.0</td>\n",
       "      <td>2546.0</td>\n",
       "      <td>100.0</td>\n",
       "      <td>360.0</td>\n",
       "      <td>1.0</td>\n",
       "      <td>0</td>\n",
       "      <td>1</td>\n",
       "    </tr>\n",
       "    <tr>\n",
       "      <th>4</th>\n",
       "      <td>LP001051</td>\n",
       "      <td>1</td>\n",
       "      <td>0</td>\n",
       "      <td>0</td>\n",
       "      <td>1</td>\n",
       "      <td>0</td>\n",
       "      <td>3276.0</td>\n",
       "      <td>0.0</td>\n",
       "      <td>78.0</td>\n",
       "      <td>360.0</td>\n",
       "      <td>1.0</td>\n",
       "      <td>0</td>\n",
       "      <td>1</td>\n",
       "    </tr>\n",
       "  </tbody>\n",
       "</table>\n",
       "</div>"
      ],
      "text/plain": [
       "    Loan_ID  Gender  Married  Dependents  Education  Self_Employed  \\\n",
       "0  LP001015       1        1           0          0              0   \n",
       "1  LP001022       1        1           1          0              0   \n",
       "2  LP001031       1        1           2          0              0   \n",
       "3  LP001035       1        1           2          0              0   \n",
       "4  LP001051       1        0           0          1              0   \n",
       "\n",
       "   ApplicantIncome  CoapplicantIncome  LoanAmount  Loan_Amount_Term  \\\n",
       "0           5720.0                0.0       110.0             360.0   \n",
       "1           3076.0             1500.0       126.0             360.0   \n",
       "2           5000.0             1800.0       208.0             360.0   \n",
       "3           2340.0             2546.0       100.0             360.0   \n",
       "4           3276.0                0.0        78.0             360.0   \n",
       "\n",
       "   Credit_History  Property_Area_Semiurban  Property_Area_Urban  \n",
       "0             1.0                        0                    1  \n",
       "1             1.0                        0                    1  \n",
       "2             1.0                        0                    1  \n",
       "3             1.0                        0                    1  \n",
       "4             1.0                        0                    1  "
      ]
     },
     "execution_count": 100,
     "metadata": {},
     "output_type": "execute_result"
    }
   ],
   "source": [
    "test_set.head()"
   ]
  },
  {
   "cell_type": "code",
   "execution_count": 101,
   "id": "44e8b3f3",
   "metadata": {},
   "outputs": [],
   "source": [
    "test_set = test_set.drop(['Loan_ID'], axis=1)"
   ]
  },
  {
   "cell_type": "code",
   "execution_count": 102,
   "id": "00500b45",
   "metadata": {},
   "outputs": [],
   "source": [
    "pred= rf.predict(test_set)"
   ]
  },
  {
   "cell_type": "code",
   "execution_count": 103,
   "id": "a3a63141",
   "metadata": {},
   "outputs": [
    {
     "data": {
      "text/html": [
       "<div>\n",
       "<style scoped>\n",
       "    .dataframe tbody tr th:only-of-type {\n",
       "        vertical-align: middle;\n",
       "    }\n",
       "\n",
       "    .dataframe tbody tr th {\n",
       "        vertical-align: top;\n",
       "    }\n",
       "\n",
       "    .dataframe thead th {\n",
       "        text-align: right;\n",
       "    }\n",
       "</style>\n",
       "<table border=\"1\" class=\"dataframe\">\n",
       "  <thead>\n",
       "    <tr style=\"text-align: right;\">\n",
       "      <th></th>\n",
       "      <th>Gender</th>\n",
       "      <th>Married</th>\n",
       "      <th>Dependents</th>\n",
       "      <th>Education</th>\n",
       "      <th>Self_Employed</th>\n",
       "      <th>ApplicantIncome</th>\n",
       "      <th>CoapplicantIncome</th>\n",
       "      <th>LoanAmount</th>\n",
       "      <th>Loan_Amount_Term</th>\n",
       "      <th>Credit_History</th>\n",
       "      <th>Property_Area_Semiurban</th>\n",
       "      <th>Property_Area_Urban</th>\n",
       "      <th>Prediction</th>\n",
       "    </tr>\n",
       "  </thead>\n",
       "  <tbody>\n",
       "    <tr>\n",
       "      <th>0</th>\n",
       "      <td>1</td>\n",
       "      <td>1</td>\n",
       "      <td>0</td>\n",
       "      <td>0</td>\n",
       "      <td>0</td>\n",
       "      <td>5720.0</td>\n",
       "      <td>0.0</td>\n",
       "      <td>110.0</td>\n",
       "      <td>360.0</td>\n",
       "      <td>1.0</td>\n",
       "      <td>0</td>\n",
       "      <td>1</td>\n",
       "      <td>1</td>\n",
       "    </tr>\n",
       "    <tr>\n",
       "      <th>1</th>\n",
       "      <td>1</td>\n",
       "      <td>1</td>\n",
       "      <td>1</td>\n",
       "      <td>0</td>\n",
       "      <td>0</td>\n",
       "      <td>3076.0</td>\n",
       "      <td>1500.0</td>\n",
       "      <td>126.0</td>\n",
       "      <td>360.0</td>\n",
       "      <td>1.0</td>\n",
       "      <td>0</td>\n",
       "      <td>1</td>\n",
       "      <td>1</td>\n",
       "    </tr>\n",
       "    <tr>\n",
       "      <th>2</th>\n",
       "      <td>1</td>\n",
       "      <td>1</td>\n",
       "      <td>2</td>\n",
       "      <td>0</td>\n",
       "      <td>0</td>\n",
       "      <td>5000.0</td>\n",
       "      <td>1800.0</td>\n",
       "      <td>208.0</td>\n",
       "      <td>360.0</td>\n",
       "      <td>1.0</td>\n",
       "      <td>0</td>\n",
       "      <td>1</td>\n",
       "      <td>1</td>\n",
       "    </tr>\n",
       "    <tr>\n",
       "      <th>3</th>\n",
       "      <td>1</td>\n",
       "      <td>1</td>\n",
       "      <td>2</td>\n",
       "      <td>0</td>\n",
       "      <td>0</td>\n",
       "      <td>2340.0</td>\n",
       "      <td>2546.0</td>\n",
       "      <td>100.0</td>\n",
       "      <td>360.0</td>\n",
       "      <td>1.0</td>\n",
       "      <td>0</td>\n",
       "      <td>1</td>\n",
       "      <td>1</td>\n",
       "    </tr>\n",
       "    <tr>\n",
       "      <th>4</th>\n",
       "      <td>1</td>\n",
       "      <td>0</td>\n",
       "      <td>0</td>\n",
       "      <td>1</td>\n",
       "      <td>0</td>\n",
       "      <td>3276.0</td>\n",
       "      <td>0.0</td>\n",
       "      <td>78.0</td>\n",
       "      <td>360.0</td>\n",
       "      <td>1.0</td>\n",
       "      <td>0</td>\n",
       "      <td>1</td>\n",
       "      <td>0</td>\n",
       "    </tr>\n",
       "  </tbody>\n",
       "</table>\n",
       "</div>"
      ],
      "text/plain": [
       "   Gender  Married  Dependents  Education  Self_Employed  ApplicantIncome  \\\n",
       "0       1        1           0          0              0           5720.0   \n",
       "1       1        1           1          0              0           3076.0   \n",
       "2       1        1           2          0              0           5000.0   \n",
       "3       1        1           2          0              0           2340.0   \n",
       "4       1        0           0          1              0           3276.0   \n",
       "\n",
       "   CoapplicantIncome  LoanAmount  Loan_Amount_Term  Credit_History  \\\n",
       "0                0.0       110.0             360.0             1.0   \n",
       "1             1500.0       126.0             360.0             1.0   \n",
       "2             1800.0       208.0             360.0             1.0   \n",
       "3             2546.0       100.0             360.0             1.0   \n",
       "4                0.0        78.0             360.0             1.0   \n",
       "\n",
       "   Property_Area_Semiurban  Property_Area_Urban  Prediction  \n",
       "0                        0                    1           1  \n",
       "1                        0                    1           1  \n",
       "2                        0                    1           1  \n",
       "3                        0                    1           1  \n",
       "4                        0                    1           0  "
      ]
     },
     "execution_count": 103,
     "metadata": {},
     "output_type": "execute_result"
    }
   ],
   "source": [
    "test_set['Prediction'] = pred\n",
    "test_set.head()"
   ]
  },
  {
   "cell_type": "code",
   "execution_count": 104,
   "id": "f1a7eb06",
   "metadata": {},
   "outputs": [
    {
     "data": {
      "text/plain": [
       "1    206\n",
       "0    161\n",
       "Name: Prediction, dtype: int64"
      ]
     },
     "execution_count": 104,
     "metadata": {},
     "output_type": "execute_result"
    }
   ],
   "source": [
    "test_set['Prediction'].value_counts()"
   ]
  },
  {
   "cell_type": "code",
   "execution_count": null,
   "id": "7c7cbdc4",
   "metadata": {},
   "outputs": [],
   "source": []
  }
 ],
 "metadata": {
  "kernelspec": {
   "display_name": "Python 3 (ipykernel)",
   "language": "python",
   "name": "python3"
  },
  "language_info": {
   "codemirror_mode": {
    "name": "ipython",
    "version": 3
   },
   "file_extension": ".py",
   "mimetype": "text/x-python",
   "name": "python",
   "nbconvert_exporter": "python",
   "pygments_lexer": "ipython3",
   "version": "3.10.9"
  }
 },
 "nbformat": 4,
 "nbformat_minor": 5
}
