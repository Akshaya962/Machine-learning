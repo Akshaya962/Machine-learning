{
 "cells": [
  {
   "cell_type": "code",
   "execution_count": 11,
   "metadata": {
    "jupyter": {
     "outputs_hidden": true
    }
   },
   "outputs": [],
   "source": [
    "import numpy as np\n",
    "import pandas as pd\n",
    "import seaborn as sns\n",
    "import matplotlib.pyplot as plt\n",
    "from scipy import stats\n",
    "from sklearn.preprocessing import StandardScaler"
   ]
  },
  {
   "cell_type": "code",
   "execution_count": 12,
   "metadata": {
    "jupyter": {
     "outputs_hidden": true
    }
   },
   "outputs": [],
   "source": [
    "plt.rcParams['figure.figsize'] = [12,6]\n",
    "sns.set_style('darkgrid')"
   ]
  },
  {
   "cell_type": "code",
   "execution_count": 13,
   "metadata": {},
   "outputs": [],
   "source": [
    "house = pd.read_csv(\"Maison.csv\")\n",
    "home_df= house"
   ]
  },
  {
   "cell_type": "code",
   "execution_count": 14,
   "metadata": {
    "jupyter": {
     "outputs_hidden": true
    }
   },
   "outputs": [],
   "source": [
    "home_df= home_df.rename(index = str, columns = {'PRIX':'price','SUPERFICIE': 'area','CHAMBRES': 'rooms', \n",
    "                         'SDB': 'bathroom', 'ETAGES': 'floors','ALLEE': 'driveway',\n",
    "                         'SALLEJEU':'game_room', 'CAVE': 'cellar', \n",
    "                         'GAZ': 'gas', 'AIR':'air', 'GARAGES': 'garage', 'SITUATION': 'situation'})"
   ]
  },
  {
   "cell_type": "code",
   "execution_count": 15,
   "metadata": {},
   "outputs": [
    {
     "data": {
      "text/html": [
       "<div>\n",
       "<style scoped>\n",
       "    .dataframe tbody tr th:only-of-type {\n",
       "        vertical-align: middle;\n",
       "    }\n",
       "\n",
       "    .dataframe tbody tr th {\n",
       "        vertical-align: top;\n",
       "    }\n",
       "\n",
       "    .dataframe thead th {\n",
       "        text-align: right;\n",
       "    }\n",
       "</style>\n",
       "<table border=\"1\" class=\"dataframe\">\n",
       "  <thead>\n",
       "    <tr style=\"text-align: right;\">\n",
       "      <th></th>\n",
       "      <th>price</th>\n",
       "      <th>area</th>\n",
       "      <th>rooms</th>\n",
       "      <th>bathroom</th>\n",
       "      <th>floors</th>\n",
       "      <th>driveway</th>\n",
       "      <th>game_room</th>\n",
       "      <th>cellar</th>\n",
       "      <th>gas</th>\n",
       "      <th>air</th>\n",
       "      <th>garage</th>\n",
       "      <th>situation</th>\n",
       "    </tr>\n",
       "  </thead>\n",
       "  <tbody>\n",
       "    <tr>\n",
       "      <th>0</th>\n",
       "      <td>42000</td>\n",
       "      <td>5850</td>\n",
       "      <td>3</td>\n",
       "      <td>1</td>\n",
       "      <td>2</td>\n",
       "      <td>1</td>\n",
       "      <td>0</td>\n",
       "      <td>1</td>\n",
       "      <td>0</td>\n",
       "      <td>0</td>\n",
       "      <td>1</td>\n",
       "      <td>0</td>\n",
       "    </tr>\n",
       "    <tr>\n",
       "      <th>1</th>\n",
       "      <td>38500</td>\n",
       "      <td>4000</td>\n",
       "      <td>2</td>\n",
       "      <td>1</td>\n",
       "      <td>1</td>\n",
       "      <td>1</td>\n",
       "      <td>0</td>\n",
       "      <td>0</td>\n",
       "      <td>0</td>\n",
       "      <td>0</td>\n",
       "      <td>0</td>\n",
       "      <td>0</td>\n",
       "    </tr>\n",
       "    <tr>\n",
       "      <th>2</th>\n",
       "      <td>49500</td>\n",
       "      <td>3060</td>\n",
       "      <td>3</td>\n",
       "      <td>1</td>\n",
       "      <td>1</td>\n",
       "      <td>1</td>\n",
       "      <td>0</td>\n",
       "      <td>0</td>\n",
       "      <td>0</td>\n",
       "      <td>0</td>\n",
       "      <td>0</td>\n",
       "      <td>0</td>\n",
       "    </tr>\n",
       "    <tr>\n",
       "      <th>3</th>\n",
       "      <td>60500</td>\n",
       "      <td>6650</td>\n",
       "      <td>3</td>\n",
       "      <td>1</td>\n",
       "      <td>2</td>\n",
       "      <td>1</td>\n",
       "      <td>1</td>\n",
       "      <td>0</td>\n",
       "      <td>0</td>\n",
       "      <td>0</td>\n",
       "      <td>0</td>\n",
       "      <td>0</td>\n",
       "    </tr>\n",
       "    <tr>\n",
       "      <th>4</th>\n",
       "      <td>61000</td>\n",
       "      <td>6360</td>\n",
       "      <td>2</td>\n",
       "      <td>1</td>\n",
       "      <td>1</td>\n",
       "      <td>1</td>\n",
       "      <td>0</td>\n",
       "      <td>0</td>\n",
       "      <td>0</td>\n",
       "      <td>0</td>\n",
       "      <td>0</td>\n",
       "      <td>0</td>\n",
       "    </tr>\n",
       "  </tbody>\n",
       "</table>\n",
       "</div>"
      ],
      "text/plain": [
       "   price  area  rooms  bathroom  floors  driveway  game_room  cellar  gas  \\\n",
       "0  42000  5850      3         1       2         1          0       1    0   \n",
       "1  38500  4000      2         1       1         1          0       0    0   \n",
       "2  49500  3060      3         1       1         1          0       0    0   \n",
       "3  60500  6650      3         1       2         1          1       0    0   \n",
       "4  61000  6360      2         1       1         1          0       0    0   \n",
       "\n",
       "   air  garage  situation  \n",
       "0    0       1          0  \n",
       "1    0       0          0  \n",
       "2    0       0          0  \n",
       "3    0       0          0  \n",
       "4    0       0          0  "
      ]
     },
     "execution_count": 15,
     "metadata": {},
     "output_type": "execute_result"
    }
   ],
   "source": [
    "home_df.head()"
   ]
  },
  {
   "cell_type": "code",
   "execution_count": 16,
   "metadata": {},
   "outputs": [
    {
     "data": {
      "text/plain": [
       "(546, 12)"
      ]
     },
     "execution_count": 16,
     "metadata": {},
     "output_type": "execute_result"
    }
   ],
   "source": [
    "home_df.shape"
   ]
  },
  {
   "cell_type": "code",
   "execution_count": 17,
   "metadata": {},
   "outputs": [
    {
     "data": {
      "text/html": [
       "<div>\n",
       "<style scoped>\n",
       "    .dataframe tbody tr th:only-of-type {\n",
       "        vertical-align: middle;\n",
       "    }\n",
       "\n",
       "    .dataframe tbody tr th {\n",
       "        vertical-align: top;\n",
       "    }\n",
       "\n",
       "    .dataframe thead th {\n",
       "        text-align: right;\n",
       "    }\n",
       "</style>\n",
       "<table border=\"1\" class=\"dataframe\">\n",
       "  <thead>\n",
       "    <tr style=\"text-align: right;\">\n",
       "      <th></th>\n",
       "      <th>price</th>\n",
       "      <th>area</th>\n",
       "      <th>rooms</th>\n",
       "      <th>bathroom</th>\n",
       "      <th>floors</th>\n",
       "      <th>driveway</th>\n",
       "      <th>game_room</th>\n",
       "      <th>cellar</th>\n",
       "      <th>gas</th>\n",
       "      <th>air</th>\n",
       "      <th>garage</th>\n",
       "      <th>situation</th>\n",
       "    </tr>\n",
       "  </thead>\n",
       "  <tbody>\n",
       "    <tr>\n",
       "      <th>count</th>\n",
       "      <td>546.000000</td>\n",
       "      <td>546.000000</td>\n",
       "      <td>546.000000</td>\n",
       "      <td>546.000000</td>\n",
       "      <td>546.000000</td>\n",
       "      <td>546.000000</td>\n",
       "      <td>546.000000</td>\n",
       "      <td>546.000000</td>\n",
       "      <td>546.000000</td>\n",
       "      <td>546.000000</td>\n",
       "      <td>546.000000</td>\n",
       "      <td>546.000000</td>\n",
       "    </tr>\n",
       "    <tr>\n",
       "      <th>mean</th>\n",
       "      <td>68121.597070</td>\n",
       "      <td>5150.265568</td>\n",
       "      <td>2.965201</td>\n",
       "      <td>1.285714</td>\n",
       "      <td>1.807692</td>\n",
       "      <td>0.858974</td>\n",
       "      <td>0.177656</td>\n",
       "      <td>0.349817</td>\n",
       "      <td>0.045788</td>\n",
       "      <td>0.316850</td>\n",
       "      <td>0.692308</td>\n",
       "      <td>0.234432</td>\n",
       "    </tr>\n",
       "    <tr>\n",
       "      <th>std</th>\n",
       "      <td>26702.670926</td>\n",
       "      <td>2168.158725</td>\n",
       "      <td>0.737388</td>\n",
       "      <td>0.502158</td>\n",
       "      <td>0.868203</td>\n",
       "      <td>0.348367</td>\n",
       "      <td>0.382573</td>\n",
       "      <td>0.477349</td>\n",
       "      <td>0.209216</td>\n",
       "      <td>0.465675</td>\n",
       "      <td>0.861307</td>\n",
       "      <td>0.424032</td>\n",
       "    </tr>\n",
       "    <tr>\n",
       "      <th>min</th>\n",
       "      <td>25000.000000</td>\n",
       "      <td>1650.000000</td>\n",
       "      <td>1.000000</td>\n",
       "      <td>1.000000</td>\n",
       "      <td>1.000000</td>\n",
       "      <td>0.000000</td>\n",
       "      <td>0.000000</td>\n",
       "      <td>0.000000</td>\n",
       "      <td>0.000000</td>\n",
       "      <td>0.000000</td>\n",
       "      <td>0.000000</td>\n",
       "      <td>0.000000</td>\n",
       "    </tr>\n",
       "    <tr>\n",
       "      <th>25%</th>\n",
       "      <td>49125.000000</td>\n",
       "      <td>3600.000000</td>\n",
       "      <td>2.000000</td>\n",
       "      <td>1.000000</td>\n",
       "      <td>1.000000</td>\n",
       "      <td>1.000000</td>\n",
       "      <td>0.000000</td>\n",
       "      <td>0.000000</td>\n",
       "      <td>0.000000</td>\n",
       "      <td>0.000000</td>\n",
       "      <td>0.000000</td>\n",
       "      <td>0.000000</td>\n",
       "    </tr>\n",
       "    <tr>\n",
       "      <th>50%</th>\n",
       "      <td>62000.000000</td>\n",
       "      <td>4600.000000</td>\n",
       "      <td>3.000000</td>\n",
       "      <td>1.000000</td>\n",
       "      <td>2.000000</td>\n",
       "      <td>1.000000</td>\n",
       "      <td>0.000000</td>\n",
       "      <td>0.000000</td>\n",
       "      <td>0.000000</td>\n",
       "      <td>0.000000</td>\n",
       "      <td>0.000000</td>\n",
       "      <td>0.000000</td>\n",
       "    </tr>\n",
       "    <tr>\n",
       "      <th>75%</th>\n",
       "      <td>82000.000000</td>\n",
       "      <td>6360.000000</td>\n",
       "      <td>3.000000</td>\n",
       "      <td>2.000000</td>\n",
       "      <td>2.000000</td>\n",
       "      <td>1.000000</td>\n",
       "      <td>0.000000</td>\n",
       "      <td>1.000000</td>\n",
       "      <td>0.000000</td>\n",
       "      <td>1.000000</td>\n",
       "      <td>1.000000</td>\n",
       "      <td>0.000000</td>\n",
       "    </tr>\n",
       "    <tr>\n",
       "      <th>max</th>\n",
       "      <td>190000.000000</td>\n",
       "      <td>16200.000000</td>\n",
       "      <td>6.000000</td>\n",
       "      <td>4.000000</td>\n",
       "      <td>4.000000</td>\n",
       "      <td>1.000000</td>\n",
       "      <td>1.000000</td>\n",
       "      <td>1.000000</td>\n",
       "      <td>1.000000</td>\n",
       "      <td>1.000000</td>\n",
       "      <td>3.000000</td>\n",
       "      <td>1.000000</td>\n",
       "    </tr>\n",
       "  </tbody>\n",
       "</table>\n",
       "</div>"
      ],
      "text/plain": [
       "               price          area       rooms    bathroom      floors  \\\n",
       "count     546.000000    546.000000  546.000000  546.000000  546.000000   \n",
       "mean    68121.597070   5150.265568    2.965201    1.285714    1.807692   \n",
       "std     26702.670926   2168.158725    0.737388    0.502158    0.868203   \n",
       "min     25000.000000   1650.000000    1.000000    1.000000    1.000000   \n",
       "25%     49125.000000   3600.000000    2.000000    1.000000    1.000000   \n",
       "50%     62000.000000   4600.000000    3.000000    1.000000    2.000000   \n",
       "75%     82000.000000   6360.000000    3.000000    2.000000    2.000000   \n",
       "max    190000.000000  16200.000000    6.000000    4.000000    4.000000   \n",
       "\n",
       "         driveway   game_room      cellar         gas         air      garage  \\\n",
       "count  546.000000  546.000000  546.000000  546.000000  546.000000  546.000000   \n",
       "mean     0.858974    0.177656    0.349817    0.045788    0.316850    0.692308   \n",
       "std      0.348367    0.382573    0.477349    0.209216    0.465675    0.861307   \n",
       "min      0.000000    0.000000    0.000000    0.000000    0.000000    0.000000   \n",
       "25%      1.000000    0.000000    0.000000    0.000000    0.000000    0.000000   \n",
       "50%      1.000000    0.000000    0.000000    0.000000    0.000000    0.000000   \n",
       "75%      1.000000    0.000000    1.000000    0.000000    1.000000    1.000000   \n",
       "max      1.000000    1.000000    1.000000    1.000000    1.000000    3.000000   \n",
       "\n",
       "        situation  \n",
       "count  546.000000  \n",
       "mean     0.234432  \n",
       "std      0.424032  \n",
       "min      0.000000  \n",
       "25%      0.000000  \n",
       "50%      0.000000  \n",
       "75%      0.000000  \n",
       "max      1.000000  "
      ]
     },
     "execution_count": 17,
     "metadata": {},
     "output_type": "execute_result"
    }
   ],
   "source": [
    "home_df.describe()"
   ]
  },
  {
   "cell_type": "code",
   "execution_count": 18,
   "metadata": {},
   "outputs": [
    {
     "data": {
      "text/plain": [
       "<AxesSubplot:>"
      ]
     },
     "execution_count": 18,
     "metadata": {},
     "output_type": "execute_result"
    },
    {
     "data": {
      "image/png": "[encoded data removed]",
      "text/plain": [
       "<Figure size 864x432 with 1 Axes>"
      ]
     },
     "metadata": {},
     "output_type": "display_data"
    }
   ],
   "source": [
    "sns.boxplot(data=home_df)"
   ]
  },
  {
   "cell_type": "code",
   "execution_count": 19,
   "metadata": {},
   "outputs": [
    {
     "data": {
      "text/plain": [
       "price         15\n",
       "area          12\n",
       "rooms         12\n",
       "bathroom       1\n",
       "floors        41\n",
       "driveway      77\n",
       "game_room     97\n",
       "cellar         0\n",
       "gas           25\n",
       "air            0\n",
       "garage        12\n",
       "situation    128\n",
       "dtype: int64"
      ]
     },
     "execution_count": 19,
     "metadata": {},
     "output_type": "execute_result"
    }
   ],
   "source": [
    "Q1 = home_df.quantile(0.25)\n",
    "Q3 = home_df.quantile(0.75)\n",
    "IQR = Q3 - Q1\n",
    "((home_df < (Q1 - 1.5 * IQR)) | (home_df > (Q3 + 1.5 * IQR))).sum()\n"
   ]
  },
  {
   "cell_type": "code",
   "execution_count": 1,
   "metadata": {},
   "outputs": [
    {
     "ename": "NameError",
     "evalue": "name 'np' is not defined",
     "output_type": "error",
     "traceback": [
      "\u001b[1;31m---------------------------------------------------------------------------\u001b[0m",
      "\u001b[1;31mNameError\u001b[0m                                 Traceback (most recent call last)",
      "Input \u001b[1;32mIn [1]\u001b[0m, in \u001b[0;36m<cell line: 1>\u001b[1;34m()\u001b[0m\n\u001b[0;32m      1\u001b[0m \u001b[38;5;28;01mfor\u001b[39;00m x \u001b[38;5;129;01min\u001b[39;00m [\u001b[38;5;124m'\u001b[39m\u001b[38;5;124mgame_room\u001b[39m\u001b[38;5;124m'\u001b[39m]:\n\u001b[1;32m----> 2\u001b[0m     q75,q25 \u001b[38;5;241m=\u001b[39m \u001b[43mnp\u001b[49m\u001b[38;5;241m.\u001b[39mpercentile(home_df\u001b[38;5;241m.\u001b[39mloc[:,x],[\u001b[38;5;241m75\u001b[39m,\u001b[38;5;241m25\u001b[39m])\n\u001b[0;32m      3\u001b[0m     intr_qr \u001b[38;5;241m=\u001b[39m q75\u001b[38;5;241m-\u001b[39mq25\n\u001b[0;32m      5\u001b[0m     \u001b[38;5;28mmax\u001b[39m \u001b[38;5;241m=\u001b[39m q75\u001b[38;5;241m+\u001b[39m(\u001b[38;5;241m1.5\u001b[39m\u001b[38;5;241m*\u001b[39mintr_qr)\n",
      "\u001b[1;31mNameError\u001b[0m: name 'np' is not defined"
     ]
    }
   ],
   "source": [
    "for x in ['game_room']:\n",
    "    q75,q25 = np.percentile(home_df.loc[:,x],[75,25])\n",
    "    intr_qr = q75-q25\n",
    " \n",
    "    max = q75+(1.5*intr_qr)\n",
    "    min = q25-(1.5*intr_qr)\n",
    " \n",
    "    home_df.loc[home_df[x] < min,x] = np.nan\n",
    "    home_df.loc[home_df[x] > max,x] = np.nan"
   ]
  },
  {
   "cell_type": "code",
   "execution_count": 21,
   "metadata": {},
   "outputs": [
    {
     "data": {
      "text/plain": [
       "price         0\n",
       "area          0\n",
       "rooms         0\n",
       "bathroom      0\n",
       "floors        0\n",
       "driveway      0\n",
       "game_room    97\n",
       "cellar        0\n",
       "gas           0\n",
       "air           0\n",
       "garage        0\n",
       "situation     0\n",
       "dtype: int64"
      ]
     },
     "execution_count": 21,
     "metadata": {},
     "output_type": "execute_result"
    }
   ],
   "source": [
    "home_df.isnull().sum()"
   ]
  },
  {
   "cell_type": "code",
   "execution_count": 22,
   "metadata": {},
   "outputs": [],
   "source": [
    "home_df= home_df.dropna(axis=0)"
   ]
  },
  {
   "cell_type": "code",
   "execution_count": 23,
   "metadata": {},
   "outputs": [
    {
     "data": {
      "text/plain": [
       "(449, 12)"
      ]
     },
     "execution_count": 23,
     "metadata": {},
     "output_type": "execute_result"
    }
   ],
   "source": [
    "home_df.shape"
   ]
  },
  {
   "cell_type": "code",
   "execution_count": 24,
   "metadata": {},
   "outputs": [
    {
     "data": {
      "text/html": [
       "<div>\n",
       "<style scoped>\n",
       "    .dataframe tbody tr th:only-of-type {\n",
       "        vertical-align: middle;\n",
       "    }\n",
       "\n",
       "    .dataframe tbody tr th {\n",
       "        vertical-align: top;\n",
       "    }\n",
       "\n",
       "    .dataframe thead th {\n",
       "        text-align: right;\n",
       "    }\n",
       "</style>\n",
       "<table border=\"1\" class=\"dataframe\">\n",
       "  <thead>\n",
       "    <tr style=\"text-align: right;\">\n",
       "      <th></th>\n",
       "      <th>price</th>\n",
       "      <th>area</th>\n",
       "      <th>rooms</th>\n",
       "      <th>bathroom</th>\n",
       "      <th>floors</th>\n",
       "      <th>driveway</th>\n",
       "      <th>game_room</th>\n",
       "      <th>cellar</th>\n",
       "      <th>gas</th>\n",
       "      <th>air</th>\n",
       "      <th>garage</th>\n",
       "      <th>situation</th>\n",
       "    </tr>\n",
       "  </thead>\n",
       "  <tbody>\n",
       "    <tr>\n",
       "      <th>price</th>\n",
       "      <td>1.000000</td>\n",
       "      <td>0.546425</td>\n",
       "      <td>0.346906</td>\n",
       "      <td>0.549986</td>\n",
       "      <td>0.447514</td>\n",
       "      <td>0.284607</td>\n",
       "      <td>NaN</td>\n",
       "      <td>0.136649</td>\n",
       "      <td>0.100528</td>\n",
       "      <td>0.422534</td>\n",
       "      <td>0.386387</td>\n",
       "      <td>0.342016</td>\n",
       "    </tr>\n",
       "    <tr>\n",
       "      <th>area</th>\n",
       "      <td>0.546425</td>\n",
       "      <td>1.000000</td>\n",
       "      <td>0.109259</td>\n",
       "      <td>0.199120</td>\n",
       "      <td>0.081642</td>\n",
       "      <td>0.264758</td>\n",
       "      <td>NaN</td>\n",
       "      <td>-0.011921</td>\n",
       "      <td>-0.025748</td>\n",
       "      <td>0.223585</td>\n",
       "      <td>0.355810</td>\n",
       "      <td>0.221569</td>\n",
       "    </tr>\n",
       "    <tr>\n",
       "      <th>rooms</th>\n",
       "      <td>0.346906</td>\n",
       "      <td>0.109259</td>\n",
       "      <td>1.000000</td>\n",
       "      <td>0.401002</td>\n",
       "      <td>0.411169</td>\n",
       "      <td>-0.044122</td>\n",
       "      <td>NaN</td>\n",
       "      <td>0.104378</td>\n",
       "      <td>0.032631</td>\n",
       "      <td>0.125555</td>\n",
       "      <td>0.141209</td>\n",
       "      <td>0.064377</td>\n",
       "    </tr>\n",
       "    <tr>\n",
       "      <th>bathroom</th>\n",
       "      <td>0.549986</td>\n",
       "      <td>0.199120</td>\n",
       "      <td>0.401002</td>\n",
       "      <td>1.000000</td>\n",
       "      <td>0.340922</td>\n",
       "      <td>0.049749</td>\n",
       "      <td>NaN</td>\n",
       "      <td>0.127316</td>\n",
       "      <td>0.035274</td>\n",
       "      <td>0.222928</td>\n",
       "      <td>0.197159</td>\n",
       "      <td>0.099333</td>\n",
       "    </tr>\n",
       "    <tr>\n",
       "      <th>floors</th>\n",
       "      <td>0.447514</td>\n",
       "      <td>0.081642</td>\n",
       "      <td>0.411169</td>\n",
       "      <td>0.340922</td>\n",
       "      <td>1.000000</td>\n",
       "      <td>0.125299</td>\n",
       "      <td>NaN</td>\n",
       "      <td>-0.105865</td>\n",
       "      <td>0.042153</td>\n",
       "      <td>0.272223</td>\n",
       "      <td>0.074634</td>\n",
       "      <td>0.065523</td>\n",
       "    </tr>\n",
       "    <tr>\n",
       "      <th>driveway</th>\n",
       "      <td>0.284607</td>\n",
       "      <td>0.264758</td>\n",
       "      <td>-0.044122</td>\n",
       "      <td>0.049749</td>\n",
       "      <td>0.125299</td>\n",
       "      <td>1.000000</td>\n",
       "      <td>NaN</td>\n",
       "      <td>0.009826</td>\n",
       "      <td>-0.021111</td>\n",
       "      <td>0.096485</td>\n",
       "      <td>0.215657</td>\n",
       "      <td>0.186130</td>\n",
       "    </tr>\n",
       "    <tr>\n",
       "      <th>game_room</th>\n",
       "      <td>NaN</td>\n",
       "      <td>NaN</td>\n",
       "      <td>NaN</td>\n",
       "      <td>NaN</td>\n",
       "      <td>NaN</td>\n",
       "      <td>NaN</td>\n",
       "      <td>NaN</td>\n",
       "      <td>NaN</td>\n",
       "      <td>NaN</td>\n",
       "      <td>NaN</td>\n",
       "      <td>NaN</td>\n",
       "      <td>NaN</td>\n",
       "    </tr>\n",
       "    <tr>\n",
       "      <th>cellar</th>\n",
       "      <td>0.136649</td>\n",
       "      <td>-0.011921</td>\n",
       "      <td>0.104378</td>\n",
       "      <td>0.127316</td>\n",
       "      <td>-0.105865</td>\n",
       "      <td>0.009826</td>\n",
       "      <td>NaN</td>\n",
       "      <td>1.000000</td>\n",
       "      <td>0.009237</td>\n",
       "      <td>0.050310</td>\n",
       "      <td>0.039277</td>\n",
       "      <td>0.158741</td>\n",
       "    </tr>\n",
       "    <tr>\n",
       "      <th>gas</th>\n",
       "      <td>0.100528</td>\n",
       "      <td>-0.025748</td>\n",
       "      <td>0.032631</td>\n",
       "      <td>0.035274</td>\n",
       "      <td>0.042153</td>\n",
       "      <td>-0.021111</td>\n",
       "      <td>NaN</td>\n",
       "      <td>0.009237</td>\n",
       "      <td>1.000000</td>\n",
       "      <td>-0.117329</td>\n",
       "      <td>0.082671</td>\n",
       "      <td>-0.032960</td>\n",
       "    </tr>\n",
       "    <tr>\n",
       "      <th>air</th>\n",
       "      <td>0.422534</td>\n",
       "      <td>0.223585</td>\n",
       "      <td>0.125555</td>\n",
       "      <td>0.222928</td>\n",
       "      <td>0.272223</td>\n",
       "      <td>0.096485</td>\n",
       "      <td>NaN</td>\n",
       "      <td>0.050310</td>\n",
       "      <td>-0.117329</td>\n",
       "      <td>1.000000</td>\n",
       "      <td>0.163018</td>\n",
       "      <td>0.108421</td>\n",
       "    </tr>\n",
       "    <tr>\n",
       "      <th>garage</th>\n",
       "      <td>0.386387</td>\n",
       "      <td>0.355810</td>\n",
       "      <td>0.141209</td>\n",
       "      <td>0.197159</td>\n",
       "      <td>0.074634</td>\n",
       "      <td>0.215657</td>\n",
       "      <td>NaN</td>\n",
       "      <td>0.039277</td>\n",
       "      <td>0.082671</td>\n",
       "      <td>0.163018</td>\n",
       "      <td>1.000000</td>\n",
       "      <td>0.085719</td>\n",
       "    </tr>\n",
       "    <tr>\n",
       "      <th>situation</th>\n",
       "      <td>0.342016</td>\n",
       "      <td>0.221569</td>\n",
       "      <td>0.064377</td>\n",
       "      <td>0.099333</td>\n",
       "      <td>0.065523</td>\n",
       "      <td>0.186130</td>\n",
       "      <td>NaN</td>\n",
       "      <td>0.158741</td>\n",
       "      <td>-0.032960</td>\n",
       "      <td>0.108421</td>\n",
       "      <td>0.085719</td>\n",
       "      <td>1.000000</td>\n",
       "    </tr>\n",
       "  </tbody>\n",
       "</table>\n",
       "</div>"
      ],
      "text/plain": [
       "              price      area     rooms  bathroom    floors  driveway  \\\n",
       "price      1.000000  0.546425  0.346906  0.549986  0.447514  0.284607   \n",
       "area       0.546425  1.000000  0.109259  0.199120  0.081642  0.264758   \n",
       "rooms      0.346906  0.109259  1.000000  0.401002  0.411169 -0.044122   \n",
       "bathroom   0.549986  0.199120  0.401002  1.000000  0.340922  0.049749   \n",
       "floors     0.447514  0.081642  0.411169  0.340922  1.000000  0.125299   \n",
       "driveway   0.284607  0.264758 -0.044122  0.049749  0.125299  1.000000   \n",
       "game_room       NaN       NaN       NaN       NaN       NaN       NaN   \n",
       "cellar     0.136649 -0.011921  0.104378  0.127316 -0.105865  0.009826   \n",
       "gas        0.100528 -0.025748  0.032631  0.035274  0.042153 -0.021111   \n",
       "air        0.422534  0.223585  0.125555  0.222928  0.272223  0.096485   \n",
       "garage     0.386387  0.355810  0.141209  0.197159  0.074634  0.215657   \n",
       "situation  0.342016  0.221569  0.064377  0.099333  0.065523  0.186130   \n",
       "\n",
       "           game_room    cellar       gas       air    garage  situation  \n",
       "price            NaN  0.136649  0.100528  0.422534  0.386387   0.342016  \n",
       "area             NaN -0.011921 -0.025748  0.223585  0.355810   0.221569  \n",
       "rooms            NaN  0.104378  0.032631  0.125555  0.141209   0.064377  \n",
       "bathroom         NaN  0.127316  0.035274  0.222928  0.197159   0.099333  \n",
       "floors           NaN -0.105865  0.042153  0.272223  0.074634   0.065523  \n",
       "driveway         NaN  0.009826 -0.021111  0.096485  0.215657   0.186130  \n",
       "game_room        NaN       NaN       NaN       NaN       NaN        NaN  \n",
       "cellar           NaN  1.000000  0.009237  0.050310  0.039277   0.158741  \n",
       "gas              NaN  0.009237  1.000000 -0.117329  0.082671  -0.032960  \n",
       "air              NaN  0.050310 -0.117329  1.000000  0.163018   0.108421  \n",
       "garage           NaN  0.039277  0.082671  0.163018  1.000000   0.085719  \n",
       "situation        NaN  0.158741 -0.032960  0.108421  0.085719   1.000000  "
      ]
     },
     "execution_count": 24,
     "metadata": {},
     "output_type": "execute_result"
    }
   ],
   "source": [
    "home_df.corr()"
   ]
  },
  {
   "cell_type": "code",
   "execution_count": 25,
   "metadata": {},
   "outputs": [],
   "source": [
    "home_df=home_df.drop(['game_room'], axis=1)"
   ]
  },
  {
   "cell_type": "code",
   "execution_count": 26,
   "metadata": {},
   "outputs": [
    {
     "data": {
      "text/plain": [
       "<AxesSubplot:>"
      ]
     },
     "execution_count": 26,
     "metadata": {},
     "output_type": "execute_result"
    },
    {
     "data": {
      "image/png": "[encoded data removed]",
      "text/plain": [
       "<Figure size 1008x720 with 2 Axes>"
      ]
     },
     "metadata": {},
     "output_type": "display_data"
    }
   ],
   "source": [
    "corr=home_df.corr()\n",
    "plt.figure(figsize=(14,10))\n",
    "sns.heatmap(corr, annot= True, cmap='coolwarm')"
   ]
  },
  {
   "cell_type": "code",
   "execution_count": 27,
   "metadata": {},
   "outputs": [
    {
     "data": {
      "image/png": "[encoded data removed]",
      "text/plain": [
       "<Figure size 864x432 with 1 Axes>"
      ]
     },
     "metadata": {},
     "output_type": "display_data"
    }
   ],
   "source": [
    "plt.scatter(home_df['area'], home_df['price'])\n",
    "plt.show()"
   ]
  },
  {
   "cell_type": "code",
   "execution_count": 28,
   "metadata": {},
   "outputs": [
    {
     "data": {
      "image/png": "[encoded data removed]",
      "text/plain": [
       "<Figure size 864x432 with 1 Axes>"
      ]
     },
     "metadata": {},
     "output_type": "display_data"
    }
   ],
   "source": [
    "import warnings\n",
    "warnings.filterwarnings('ignore')\n",
    "sns.distplot(home_df['area'])\n",
    "plt.show()"
   ]
  },
  {
   "cell_type": "code",
   "execution_count": 29,
   "metadata": {},
   "outputs": [
    {
     "data": {
      "image/png": "[encoded data removed]",
      "text/plain": [
       "<Figure size 864x432 with 1 Axes>"
      ]
     },
     "metadata": {},
     "output_type": "display_data"
    }
   ],
   "source": [
    "sns.distplot(home_df['area'])\n",
    "plt.show()"
   ]
  },
  {
   "cell_type": "code",
   "execution_count": 30,
   "metadata": {},
   "outputs": [
    {
     "name": "stdout",
     "output_type": "stream",
     "text": [
      "[[-0.88115498  0.3761637   0.08353038 ... -0.63492125  0.37321832\n",
      "  -0.50417253]\n",
      " [-1.01547671 -0.45128726 -1.25593887 ... -0.63492125 -0.78247151\n",
      "  -0.50417253]\n",
      " [-0.5933227  -0.8717218   0.08353038 ... -0.63492125 -0.78247151\n",
      "  -0.50417253]\n",
      " ...\n",
      " [ 0.76908339  0.67807148  0.08353038 ... -0.63492125  0.37321832\n",
      "  -0.50417253]\n",
      " [ 1.11448212  0.44325432  0.08353038 ...  1.57499846 -0.78247151\n",
      "  -0.50417253]\n",
      " [ 1.53663612  0.44325432  0.08353038 ...  1.57499846  0.37321832\n",
      "  -0.50417253]]\n"
     ]
    }
   ],
   "source": [
    "sc=StandardScaler()\n",
    "a=sc.fit_transform(home_df)\n",
    "print(a)"
   ]
  },
  {
   "cell_type": "code",
   "execution_count": 31,
   "metadata": {},
   "outputs": [
    {
     "name": "stdout",
     "output_type": "stream",
     "text": [
      "mean:(0,0)\n",
      "sd:(1,1)\n"
     ]
    }
   ],
   "source": [
    "mean=np.mean(a, axis=0)\n",
    "print('mean:(%d,%d)'%(mean[0],mean[1]))\n",
    "sd=np.std(a,axis=0)\n",
    "print(\"sd:(%d,%d)\"%(sd[0],sd[1]))"
   ]
  },
  {
   "cell_type": "code",
   "execution_count": 32,
   "metadata": {
    "jupyter": {
     "outputs_hidden": true
    }
   },
   "outputs": [],
   "source": [
    "# Import the libraries\n",
    "from sklearn.linear_model import LinearRegression\n",
    "from sklearn.model_selection import train_test_split"
   ]
  },
  {
   "cell_type": "code",
   "execution_count": 33,
   "metadata": {
    "jupyter": {
     "outputs_hidden": true
    }
   },
   "outputs": [],
   "source": [
    "# We now instatiate a Linear Regression object\n",
    "#lm = LinearRegression()"
   ]
  },
  {
   "cell_type": "code",
   "execution_count": 34,
   "metadata": {
    "jupyter": {
     "outputs_hidden": true
    }
   },
   "outputs": [],
   "source": [
    "# let's do the split of the dataset\n",
    "home_df.columns\n",
    "x = home_df[['area', 'rooms', 'bathroom', 'floors', 'driveway',\n",
    "       'cellar', 'air','gas','garage', 'situation']]\n",
    "y = home_df['price']"
   ]
  },
  {
   "cell_type": "code",
   "execution_count": 35,
   "metadata": {
    "jupyter": {
     "outputs_hidden": true
    }
   },
   "outputs": [],
   "source": [
    "x_train, x_test, y_train, y_test = train_test_split( x, y, test_size=0.2, random_state=101)"
   ]
  },
  {
   "cell_type": "code",
   "execution_count": 36,
   "metadata": {},
   "outputs": [
    {
     "data": {
      "text/plain": [
       "LinearRegression()"
      ]
     },
     "execution_count": 36,
     "metadata": {},
     "output_type": "execute_result"
    }
   ],
   "source": [
    "## Let's chec the head of some of these splits\n",
    "lm=LinearRegression()\n",
    "lm.fit(x_train,y_train)\n",
    "#x_test.head()\n",
    "# We see that they are randomly selected"
   ]
  },
  {
   "cell_type": "code",
   "execution_count": 37,
   "metadata": {
    "jupyter": {
     "outputs_hidden": true
    }
   },
   "outputs": [],
   "source": [
    "import statsmodels.api as sm"
   ]
  },
  {
   "cell_type": "code",
   "execution_count": 38,
   "metadata": {},
   "outputs": [],
   "source": [
    "x_endog= sm.add_constant(x_train)\n",
    "res = sm.OLS(y_train, x_endog).fit()\n",
    "predicitions=res.predict(x_endog)\n"
   ]
  },
  {
   "cell_type": "code",
   "execution_count": 39,
   "metadata": {},
   "outputs": [
    {
     "data": {
      "text/html": [
       "<table class=\"simpletable\">\n",
       "<caption>OLS Regression Results</caption>\n",
       "<tr>\n",
       "  <th>Dep. Variable:</th>          <td>price</td>      <th>  R-squared:         </th> <td>   0.702</td>\n",
       "</tr>\n",
       "<tr>\n",
       "  <th>Model:</th>                   <td>OLS</td>       <th>  Adj. R-squared:    </th> <td>   0.693</td>\n",
       "</tr>\n",
       "<tr>\n",
       "  <th>Method:</th>             <td>Least Squares</td>  <th>  F-statistic:       </th> <td>   81.83</td>\n",
       "</tr>\n",
       "<tr>\n",
       "  <th>Date:</th>             <td>Mon, 28 Nov 2022</td> <th>  Prob (F-statistic):</th> <td>4.02e-85</td>\n",
       "</tr>\n",
       "<tr>\n",
       "  <th>Time:</th>                 <td>11:52:24</td>     <th>  Log-Likelihood:    </th> <td> -3951.6</td>\n",
       "</tr>\n",
       "<tr>\n",
       "  <th>No. Observations:</th>      <td>   359</td>      <th>  AIC:               </th> <td>   7925.</td>\n",
       "</tr>\n",
       "<tr>\n",
       "  <th>Df Residuals:</th>          <td>   348</td>      <th>  BIC:               </th> <td>   7968.</td>\n",
       "</tr>\n",
       "<tr>\n",
       "  <th>Df Model:</th>              <td>    10</td>      <th>                     </th>     <td> </td>   \n",
       "</tr>\n",
       "<tr>\n",
       "  <th>Covariance Type:</th>      <td>nonrobust</td>    <th>                     </th>     <td> </td>   \n",
       "</tr>\n",
       "</table>\n",
       "<table class=\"simpletable\">\n",
       "<tr>\n",
       "      <td></td>         <th>coef</th>     <th>std err</th>      <th>t</th>      <th>P>|t|</th>  <th>[0.025</th>    <th>0.975]</th>  \n",
       "</tr>\n",
       "<tr>\n",
       "  <th>const</th>     <td>-5294.2650</td> <td> 4030.263</td> <td>   -1.314</td> <td> 0.190</td> <td>-1.32e+04</td> <td> 2632.474</td>\n",
       "</tr>\n",
       "<tr>\n",
       "  <th>area</th>      <td>    3.9153</td> <td>    0.387</td> <td>   10.110</td> <td> 0.000</td> <td>    3.154</td> <td>    4.677</td>\n",
       "</tr>\n",
       "<tr>\n",
       "  <th>rooms</th>     <td> 1302.2779</td> <td> 1261.890</td> <td>    1.032</td> <td> 0.303</td> <td>-1179.612</td> <td> 3784.168</td>\n",
       "</tr>\n",
       "<tr>\n",
       "  <th>bathroom</th>  <td> 1.505e+04</td> <td> 1866.446</td> <td>    8.065</td> <td> 0.000</td> <td> 1.14e+04</td> <td> 1.87e+04</td>\n",
       "</tr>\n",
       "<tr>\n",
       "  <th>floors</th>    <td> 7699.4634</td> <td> 1074.663</td> <td>    7.165</td> <td> 0.000</td> <td> 5585.811</td> <td> 9813.115</td>\n",
       "</tr>\n",
       "<tr>\n",
       "  <th>driveway</th>  <td> 4733.0848</td> <td> 2404.005</td> <td>    1.969</td> <td> 0.050</td> <td>    4.877</td> <td> 9461.292</td>\n",
       "</tr>\n",
       "<tr>\n",
       "  <th>cellar</th>    <td> 6912.5973</td> <td> 1869.112</td> <td>    3.698</td> <td> 0.000</td> <td> 3236.420</td> <td> 1.06e+04</td>\n",
       "</tr>\n",
       "<tr>\n",
       "  <th>air</th>       <td> 9345.1463</td> <td> 1843.123</td> <td>    5.070</td> <td> 0.000</td> <td> 5720.085</td> <td>  1.3e+04</td>\n",
       "</tr>\n",
       "<tr>\n",
       "  <th>gas</th>       <td> 1.392e+04</td> <td> 3761.904</td> <td>    3.699</td> <td> 0.000</td> <td> 6517.278</td> <td> 2.13e+04</td>\n",
       "</tr>\n",
       "<tr>\n",
       "  <th>garage</th>    <td> 4512.3056</td> <td>  967.581</td> <td>    4.663</td> <td> 0.000</td> <td> 2609.264</td> <td> 6415.348</td>\n",
       "</tr>\n",
       "<tr>\n",
       "  <th>situation</th> <td> 1.034e+04</td> <td> 2025.214</td> <td>    5.106</td> <td> 0.000</td> <td> 6358.062</td> <td> 1.43e+04</td>\n",
       "</tr>\n",
       "</table>\n",
       "<table class=\"simpletable\">\n",
       "<tr>\n",
       "  <th>Omnibus:</th>       <td>48.780</td> <th>  Durbin-Watson:     </th> <td>   1.972</td>\n",
       "</tr>\n",
       "<tr>\n",
       "  <th>Prob(Omnibus):</th> <td> 0.000</td> <th>  Jarque-Bera (JB):  </th> <td>  98.170</td>\n",
       "</tr>\n",
       "<tr>\n",
       "  <th>Skew:</th>          <td> 0.739</td> <th>  Prob(JB):          </th> <td>4.81e-22</td>\n",
       "</tr>\n",
       "<tr>\n",
       "  <th>Kurtosis:</th>      <td> 5.093</td> <th>  Cond. No.          </th> <td>3.11e+04</td>\n",
       "</tr>\n",
       "</table><br/><br/>Notes:<br/>[1] Standard Errors assume that the covariance matrix of the errors is correctly specified.<br/>[2] The condition number is large, 3.11e+04. This might indicate that there are<br/>strong multicollinearity or other numerical problems."
      ],
      "text/plain": [
       "<class 'statsmodels.iolib.summary.Summary'>\n",
       "\"\"\"\n",
       "                            OLS Regression Results                            \n",
       "==============================================================================\n",
       "Dep. Variable:                  price   R-squared:                       0.702\n",
       "Model:                            OLS   Adj. R-squared:                  0.693\n",
       "Method:                 Least Squares   F-statistic:                     81.83\n",
       "Date:                Mon, 28 Nov 2022   Prob (F-statistic):           4.02e-85\n",
       "Time:                        11:52:24   Log-Likelihood:                -3951.6\n",
       "No. Observations:                 359   AIC:                             7925.\n",
       "Df Residuals:                     348   BIC:                             7968.\n",
       "Df Model:                          10                                         \n",
       "Covariance Type:            nonrobust                                         \n",
       "==============================================================================\n",
       "                 coef    std err          t      P>|t|      [0.025      0.975]\n",
       "------------------------------------------------------------------------------\n",
       "const      -5294.2650   4030.263     -1.314      0.190   -1.32e+04    2632.474\n",
       "area           3.9153      0.387     10.110      0.000       3.154       4.677\n",
       "rooms       1302.2779   1261.890      1.032      0.303   -1179.612    3784.168\n",
       "bathroom    1.505e+04   1866.446      8.065      0.000    1.14e+04    1.87e+04\n",
       "floors      7699.4634   1074.663      7.165      0.000    5585.811    9813.115\n",
       "driveway    4733.0848   2404.005      1.969      0.050       4.877    9461.292\n",
       "cellar      6912.5973   1869.112      3.698      0.000    3236.420    1.06e+04\n",
       "air         9345.1463   1843.123      5.070      0.000    5720.085     1.3e+04\n",
       "gas         1.392e+04   3761.904      3.699      0.000    6517.278    2.13e+04\n",
       "garage      4512.3056    967.581      4.663      0.000    2609.264    6415.348\n",
       "situation   1.034e+04   2025.214      5.106      0.000    6358.062    1.43e+04\n",
       "==============================================================================\n",
       "Omnibus:                       48.780   Durbin-Watson:                   1.972\n",
       "Prob(Omnibus):                  0.000   Jarque-Bera (JB):               98.170\n",
       "Skew:                           0.739   Prob(JB):                     4.81e-22\n",
       "Kurtosis:                       5.093   Cond. No.                     3.11e+04\n",
       "==============================================================================\n",
       "\n",
       "Notes:\n",
       "[1] Standard Errors assume that the covariance matrix of the errors is correctly specified.\n",
       "[2] The condition number is large, 3.11e+04. This might indicate that there are\n",
       "strong multicollinearity or other numerical problems.\n",
       "\"\"\""
      ]
     },
     "execution_count": 39,
     "metadata": {},
     "output_type": "execute_result"
    }
   ],
   "source": [
    "res.summary()"
   ]
  },
  {
   "cell_type": "code",
   "execution_count": null,
   "metadata": {},
   "outputs": [],
   "source": []
  },
  {
   "cell_type": "code",
   "execution_count": null,
   "metadata": {},
   "outputs": [],
   "source": []
  },
  {
   "cell_type": "code",
   "execution_count": null,
   "metadata": {},
   "outputs": [],
   "source": []
  }
 ],
 "metadata": {
  "kernelspec": {
   "display_name": "Python 3 (ipykernel)",
   "language": "python",
   "name": "python3"
  },
  "language_info": {
   "codemirror_mode": {
    "name": "ipython",
    "version": 3
   },
   "file_extension": ".py",
   "mimetype": "text/x-python",
   "name": "python",
   "nbconvert_exporter": "python",
   "pygments_lexer": "ipython3",
   "version": "3.9.12"
  }
 },
 "nbformat": 4,
 "nbformat_minor": 4
}
