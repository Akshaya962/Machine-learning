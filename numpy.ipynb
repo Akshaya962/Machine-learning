{
 "cells": [
  {
   "cell_type": "markdown",
   "metadata": {},
   "source": [
    "# part 1\n",
    "\n",
    "\n",
    "How to create an empty and a full NumPy array?\n",
    "\n",
    "Create a Numpy array filled with all zeros\n",
    "\n",
    "Create a Numpy array filled with all ones\n",
    "\n",
    "Flatten a 2d numpy array into 1d array\n",
    "\n",
    "Reverse a numpy array\n",
    "\n",
    "Change data type of given numpy array"
   ]
  },
  {
   "cell_type": "markdown",
   "metadata": {},
   "source": [
    "# part 2\n",
    "\n",
    "Get the maximum value from given matrix\n",
    "\n",
    "Get the minimum value from given matrix\n",
    "\n",
    "Find the number of rows and columns of a given matrix using NumPy\n",
    "\n",
    "Select the elements from a given matrix\n",
    "\n",
    "Find the sum of values in a matrix\n",
    "\n",
    "Calculate the sum of the diagonal elements of a NumPy array\n",
    "\n",
    "Adding and Subtracting Matrices in Python\n",
    "\n",
    "Ways to add row/columns in numpy array\n"
   ]
  },
  {
   "cell_type": "code",
   "execution_count": 2,
   "metadata": {},
   "outputs": [
    {
     "name": "stdout",
     "output_type": "stream",
     "text": [
      "Empty Array\n",
      "[[5.e-324 0.e+000 0.e+000 0.e+000]\n",
      " [0.e+000 0.e+000 0.e+000 0.e+000]\n",
      " [0.e+000 0.e+000 0.e+000 0.e+000]\n",
      " [0.e+000 0.e+000 0.e+000 0.e+000]]\n",
      "\n",
      " Full Array\n",
      "[[2 2 2 2]\n",
      " [2 2 2 2]\n",
      " [2 2 2 2]\n",
      " [2 2 2 2]]\n"
     ]
    }
   ],
   "source": [
    "#PART 1\n",
    "#How to create an empty and a full NumPy array?\n",
    "\n",
    "import numpy as np\n",
    "\n",
    "empty1 = np.empty([4, 4])\n",
    "print(\"Empty Array\")\n",
    "print(empty1)\n",
    "\n",
    "full1 = np.full([4, 4],2)\n",
    "print(\"\\n Full Array\")\n",
    "print(full1)"
   ]
  },
  {
   "cell_type": "code",
   "execution_count": 4,
   "metadata": {},
   "outputs": [
    {
     "name": "stdout",
     "output_type": "stream",
     "text": [
      "[[0 0 0 0]\n",
      " [0 0 0 0]\n",
      " [0 0 0 0]\n",
      " [0 0 0 0]]\n"
     ]
    }
   ],
   "source": [
    "#Create a Numpy array filled with all zeros\n",
    "import numpy as np\n",
    "a=np.zeros([4,4], dtype=int)\n",
    "print(a)"
   ]
  },
  {
   "cell_type": "code",
   "execution_count": 5,
   "metadata": {},
   "outputs": [
    {
     "name": "stdout",
     "output_type": "stream",
     "text": [
      "[[1 1 1 1]\n",
      " [1 1 1 1]\n",
      " [1 1 1 1]\n",
      " [1 1 1 1]]\n"
     ]
    }
   ],
   "source": [
    "#Create a Numpy array filled with all ones\n",
    "import numpy as np\n",
    "a=np.ones([4,4], dtype=int)\n",
    "print(a)"
   ]
  },
  {
   "cell_type": "code",
   "execution_count": 9,
   "metadata": {},
   "outputs": [
    {
     "name": "stdout",
     "output_type": "stream",
     "text": [
      "[[0 1 2]\n",
      " [3 4 5]\n",
      " [5 6 7]\n",
      " [7 8 9]]\n",
      "[0 1 2 3 4 5 5 6 7 7 8 9]\n"
     ]
    }
   ],
   "source": [
    "#Flatten a 2d numpy array into 1d array\n",
    "import numpy as np\n",
    "arr=np.array([[0,1,2],[3,4,5],[5,6,7],[7,8,9]])\n",
    "print(arr)\n",
    "\n",
    "flt=arr.flatten()\n",
    "print(flt)"
   ]
  },
  {
   "cell_type": "code",
   "execution_count": 10,
   "metadata": {},
   "outputs": [
    {
     "name": "stdout",
     "output_type": "stream",
     "text": [
      "[5 4 6 3 2 1]\n"
     ]
    }
   ],
   "source": [
    "#Reverse a numpy array\n",
    "import numpy as np\n",
    "arr = np.array([1, 2, 3, 6, 4, 5])\n",
    "res = np.flip(arr)\n",
    "print(res)\n"
   ]
  },
  {
   "cell_type": "code",
   "execution_count": 11,
   "metadata": {},
   "outputs": [
    {
     "name": "stdout",
     "output_type": "stream",
     "text": [
      "float64\n",
      "int32\n"
     ]
    }
   ],
   "source": [
    "#Change data type of given numpy array\n",
    "import numpy as np\n",
    "a = np.array([1.9, 1.8, 1.7, 1.6, 1.5, 1.4, 1.3, 1.2, 1.1])\n",
    "print(a.dtype)\n",
    "a = a.astype(np.int32)\n",
    "print(a.dtype)"
   ]
  },
  {
   "cell_type": "code",
   "execution_count": 14,
   "metadata": {},
   "outputs": [
    {
     "name": "stdout",
     "output_type": "stream",
     "text": [
      "9\n"
     ]
    }
   ],
   "source": [
    "#PART 2\n",
    "#Get the maximum value from given matrix\n",
    "import numpy as np\n",
    "arr=np.array([[1,2,3],[4,5,6],[7,8,9]])\n",
    "res=np.max(arr)\n",
    "print(res)"
   ]
  },
  {
   "cell_type": "code",
   "execution_count": 16,
   "metadata": {},
   "outputs": [
    {
     "name": "stdout",
     "output_type": "stream",
     "text": [
      "1\n"
     ]
    }
   ],
   "source": [
    "#Get the minimum value from given matrix\n",
    "import numpy as np\n",
    "arr=np.array([[1,2,3],[4,5,6],[7,8,9]])\n",
    "res=np.min(arr)\n",
    "print(res)"
   ]
  },
  {
   "cell_type": "code",
   "execution_count": 18,
   "metadata": {},
   "outputs": [
    {
     "name": "stdout",
     "output_type": "stream",
     "text": [
      "[[1 2 3]\n",
      " [4 5 6]\n",
      " [7 8 9]]\n",
      "(3, 3)\n"
     ]
    }
   ],
   "source": [
    "#Find the number of rows and columns of a given matrix using NumPy\n",
    "import numpy as np\n",
    "matrix= np.arange(1,10).reshape((3, 3))\n",
    "print(matrix)\n",
    "print(matrix.shape)\n"
   ]
  },
  {
   "cell_type": "code",
   "execution_count": 19,
   "metadata": {},
   "outputs": [
    {
     "name": "stdout",
     "output_type": "stream",
     "text": [
      "18\n"
     ]
    }
   ],
   "source": [
    "#Select the elements from a given matrix\n",
    "import numpy as np \n",
    "arr = np.array([9,6,2,18,4,1])  \n",
    "print(arr[3])"
   ]
  },
  {
   "cell_type": "code",
   "execution_count": 20,
   "metadata": {},
   "outputs": [
    {
     "name": "stdout",
     "output_type": "stream",
     "text": [
      "21\n"
     ]
    }
   ],
   "source": [
    "#Find the sum of values in a matrix\n",
    "import numpy as np\n",
    "arr=np.array([[1,2,3],[4,5,6]])\n",
    "res=np.sum(arr)\n",
    "print(res)"
   ]
  },
  {
   "cell_type": "code",
   "execution_count": 22,
   "metadata": {},
   "outputs": [
    {
     "name": "stdout",
     "output_type": "stream",
     "text": [
      "15\n"
     ]
    }
   ],
   "source": [
    "#Calculate the sum of the diagonal elements of a NumPy array\n",
    "import numpy as np\n",
    "arr = np.array([[1, 2, 3],[4,5,6],[7,8,9]])\n",
    "res = np.trace(arr)\n",
    "print(res)"
   ]
  },
  {
   "cell_type": "code",
   "execution_count": 27,
   "metadata": {},
   "outputs": [
    {
     "name": "stdout",
     "output_type": "stream",
     "text": [
      "Add:  [[ 8 12]\n",
      " [15 12]\n",
      " [12  6]]\n",
      "----------------------\n",
      "Sub:  [[-6 -4]\n",
      " [-1 -2]\n",
      " [-6  6]]\n"
     ]
    }
   ],
   "source": [
    "#Adding and Subtracting Matrices in Python\n",
    "import numpy as np\n",
    "a=np.array([[1,4],[7,5],[3,6]])\n",
    "b=np.array([[7,8],[8,7],[9,0]])\n",
    "print(\"Add: \", np.add(a,b))\n",
    "print(\"----------------------\")\n",
    "print(\"Sub: \", np.subtract(a,b))"
   ]
  },
  {
   "cell_type": "code",
   "execution_count": 33,
   "metadata": {},
   "outputs": [
    {
     "name": "stdout",
     "output_type": "stream",
     "text": [
      "[[ 1  2  3]\n",
      " [ 4  5  7]\n",
      " [ 9  6 10]\n",
      " [ 1  2  3]]\n"
     ]
    }
   ],
   "source": [
    "#Ways to add row/columns in numpy array\n",
    "# method 1: vstack\n",
    "import numpy as np\n",
    "\n",
    "arr = np.array([[1, 2, 3], [4,5, 7], [9, 6, 10]])\n",
    "ro = np.array([1, 2, 3])\n",
    "res = np.vstack ((arr, ro) )\n",
    "print (res)\n"
   ]
  },
  {
   "cell_type": "code",
   "execution_count": 32,
   "metadata": {},
   "outputs": [
    {
     "name": "stdout",
     "output_type": "stream",
     "text": [
      "[[ 1  2  3  1  2  3]\n",
      " [ 4  5  7  9  6 10]]\n"
     ]
    }
   ],
   "source": [
    "#method 2: hstack\n",
    "arr = np.array([[1, 2, 3], [4,5, 7]])\n",
    "ro = np.array([[1, 2, 3],[9, 6, 10]])\n",
    "res = np.hstack((arr, ro) )\n",
    "print (res)"
   ]
  },
  {
   "cell_type": "code",
   "execution_count": 52,
   "metadata": {},
   "outputs": [
    {
     "name": "stdout",
     "output_type": "stream",
     "text": [
      "[[1 2 3]\n",
      " [5 4 3]\n",
      " [6 7 8]]\n"
     ]
    }
   ],
   "source": [
    "#method 3: append()\n",
    "import numpy as np\n",
    "arr = np.array([[1, 2, 3],[5, 4, 3]])\n",
    "row = np.array([[6, 7, 8]])\n",
    "arr = np.append(arr, row, axis=0)\n",
    "print(arr)"
   ]
  },
  {
   "cell_type": "code",
   "execution_count": 63,
   "metadata": {},
   "outputs": [
    {
     "name": "stdout",
     "output_type": "stream",
     "text": [
      "[[ 1  2  3]\n",
      " [ 4  5  7]\n",
      " [ 9  6 10]]\n"
     ]
    }
   ],
   "source": [
    "#method 4: insert()\n",
    "import numpy as np\n",
    "arr = np.array([[1, 2, 3],[4,5,7]])\n",
    "row = np.array([[9, 6, 10]])\n",
    "arr = np.insert(arr,2, row, axis=0)\n",
    "print (arr)"
   ]
  },
  {
   "cell_type": "code",
   "execution_count": 36,
   "metadata": {},
   "outputs": [
    {
     "name": "stdout",
     "output_type": "stream",
     "text": [
      "[[ 1  2  3]\n",
      " [ 4  5  7]\n",
      " [ 1  2  3]\n",
      " [ 9  6 10]]\n"
     ]
    }
   ],
   "source": [
    "#method 5: concatenate\n",
    "arr = np.array([[1, 2, 3], [4,5, 7]])\n",
    "ro = np.array([[1, 2, 3],[9, 6, 10]])\n",
    "res = np.concatenate((arr, ro) )\n",
    "print (res)"
   ]
  },
  {
   "cell_type": "code",
   "execution_count": null,
   "metadata": {},
   "outputs": [],
   "source": []
  }
 ],
 "metadata": {
  "kernelspec": {
   "display_name": "Python 3 (ipykernel)",
   "language": "python",
   "name": "python3"
  },
  "language_info": {
   "codemirror_mode": {
    "name": "ipython",
    "version": 3
   },
   "file_extension": ".py",
   "mimetype": "text/x-python",
   "name": "python",
   "nbconvert_exporter": "python",
   "pygments_lexer": "ipython3",
   "version": "3.9.12"
  }
 },
 "nbformat": 4,
 "nbformat_minor": 2
}
