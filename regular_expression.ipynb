{
 "cells": [
  {
   "cell_type": "code",
   "execution_count": 1,
   "metadata": {},
   "outputs": [
    {
     "name": "stdout",
     "output_type": "stream",
     "text": [
      "True\n",
      "False\n"
     ]
    }
   ],
   "source": [
    "# Write a Python program to check that a string contains only a certain set of characters (in this case a-z, A-Z and 0-9).\n",
    "import re\n",
    "def specific_char(string):\n",
    "    char1 = re.compile(r'[^a-zA-Z0-9]')\n",
    "    string = char1.search(string)\n",
    "    return not bool(string)\n",
    "\n",
    "print(specific_char(\"ABCDEFabcdef123450\")) \n",
    "print(specific_char(\"*&%@#!}{\"))\n"
   ]
  },
  {
   "cell_type": "code",
   "execution_count": 3,
   "metadata": {},
   "outputs": [
    {
     "name": "stdout",
     "output_type": "stream",
     "text": [
      "Not match\n",
      "Not match\n",
      "match!\n",
      "match!\n",
      "match!\n"
     ]
    }
   ],
   "source": [
    "# Write a Python program that matches a string that has an a followed by zero or more b's.\n",
    "import re\n",
    "def match(text):\n",
    "        patterns = '^a(b*)$'\n",
    "        if re.search(patterns,text):\n",
    "                return 'match!'\n",
    "        else:\n",
    "                return('Not match')\n",
    "print(match(\"ac\"))\n",
    "print(match(\"abc\"))\n",
    "print(match(\"a\"))\n",
    "print(match(\"ab\"))\n",
    "print(match(\"abb\"))\n",
    "\n"
   ]
  },
  {
   "cell_type": "code",
   "execution_count": 10,
   "metadata": {},
   "outputs": [
    {
     "name": "stdout",
     "output_type": "stream",
     "text": [
      "match\n",
      "match\n"
     ]
    }
   ],
   "source": [
    "# Write a Python program that matches a string that has an a followed by one or more b's.\n",
    "import re\n",
    "def match(text):\n",
    "        patterns = 'ab+'\n",
    "        if re.search(patterns,text):\n",
    "                return ('match')\n",
    "        else:\n",
    "                return('Not match')\n",
    "\n",
    "print(match(\"ab\"))\n",
    "print(match(\"abc\"))\n"
   ]
  },
  {
   "cell_type": "code",
   "execution_count": 12,
   "metadata": {},
   "outputs": [
    {
     "name": "stdout",
     "output_type": "stream",
     "text": [
      "match\n",
      "match\n",
      "match\n",
      "match\n"
     ]
    }
   ],
   "source": [
    "# Write a Python program that matches a string that has an a followed by zero or one 'b'.\n",
    "import re\n",
    "def match(text):\n",
    "        patterns = 'ab?'\n",
    "        if re.search(patterns,  text):\n",
    "                return ('match')\n",
    "        else:\n",
    "                return('Not match')\n",
    "\n",
    "print(match(\"ab\"))\n",
    "print(match(\"abc\"))\n",
    "print(match(\"abbc\"))\n",
    "print(match(\"aabbc\"))\n"
   ]
  },
  {
   "cell_type": "code",
   "execution_count": 15,
   "metadata": {},
   "outputs": [
    {
     "name": "stdout",
     "output_type": "stream",
     "text": [
      "Found a match\n",
      "Not match\n"
     ]
    }
   ],
   "source": [
    "# Write a Python program that matches a string that has an a followed by three 'b'.\n",
    "import re\n",
    "def match(text):\n",
    "        patterns = 'ab{3}'\n",
    "        if re.search(patterns,  text):\n",
    "                return ('Found a match')\n",
    "        else:\n",
    "                return('Not match')\n",
    "\n",
    "print(match(\"abbb\"))\n",
    "print(match(\"abb\"))\n"
   ]
  },
  {
   "cell_type": "code",
   "execution_count": 16,
   "metadata": {},
   "outputs": [
    {
     "name": "stdout",
     "output_type": "stream",
     "text": [
      "Not match\n",
      "Not match\n",
      "a match\n"
     ]
    }
   ],
   "source": [
    "# Write a Python program that matches a word containing 'z', not at the start or end of the word.\n",
    "import re\n",
    "def match(text):\n",
    "        patterns = '\\Bz\\B'\n",
    "        if re.search(patterns,text):\n",
    "                return ('a match')\n",
    "        else:\n",
    "                return('Not match')\n",
    "\n",
    "print(match(\"Zia is good girl.\"))\n",
    "print(match(\"Python Exercises.\"))\n",
    "print(match(\"that boy is so lazy.\"))"
   ]
  },
  {
   "cell_type": "code",
   "execution_count": 20,
   "metadata": {},
   "outputs": [
    {
     "name": "stdout",
     "output_type": "stream",
     "text": [
      "Found \"exercises\"\n",
      "Found \"exercises\"\n",
      "Found \"exercises\"\n"
     ]
    }
   ],
   "source": [
    "'''\n",
    "Write a Python program to find the substrings within a string.\n",
    "\n",
    "Sample text:\n",
    "'Python exercises, PHP exercises, C# exercises'\n",
    "Pattern:\n",
    "'exercises'\n",
    "\n",
    "Note: There are two instances of exercises in the input string.\n",
    "'''\n",
    "\n",
    "import re\n",
    "text = 'Python exercises, PHP exercises, C# exercises'\n",
    "pattern = 'exercises'\n",
    "for match in re.findall(pattern, text):\n",
    "    print('Found \"%s\"' % match)\n",
    "    "
   ]
  },
  {
   "cell_type": "code",
   "execution_count": 18,
   "metadata": {},
   "outputs": [
    {
     "name": "stdout",
     "output_type": "stream",
     "text": [
      "9 balaji nagar rd.\n"
     ]
    }
   ],
   "source": [
    "# Write a Python program to abbreviate 'Road' as 'Rd.' in a given string.\n",
    "import re\n",
    "street = '9 balaji nagar road'\n",
    "print(re.sub('road$', 'rd.', street))\n"
   ]
  },
  {
   "cell_type": "code",
   "execution_count": 27,
   "metadata": {},
   "outputs": [
    {
     "name": "stdout",
     "output_type": "stream",
     "text": [
      "example\n",
      "w3resource\n",
      "github\n",
      "stackoverflow\n"
     ]
    }
   ],
   "source": [
    "'''Write a Python program to remove the parenthesis area in a string. Go to the editor\n",
    "Sample data : [\"example (.com)\", \"w3resource\", \"github (.com)\", \"stackoverflow (.com)\"]\n",
    "Expected Output:\n",
    "example\n",
    "w3resource\n",
    "github\n",
    "stackoverflow'''\n",
    "\n",
    "\n",
    "import re\n",
    "items = [\"example (.com)\", \"w3resource\", \"github (.com)\", \"stackoverflow (.com)\"]\n",
    "for item in items:\n",
    "    print(re.sub(r\" ?\\([^)]+\\)\", \"\", item))\n"
   ]
  },
  {
   "cell_type": "code",
   "execution_count": 19,
   "metadata": {},
   "outputs": [
    {
     "name": "stdout",
     "output_type": "stream",
     "text": [
      "KDeoALOklOOHserfLoAJSIskdsf\n",
      "KDALOOOHLAJSI\n"
     ]
    }
   ],
   "source": [
    "# Write a Python program to remove lowercase substrings from a given string.\n",
    "import re\n",
    "str1 = 'KDeoALOklOOHserfLoAJSIskdsf'\n",
    "print(str1)\n",
    "remove_lower = lambda text: re.sub('[a-z]', '', text)\n",
    "result =  remove_lower(str1)\n",
    "print(result)\n"
   ]
  },
  {
   "cell_type": "code",
   "execution_count": null,
   "metadata": {},
   "outputs": [],
   "source": []
  },
  {
   "cell_type": "code",
   "execution_count": null,
   "metadata": {},
   "outputs": [],
   "source": []
  }
 ],
 "metadata": {
  "kernelspec": {
   "display_name": "Python 3 (ipykernel)",
   "language": "python",
   "name": "python3"
  },
  "language_info": {
   "codemirror_mode": {
    "name": "ipython",
    "version": 3
   },
   "file_extension": ".py",
   "mimetype": "text/x-python",
   "name": "python",
   "nbconvert_exporter": "python",
   "pygments_lexer": "ipython3",
   "version": "3.9.12"
  }
 },
 "nbformat": 4,
 "nbformat_minor": 4
}
